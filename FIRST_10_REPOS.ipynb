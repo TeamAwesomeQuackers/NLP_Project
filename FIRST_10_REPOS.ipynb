{
 "cells": [
  {
   "cell_type": "markdown",
   "id": "13d890fc",
   "metadata": {},
   "source": [
    "'bitcoin/bitcoin',\n",
    "'ccxt/ccxt',\n",
    "'HelloZeroNet/ZeroNet',\n",
    "'freqtrade/freqtrade',\n",
    "'askmike/gekko',\n",
    "'solana-labs/solana',\n",
    "'lbryio/lbry-sdk',\n",
    "'dvf/blockchain',\n",
    "'yeasy/blockchain_guide',\n",
    "'lightningnetwork/lnd'"
   ]
  },
  {
   "cell_type": "code",
   "execution_count": null,
   "id": "7c75fe51",
   "metadata": {},
   "outputs": [],
   "source": []
  }
 ],
 "metadata": {
  "kernelspec": {
   "display_name": "Python 3",
   "language": "python",
   "name": "python3"
  },
  "language_info": {
   "codemirror_mode": {
    "name": "ipython",
    "version": 3
   },
   "file_extension": ".py",
   "mimetype": "text/x-python",
   "name": "python",
   "nbconvert_exporter": "python",
   "pygments_lexer": "ipython3",
   "version": "3.8.8"
  }
 },
 "nbformat": 4,
 "nbformat_minor": 5
}
