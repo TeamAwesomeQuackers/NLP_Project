{
 "cells": [
  {
   "cell_type": "code",
   "execution_count": 1,
   "id": "fbcaf89c",
   "metadata": {},
   "outputs": [],
   "source": [
    "import requests\n",
    "from bs4 import BeautifulSoup\n",
    "import pandas as pd\n",
    "from time import strftime"
   ]
  },
  {
   "cell_type": "code",
   "execution_count": 2,
   "id": "a7f75bb7",
   "metadata": {},
   "outputs": [],
   "source": [
    "response = requests.get(\"https://github.com/search?q=bitcoin\", headers={\"user-agent\": \"Codeup DS\"})\n",
    "soup = BeautifulSoup(response.text)"
   ]
  },
  {
   "cell_type": "code",
   "execution_count": null,
   "id": "a155fd4c",
   "metadata": {},
   "outputs": [],
   "source": [
    "card.find('div', itemprop = 'articleBody').text"
   ]
  },
  {
   "cell_type": "code",
   "execution_count": 20,
   "id": "f5fa472f",
   "metadata": {},
   "outputs": [
    {
     "data": {
      "text/plain": [
       "[]"
      ]
     },
     "execution_count": 20,
     "metadata": {},
     "output_type": "execute_result"
    }
   ],
   "source": [
    "soup.select('.em class')"
   ]
  },
  {
   "cell_type": "code",
   "execution_count": 13,
   "id": "d78f8324",
   "metadata": {},
   "outputs": [],
   "source": [
    "repo = soup.find_all('div', class_ = 'f4 text-normal')"
   ]
  },
  {
   "cell_type": "code",
   "execution_count": 15,
   "id": "ea109c06",
   "metadata": {},
   "outputs": [],
   "source": [
    "repo1 = repo[0]"
   ]
  },
  {
   "cell_type": "code",
   "execution_count": 16,
   "id": "834a3866",
   "metadata": {},
   "outputs": [
    {
     "data": {
      "text/plain": [
       "'/bitcoin/bitcoin'"
      ]
     },
     "execution_count": 16,
     "metadata": {},
     "output_type": "execute_result"
    }
   ],
   "source": [
    "repo1.a.attrs['href']"
   ]
  },
  {
   "cell_type": "code",
   "execution_count": 12,
   "id": "33579e60",
   "metadata": {},
   "outputs": [
    {
     "ename": "KeyError",
     "evalue": "'href'",
     "output_type": "error",
     "traceback": [
      "\u001b[0;31m---------------------------------------------------------------------------\u001b[0m",
      "\u001b[0;31mKeyError\u001b[0m                                  Traceback (most recent call last)",
      "\u001b[0;32m<ipython-input-12-329e273f57a4>\u001b[0m in \u001b[0;36m<module>\u001b[0;34m\u001b[0m\n\u001b[0;32m----> 1\u001b[0;31m \u001b[0mlinks\u001b[0m \u001b[0;34m=\u001b[0m \u001b[0;34m[\u001b[0m\u001b[0mlink\u001b[0m\u001b[0;34m[\u001b[0m\u001b[0;34m'href'\u001b[0m\u001b[0;34m]\u001b[0m \u001b[0;32mfor\u001b[0m \u001b[0mlink\u001b[0m \u001b[0;32min\u001b[0m \u001b[0msoup\u001b[0m\u001b[0;34m.\u001b[0m\u001b[0mfind_all\u001b[0m\u001b[0;34m(\u001b[0m\u001b[0;34m'div'\u001b[0m\u001b[0;34m,\u001b[0m \u001b[0mclass_\u001b[0m \u001b[0;34m=\u001b[0m \u001b[0;34m'f4 text-normal'\u001b[0m\u001b[0;34m)\u001b[0m\u001b[0;34m]\u001b[0m\u001b[0;34m\u001b[0m\u001b[0;34m\u001b[0m\u001b[0m\n\u001b[0m\u001b[1;32m      2\u001b[0m \u001b[0mlinks\u001b[0m\u001b[0;34m\u001b[0m\u001b[0;34m\u001b[0m\u001b[0m\n",
      "\u001b[0;32m<ipython-input-12-329e273f57a4>\u001b[0m in \u001b[0;36m<listcomp>\u001b[0;34m(.0)\u001b[0m\n\u001b[0;32m----> 1\u001b[0;31m \u001b[0mlinks\u001b[0m \u001b[0;34m=\u001b[0m \u001b[0;34m[\u001b[0m\u001b[0mlink\u001b[0m\u001b[0;34m[\u001b[0m\u001b[0;34m'href'\u001b[0m\u001b[0;34m]\u001b[0m \u001b[0;32mfor\u001b[0m \u001b[0mlink\u001b[0m \u001b[0;32min\u001b[0m \u001b[0msoup\u001b[0m\u001b[0;34m.\u001b[0m\u001b[0mfind_all\u001b[0m\u001b[0;34m(\u001b[0m\u001b[0;34m'div'\u001b[0m\u001b[0;34m,\u001b[0m \u001b[0mclass_\u001b[0m \u001b[0;34m=\u001b[0m \u001b[0;34m'f4 text-normal'\u001b[0m\u001b[0;34m)\u001b[0m\u001b[0;34m]\u001b[0m\u001b[0;34m\u001b[0m\u001b[0;34m\u001b[0m\u001b[0m\n\u001b[0m\u001b[1;32m      2\u001b[0m \u001b[0mlinks\u001b[0m\u001b[0;34m\u001b[0m\u001b[0;34m\u001b[0m\u001b[0m\n",
      "\u001b[0;32m/usr/local/anaconda3/lib/python3.8/site-packages/bs4/element.py\u001b[0m in \u001b[0;36m__getitem__\u001b[0;34m(self, key)\u001b[0m\n\u001b[1;32m   1404\u001b[0m         \"\"\"tag[key] returns the value of the 'key' attribute for the Tag,\n\u001b[1;32m   1405\u001b[0m         and throws an exception if it's not there.\"\"\"\n\u001b[0;32m-> 1406\u001b[0;31m         \u001b[0;32mreturn\u001b[0m \u001b[0mself\u001b[0m\u001b[0;34m.\u001b[0m\u001b[0mattrs\u001b[0m\u001b[0;34m[\u001b[0m\u001b[0mkey\u001b[0m\u001b[0;34m]\u001b[0m\u001b[0;34m\u001b[0m\u001b[0;34m\u001b[0m\u001b[0m\n\u001b[0m\u001b[1;32m   1407\u001b[0m \u001b[0;34m\u001b[0m\u001b[0m\n\u001b[1;32m   1408\u001b[0m     \u001b[0;32mdef\u001b[0m \u001b[0m__iter__\u001b[0m\u001b[0;34m(\u001b[0m\u001b[0mself\u001b[0m\u001b[0;34m)\u001b[0m\u001b[0;34m:\u001b[0m\u001b[0;34m\u001b[0m\u001b[0;34m\u001b[0m\u001b[0m\n",
      "\u001b[0;31mKeyError\u001b[0m: 'href'"
     ]
    }
   ],
   "source": [
    "links = [link['href'] for link in soup.find_all('div', class_ = 'f4 text-normal')]\n",
    "links"
   ]
  },
  {
   "cell_type": "code",
   "execution_count": 30,
   "id": "5c9c2f09",
   "metadata": {},
   "outputs": [
    {
     "data": {
      "text/plain": [
       "<div aria-label=\"Pagination\" class=\"d-flex d-md-inline-block pagination\" data-pjax=\"true\" role=\"navigation\"><span class=\"previous_page disabled\">Previous</span> <em class=\"current\" data-total-pages=\"100\">1</em> <a aria-label=\"Page 2\" href=\"/search?p=2&amp;q=bitcoin&amp;type=Repositories\" rel=\"next\">2</a> <a aria-label=\"Page 3\" href=\"/search?p=3&amp;q=bitcoin&amp;type=Repositories\">3</a> <a aria-label=\"Page 4\" href=\"/search?p=4&amp;q=bitcoin&amp;type=Repositories\">4</a> <a aria-label=\"Page 5\" href=\"/search?p=5&amp;q=bitcoin&amp;type=Repositories\">5</a> <span class=\"gap\">…</span> <a aria-label=\"Page 99\" href=\"/search?p=99&amp;q=bitcoin&amp;type=Repositories\">99</a> <a aria-label=\"Page 100\" href=\"/search?p=100&amp;q=bitcoin&amp;type=Repositories\">100</a> <a class=\"next_page\" href=\"/search?p=2&amp;q=bitcoin&amp;type=Repositories\" rel=\"next\">Next</a></div>"
      ]
     },
     "execution_count": 30,
     "metadata": {},
     "output_type": "execute_result"
    }
   ],
   "source": [
    "navigation_bar = soup.find('div', role = 'navigation')\n",
    "navigation_bar"
   ]
  },
  {
   "cell_type": "code",
   "execution_count": 31,
   "id": "28886dee",
   "metadata": {},
   "outputs": [
    {
     "data": {
      "text/plain": [
       "<em class=\"current\" data-total-pages=\"100\">1</em>"
      ]
     },
     "execution_count": 31,
     "metadata": {},
     "output_type": "execute_result"
    }
   ],
   "source": [
    "navigation_bar = soup.find('em', class_ = 'current')\n",
    "navigation_bar"
   ]
  },
  {
   "cell_type": "code",
   "execution_count": 4,
   "id": "8ef63c5c",
   "metadata": {},
   "outputs": [
    {
     "data": {
      "text/plain": [
       "[{'name': '.cirrus.yml',\n",
       "  'path': '.cirrus.yml',\n",
       "  'sha': 'fec49750800d163426a3ba93f04afdde75909b49',\n",
       "  'size': 12940,\n",
       "  'url': 'https://api.github.com/repos/bitcoin/bitcoin/contents/.cirrus.yml?ref=master',\n",
       "  'html_url': 'https://github.com/bitcoin/bitcoin/blob/master/.cirrus.yml',\n",
       "  'git_url': 'https://api.github.com/repos/bitcoin/bitcoin/git/blobs/fec49750800d163426a3ba93f04afdde75909b49',\n",
       "  'download_url': 'https://raw.githubusercontent.com/bitcoin/bitcoin/master/.cirrus.yml',\n",
       "  'type': 'file',\n",
       "  '_links': {'self': 'https://api.github.com/repos/bitcoin/bitcoin/contents/.cirrus.yml?ref=master',\n",
       "   'git': 'https://api.github.com/repos/bitcoin/bitcoin/git/blobs/fec49750800d163426a3ba93f04afdde75909b49',\n",
       "   'html': 'https://github.com/bitcoin/bitcoin/blob/master/.cirrus.yml'}},\n",
       " {'name': '.editorconfig',\n",
       "  'path': '.editorconfig',\n",
       "  'sha': 'ae7e92d1c8a82be207df3edd31d18ad37a99822c',\n",
       "  'size': 416,\n",
       "  'url': 'https://api.github.com/repos/bitcoin/bitcoin/contents/.editorconfig?ref=master',\n",
       "  'html_url': 'https://github.com/bitcoin/bitcoin/blob/master/.editorconfig',\n",
       "  'git_url': 'https://api.github.com/repos/bitcoin/bitcoin/git/blobs/ae7e92d1c8a82be207df3edd31d18ad37a99822c',\n",
       "  'download_url': 'https://raw.githubusercontent.com/bitcoin/bitcoin/master/.editorconfig',\n",
       "  'type': 'file',\n",
       "  '_links': {'self': 'https://api.github.com/repos/bitcoin/bitcoin/contents/.editorconfig?ref=master',\n",
       "   'git': 'https://api.github.com/repos/bitcoin/bitcoin/git/blobs/ae7e92d1c8a82be207df3edd31d18ad37a99822c',\n",
       "   'html': 'https://github.com/bitcoin/bitcoin/blob/master/.editorconfig'}},\n",
       " {'name': '.gitattributes',\n",
       "  'path': '.gitattributes',\n",
       "  'sha': 'c9cf4a7d9cd03ed588ba9882d26bfd1dd6800fe7',\n",
       "  'size': 35,\n",
       "  'url': 'https://api.github.com/repos/bitcoin/bitcoin/contents/.gitattributes?ref=master',\n",
       "  'html_url': 'https://github.com/bitcoin/bitcoin/blob/master/.gitattributes',\n",
       "  'git_url': 'https://api.github.com/repos/bitcoin/bitcoin/git/blobs/c9cf4a7d9cd03ed588ba9882d26bfd1dd6800fe7',\n",
       "  'download_url': 'https://raw.githubusercontent.com/bitcoin/bitcoin/master/.gitattributes',\n",
       "  'type': 'file',\n",
       "  '_links': {'self': 'https://api.github.com/repos/bitcoin/bitcoin/contents/.gitattributes?ref=master',\n",
       "   'git': 'https://api.github.com/repos/bitcoin/bitcoin/git/blobs/c9cf4a7d9cd03ed588ba9882d26bfd1dd6800fe7',\n",
       "   'html': 'https://github.com/bitcoin/bitcoin/blob/master/.gitattributes'}},\n",
       " {'name': '.github',\n",
       "  'path': '.github',\n",
       "  'sha': 'd375208a7550961768e6b275b20aff2bc8144566',\n",
       "  'size': 0,\n",
       "  'url': 'https://api.github.com/repos/bitcoin/bitcoin/contents/.github?ref=master',\n",
       "  'html_url': 'https://github.com/bitcoin/bitcoin/tree/master/.github',\n",
       "  'git_url': 'https://api.github.com/repos/bitcoin/bitcoin/git/trees/d375208a7550961768e6b275b20aff2bc8144566',\n",
       "  'download_url': None,\n",
       "  'type': 'dir',\n",
       "  '_links': {'self': 'https://api.github.com/repos/bitcoin/bitcoin/contents/.github?ref=master',\n",
       "   'git': 'https://api.github.com/repos/bitcoin/bitcoin/git/trees/d375208a7550961768e6b275b20aff2bc8144566',\n",
       "   'html': 'https://github.com/bitcoin/bitcoin/tree/master/.github'}},\n",
       " {'name': '.gitignore',\n",
       "  'path': '.gitignore',\n",
       "  'sha': 'f84a53178e49f1342aba8688a780fd04ec32b3dd',\n",
       "  'size': 1939,\n",
       "  'url': 'https://api.github.com/repos/bitcoin/bitcoin/contents/.gitignore?ref=master',\n",
       "  'html_url': 'https://github.com/bitcoin/bitcoin/blob/master/.gitignore',\n",
       "  'git_url': 'https://api.github.com/repos/bitcoin/bitcoin/git/blobs/f84a53178e49f1342aba8688a780fd04ec32b3dd',\n",
       "  'download_url': 'https://raw.githubusercontent.com/bitcoin/bitcoin/master/.gitignore',\n",
       "  'type': 'file',\n",
       "  '_links': {'self': 'https://api.github.com/repos/bitcoin/bitcoin/contents/.gitignore?ref=master',\n",
       "   'git': 'https://api.github.com/repos/bitcoin/bitcoin/git/blobs/f84a53178e49f1342aba8688a780fd04ec32b3dd',\n",
       "   'html': 'https://github.com/bitcoin/bitcoin/blob/master/.gitignore'}},\n",
       " {'name': '.python-version',\n",
       "  'path': '.python-version',\n",
       "  'sha': '8b7b0b52e55c33b0447d3fd1c564c8b7b4a42ed5',\n",
       "  'size': 7,\n",
       "  'url': 'https://api.github.com/repos/bitcoin/bitcoin/contents/.python-version?ref=master',\n",
       "  'html_url': 'https://github.com/bitcoin/bitcoin/blob/master/.python-version',\n",
       "  'git_url': 'https://api.github.com/repos/bitcoin/bitcoin/git/blobs/8b7b0b52e55c33b0447d3fd1c564c8b7b4a42ed5',\n",
       "  'download_url': 'https://raw.githubusercontent.com/bitcoin/bitcoin/master/.python-version',\n",
       "  'type': 'file',\n",
       "  '_links': {'self': 'https://api.github.com/repos/bitcoin/bitcoin/contents/.python-version?ref=master',\n",
       "   'git': 'https://api.github.com/repos/bitcoin/bitcoin/git/blobs/8b7b0b52e55c33b0447d3fd1c564c8b7b4a42ed5',\n",
       "   'html': 'https://github.com/bitcoin/bitcoin/blob/master/.python-version'}},\n",
       " {'name': '.style.yapf',\n",
       "  'path': '.style.yapf',\n",
       "  'sha': '69d8c6aee417d6fd300990e3c34ae719f16406a2',\n",
       "  'size': 7943,\n",
       "  'url': 'https://api.github.com/repos/bitcoin/bitcoin/contents/.style.yapf?ref=master',\n",
       "  'html_url': 'https://github.com/bitcoin/bitcoin/blob/master/.style.yapf',\n",
       "  'git_url': 'https://api.github.com/repos/bitcoin/bitcoin/git/blobs/69d8c6aee417d6fd300990e3c34ae719f16406a2',\n",
       "  'download_url': 'https://raw.githubusercontent.com/bitcoin/bitcoin/master/.style.yapf',\n",
       "  'type': 'file',\n",
       "  '_links': {'self': 'https://api.github.com/repos/bitcoin/bitcoin/contents/.style.yapf?ref=master',\n",
       "   'git': 'https://api.github.com/repos/bitcoin/bitcoin/git/blobs/69d8c6aee417d6fd300990e3c34ae719f16406a2',\n",
       "   'html': 'https://github.com/bitcoin/bitcoin/blob/master/.style.yapf'}},\n",
       " {'name': '.tx',\n",
       "  'path': '.tx',\n",
       "  'sha': '361ecc46083fa6aa90debda77542e872dc19b46c',\n",
       "  'size': 0,\n",
       "  'url': 'https://api.github.com/repos/bitcoin/bitcoin/contents/.tx?ref=master',\n",
       "  'html_url': 'https://github.com/bitcoin/bitcoin/tree/master/.tx',\n",
       "  'git_url': 'https://api.github.com/repos/bitcoin/bitcoin/git/trees/361ecc46083fa6aa90debda77542e872dc19b46c',\n",
       "  'download_url': None,\n",
       "  'type': 'dir',\n",
       "  '_links': {'self': 'https://api.github.com/repos/bitcoin/bitcoin/contents/.tx?ref=master',\n",
       "   'git': 'https://api.github.com/repos/bitcoin/bitcoin/git/trees/361ecc46083fa6aa90debda77542e872dc19b46c',\n",
       "   'html': 'https://github.com/bitcoin/bitcoin/tree/master/.tx'}},\n",
       " {'name': 'CONTRIBUTING.md',\n",
       "  'path': 'CONTRIBUTING.md',\n",
       "  'sha': '59f662ad341f4ab49c030bfb74f6bdf8d93dd2e8',\n",
       "  'size': 21520,\n",
       "  'url': 'https://api.github.com/repos/bitcoin/bitcoin/contents/CONTRIBUTING.md?ref=master',\n",
       "  'html_url': 'https://github.com/bitcoin/bitcoin/blob/master/CONTRIBUTING.md',\n",
       "  'git_url': 'https://api.github.com/repos/bitcoin/bitcoin/git/blobs/59f662ad341f4ab49c030bfb74f6bdf8d93dd2e8',\n",
       "  'download_url': 'https://raw.githubusercontent.com/bitcoin/bitcoin/master/CONTRIBUTING.md',\n",
       "  'type': 'file',\n",
       "  '_links': {'self': 'https://api.github.com/repos/bitcoin/bitcoin/contents/CONTRIBUTING.md?ref=master',\n",
       "   'git': 'https://api.github.com/repos/bitcoin/bitcoin/git/blobs/59f662ad341f4ab49c030bfb74f6bdf8d93dd2e8',\n",
       "   'html': 'https://github.com/bitcoin/bitcoin/blob/master/CONTRIBUTING.md'}},\n",
       " {'name': 'COPYING',\n",
       "  'path': 'COPYING',\n",
       "  'sha': 'b157c5fe4908167af81838931e79f41c5f123b9c',\n",
       "  'size': 1142,\n",
       "  'url': 'https://api.github.com/repos/bitcoin/bitcoin/contents/COPYING?ref=master',\n",
       "  'html_url': 'https://github.com/bitcoin/bitcoin/blob/master/COPYING',\n",
       "  'git_url': 'https://api.github.com/repos/bitcoin/bitcoin/git/blobs/b157c5fe4908167af81838931e79f41c5f123b9c',\n",
       "  'download_url': 'https://raw.githubusercontent.com/bitcoin/bitcoin/master/COPYING',\n",
       "  'type': 'file',\n",
       "  '_links': {'self': 'https://api.github.com/repos/bitcoin/bitcoin/contents/COPYING?ref=master',\n",
       "   'git': 'https://api.github.com/repos/bitcoin/bitcoin/git/blobs/b157c5fe4908167af81838931e79f41c5f123b9c',\n",
       "   'html': 'https://github.com/bitcoin/bitcoin/blob/master/COPYING'}},\n",
       " {'name': 'INSTALL.md',\n",
       "  'path': 'INSTALL.md',\n",
       "  'sha': '4cead0303612f95828d392c137435947faced697',\n",
       "  'size': 27,\n",
       "  'url': 'https://api.github.com/repos/bitcoin/bitcoin/contents/INSTALL.md?ref=master',\n",
       "  'html_url': 'https://github.com/bitcoin/bitcoin/blob/master/INSTALL.md',\n",
       "  'git_url': 'https://api.github.com/repos/bitcoin/bitcoin/git/blobs/4cead0303612f95828d392c137435947faced697',\n",
       "  'download_url': 'https://raw.githubusercontent.com/bitcoin/bitcoin/master/INSTALL.md',\n",
       "  'type': 'file',\n",
       "  '_links': {'self': 'https://api.github.com/repos/bitcoin/bitcoin/contents/INSTALL.md?ref=master',\n",
       "   'git': 'https://api.github.com/repos/bitcoin/bitcoin/git/blobs/4cead0303612f95828d392c137435947faced697',\n",
       "   'html': 'https://github.com/bitcoin/bitcoin/blob/master/INSTALL.md'}},\n",
       " {'name': 'Makefile.am',\n",
       "  'path': 'Makefile.am',\n",
       "  'sha': '1412624d54ca30c90152bbf77de5c3ad0f6602c9',\n",
       "  'size': 13372,\n",
       "  'url': 'https://api.github.com/repos/bitcoin/bitcoin/contents/Makefile.am?ref=master',\n",
       "  'html_url': 'https://github.com/bitcoin/bitcoin/blob/master/Makefile.am',\n",
       "  'git_url': 'https://api.github.com/repos/bitcoin/bitcoin/git/blobs/1412624d54ca30c90152bbf77de5c3ad0f6602c9',\n",
       "  'download_url': 'https://raw.githubusercontent.com/bitcoin/bitcoin/master/Makefile.am',\n",
       "  'type': 'file',\n",
       "  '_links': {'self': 'https://api.github.com/repos/bitcoin/bitcoin/contents/Makefile.am?ref=master',\n",
       "   'git': 'https://api.github.com/repos/bitcoin/bitcoin/git/blobs/1412624d54ca30c90152bbf77de5c3ad0f6602c9',\n",
       "   'html': 'https://github.com/bitcoin/bitcoin/blob/master/Makefile.am'}},\n",
       " {'name': 'README.md',\n",
       "  'path': 'README.md',\n",
       "  'sha': '56132d7496d425993a2cbe6350e7bab404893f12',\n",
       "  'size': 3570,\n",
       "  'url': 'https://api.github.com/repos/bitcoin/bitcoin/contents/README.md?ref=master',\n",
       "  'html_url': 'https://github.com/bitcoin/bitcoin/blob/master/README.md',\n",
       "  'git_url': 'https://api.github.com/repos/bitcoin/bitcoin/git/blobs/56132d7496d425993a2cbe6350e7bab404893f12',\n",
       "  'download_url': 'https://raw.githubusercontent.com/bitcoin/bitcoin/master/README.md',\n",
       "  'type': 'file',\n",
       "  '_links': {'self': 'https://api.github.com/repos/bitcoin/bitcoin/contents/README.md?ref=master',\n",
       "   'git': 'https://api.github.com/repos/bitcoin/bitcoin/git/blobs/56132d7496d425993a2cbe6350e7bab404893f12',\n",
       "   'html': 'https://github.com/bitcoin/bitcoin/blob/master/README.md'}},\n",
       " {'name': 'REVIEWERS',\n",
       "  'path': 'REVIEWERS',\n",
       "  'sha': 'e5dd3c9b91b05ab38ed86d4d8dcac906d8b2745d',\n",
       "  'size': 4621,\n",
       "  'url': 'https://api.github.com/repos/bitcoin/bitcoin/contents/REVIEWERS?ref=master',\n",
       "  'html_url': 'https://github.com/bitcoin/bitcoin/blob/master/REVIEWERS',\n",
       "  'git_url': 'https://api.github.com/repos/bitcoin/bitcoin/git/blobs/e5dd3c9b91b05ab38ed86d4d8dcac906d8b2745d',\n",
       "  'download_url': 'https://raw.githubusercontent.com/bitcoin/bitcoin/master/REVIEWERS',\n",
       "  'type': 'file',\n",
       "  '_links': {'self': 'https://api.github.com/repos/bitcoin/bitcoin/contents/REVIEWERS?ref=master',\n",
       "   'git': 'https://api.github.com/repos/bitcoin/bitcoin/git/blobs/e5dd3c9b91b05ab38ed86d4d8dcac906d8b2745d',\n",
       "   'html': 'https://github.com/bitcoin/bitcoin/blob/master/REVIEWERS'}},\n",
       " {'name': 'SECURITY.md',\n",
       "  'path': 'SECURITY.md',\n",
       "  'sha': '25b6175c95c8824787ba733edcaee798a4537411',\n",
       "  'size': 884,\n",
       "  'url': 'https://api.github.com/repos/bitcoin/bitcoin/contents/SECURITY.md?ref=master',\n",
       "  'html_url': 'https://github.com/bitcoin/bitcoin/blob/master/SECURITY.md',\n",
       "  'git_url': 'https://api.github.com/repos/bitcoin/bitcoin/git/blobs/25b6175c95c8824787ba733edcaee798a4537411',\n",
       "  'download_url': 'https://raw.githubusercontent.com/bitcoin/bitcoin/master/SECURITY.md',\n",
       "  'type': 'file',\n",
       "  '_links': {'self': 'https://api.github.com/repos/bitcoin/bitcoin/contents/SECURITY.md?ref=master',\n",
       "   'git': 'https://api.github.com/repos/bitcoin/bitcoin/git/blobs/25b6175c95c8824787ba733edcaee798a4537411',\n",
       "   'html': 'https://github.com/bitcoin/bitcoin/blob/master/SECURITY.md'}},\n",
       " {'name': 'autogen.sh',\n",
       "  'path': 'autogen.sh',\n",
       "  'sha': 'de16260b563279aea0ae038ecd4250964e8bd540',\n",
       "  'size': 546,\n",
       "  'url': 'https://api.github.com/repos/bitcoin/bitcoin/contents/autogen.sh?ref=master',\n",
       "  'html_url': 'https://github.com/bitcoin/bitcoin/blob/master/autogen.sh',\n",
       "  'git_url': 'https://api.github.com/repos/bitcoin/bitcoin/git/blobs/de16260b563279aea0ae038ecd4250964e8bd540',\n",
       "  'download_url': 'https://raw.githubusercontent.com/bitcoin/bitcoin/master/autogen.sh',\n",
       "  'type': 'file',\n",
       "  '_links': {'self': 'https://api.github.com/repos/bitcoin/bitcoin/contents/autogen.sh?ref=master',\n",
       "   'git': 'https://api.github.com/repos/bitcoin/bitcoin/git/blobs/de16260b563279aea0ae038ecd4250964e8bd540',\n",
       "   'html': 'https://github.com/bitcoin/bitcoin/blob/master/autogen.sh'}},\n",
       " {'name': 'build-aux',\n",
       "  'path': 'build-aux',\n",
       "  'sha': '20125632312accb846c85726d8fdbb78ffc7c7ed',\n",
       "  'size': 0,\n",
       "  'url': 'https://api.github.com/repos/bitcoin/bitcoin/contents/build-aux?ref=master',\n",
       "  'html_url': 'https://github.com/bitcoin/bitcoin/tree/master/build-aux',\n",
       "  'git_url': 'https://api.github.com/repos/bitcoin/bitcoin/git/trees/20125632312accb846c85726d8fdbb78ffc7c7ed',\n",
       "  'download_url': None,\n",
       "  'type': 'dir',\n",
       "  '_links': {'self': 'https://api.github.com/repos/bitcoin/bitcoin/contents/build-aux?ref=master',\n",
       "   'git': 'https://api.github.com/repos/bitcoin/bitcoin/git/trees/20125632312accb846c85726d8fdbb78ffc7c7ed',\n",
       "   'html': 'https://github.com/bitcoin/bitcoin/tree/master/build-aux'}},\n",
       " {'name': 'build_msvc',\n",
       "  'path': 'build_msvc',\n",
       "  'sha': '463774f26f569024b30fa275664a193927698792',\n",
       "  'size': 0,\n",
       "  'url': 'https://api.github.com/repos/bitcoin/bitcoin/contents/build_msvc?ref=master',\n",
       "  'html_url': 'https://github.com/bitcoin/bitcoin/tree/master/build_msvc',\n",
       "  'git_url': 'https://api.github.com/repos/bitcoin/bitcoin/git/trees/463774f26f569024b30fa275664a193927698792',\n",
       "  'download_url': None,\n",
       "  'type': 'dir',\n",
       "  '_links': {'self': 'https://api.github.com/repos/bitcoin/bitcoin/contents/build_msvc?ref=master',\n",
       "   'git': 'https://api.github.com/repos/bitcoin/bitcoin/git/trees/463774f26f569024b30fa275664a193927698792',\n",
       "   'html': 'https://github.com/bitcoin/bitcoin/tree/master/build_msvc'}},\n",
       " {'name': 'ci',\n",
       "  'path': 'ci',\n",
       "  'sha': '62d25cdc790bda8d9b95d599a74024f4e6929e55',\n",
       "  'size': 0,\n",
       "  'url': 'https://api.github.com/repos/bitcoin/bitcoin/contents/ci?ref=master',\n",
       "  'html_url': 'https://github.com/bitcoin/bitcoin/tree/master/ci',\n",
       "  'git_url': 'https://api.github.com/repos/bitcoin/bitcoin/git/trees/62d25cdc790bda8d9b95d599a74024f4e6929e55',\n",
       "  'download_url': None,\n",
       "  'type': 'dir',\n",
       "  '_links': {'self': 'https://api.github.com/repos/bitcoin/bitcoin/contents/ci?ref=master',\n",
       "   'git': 'https://api.github.com/repos/bitcoin/bitcoin/git/trees/62d25cdc790bda8d9b95d599a74024f4e6929e55',\n",
       "   'html': 'https://github.com/bitcoin/bitcoin/tree/master/ci'}},\n",
       " {'name': 'configure.ac',\n",
       "  'path': 'configure.ac',\n",
       "  'sha': '078e113e9589e53227e9aec2198c1d8244d06f94',\n",
       "  'size': 76719,\n",
       "  'url': 'https://api.github.com/repos/bitcoin/bitcoin/contents/configure.ac?ref=master',\n",
       "  'html_url': 'https://github.com/bitcoin/bitcoin/blob/master/configure.ac',\n",
       "  'git_url': 'https://api.github.com/repos/bitcoin/bitcoin/git/blobs/078e113e9589e53227e9aec2198c1d8244d06f94',\n",
       "  'download_url': 'https://raw.githubusercontent.com/bitcoin/bitcoin/master/configure.ac',\n",
       "  'type': 'file',\n",
       "  '_links': {'self': 'https://api.github.com/repos/bitcoin/bitcoin/contents/configure.ac?ref=master',\n",
       "   'git': 'https://api.github.com/repos/bitcoin/bitcoin/git/blobs/078e113e9589e53227e9aec2198c1d8244d06f94',\n",
       "   'html': 'https://github.com/bitcoin/bitcoin/blob/master/configure.ac'}},\n",
       " {'name': 'contrib',\n",
       "  'path': 'contrib',\n",
       "  'sha': '6a4063d46d0ad5323b212ce426512534ccc9f0db',\n",
       "  'size': 0,\n",
       "  'url': 'https://api.github.com/repos/bitcoin/bitcoin/contents/contrib?ref=master',\n",
       "  'html_url': 'https://github.com/bitcoin/bitcoin/tree/master/contrib',\n",
       "  'git_url': 'https://api.github.com/repos/bitcoin/bitcoin/git/trees/6a4063d46d0ad5323b212ce426512534ccc9f0db',\n",
       "  'download_url': None,\n",
       "  'type': 'dir',\n",
       "  '_links': {'self': 'https://api.github.com/repos/bitcoin/bitcoin/contents/contrib?ref=master',\n",
       "   'git': 'https://api.github.com/repos/bitcoin/bitcoin/git/trees/6a4063d46d0ad5323b212ce426512534ccc9f0db',\n",
       "   'html': 'https://github.com/bitcoin/bitcoin/tree/master/contrib'}},\n",
       " {'name': 'depends',\n",
       "  'path': 'depends',\n",
       "  'sha': 'bfac64b6a6632c6e5b5e43b1385e44c16201c3dd',\n",
       "  'size': 0,\n",
       "  'url': 'https://api.github.com/repos/bitcoin/bitcoin/contents/depends?ref=master',\n",
       "  'html_url': 'https://github.com/bitcoin/bitcoin/tree/master/depends',\n",
       "  'git_url': 'https://api.github.com/repos/bitcoin/bitcoin/git/trees/bfac64b6a6632c6e5b5e43b1385e44c16201c3dd',\n",
       "  'download_url': None,\n",
       "  'type': 'dir',\n",
       "  '_links': {'self': 'https://api.github.com/repos/bitcoin/bitcoin/contents/depends?ref=master',\n",
       "   'git': 'https://api.github.com/repos/bitcoin/bitcoin/git/trees/bfac64b6a6632c6e5b5e43b1385e44c16201c3dd',\n",
       "   'html': 'https://github.com/bitcoin/bitcoin/tree/master/depends'}},\n",
       " {'name': 'doc',\n",
       "  'path': 'doc',\n",
       "  'sha': 'd4c1b2957350a865414b015027c62e85c2b12a68',\n",
       "  'size': 0,\n",
       "  'url': 'https://api.github.com/repos/bitcoin/bitcoin/contents/doc?ref=master',\n",
       "  'html_url': 'https://github.com/bitcoin/bitcoin/tree/master/doc',\n",
       "  'git_url': 'https://api.github.com/repos/bitcoin/bitcoin/git/trees/d4c1b2957350a865414b015027c62e85c2b12a68',\n",
       "  'download_url': None,\n",
       "  'type': 'dir',\n",
       "  '_links': {'self': 'https://api.github.com/repos/bitcoin/bitcoin/contents/doc?ref=master',\n",
       "   'git': 'https://api.github.com/repos/bitcoin/bitcoin/git/trees/d4c1b2957350a865414b015027c62e85c2b12a68',\n",
       "   'html': 'https://github.com/bitcoin/bitcoin/tree/master/doc'}},\n",
       " {'name': 'libbitcoinconsensus.pc.in',\n",
       "  'path': 'libbitcoinconsensus.pc.in',\n",
       "  'sha': '1ceab280bb114edd8e348dfa4821943f580e3805',\n",
       "  'size': 267,\n",
       "  'url': 'https://api.github.com/repos/bitcoin/bitcoin/contents/libbitcoinconsensus.pc.in?ref=master',\n",
       "  'html_url': 'https://github.com/bitcoin/bitcoin/blob/master/libbitcoinconsensus.pc.in',\n",
       "  'git_url': 'https://api.github.com/repos/bitcoin/bitcoin/git/blobs/1ceab280bb114edd8e348dfa4821943f580e3805',\n",
       "  'download_url': 'https://raw.githubusercontent.com/bitcoin/bitcoin/master/libbitcoinconsensus.pc.in',\n",
       "  'type': 'file',\n",
       "  '_links': {'self': 'https://api.github.com/repos/bitcoin/bitcoin/contents/libbitcoinconsensus.pc.in?ref=master',\n",
       "   'git': 'https://api.github.com/repos/bitcoin/bitcoin/git/blobs/1ceab280bb114edd8e348dfa4821943f580e3805',\n",
       "   'html': 'https://github.com/bitcoin/bitcoin/blob/master/libbitcoinconsensus.pc.in'}},\n",
       " {'name': 'share',\n",
       "  'path': 'share',\n",
       "  'sha': 'bdb600c3d93700102b5928838386f5fa6d60c379',\n",
       "  'size': 0,\n",
       "  'url': 'https://api.github.com/repos/bitcoin/bitcoin/contents/share?ref=master',\n",
       "  'html_url': 'https://github.com/bitcoin/bitcoin/tree/master/share',\n",
       "  'git_url': 'https://api.github.com/repos/bitcoin/bitcoin/git/trees/bdb600c3d93700102b5928838386f5fa6d60c379',\n",
       "  'download_url': None,\n",
       "  'type': 'dir',\n",
       "  '_links': {'self': 'https://api.github.com/repos/bitcoin/bitcoin/contents/share?ref=master',\n",
       "   'git': 'https://api.github.com/repos/bitcoin/bitcoin/git/trees/bdb600c3d93700102b5928838386f5fa6d60c379',\n",
       "   'html': 'https://github.com/bitcoin/bitcoin/tree/master/share'}},\n",
       " {'name': 'src',\n",
       "  'path': 'src',\n",
       "  'sha': 'c8e4362595e839e09085ad3cb12ab3499a42479b',\n",
       "  'size': 0,\n",
       "  'url': 'https://api.github.com/repos/bitcoin/bitcoin/contents/src?ref=master',\n",
       "  'html_url': 'https://github.com/bitcoin/bitcoin/tree/master/src',\n",
       "  'git_url': 'https://api.github.com/repos/bitcoin/bitcoin/git/trees/c8e4362595e839e09085ad3cb12ab3499a42479b',\n",
       "  'download_url': None,\n",
       "  'type': 'dir',\n",
       "  '_links': {'self': 'https://api.github.com/repos/bitcoin/bitcoin/contents/src?ref=master',\n",
       "   'git': 'https://api.github.com/repos/bitcoin/bitcoin/git/trees/c8e4362595e839e09085ad3cb12ab3499a42479b',\n",
       "   'html': 'https://github.com/bitcoin/bitcoin/tree/master/src'}},\n",
       " {'name': 'test',\n",
       "  'path': 'test',\n",
       "  'sha': '48e2e9dd890e717f2584e257269ff0bab264b0d3',\n",
       "  'size': 0,\n",
       "  'url': 'https://api.github.com/repos/bitcoin/bitcoin/contents/test?ref=master',\n",
       "  'html_url': 'https://github.com/bitcoin/bitcoin/tree/master/test',\n",
       "  'git_url': 'https://api.github.com/repos/bitcoin/bitcoin/git/trees/48e2e9dd890e717f2584e257269ff0bab264b0d3',\n",
       "  'download_url': None,\n",
       "  'type': 'dir',\n",
       "  '_links': {'self': 'https://api.github.com/repos/bitcoin/bitcoin/contents/test?ref=master',\n",
       "   'git': 'https://api.github.com/repos/bitcoin/bitcoin/git/trees/48e2e9dd890e717f2584e257269ff0bab264b0d3',\n",
       "   'html': 'https://github.com/bitcoin/bitcoin/tree/master/test'}}]"
      ]
     },
     "execution_count": 4,
     "metadata": {},
     "output_type": "execute_result"
    }
   ],
   "source": [
    "repo_contents"
   ]
  },
  {
   "cell_type": "code",
   "execution_count": 7,
   "id": "53f19e46",
   "metadata": {},
   "outputs": [
    {
     "data": {
      "text/plain": [
       "'C++'"
      ]
     },
     "execution_count": 7,
     "metadata": {},
     "output_type": "execute_result"
    }
   ],
   "source": [
    "acquire.get_repo_language(repo[0])"
   ]
  },
  {
   "cell_type": "code",
   "execution_count": 8,
   "id": "24a2c660",
   "metadata": {},
   "outputs": [
    {
     "data": {
      "text/plain": [
       "{'repo': 'bitcoin/bitcoin',\n",
       " 'language': 'C++',\n",
       " 'readme_contents': \"Bitcoin Core integration/staging tree\\n=====================================\\n\\nhttps://bitcoincore.org\\n\\nFor an immediately usable, binary version of the Bitcoin Core software, see\\nhttps://bitcoincore.org/en/download/.\\n\\nFurther information about Bitcoin Core is available in the [doc folder](/doc).\\n\\nWhat is Bitcoin?\\n----------------\\n\\nBitcoin is an experimental digital currency that enables instant payments to\\nanyone, anywhere in the world. Bitcoin uses peer-to-peer technology to operate\\nwith no central authority: managing transactions and issuing money are carried\\nout collectively by the network. Bitcoin Core is the name of open source\\nsoftware which enables the use of this currency.\\n\\nFor more information read the original Bitcoin whitepaper.\\n\\nLicense\\n-------\\n\\nBitcoin Core is released under the terms of the MIT license. See [COPYING](COPYING) for more\\ninformation or see https://opensource.org/licenses/MIT.\\n\\nDevelopment Process\\n-------------------\\n\\nThe `master` branch is regularly built (see `doc/build-*.md` for instructions) and tested, but it is not guaranteed to be\\ncompletely stable. [Tags](https://github.com/bitcoin/bitcoin/tags) are created\\nregularly from release branches to indicate new official, stable release versions of Bitcoin Core.\\n\\nThe https://github.com/bitcoin-core/gui repository is used exclusively for the\\ndevelopment of the GUI. Its master branch is identical in all monotree\\nrepositories. Release branches and tags do not exist, so please do not fork\\nthat repository unless it is for development reasons.\\n\\nThe contribution workflow is described in [CONTRIBUTING.md](CONTRIBUTING.md)\\nand useful hints for developers can be found in [doc/developer-notes.md](doc/developer-notes.md).\\n\\nTesting\\n-------\\n\\nTesting and code review is the bottleneck for development; we get more pull\\nrequests than we can review and test on short notice. Please be patient and help out by testing\\nother people's pull requests, and remember this is a security-critical project where any mistake might cost people\\nlots of money.\\n\\n### Automated Testing\\n\\nDevelopers are strongly encouraged to write [unit tests](src/test/README.md) for new code, and to\\nsubmit new unit tests for old code. Unit tests can be compiled and run\\n(assuming they weren't disabled in configure) with: `make check`. Further details on running\\nand extending unit tests can be found in [/src/test/README.md](/src/test/README.md).\\n\\nThere are also [regression and integration tests](/test), written\\nin Python.\\nThese tests can be run (if the [test dependencies](/test) are installed) with: `test/functional/test_runner.py`\\n\\nThe CI (Continuous Integration) systems make sure that every pull request is built for Windows, Linux, and macOS,\\nand that unit/sanity tests are run automatically.\\n\\n### Manual Quality Assurance (QA) Testing\\n\\nChanges should be tested by somebody other than the developer who wrote the\\ncode. This is especially important for large or high-risk changes. It is useful\\nto add a test plan to the pull request description if testing the changes is\\nnot straightforward.\\n\\nTranslations\\n------------\\n\\nChanges to translations as well as new translations can be submitted to\\n[Bitcoin Core's Transifex page](https://www.transifex.com/bitcoin/bitcoin/).\\n\\nTranslations are periodically pulled from Transifex and merged into the git repository. See the\\n[translation process](doc/translation_process.md) for details on how this works.\\n\\n**Important**: We do not accept translation changes as GitHub pull requests because the next\\npull from Transifex would automatically overwrite them again.\\n\"}"
      ]
     },
     "execution_count": 8,
     "metadata": {},
     "output_type": "execute_result"
    }
   ],
   "source": [
    "acquire.process_repo(repo[0])"
   ]
  },
  {
   "cell_type": "code",
   "execution_count": 5,
   "id": "c80aacac",
   "metadata": {},
   "outputs": [
    {
     "data": {
      "text/plain": [
       "[{'repo': 'bitcoin/bitcoin',\n",
       "  'language': 'C++',\n",
       "  'readme_contents': \"Bitcoin Core integration/staging tree\\n=====================================\\n\\nhttps://bitcoincore.org\\n\\nFor an immediately usable, binary version of the Bitcoin Core software, see\\nhttps://bitcoincore.org/en/download/.\\n\\nFurther information about Bitcoin Core is available in the [doc folder](/doc).\\n\\nWhat is Bitcoin?\\n----------------\\n\\nBitcoin is an experimental digital currency that enables instant payments to\\nanyone, anywhere in the world. Bitcoin uses peer-to-peer technology to operate\\nwith no central authority: managing transactions and issuing money are carried\\nout collectively by the network. Bitcoin Core is the name of open source\\nsoftware which enables the use of this currency.\\n\\nFor more information read the original Bitcoin whitepaper.\\n\\nLicense\\n-------\\n\\nBitcoin Core is released under the terms of the MIT license. See [COPYING](COPYING) for more\\ninformation or see https://opensource.org/licenses/MIT.\\n\\nDevelopment Process\\n-------------------\\n\\nThe `master` branch is regularly built (see `doc/build-*.md` for instructions) and tested, but it is not guaranteed to be\\ncompletely stable. [Tags](https://github.com/bitcoin/bitcoin/tags) are created\\nregularly from release branches to indicate new official, stable release versions of Bitcoin Core.\\n\\nThe https://github.com/bitcoin-core/gui repository is used exclusively for the\\ndevelopment of the GUI. Its master branch is identical in all monotree\\nrepositories. Release branches and tags do not exist, so please do not fork\\nthat repository unless it is for development reasons.\\n\\nThe contribution workflow is described in [CONTRIBUTING.md](CONTRIBUTING.md)\\nand useful hints for developers can be found in [doc/developer-notes.md](doc/developer-notes.md).\\n\\nTesting\\n-------\\n\\nTesting and code review is the bottleneck for development; we get more pull\\nrequests than we can review and test on short notice. Please be patient and help out by testing\\nother people's pull requests, and remember this is a security-critical project where any mistake might cost people\\nlots of money.\\n\\n### Automated Testing\\n\\nDevelopers are strongly encouraged to write [unit tests](src/test/README.md) for new code, and to\\nsubmit new unit tests for old code. Unit tests can be compiled and run\\n(assuming they weren't disabled in configure) with: `make check`. Further details on running\\nand extending unit tests can be found in [/src/test/README.md](/src/test/README.md).\\n\\nThere are also [regression and integration tests](/test), written\\nin Python.\\nThese tests can be run (if the [test dependencies](/test) are installed) with: `test/functional/test_runner.py`\\n\\nThe CI (Continuous Integration) systems make sure that every pull request is built for Windows, Linux, and macOS,\\nand that unit/sanity tests are run automatically.\\n\\n### Manual Quality Assurance (QA) Testing\\n\\nChanges should be tested by somebody other than the developer who wrote the\\ncode. This is especially important for large or high-risk changes. It is useful\\nto add a test plan to the pull request description if testing the changes is\\nnot straightforward.\\n\\nTranslations\\n------------\\n\\nChanges to translations as well as new translations can be submitted to\\n[Bitcoin Core's Transifex page](https://www.transifex.com/bitcoin/bitcoin/).\\n\\nTranslations are periodically pulled from Transifex and merged into the git repository. See the\\n[translation process](doc/translation_process.md) for details on how this works.\\n\\n**Important**: We do not accept translation changes as GitHub pull requests because the next\\npull from Transifex would automatically overwrite them again.\\n\"}]"
      ]
     },
     "execution_count": 5,
     "metadata": {},
     "output_type": "execute_result"
    }
   ],
   "source": [
    "acquire.scrape_github_data()"
   ]
  },
  {
   "cell_type": "code",
   "execution_count": 6,
   "id": "00a053ff",
   "metadata": {},
   "outputs": [
    {
     "data": {
      "text/html": [
       "<div>\n",
       "<style scoped>\n",
       "    .dataframe tbody tr th:only-of-type {\n",
       "        vertical-align: middle;\n",
       "    }\n",
       "\n",
       "    .dataframe tbody tr th {\n",
       "        vertical-align: top;\n",
       "    }\n",
       "\n",
       "    .dataframe thead th {\n",
       "        text-align: right;\n",
       "    }\n",
       "</style>\n",
       "<table border=\"1\" class=\"dataframe\">\n",
       "  <thead>\n",
       "    <tr style=\"text-align: right;\">\n",
       "      <th></th>\n",
       "      <th>repo</th>\n",
       "      <th>language</th>\n",
       "      <th>readme_contents</th>\n",
       "    </tr>\n",
       "  </thead>\n",
       "  <tbody>\n",
       "    <tr>\n",
       "      <th>0</th>\n",
       "      <td>bitcoin/bitcoin</td>\n",
       "      <td>C++</td>\n",
       "      <td>Bitcoin Core integration/staging tree\\n=======...</td>\n",
       "    </tr>\n",
       "  </tbody>\n",
       "</table>\n",
       "</div>"
      ],
      "text/plain": [
       "              repo language                                    readme_contents\n",
       "0  bitcoin/bitcoin      C++  Bitcoin Core integration/staging tree\\n=======..."
      ]
     },
     "execution_count": 6,
     "metadata": {},
     "output_type": "execute_result"
    }
   ],
   "source": [
    "df = pd.DataFrame(acquire.scrape_github_data(),columns=['repo','language','readme_contents'])\n",
    "df.head()"
   ]
  },
  {
   "cell_type": "code",
   "execution_count": null,
   "id": "5f541068",
   "metadata": {},
   "outputs": [],
   "source": []
  }
 ],
 "metadata": {
  "kernelspec": {
   "display_name": "Python 3",
   "language": "python",
   "name": "python3"
  },
  "language_info": {
   "codemirror_mode": {
    "name": "ipython",
    "version": 3
   },
   "file_extension": ".py",
   "mimetype": "text/x-python",
   "name": "python",
   "nbconvert_exporter": "python",
   "pygments_lexer": "ipython3",
   "version": "3.8.8"
  }
 },
 "nbformat": 4,
 "nbformat_minor": 5
}
