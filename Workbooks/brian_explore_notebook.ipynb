{
 "cells": [
  {
   "cell_type": "code",
   "execution_count": 1,
   "id": "7211ed99",
   "metadata": {},
   "outputs": [],
   "source": [
    "import matplotlib.pyplot as plt\n",
    "import seaborn as sns\n",
    "import pandas as pd\n",
    "import nltk\n",
    "import unicodedata\n",
    "import re\n",
    "import env\n",
    "import acquire\n",
    "import prepare\n",
    "import wrangle\n",
    "from wordcloud import WordCloud\n",
    "import nltk.sentiment\n",
    "# pd.set_option('display.max_colwidth', None)\n",
    "from time import strftime\n",
    "import numpy as np\n",
    "import requests\n",
    "from bs4 import BeautifulSoup\n",
    "import time\n",
    "import os"
   ]
  },
  {
   "cell_type": "code",
   "execution_count": 2,
   "id": "967d7f31",
   "metadata": {},
   "outputs": [],
   "source": [
    "# extensions=acquire.get_extensions()"
   ]
  },
  {
   "cell_type": "code",
   "execution_count": 3,
   "id": "9c55001c",
   "metadata": {},
   "outputs": [],
   "source": [
    "# len(extensions)"
   ]
  },
  {
   "cell_type": "code",
   "execution_count": 4,
   "id": "96971cc1",
   "metadata": {},
   "outputs": [],
   "source": [
    "# extensions"
   ]
  },
  {
   "cell_type": "code",
   "execution_count": 12,
   "id": "0cc4540a",
   "metadata": {},
   "outputs": [
    {
     "data": {
      "text/html": [
       "<div>\n",
       "<style scoped>\n",
       "    .dataframe tbody tr th:only-of-type {\n",
       "        vertical-align: middle;\n",
       "    }\n",
       "\n",
       "    .dataframe tbody tr th {\n",
       "        vertical-align: top;\n",
       "    }\n",
       "\n",
       "    .dataframe thead th {\n",
       "        text-align: right;\n",
       "    }\n",
       "</style>\n",
       "<table border=\"1\" class=\"dataframe\">\n",
       "  <thead>\n",
       "    <tr style=\"text-align: right;\">\n",
       "      <th></th>\n",
       "      <th>repo</th>\n",
       "      <th>language</th>\n",
       "      <th>readme_contents</th>\n",
       "    </tr>\n",
       "  </thead>\n",
       "  <tbody>\n",
       "    <tr>\n",
       "      <th>0</th>\n",
       "      <td>bitcoin/bitcoin</td>\n",
       "      <td>C++</td>\n",
       "      <td>Bitcoin Core integration/staging tree\\n=======...</td>\n",
       "    </tr>\n",
       "    <tr>\n",
       "      <th>1</th>\n",
       "      <td>bitcoinbook/bitcoinbook</td>\n",
       "      <td>AsciiDoc</td>\n",
       "      <td>Code Examples: ![travis_ci](https://travis-ci....</td>\n",
       "    </tr>\n",
       "    <tr>\n",
       "      <th>2</th>\n",
       "      <td>bitcoinj/bitcoinj</td>\n",
       "      <td>Java</td>\n",
       "      <td>[![Github Build Status](https://github.com/bit...</td>\n",
       "    </tr>\n",
       "    <tr>\n",
       "      <th>3</th>\n",
       "      <td>bitcoin/bips</td>\n",
       "      <td>Wikitext</td>\n",
       "      <td>People wishing to submit BIPs, first should pr...</td>\n",
       "    </tr>\n",
       "    <tr>\n",
       "      <th>4</th>\n",
       "      <td>bitcoinjs/bitcoinjs-lib</td>\n",
       "      <td>TypeScript</td>\n",
       "      <td># BitcoinJS (bitcoinjs-lib)\\n[![Github CI](htt...</td>\n",
       "    </tr>\n",
       "  </tbody>\n",
       "</table>\n",
       "</div>"
      ],
      "text/plain": [
       "                      repo    language  \\\n",
       "0          bitcoin/bitcoin         C++   \n",
       "1  bitcoinbook/bitcoinbook    AsciiDoc   \n",
       "2        bitcoinj/bitcoinj        Java   \n",
       "3             bitcoin/bips    Wikitext   \n",
       "4  bitcoinjs/bitcoinjs-lib  TypeScript   \n",
       "\n",
       "                                     readme_contents  \n",
       "0  Bitcoin Core integration/staging tree\\n=======...  \n",
       "1  Code Examples: ![travis_ci](https://travis-ci....  \n",
       "2  [![Github Build Status](https://github.com/bit...  \n",
       "3  People wishing to submit BIPs, first should pr...  \n",
       "4  # BitcoinJS (bitcoinjs-lib)\\n[![Github CI](htt...  "
      ]
     },
     "execution_count": 12,
     "metadata": {},
     "output_type": "execute_result"
    }
   ],
   "source": [
    "# original=acquire.make_json(cached=False)\n",
    "original = pd.read_json('repo_readmes.json')\n",
    "df=original.copy()\n",
    "df.head()"
   ]
  },
  {
   "cell_type": "code",
   "execution_count": 15,
   "id": "818fc8a9",
   "metadata": {},
   "outputs": [
    {
     "data": {
      "text/plain": [
       "rust-bitcoin/rust-bitcoin           1\n",
       "ruimarinho/docker-bitcoin-core      1\n",
       "cryptean/bitcoinlib                 1\n",
       "spesmilo/electrum                   1\n",
       "libbitcoin/libbitcoin-system        1\n",
       "                                   ..\n",
       "zquestz/bitcoincash                 1\n",
       "blockchain/api-v1-client-php        1\n",
       "BTCPrivate/BitcoinPrivate-legacy    1\n",
       "lian/bitcoin-ruby                   1\n",
       "bitcoin-core/bitcoincore.org        1\n",
       "Name: repo, Length: 80, dtype: int64"
      ]
     },
     "execution_count": 15,
     "metadata": {},
     "output_type": "execute_result"
    }
   ],
   "source": [
    "df.repo.value_counts()"
   ]
  },
  {
   "cell_type": "code",
   "execution_count": 16,
   "id": "16dc0637",
   "metadata": {},
   "outputs": [
    {
     "data": {
      "text/plain": [
       "C++                 14\n",
       "Python              13\n",
       "JavaScript           9\n",
       "Java                 8\n",
       "PHP                  7\n",
       "C                    4\n",
       "HTML                 4\n",
       "C#                   2\n",
       "Dockerfile           2\n",
       "TypeScript           1\n",
       "Swift                1\n",
       "Groovy               1\n",
       "Rust                 1\n",
       "Ruby                 1\n",
       "Jupyter Notebook     1\n",
       "VHDL                 1\n",
       "AsciiDoc             1\n",
       "Wikitext             1\n",
       "CSS                  1\n",
       "Dart                 1\n",
       "Haskell              1\n",
       "Shell                1\n",
       "Assembly             1\n",
       "Name: language, dtype: int64"
      ]
     },
     "execution_count": 16,
     "metadata": {},
     "output_type": "execute_result"
    }
   ],
   "source": [
    "df.language.value_counts()"
   ]
  },
  {
   "cell_type": "code",
   "execution_count": 17,
   "id": "d512f456",
   "metadata": {},
   "outputs": [
    {
     "data": {
      "text/html": [
       "<div>\n",
       "<style scoped>\n",
       "    .dataframe tbody tr th:only-of-type {\n",
       "        vertical-align: middle;\n",
       "    }\n",
       "\n",
       "    .dataframe tbody tr th {\n",
       "        vertical-align: top;\n",
       "    }\n",
       "\n",
       "    .dataframe thead th {\n",
       "        text-align: right;\n",
       "    }\n",
       "</style>\n",
       "<table border=\"1\" class=\"dataframe\">\n",
       "  <thead>\n",
       "    <tr style=\"text-align: right;\">\n",
       "      <th></th>\n",
       "      <th>repo</th>\n",
       "      <th>language</th>\n",
       "      <th>readme_contents</th>\n",
       "      <th>clean</th>\n",
       "      <th>stemmed</th>\n",
       "      <th>lemmatized</th>\n",
       "    </tr>\n",
       "  </thead>\n",
       "  <tbody>\n",
       "    <tr>\n",
       "      <th>29</th>\n",
       "      <td>tianmingyun/MasterBitcoin2CN</td>\n",
       "      <td>None</td>\n",
       "      <td>郎咸平说过：比特币白给我都不要\\n\\n巴菲特：比特币是泡沫，不是一种能够生产价值的资产\\n\\...</td>\n",
       "      <td>higer aa1httpswww8btccomwikibitcoinapeertopeer...</td>\n",
       "      <td>higer aa1httpswww8btccomwikibitcoinapeertopeer...</td>\n",
       "      <td>higer aa1httpswww8btccomwikibitcoinapeertopeer...</td>\n",
       "    </tr>\n",
       "    <tr>\n",
       "      <th>63</th>\n",
       "      <td>llSourcell/bitcoin_prediction</td>\n",
       "      <td>Jupyter Notebook</td>\n",
       "      <td># Overview\\n\\nThis is the code for [this](http...</td>\n",
       "      <td>overview code thishttpsyoutubeeqwm8adryg video...</td>\n",
       "      <td>overview thi code thishttpsyoutubeeqwm8adryg v...</td>\n",
       "      <td>overview code thishttpsyoutubeeqwm8adryg video...</td>\n",
       "    </tr>\n",
       "    <tr>\n",
       "      <th>59</th>\n",
       "      <td>ccxt/ccxt</td>\n",
       "      <td>JavaScript</td>\n",
       "      <td># CCXT – CryptoCurrency eXchange Trading Libra...</td>\n",
       "      <td>ccxt cryptocurrency exchange trading library b...</td>\n",
       "      <td>ccxt cryptocurr exchang trade librari build st...</td>\n",
       "      <td>ccxt cryptocurrency exchange trading library b...</td>\n",
       "    </tr>\n",
       "    <tr>\n",
       "      <th>14</th>\n",
       "      <td>Bitcoin-ABC/bitcoin-abc</td>\n",
       "      <td>C++</td>\n",
       "      <td>[![Bitcoin ABC Logo](share/pixmaps/bitcoinabcl...</td>\n",
       "      <td>bitcoin abc logosharepixmapsbitcoinabclogopng ...</td>\n",
       "      <td>bitcoin abc logosharepixmapsbitcoinabclogopng ...</td>\n",
       "      <td>bitcoin abc logosharepixmapsbitcoinabclogopng ...</td>\n",
       "    </tr>\n",
       "    <tr>\n",
       "      <th>37</th>\n",
       "      <td>cryptean/bitcoinlib</td>\n",
       "      <td>C#</td>\n",
       "      <td>﻿# BitcoinLib\\n\\n**.NET Bitcoin &amp; Altcoins lib...</td>\n",
       "      <td>bitcoinlib net bitcoin altcoins library featur...</td>\n",
       "      <td>bitcoinlib net bitcoin altcoin librari featur ...</td>\n",
       "      <td>bitcoinlib net bitcoin altcoins library featur...</td>\n",
       "    </tr>\n",
       "    <tr>\n",
       "      <th>4</th>\n",
       "      <td>bitcoinjs/bitcoinjs-lib</td>\n",
       "      <td>TypeScript</td>\n",
       "      <td># BitcoinJS (bitcoinjs-lib)\\n[![Github CI](htt...</td>\n",
       "      <td>bitcoinjs bitcoinjslib github cihttpsgithubcom...</td>\n",
       "      <td>bitcoinj bitcoinjslib github cihttpsgithubcomb...</td>\n",
       "      <td>bitcoinjs bitcoinjslib github cihttpsgithubcom...</td>\n",
       "    </tr>\n",
       "    <tr>\n",
       "      <th>45</th>\n",
       "      <td>mycelium-com/wallet-android</td>\n",
       "      <td>Java</td>\n",
       "      <td>Beta channel\\n============\\n\\nIn order to rece...</td>\n",
       "      <td>beta channel order receive updates quicker oth...</td>\n",
       "      <td>beta channel order receiv updat quicker need e...</td>\n",
       "      <td>beta channel order receive update quicker othe...</td>\n",
       "    </tr>\n",
       "    <tr>\n",
       "      <th>17</th>\n",
       "      <td>bitcoin-abe/bitcoin-abe</td>\n",
       "      <td>Python</td>\n",
       "      <td>Apache 2 FastCGI setup on Debian/Ubuntu\\r\\n===...</td>\n",
       "      <td>apache 2 fastcgi setup debianubuntu document d...</td>\n",
       "      <td>apach 2 fastcgi setup debianubuntu thi documen...</td>\n",
       "      <td>apache 2 fastcgi setup debianubuntu document d...</td>\n",
       "    </tr>\n",
       "    <tr>\n",
       "      <th>34</th>\n",
       "      <td>pooler/cpuminer</td>\n",
       "      <td>Assembly</td>\n",
       "      <td>This is a multi-threaded CPU miner for Litecoi...</td>\n",
       "      <td>multithreaded cpu miner litecoin bitcoin fork ...</td>\n",
       "      <td>thi multithread cpu miner litecoin bitcoin for...</td>\n",
       "      <td>multithreaded cpu miner litecoin bitcoin fork ...</td>\n",
       "    </tr>\n",
       "    <tr>\n",
       "      <th>68</th>\n",
       "      <td>blockchain/api-v1-client-php</td>\n",
       "      <td>PHP</td>\n",
       "      <td>Blockchain API library (PHP, v1)\\n============...</td>\n",
       "      <td>blockchain api library php v1 official php lib...</td>\n",
       "      <td>blockchain api librari php v1 offici php libra...</td>\n",
       "      <td>blockchain api library php v1 official php lib...</td>\n",
       "    </tr>\n",
       "  </tbody>\n",
       "</table>\n",
       "</div>"
      ],
      "text/plain": [
       "                             repo          language  \\\n",
       "29   tianmingyun/MasterBitcoin2CN              None   \n",
       "63  llSourcell/bitcoin_prediction  Jupyter Notebook   \n",
       "59                      ccxt/ccxt        JavaScript   \n",
       "14        Bitcoin-ABC/bitcoin-abc               C++   \n",
       "37            cryptean/bitcoinlib                C#   \n",
       "4         bitcoinjs/bitcoinjs-lib        TypeScript   \n",
       "45    mycelium-com/wallet-android              Java   \n",
       "17        bitcoin-abe/bitcoin-abe            Python   \n",
       "34                pooler/cpuminer          Assembly   \n",
       "68   blockchain/api-v1-client-php               PHP   \n",
       "\n",
       "                                      readme_contents  \\\n",
       "29  郎咸平说过：比特币白给我都不要\\n\\n巴菲特：比特币是泡沫，不是一种能够生产价值的资产\\n\\...   \n",
       "63  # Overview\\n\\nThis is the code for [this](http...   \n",
       "59  # CCXT – CryptoCurrency eXchange Trading Libra...   \n",
       "14  [![Bitcoin ABC Logo](share/pixmaps/bitcoinabcl...   \n",
       "37  ﻿# BitcoinLib\\n\\n**.NET Bitcoin & Altcoins lib...   \n",
       "4   # BitcoinJS (bitcoinjs-lib)\\n[![Github CI](htt...   \n",
       "45  Beta channel\\n============\\n\\nIn order to rece...   \n",
       "17  Apache 2 FastCGI setup on Debian/Ubuntu\\r\\n===...   \n",
       "34  This is a multi-threaded CPU miner for Litecoi...   \n",
       "68  Blockchain API library (PHP, v1)\\n============...   \n",
       "\n",
       "                                                clean  \\\n",
       "29  higer aa1httpswww8btccomwikibitcoinapeertopeer...   \n",
       "63  overview code thishttpsyoutubeeqwm8adryg video...   \n",
       "59  ccxt cryptocurrency exchange trading library b...   \n",
       "14  bitcoin abc logosharepixmapsbitcoinabclogopng ...   \n",
       "37  bitcoinlib net bitcoin altcoins library featur...   \n",
       "4   bitcoinjs bitcoinjslib github cihttpsgithubcom...   \n",
       "45  beta channel order receive updates quicker oth...   \n",
       "17  apache 2 fastcgi setup debianubuntu document d...   \n",
       "34  multithreaded cpu miner litecoin bitcoin fork ...   \n",
       "68  blockchain api library php v1 official php lib...   \n",
       "\n",
       "                                              stemmed  \\\n",
       "29  higer aa1httpswww8btccomwikibitcoinapeertopeer...   \n",
       "63  overview thi code thishttpsyoutubeeqwm8adryg v...   \n",
       "59  ccxt cryptocurr exchang trade librari build st...   \n",
       "14  bitcoin abc logosharepixmapsbitcoinabclogopng ...   \n",
       "37  bitcoinlib net bitcoin altcoin librari featur ...   \n",
       "4   bitcoinj bitcoinjslib github cihttpsgithubcomb...   \n",
       "45  beta channel order receiv updat quicker need e...   \n",
       "17  apach 2 fastcgi setup debianubuntu thi documen...   \n",
       "34  thi multithread cpu miner litecoin bitcoin for...   \n",
       "68  blockchain api librari php v1 offici php libra...   \n",
       "\n",
       "                                           lemmatized  \n",
       "29  higer aa1httpswww8btccomwikibitcoinapeertopeer...  \n",
       "63  overview code thishttpsyoutubeeqwm8adryg video...  \n",
       "59  ccxt cryptocurrency exchange trading library b...  \n",
       "14  bitcoin abc logosharepixmapsbitcoinabclogopng ...  \n",
       "37  bitcoinlib net bitcoin altcoins library featur...  \n",
       "4   bitcoinjs bitcoinjslib github cihttpsgithubcom...  \n",
       "45  beta channel order receive update quicker othe...  \n",
       "17  apache 2 fastcgi setup debianubuntu document d...  \n",
       "34  multithreaded cpu miner litecoin bitcoin fork ...  \n",
       "68  blockchain api library php v1 official php lib...  "
      ]
     },
     "execution_count": 17,
     "metadata": {},
     "output_type": "execute_result"
    }
   ],
   "source": [
    "df = prepare.prep_readme_data(df, 'readme_contents', extra_words=[], exclude_words=[])\n",
    "df.sample(10)"
   ]
  },
  {
   "cell_type": "code",
   "execution_count": 18,
   "id": "42b8d0cb",
   "metadata": {
    "scrolled": true
   },
   "outputs": [
    {
     "data": {
      "text/plain": [
       "(80, 6)"
      ]
     },
     "execution_count": 18,
     "metadata": {},
     "output_type": "execute_result"
    }
   ],
   "source": [
    "df.shape"
   ]
  },
  {
   "cell_type": "code",
   "execution_count": 19,
   "id": "97184baf",
   "metadata": {},
   "outputs": [
    {
     "data": {
      "text/plain": [
       "Index(['repo', 'language', 'readme_contents', 'clean', 'stemmed',\n",
       "       'lemmatized'],\n",
       "      dtype='object')"
      ]
     },
     "execution_count": 19,
     "metadata": {},
     "output_type": "execute_result"
    }
   ],
   "source": [
    "df.columns"
   ]
  },
  {
   "cell_type": "code",
   "execution_count": 20,
   "id": "78a49966",
   "metadata": {},
   "outputs": [
    {
     "data": {
      "text/html": [
       "<div>\n",
       "<style scoped>\n",
       "    .dataframe tbody tr th:only-of-type {\n",
       "        vertical-align: middle;\n",
       "    }\n",
       "\n",
       "    .dataframe tbody tr th {\n",
       "        vertical-align: top;\n",
       "    }\n",
       "\n",
       "    .dataframe thead th {\n",
       "        text-align: right;\n",
       "    }\n",
       "</style>\n",
       "<table border=\"1\" class=\"dataframe\">\n",
       "  <thead>\n",
       "    <tr style=\"text-align: right;\">\n",
       "      <th></th>\n",
       "      <th>repo</th>\n",
       "      <th>language</th>\n",
       "      <th>lemmatized</th>\n",
       "    </tr>\n",
       "  </thead>\n",
       "  <tbody>\n",
       "    <tr>\n",
       "      <th>0</th>\n",
       "      <td>bitcoin/bitcoin</td>\n",
       "      <td>C++</td>\n",
       "      <td>bitcoin core integrationstaging tree httpsbitc...</td>\n",
       "    </tr>\n",
       "    <tr>\n",
       "      <th>1</th>\n",
       "      <td>bitcoinbook/bitcoinbook</td>\n",
       "      <td>AsciiDoc</td>\n",
       "      <td>code example travis_cihttpstravisciorgbitcoinb...</td>\n",
       "    </tr>\n",
       "    <tr>\n",
       "      <th>2</th>\n",
       "      <td>bitcoinj/bitcoinj</td>\n",
       "      <td>Java</td>\n",
       "      <td>github build statushttpsgithubcombitcoinjbitco...</td>\n",
       "    </tr>\n",
       "    <tr>\n",
       "      <th>3</th>\n",
       "      <td>bitcoin/bips</td>\n",
       "      <td>Wikitext</td>\n",
       "      <td>people wishing submit bips first propose idea ...</td>\n",
       "    </tr>\n",
       "    <tr>\n",
       "      <th>4</th>\n",
       "      <td>bitcoinjs/bitcoinjs-lib</td>\n",
       "      <td>TypeScript</td>\n",
       "      <td>bitcoinjs bitcoinjslib github cihttpsgithubcom...</td>\n",
       "    </tr>\n",
       "  </tbody>\n",
       "</table>\n",
       "</div>"
      ],
      "text/plain": [
       "                      repo    language  \\\n",
       "0          bitcoin/bitcoin         C++   \n",
       "1  bitcoinbook/bitcoinbook    AsciiDoc   \n",
       "2        bitcoinj/bitcoinj        Java   \n",
       "3             bitcoin/bips    Wikitext   \n",
       "4  bitcoinjs/bitcoinjs-lib  TypeScript   \n",
       "\n",
       "                                          lemmatized  \n",
       "0  bitcoin core integrationstaging tree httpsbitc...  \n",
       "1  code example travis_cihttpstravisciorgbitcoinb...  \n",
       "2  github build statushttpsgithubcombitcoinjbitco...  \n",
       "3  people wishing submit bips first propose idea ...  \n",
       "4  bitcoinjs bitcoinjslib github cihttpsgithubcom...  "
      ]
     },
     "execution_count": 20,
     "metadata": {},
     "output_type": "execute_result"
    }
   ],
   "source": [
    "df=df.drop(columns=['readme_contents', 'clean', 'stemmed'])\n",
    "df.head()"
   ]
  },
  {
   "cell_type": "code",
   "execution_count": 27,
   "id": "d5b0ff35",
   "metadata": {},
   "outputs": [
    {
     "data": {
      "text/plain": [
       "repo          object\n",
       "language      object\n",
       "lemmatized    object\n",
       "dtype: object"
      ]
     },
     "execution_count": 27,
     "metadata": {},
     "output_type": "execute_result"
    }
   ],
   "source": [
    "df.dtypes"
   ]
  },
  {
   "cell_type": "code",
   "execution_count": 28,
   "id": "37247b9a",
   "metadata": {},
   "outputs": [
    {
     "data": {
      "text/plain": [
       "repo          0\n",
       "language      3\n",
       "lemmatized    0\n",
       "dtype: int64"
      ]
     },
     "execution_count": 28,
     "metadata": {},
     "output_type": "execute_result"
    }
   ],
   "source": [
    "df.isna().sum()"
   ]
  },
  {
   "cell_type": "code",
   "execution_count": 25,
   "id": "da3dcc68",
   "metadata": {},
   "outputs": [
    {
     "ename": "TypeError",
     "evalue": "'<' not supported between instances of 'str' and 'NoneType'",
     "output_type": "error",
     "traceback": [
      "\u001b[0;31m---------------------------------------------------------------------------\u001b[0m",
      "\u001b[0;31mTypeError\u001b[0m                                 Traceback (most recent call last)",
      "\u001b[0;32m<ipython-input-25-2b4980d7515a>\u001b[0m in \u001b[0;36m<module>\u001b[0;34m\u001b[0m\n\u001b[1;32m      2\u001b[0m \u001b[0;32mfrom\u001b[0m \u001b[0msklearn\u001b[0m\u001b[0;34m.\u001b[0m\u001b[0mmodel_selection\u001b[0m \u001b[0;32mimport\u001b[0m \u001b[0mtrain_test_split\u001b[0m\u001b[0;34m\u001b[0m\u001b[0;34m\u001b[0m\u001b[0m\n\u001b[1;32m      3\u001b[0m \u001b[0;31m# Test set is .2 of original dataframe\u001b[0m\u001b[0;34m\u001b[0m\u001b[0;34m\u001b[0m\u001b[0;34m\u001b[0m\u001b[0m\n\u001b[0;32m----> 4\u001b[0;31m \u001b[0mtrain\u001b[0m\u001b[0;34m,\u001b[0m \u001b[0mtest\u001b[0m \u001b[0;34m=\u001b[0m \u001b[0mtrain_test_split\u001b[0m\u001b[0;34m(\u001b[0m\u001b[0mdf\u001b[0m\u001b[0;34m,\u001b[0m \u001b[0mtest_size\u001b[0m \u001b[0;34m=\u001b[0m \u001b[0;36m.2\u001b[0m\u001b[0;34m,\u001b[0m \u001b[0mrandom_state\u001b[0m\u001b[0;34m=\u001b[0m\u001b[0;36m123\u001b[0m\u001b[0;34m,\u001b[0m \u001b[0mstratify\u001b[0m\u001b[0;34m=\u001b[0m \u001b[0mdf\u001b[0m\u001b[0;34m.\u001b[0m\u001b[0mlanguage\u001b[0m\u001b[0;34m)\u001b[0m\u001b[0;34m\u001b[0m\u001b[0;34m\u001b[0m\u001b[0m\n\u001b[0m\u001b[1;32m      5\u001b[0m \u001b[0;31m# The remainder is here divided .7 to train and .3 to validate\u001b[0m\u001b[0;34m\u001b[0m\u001b[0;34m\u001b[0m\u001b[0;34m\u001b[0m\u001b[0m\n\u001b[1;32m      6\u001b[0m \u001b[0mtrain\u001b[0m\u001b[0;34m,\u001b[0m \u001b[0mvalidate\u001b[0m \u001b[0;34m=\u001b[0m \u001b[0mtrain_test_split\u001b[0m\u001b[0;34m(\u001b[0m\u001b[0mtrain\u001b[0m\u001b[0;34m,\u001b[0m \u001b[0mtest_size\u001b[0m\u001b[0;34m=\u001b[0m\u001b[0;36m.3\u001b[0m\u001b[0;34m,\u001b[0m \u001b[0mrandom_state\u001b[0m\u001b[0;34m=\u001b[0m\u001b[0;36m123\u001b[0m\u001b[0;34m,\u001b[0m \u001b[0mstratify\u001b[0m\u001b[0;34m=\u001b[0m \u001b[0mtrain\u001b[0m\u001b[0;34m.\u001b[0m\u001b[0mlanguage\u001b[0m\u001b[0;34m)\u001b[0m\u001b[0;34m\u001b[0m\u001b[0;34m\u001b[0m\u001b[0m\n",
      "\u001b[0;32m/usr/local/anaconda3/lib/python3.8/site-packages/sklearn/model_selection/_split.py\u001b[0m in \u001b[0;36mtrain_test_split\u001b[0;34m(test_size, train_size, random_state, shuffle, stratify, *arrays)\u001b[0m\n\u001b[1;32m   2195\u001b[0m                      random_state=random_state)\n\u001b[1;32m   2196\u001b[0m \u001b[0;34m\u001b[0m\u001b[0m\n\u001b[0;32m-> 2197\u001b[0;31m         \u001b[0mtrain\u001b[0m\u001b[0;34m,\u001b[0m \u001b[0mtest\u001b[0m \u001b[0;34m=\u001b[0m \u001b[0mnext\u001b[0m\u001b[0;34m(\u001b[0m\u001b[0mcv\u001b[0m\u001b[0;34m.\u001b[0m\u001b[0msplit\u001b[0m\u001b[0;34m(\u001b[0m\u001b[0mX\u001b[0m\u001b[0;34m=\u001b[0m\u001b[0marrays\u001b[0m\u001b[0;34m[\u001b[0m\u001b[0;36m0\u001b[0m\u001b[0;34m]\u001b[0m\u001b[0;34m,\u001b[0m \u001b[0my\u001b[0m\u001b[0;34m=\u001b[0m\u001b[0mstratify\u001b[0m\u001b[0;34m)\u001b[0m\u001b[0;34m)\u001b[0m\u001b[0;34m\u001b[0m\u001b[0;34m\u001b[0m\u001b[0m\n\u001b[0m\u001b[1;32m   2198\u001b[0m \u001b[0;34m\u001b[0m\u001b[0m\n\u001b[1;32m   2199\u001b[0m     return list(chain.from_iterable((_safe_indexing(a, train),\n",
      "\u001b[0;32m/usr/local/anaconda3/lib/python3.8/site-packages/sklearn/model_selection/_split.py\u001b[0m in \u001b[0;36msplit\u001b[0;34m(self, X, y, groups)\u001b[0m\n\u001b[1;32m   1385\u001b[0m         \"\"\"\n\u001b[1;32m   1386\u001b[0m         \u001b[0mX\u001b[0m\u001b[0;34m,\u001b[0m \u001b[0my\u001b[0m\u001b[0;34m,\u001b[0m \u001b[0mgroups\u001b[0m \u001b[0;34m=\u001b[0m \u001b[0mindexable\u001b[0m\u001b[0;34m(\u001b[0m\u001b[0mX\u001b[0m\u001b[0;34m,\u001b[0m \u001b[0my\u001b[0m\u001b[0;34m,\u001b[0m \u001b[0mgroups\u001b[0m\u001b[0;34m)\u001b[0m\u001b[0;34m\u001b[0m\u001b[0;34m\u001b[0m\u001b[0m\n\u001b[0;32m-> 1387\u001b[0;31m         \u001b[0;32mfor\u001b[0m \u001b[0mtrain\u001b[0m\u001b[0;34m,\u001b[0m \u001b[0mtest\u001b[0m \u001b[0;32min\u001b[0m \u001b[0mself\u001b[0m\u001b[0;34m.\u001b[0m\u001b[0m_iter_indices\u001b[0m\u001b[0;34m(\u001b[0m\u001b[0mX\u001b[0m\u001b[0;34m,\u001b[0m \u001b[0my\u001b[0m\u001b[0;34m,\u001b[0m \u001b[0mgroups\u001b[0m\u001b[0;34m)\u001b[0m\u001b[0;34m:\u001b[0m\u001b[0;34m\u001b[0m\u001b[0;34m\u001b[0m\u001b[0m\n\u001b[0m\u001b[1;32m   1388\u001b[0m             \u001b[0;32myield\u001b[0m \u001b[0mtrain\u001b[0m\u001b[0;34m,\u001b[0m \u001b[0mtest\u001b[0m\u001b[0;34m\u001b[0m\u001b[0;34m\u001b[0m\u001b[0m\n\u001b[1;32m   1389\u001b[0m \u001b[0;34m\u001b[0m\u001b[0m\n",
      "\u001b[0;32m/usr/local/anaconda3/lib/python3.8/site-packages/sklearn/model_selection/_split.py\u001b[0m in \u001b[0;36m_iter_indices\u001b[0;34m(self, X, y, groups)\u001b[0m\n\u001b[1;32m   1708\u001b[0m             \u001b[0my\u001b[0m \u001b[0;34m=\u001b[0m \u001b[0mnp\u001b[0m\u001b[0;34m.\u001b[0m\u001b[0marray\u001b[0m\u001b[0;34m(\u001b[0m\u001b[0;34m[\u001b[0m\u001b[0;34m' '\u001b[0m\u001b[0;34m.\u001b[0m\u001b[0mjoin\u001b[0m\u001b[0;34m(\u001b[0m\u001b[0mrow\u001b[0m\u001b[0;34m.\u001b[0m\u001b[0mastype\u001b[0m\u001b[0;34m(\u001b[0m\u001b[0;34m'str'\u001b[0m\u001b[0;34m)\u001b[0m\u001b[0;34m)\u001b[0m \u001b[0;32mfor\u001b[0m \u001b[0mrow\u001b[0m \u001b[0;32min\u001b[0m \u001b[0my\u001b[0m\u001b[0;34m]\u001b[0m\u001b[0;34m)\u001b[0m\u001b[0;34m\u001b[0m\u001b[0;34m\u001b[0m\u001b[0m\n\u001b[1;32m   1709\u001b[0m \u001b[0;34m\u001b[0m\u001b[0m\n\u001b[0;32m-> 1710\u001b[0;31m         \u001b[0mclasses\u001b[0m\u001b[0;34m,\u001b[0m \u001b[0my_indices\u001b[0m \u001b[0;34m=\u001b[0m \u001b[0mnp\u001b[0m\u001b[0;34m.\u001b[0m\u001b[0munique\u001b[0m\u001b[0;34m(\u001b[0m\u001b[0my\u001b[0m\u001b[0;34m,\u001b[0m \u001b[0mreturn_inverse\u001b[0m\u001b[0;34m=\u001b[0m\u001b[0;32mTrue\u001b[0m\u001b[0;34m)\u001b[0m\u001b[0;34m\u001b[0m\u001b[0;34m\u001b[0m\u001b[0m\n\u001b[0m\u001b[1;32m   1711\u001b[0m         \u001b[0mn_classes\u001b[0m \u001b[0;34m=\u001b[0m \u001b[0mclasses\u001b[0m\u001b[0;34m.\u001b[0m\u001b[0mshape\u001b[0m\u001b[0;34m[\u001b[0m\u001b[0;36m0\u001b[0m\u001b[0;34m]\u001b[0m\u001b[0;34m\u001b[0m\u001b[0;34m\u001b[0m\u001b[0m\n\u001b[1;32m   1712\u001b[0m \u001b[0;34m\u001b[0m\u001b[0m\n",
      "\u001b[0;32m<__array_function__ internals>\u001b[0m in \u001b[0;36munique\u001b[0;34m(*args, **kwargs)\u001b[0m\n",
      "\u001b[0;32m/usr/local/anaconda3/lib/python3.8/site-packages/numpy/lib/arraysetops.py\u001b[0m in \u001b[0;36munique\u001b[0;34m(ar, return_index, return_inverse, return_counts, axis)\u001b[0m\n\u001b[1;32m    260\u001b[0m     \u001b[0mar\u001b[0m \u001b[0;34m=\u001b[0m \u001b[0mnp\u001b[0m\u001b[0;34m.\u001b[0m\u001b[0masanyarray\u001b[0m\u001b[0;34m(\u001b[0m\u001b[0mar\u001b[0m\u001b[0;34m)\u001b[0m\u001b[0;34m\u001b[0m\u001b[0;34m\u001b[0m\u001b[0m\n\u001b[1;32m    261\u001b[0m     \u001b[0;32mif\u001b[0m \u001b[0maxis\u001b[0m \u001b[0;32mis\u001b[0m \u001b[0;32mNone\u001b[0m\u001b[0;34m:\u001b[0m\u001b[0;34m\u001b[0m\u001b[0;34m\u001b[0m\u001b[0m\n\u001b[0;32m--> 262\u001b[0;31m         \u001b[0mret\u001b[0m \u001b[0;34m=\u001b[0m \u001b[0m_unique1d\u001b[0m\u001b[0;34m(\u001b[0m\u001b[0mar\u001b[0m\u001b[0;34m,\u001b[0m \u001b[0mreturn_index\u001b[0m\u001b[0;34m,\u001b[0m \u001b[0mreturn_inverse\u001b[0m\u001b[0;34m,\u001b[0m \u001b[0mreturn_counts\u001b[0m\u001b[0;34m)\u001b[0m\u001b[0;34m\u001b[0m\u001b[0;34m\u001b[0m\u001b[0m\n\u001b[0m\u001b[1;32m    263\u001b[0m         \u001b[0;32mreturn\u001b[0m \u001b[0m_unpack_tuple\u001b[0m\u001b[0;34m(\u001b[0m\u001b[0mret\u001b[0m\u001b[0;34m)\u001b[0m\u001b[0;34m\u001b[0m\u001b[0;34m\u001b[0m\u001b[0m\n\u001b[1;32m    264\u001b[0m \u001b[0;34m\u001b[0m\u001b[0m\n",
      "\u001b[0;32m/usr/local/anaconda3/lib/python3.8/site-packages/numpy/lib/arraysetops.py\u001b[0m in \u001b[0;36m_unique1d\u001b[0;34m(ar, return_index, return_inverse, return_counts)\u001b[0m\n\u001b[1;32m    318\u001b[0m \u001b[0;34m\u001b[0m\u001b[0m\n\u001b[1;32m    319\u001b[0m     \u001b[0;32mif\u001b[0m \u001b[0moptional_indices\u001b[0m\u001b[0;34m:\u001b[0m\u001b[0;34m\u001b[0m\u001b[0;34m\u001b[0m\u001b[0m\n\u001b[0;32m--> 320\u001b[0;31m         \u001b[0mperm\u001b[0m \u001b[0;34m=\u001b[0m \u001b[0mar\u001b[0m\u001b[0;34m.\u001b[0m\u001b[0margsort\u001b[0m\u001b[0;34m(\u001b[0m\u001b[0mkind\u001b[0m\u001b[0;34m=\u001b[0m\u001b[0;34m'mergesort'\u001b[0m \u001b[0;32mif\u001b[0m \u001b[0mreturn_index\u001b[0m \u001b[0;32melse\u001b[0m \u001b[0;34m'quicksort'\u001b[0m\u001b[0;34m)\u001b[0m\u001b[0;34m\u001b[0m\u001b[0;34m\u001b[0m\u001b[0m\n\u001b[0m\u001b[1;32m    321\u001b[0m         \u001b[0maux\u001b[0m \u001b[0;34m=\u001b[0m \u001b[0mar\u001b[0m\u001b[0;34m[\u001b[0m\u001b[0mperm\u001b[0m\u001b[0;34m]\u001b[0m\u001b[0;34m\u001b[0m\u001b[0;34m\u001b[0m\u001b[0m\n\u001b[1;32m    322\u001b[0m     \u001b[0;32melse\u001b[0m\u001b[0;34m:\u001b[0m\u001b[0;34m\u001b[0m\u001b[0;34m\u001b[0m\u001b[0m\n",
      "\u001b[0;31mTypeError\u001b[0m: '<' not supported between instances of 'str' and 'NoneType'"
     ]
    }
   ],
   "source": [
    "# SPLIT\n",
    "from sklearn.model_selection import train_test_split\n",
    "# Test set is .2 of original dataframe\n",
    "train, test = train_test_split(df, test_size = .2, random_state=123, stratify= df.language)\n",
    "# The remainder is here divided .7 to train and .3 to validate\n",
    "train, validate = train_test_split(train, test_size=.3, random_state=123, stratify= train.language)\n",
    "train.shape, validate.shape, test.shape\n"
   ]
  },
  {
   "cell_type": "code",
   "execution_count": 22,
   "id": "10067f60",
   "metadata": {},
   "outputs": [],
   "source": [
    "# train.shape, validate.shape, test.shape"
   ]
  },
  {
   "cell_type": "code",
   "execution_count": 23,
   "id": "ad8e6dba",
   "metadata": {},
   "outputs": [],
   "source": [
    "# X_train = train.drop(columns=['language'])\n",
    "# y_train = pd.DataFrame(train.language, columns=['language'])\n",
    "\n",
    "# X_validate = validate.drop(columns=['language'])\n",
    "# y_validate = pd.DataFrame(validate.language, columns=['language'])\n",
    "\n",
    "# X_test = test.drop(columns=['language'])\n",
    "# y_test = pd.DataFrame(test.language, columns=['language'])\n",
    "\n",
    "# train.shape, validate.shape, test.shape, X_train.shape, y_train.shape, X_validate.shape, y_validate.shape, X_test.shape, y_test.shape\n"
   ]
  },
  {
   "cell_type": "code",
   "execution_count": 24,
   "id": "955ab284",
   "metadata": {},
   "outputs": [
    {
     "ename": "TypeError",
     "evalue": "'<' not supported between instances of 'str' and 'NoneType'",
     "output_type": "error",
     "traceback": [
      "\u001b[0;31m---------------------------------------------------------------------------\u001b[0m",
      "\u001b[0;31mTypeError\u001b[0m                                 Traceback (most recent call last)",
      "\u001b[0;32m<ipython-input-24-25d1975171c8>\u001b[0m in \u001b[0;36m<module>\u001b[0;34m\u001b[0m\n\u001b[1;32m      1\u001b[0m \u001b[0mtrain\u001b[0m\u001b[0;34m,\u001b[0m \u001b[0mvalidate\u001b[0m\u001b[0;34m,\u001b[0m \u001b[0mtest\u001b[0m\u001b[0;34m,\u001b[0m \u001b[0mX_train\u001b[0m\u001b[0;34m,\u001b[0m \u001b[0my_train\u001b[0m\u001b[0;34m,\u001b[0m \u001b[0mX_validate\u001b[0m\u001b[0;34m,\u001b[0m \u001b[0my_validate\u001b[0m\u001b[0;34m,\u001b[0m \u001b[0mX_test\u001b[0m\u001b[0;34m,\u001b[0m \u001b[0my_test\u001b[0m \u001b[0;34m=\u001b[0m\u001b[0;31m \u001b[0m\u001b[0;31m\\\u001b[0m\u001b[0;34m\u001b[0m\u001b[0;34m\u001b[0m\u001b[0m\n\u001b[0;32m----> 2\u001b[0;31m \u001b[0mwrangle\u001b[0m\u001b[0;34m.\u001b[0m\u001b[0msplit_repos\u001b[0m\u001b[0;34m(\u001b[0m\u001b[0mdf\u001b[0m\u001b[0;34m)\u001b[0m\u001b[0;34m\u001b[0m\u001b[0;34m\u001b[0m\u001b[0m\n\u001b[0m",
      "\u001b[0;32m~/codeup-data-science/NLP_Project/Workbooks/wrangle.py\u001b[0m in \u001b[0;36msplit_repos\u001b[0;34m(df)\u001b[0m\n\u001b[1;32m     16\u001b[0m     \u001b[0;31m# SPLIT\u001b[0m\u001b[0;34m\u001b[0m\u001b[0;34m\u001b[0m\u001b[0;34m\u001b[0m\u001b[0m\n\u001b[1;32m     17\u001b[0m     \u001b[0;31m# Test set is .2 of original dataframe\u001b[0m\u001b[0;34m\u001b[0m\u001b[0;34m\u001b[0m\u001b[0;34m\u001b[0m\u001b[0m\n\u001b[0;32m---> 18\u001b[0;31m     \u001b[0mtrain\u001b[0m\u001b[0;34m,\u001b[0m \u001b[0mtest\u001b[0m \u001b[0;34m=\u001b[0m \u001b[0mtrain_test_split\u001b[0m\u001b[0;34m(\u001b[0m\u001b[0mdf\u001b[0m\u001b[0;34m,\u001b[0m \u001b[0mtest_size\u001b[0m \u001b[0;34m=\u001b[0m \u001b[0;36m.2\u001b[0m\u001b[0;34m,\u001b[0m \u001b[0mrandom_state\u001b[0m\u001b[0;34m=\u001b[0m\u001b[0;36m123\u001b[0m\u001b[0;34m,\u001b[0m \u001b[0mstratify\u001b[0m\u001b[0;34m=\u001b[0m \u001b[0mdf\u001b[0m\u001b[0;34m.\u001b[0m\u001b[0mlanguage\u001b[0m\u001b[0;34m)\u001b[0m\u001b[0;34m\u001b[0m\u001b[0;34m\u001b[0m\u001b[0m\n\u001b[0m\u001b[1;32m     19\u001b[0m     \u001b[0;31m# The remainder is here divided .7 to train and .3 to validate\u001b[0m\u001b[0;34m\u001b[0m\u001b[0;34m\u001b[0m\u001b[0;34m\u001b[0m\u001b[0m\n\u001b[1;32m     20\u001b[0m     \u001b[0mtrain\u001b[0m\u001b[0;34m,\u001b[0m \u001b[0mvalidate\u001b[0m \u001b[0;34m=\u001b[0m \u001b[0mtrain_test_split\u001b[0m\u001b[0;34m(\u001b[0m\u001b[0mtrain\u001b[0m\u001b[0;34m,\u001b[0m \u001b[0mtest_size\u001b[0m\u001b[0;34m=\u001b[0m\u001b[0;36m.3\u001b[0m\u001b[0;34m,\u001b[0m \u001b[0mrandom_state\u001b[0m\u001b[0;34m=\u001b[0m\u001b[0;36m123\u001b[0m\u001b[0;34m,\u001b[0m \u001b[0mstratify\u001b[0m\u001b[0;34m=\u001b[0m \u001b[0mtrain\u001b[0m\u001b[0;34m.\u001b[0m\u001b[0mlanguage\u001b[0m\u001b[0;34m)\u001b[0m\u001b[0;34m\u001b[0m\u001b[0;34m\u001b[0m\u001b[0m\n",
      "\u001b[0;32m/usr/local/anaconda3/lib/python3.8/site-packages/sklearn/model_selection/_split.py\u001b[0m in \u001b[0;36mtrain_test_split\u001b[0;34m(test_size, train_size, random_state, shuffle, stratify, *arrays)\u001b[0m\n\u001b[1;32m   2195\u001b[0m                      random_state=random_state)\n\u001b[1;32m   2196\u001b[0m \u001b[0;34m\u001b[0m\u001b[0m\n\u001b[0;32m-> 2197\u001b[0;31m         \u001b[0mtrain\u001b[0m\u001b[0;34m,\u001b[0m \u001b[0mtest\u001b[0m \u001b[0;34m=\u001b[0m \u001b[0mnext\u001b[0m\u001b[0;34m(\u001b[0m\u001b[0mcv\u001b[0m\u001b[0;34m.\u001b[0m\u001b[0msplit\u001b[0m\u001b[0;34m(\u001b[0m\u001b[0mX\u001b[0m\u001b[0;34m=\u001b[0m\u001b[0marrays\u001b[0m\u001b[0;34m[\u001b[0m\u001b[0;36m0\u001b[0m\u001b[0;34m]\u001b[0m\u001b[0;34m,\u001b[0m \u001b[0my\u001b[0m\u001b[0;34m=\u001b[0m\u001b[0mstratify\u001b[0m\u001b[0;34m)\u001b[0m\u001b[0;34m)\u001b[0m\u001b[0;34m\u001b[0m\u001b[0;34m\u001b[0m\u001b[0m\n\u001b[0m\u001b[1;32m   2198\u001b[0m \u001b[0;34m\u001b[0m\u001b[0m\n\u001b[1;32m   2199\u001b[0m     return list(chain.from_iterable((_safe_indexing(a, train),\n",
      "\u001b[0;32m/usr/local/anaconda3/lib/python3.8/site-packages/sklearn/model_selection/_split.py\u001b[0m in \u001b[0;36msplit\u001b[0;34m(self, X, y, groups)\u001b[0m\n\u001b[1;32m   1385\u001b[0m         \"\"\"\n\u001b[1;32m   1386\u001b[0m         \u001b[0mX\u001b[0m\u001b[0;34m,\u001b[0m \u001b[0my\u001b[0m\u001b[0;34m,\u001b[0m \u001b[0mgroups\u001b[0m \u001b[0;34m=\u001b[0m \u001b[0mindexable\u001b[0m\u001b[0;34m(\u001b[0m\u001b[0mX\u001b[0m\u001b[0;34m,\u001b[0m \u001b[0my\u001b[0m\u001b[0;34m,\u001b[0m \u001b[0mgroups\u001b[0m\u001b[0;34m)\u001b[0m\u001b[0;34m\u001b[0m\u001b[0;34m\u001b[0m\u001b[0m\n\u001b[0;32m-> 1387\u001b[0;31m         \u001b[0;32mfor\u001b[0m \u001b[0mtrain\u001b[0m\u001b[0;34m,\u001b[0m \u001b[0mtest\u001b[0m \u001b[0;32min\u001b[0m \u001b[0mself\u001b[0m\u001b[0;34m.\u001b[0m\u001b[0m_iter_indices\u001b[0m\u001b[0;34m(\u001b[0m\u001b[0mX\u001b[0m\u001b[0;34m,\u001b[0m \u001b[0my\u001b[0m\u001b[0;34m,\u001b[0m \u001b[0mgroups\u001b[0m\u001b[0;34m)\u001b[0m\u001b[0;34m:\u001b[0m\u001b[0;34m\u001b[0m\u001b[0;34m\u001b[0m\u001b[0m\n\u001b[0m\u001b[1;32m   1388\u001b[0m             \u001b[0;32myield\u001b[0m \u001b[0mtrain\u001b[0m\u001b[0;34m,\u001b[0m \u001b[0mtest\u001b[0m\u001b[0;34m\u001b[0m\u001b[0;34m\u001b[0m\u001b[0m\n\u001b[1;32m   1389\u001b[0m \u001b[0;34m\u001b[0m\u001b[0m\n",
      "\u001b[0;32m/usr/local/anaconda3/lib/python3.8/site-packages/sklearn/model_selection/_split.py\u001b[0m in \u001b[0;36m_iter_indices\u001b[0;34m(self, X, y, groups)\u001b[0m\n\u001b[1;32m   1708\u001b[0m             \u001b[0my\u001b[0m \u001b[0;34m=\u001b[0m \u001b[0mnp\u001b[0m\u001b[0;34m.\u001b[0m\u001b[0marray\u001b[0m\u001b[0;34m(\u001b[0m\u001b[0;34m[\u001b[0m\u001b[0;34m' '\u001b[0m\u001b[0;34m.\u001b[0m\u001b[0mjoin\u001b[0m\u001b[0;34m(\u001b[0m\u001b[0mrow\u001b[0m\u001b[0;34m.\u001b[0m\u001b[0mastype\u001b[0m\u001b[0;34m(\u001b[0m\u001b[0;34m'str'\u001b[0m\u001b[0;34m)\u001b[0m\u001b[0;34m)\u001b[0m \u001b[0;32mfor\u001b[0m \u001b[0mrow\u001b[0m \u001b[0;32min\u001b[0m \u001b[0my\u001b[0m\u001b[0;34m]\u001b[0m\u001b[0;34m)\u001b[0m\u001b[0;34m\u001b[0m\u001b[0;34m\u001b[0m\u001b[0m\n\u001b[1;32m   1709\u001b[0m \u001b[0;34m\u001b[0m\u001b[0m\n\u001b[0;32m-> 1710\u001b[0;31m         \u001b[0mclasses\u001b[0m\u001b[0;34m,\u001b[0m \u001b[0my_indices\u001b[0m \u001b[0;34m=\u001b[0m \u001b[0mnp\u001b[0m\u001b[0;34m.\u001b[0m\u001b[0munique\u001b[0m\u001b[0;34m(\u001b[0m\u001b[0my\u001b[0m\u001b[0;34m,\u001b[0m \u001b[0mreturn_inverse\u001b[0m\u001b[0;34m=\u001b[0m\u001b[0;32mTrue\u001b[0m\u001b[0;34m)\u001b[0m\u001b[0;34m\u001b[0m\u001b[0;34m\u001b[0m\u001b[0m\n\u001b[0m\u001b[1;32m   1711\u001b[0m         \u001b[0mn_classes\u001b[0m \u001b[0;34m=\u001b[0m \u001b[0mclasses\u001b[0m\u001b[0;34m.\u001b[0m\u001b[0mshape\u001b[0m\u001b[0;34m[\u001b[0m\u001b[0;36m0\u001b[0m\u001b[0;34m]\u001b[0m\u001b[0;34m\u001b[0m\u001b[0;34m\u001b[0m\u001b[0m\n\u001b[1;32m   1712\u001b[0m \u001b[0;34m\u001b[0m\u001b[0m\n",
      "\u001b[0;32m<__array_function__ internals>\u001b[0m in \u001b[0;36munique\u001b[0;34m(*args, **kwargs)\u001b[0m\n",
      "\u001b[0;32m/usr/local/anaconda3/lib/python3.8/site-packages/numpy/lib/arraysetops.py\u001b[0m in \u001b[0;36munique\u001b[0;34m(ar, return_index, return_inverse, return_counts, axis)\u001b[0m\n\u001b[1;32m    260\u001b[0m     \u001b[0mar\u001b[0m \u001b[0;34m=\u001b[0m \u001b[0mnp\u001b[0m\u001b[0;34m.\u001b[0m\u001b[0masanyarray\u001b[0m\u001b[0;34m(\u001b[0m\u001b[0mar\u001b[0m\u001b[0;34m)\u001b[0m\u001b[0;34m\u001b[0m\u001b[0;34m\u001b[0m\u001b[0m\n\u001b[1;32m    261\u001b[0m     \u001b[0;32mif\u001b[0m \u001b[0maxis\u001b[0m \u001b[0;32mis\u001b[0m \u001b[0;32mNone\u001b[0m\u001b[0;34m:\u001b[0m\u001b[0;34m\u001b[0m\u001b[0;34m\u001b[0m\u001b[0m\n\u001b[0;32m--> 262\u001b[0;31m         \u001b[0mret\u001b[0m \u001b[0;34m=\u001b[0m \u001b[0m_unique1d\u001b[0m\u001b[0;34m(\u001b[0m\u001b[0mar\u001b[0m\u001b[0;34m,\u001b[0m \u001b[0mreturn_index\u001b[0m\u001b[0;34m,\u001b[0m \u001b[0mreturn_inverse\u001b[0m\u001b[0;34m,\u001b[0m \u001b[0mreturn_counts\u001b[0m\u001b[0;34m)\u001b[0m\u001b[0;34m\u001b[0m\u001b[0;34m\u001b[0m\u001b[0m\n\u001b[0m\u001b[1;32m    263\u001b[0m         \u001b[0;32mreturn\u001b[0m \u001b[0m_unpack_tuple\u001b[0m\u001b[0;34m(\u001b[0m\u001b[0mret\u001b[0m\u001b[0;34m)\u001b[0m\u001b[0;34m\u001b[0m\u001b[0;34m\u001b[0m\u001b[0m\n\u001b[1;32m    264\u001b[0m \u001b[0;34m\u001b[0m\u001b[0m\n",
      "\u001b[0;32m/usr/local/anaconda3/lib/python3.8/site-packages/numpy/lib/arraysetops.py\u001b[0m in \u001b[0;36m_unique1d\u001b[0;34m(ar, return_index, return_inverse, return_counts)\u001b[0m\n\u001b[1;32m    318\u001b[0m \u001b[0;34m\u001b[0m\u001b[0m\n\u001b[1;32m    319\u001b[0m     \u001b[0;32mif\u001b[0m \u001b[0moptional_indices\u001b[0m\u001b[0;34m:\u001b[0m\u001b[0;34m\u001b[0m\u001b[0;34m\u001b[0m\u001b[0m\n\u001b[0;32m--> 320\u001b[0;31m         \u001b[0mperm\u001b[0m \u001b[0;34m=\u001b[0m \u001b[0mar\u001b[0m\u001b[0;34m.\u001b[0m\u001b[0margsort\u001b[0m\u001b[0;34m(\u001b[0m\u001b[0mkind\u001b[0m\u001b[0;34m=\u001b[0m\u001b[0;34m'mergesort'\u001b[0m \u001b[0;32mif\u001b[0m \u001b[0mreturn_index\u001b[0m \u001b[0;32melse\u001b[0m \u001b[0;34m'quicksort'\u001b[0m\u001b[0;34m)\u001b[0m\u001b[0;34m\u001b[0m\u001b[0;34m\u001b[0m\u001b[0m\n\u001b[0m\u001b[1;32m    321\u001b[0m         \u001b[0maux\u001b[0m \u001b[0;34m=\u001b[0m \u001b[0mar\u001b[0m\u001b[0;34m[\u001b[0m\u001b[0mperm\u001b[0m\u001b[0;34m]\u001b[0m\u001b[0;34m\u001b[0m\u001b[0;34m\u001b[0m\u001b[0m\n\u001b[1;32m    322\u001b[0m     \u001b[0;32melse\u001b[0m\u001b[0;34m:\u001b[0m\u001b[0;34m\u001b[0m\u001b[0;34m\u001b[0m\u001b[0m\n",
      "\u001b[0;31mTypeError\u001b[0m: '<' not supported between instances of 'str' and 'NoneType'"
     ]
    }
   ],
   "source": [
    "train, validate, test, X_train, y_train, X_validate, y_validate, X_test, y_test = \\\n",
    "wrangle.split_repos(df)"
   ]
  },
  {
   "cell_type": "code",
   "execution_count": null,
   "id": "756a47c1",
   "metadata": {},
   "outputs": [],
   "source": [
    "df.language.value_counts(normalize = True)"
   ]
  },
  {
   "cell_type": "code",
   "execution_count": null,
   "id": "e1262725",
   "metadata": {},
   "outputs": [],
   "source": [
    "df[df.language=='Wikitext']"
   ]
  },
  {
   "cell_type": "code",
   "execution_count": null,
   "id": "19e3a7ec",
   "metadata": {},
   "outputs": [],
   "source": [
    "# combine all contents in single string by language\n",
    "\n",
    "from prepare import *\n",
    "\n",
    "java_words = basic_clean(' '.join(df[df.language == 'Java'].readme_contents))\n",
    "c_plus_plus_words = basic_clean(' '.join(df[df.language == 'C++'].readme_contents))\n",
    "wiki_words = basic_clean(' '.join(train[train.language == 'Wikitext'].readme_contents))\n",
    "type_words = basic_clean(' '.join(df[df.language == 'TypeScript'].readme_contents))\n",
    "c_words = basic_clean(' '.join(df[df.language == 'C'].readme_contents))\n",
    "ascii_words = basic_clean(' '.join(df[df.language == 'AsciiDoc'].readme_contents))\n",
    "python_words = basic_clean(' '.join(df[df.language == 'Python'].readme_contents))\n",
    "html_words = basic_clean(' '.join(df[df.language == 'HTML'].readme_contents))\n",
    "all_words = basic_clean(' '.join(df.readme_contents))"
   ]
  },
  {
   "cell_type": "code",
   "execution_count": null,
   "id": "2c028c89",
   "metadata": {},
   "outputs": [],
   "source": [
    "java = pd.DataFrame(pd.Series(java_words.split()))\n",
    "c_plus_plus = pd.DataFrame(pd.Series(c_plus_plus_words.split()))"
   ]
  },
  {
   "cell_type": "code",
   "execution_count": null,
   "id": "af9baeaf",
   "metadata": {},
   "outputs": [],
   "source": [
    "# temp = pd.DataFrame({})\n",
    "# temp\n",
    "# temp['java']=java\n",
    "# temp['c_plus_plus']=c_plus_plus"
   ]
  },
  {
   "cell_type": "code",
   "execution_count": null,
   "id": "cc77cb94",
   "metadata": {},
   "outputs": [],
   "source": [
    "java.shape, c_plus_plus.shape"
   ]
  },
  {
   "cell_type": "code",
   "execution_count": null,
   "id": "53b12f68",
   "metadata": {},
   "outputs": [],
   "source": [
    "languages_words_list = [\n",
    "java_words,\n",
    "c_plus_plus__words,\n",
    "wiki_words,\n",
    "type_words,\n",
    "c_words,\n",
    "ascii_words,\n",
    "python_words,\n",
    "html_words\n",
    "]\n"
   ]
  },
  {
   "cell_type": "code",
   "execution_count": null,
   "id": "2d4f12a0",
   "metadata": {},
   "outputs": [],
   "source": [
    "# represent contents as word frequencies\n",
    "\n",
    "java_freq = pd.Series(java_words.split()).value_counts()\n",
    "c_plus_plus_freq = pd.Series(c_plus_plus__words.split()).value_counts()\n",
    "wiki_freq = pd.Series(wiki_words.split()).value_counts()\n",
    "type_freq = pd.Series(type_words.split()).value_counts()\n",
    "c_freq = pd.Series(c_words.split()).value_counts()\n",
    "ascii_freq = pd.Series(ascii_words.split()).value_counts()\n",
    "python_freq = pd.Series(python_words.split()).value_counts()\n",
    "html_freq = pd.Series(html_words.split()).value_counts()\n",
    "\n",
    "all_freq = pd.Series(all_words.split()).value_counts()\n"
   ]
  },
  {
   "cell_type": "code",
   "execution_count": null,
   "id": "adff6ab0",
   "metadata": {
    "scrolled": true
   },
   "outputs": [],
   "source": [
    "\n",
    "word_counts = pd.concat([java_freq, c_plus_plus_freq, wiki_freq, type_freq,c_freq, ascii_freq, python_freq, html_freq, all_freq], axis=1).fillna(0).astype(int)\n",
    "word_counts.columns = ['Java', 'C++', 'Wiki', 'Type', 'C', 'ASCII', 'Python', 'HTML', 'ALL']\n",
    "word_counts.head()"
   ]
  },
  {
   "cell_type": "code",
   "execution_count": null,
   "id": "d44e3b33",
   "metadata": {},
   "outputs": [],
   "source": [
    "java_words_series = pd.Series(java_words.split())\n",
    "java_words_series.value_counts()"
   ]
  },
  {
   "cell_type": "code",
   "execution_count": null,
   "id": "8dd9c24c",
   "metadata": {},
   "outputs": [],
   "source": []
  },
  {
   "cell_type": "markdown",
   "id": "c5588de6",
   "metadata": {},
   "source": [
    "### Wordcloud is a pip install--for reproducibility"
   ]
  },
  {
   "cell_type": "code",
   "execution_count": null,
   "id": "d7c7c8ac",
   "metadata": {},
   "outputs": [],
   "source": [
    "img = WordCloud(background_color='white', width=800, height=600).generate(all_words)\n",
    "plt.imshow(img)\n",
    "plt.axis('off');"
   ]
  },
  {
   "cell_type": "code",
   "execution_count": null,
   "id": "8ee789d7",
   "metadata": {},
   "outputs": [],
   "source": [
    "for language in languages_words_list:\n",
    "    bigrams = pd.Series(nltk.bigrams(language.split())).value_counts().head(20)\n",
    "\n",
    "\n",
    "    data = {k[0] + ' ' + k[1]: v for k, v in bigrams.to_dict().items()}\n",
    "    img = WordCloud(background_color='white', width=800, height=400).generate_from_frequencies(data)\n",
    "    plt.figure(figsize=(8, 4))\n",
    "    plt.imshow(img)\n",
    "    plt.axis('off')\n",
    "    plt.show()"
   ]
  },
  {
   "cell_type": "code",
   "execution_count": null,
   "id": "19df8773",
   "metadata": {},
   "outputs": [],
   "source": [
    "# # value_counts bc we want the most commonly occuring bigrams at the forefront\n",
    "# java_bigrams = pd.Series(nltk.bigrams(java_words.split())).value_counts().head(20)\n",
    "\n",
    "\n",
    "# data = {k[0] + ' ' + k[1]: v for k, v in java_bigrams.to_dict().items()}\n",
    "# img = WordCloud(background_color='white', width=800, height=400).generate_from_frequencies(data)\n",
    "# plt.figure(figsize=(8, 4))\n",
    "# plt.imshow(img)\n",
    "# plt.axis('off')\n",
    "# plt.show()"
   ]
  },
  {
   "cell_type": "code",
   "execution_count": null,
   "id": "f89e6e85",
   "metadata": {},
   "outputs": [],
   "source": [
    "# # value_counts bc we want the most commonly occuring bigrams at the forefront\n",
    "# java_trigrams = pd.Series(nltk.trigrams(java_words.split())).value_counts().head(20)\n",
    "\n",
    "\n",
    "# data = {k[0] + ' ' + k[1] + ' ' + k[2]: v for k, v in java_trigrams.to_dict().items()}\n",
    "# img = WordCloud(background_color='white', width=800, height=400).generate_from_frequencies(data)\n",
    "# plt.figure(figsize=(8, 4))\n",
    "# plt.imshow(img)\n",
    "# plt.axis('off')\n",
    "# plt.show()"
   ]
  },
  {
   "cell_type": "markdown",
   "id": "6b5c720a",
   "metadata": {},
   "source": [
    "- I'm not a huge fan of the trigrams viz, maybe the bigrams loop.  \n",
    "- Also, there are no words in the wiki words set"
   ]
  },
  {
   "cell_type": "code",
   "execution_count": null,
   "id": "aab6e902",
   "metadata": {
    "scrolled": true
   },
   "outputs": [],
   "source": [
    "plt.figure(figsize=(20, 9))\n",
    "plt.rc('font', size=12)\n",
    "\n",
    "(word_counts.sort_values('ALL', ascending=False)\n",
    " .head(20)\n",
    " .apply(lambda row: row/row['ALL'], axis = 1)\n",
    " .drop(columns = 'ALL')\n",
    " .sort_values(by = 'Wiki')\n",
    " .plot.barh(stacked = True, width = 1, ec = 'k')\n",
    ")\n",
    "plt.title('% of Wikitext vs all for the most common 20 words')\n",
    "plt.legend(bbox_to_anchor=(1.05, 1), loc='upper left', borderaxespad=0);"
   ]
  },
  {
   "cell_type": "markdown",
   "id": "7bcaa75a",
   "metadata": {},
   "source": [
    "#### Networkx has to be installed using pip or conda"
   ]
  },
  {
   "cell_type": "code",
   "execution_count": null,
   "id": "b3f0617a",
   "metadata": {},
   "outputs": [],
   "source": [
    "import networkx as nx\n",
    "import plotly.graph_objects as go"
   ]
  },
  {
   "cell_type": "code",
   "execution_count": null,
   "id": "5ef564b4",
   "metadata": {},
   "outputs": [],
   "source": [
    "G = nx.Graph()\n",
    "G.add_edge('A', 'B', weight=4)\n",
    "G.add_edge('B', 'D', weight=2)\n",
    "G.add_edge('A', 'C', weight=3)\n",
    "G.add_edge('C', 'D', weight=4)\n",
    "nx.shortest_path(G, 'A', 'D', weight='weight')\n",
    "['A', 'B', 'D']"
   ]
  },
  {
   "cell_type": "code",
   "execution_count": null,
   "id": "eaa26f8c",
   "metadata": {},
   "outputs": [],
   "source": [
    "# Build a dataframe with 4 connections\n",
    "sample = pd.DataFrame({ 'from':['A', 'B', 'C','A'], 'to':['D', 'A', 'E','C']})\n",
    " \n",
    "# Build your graph\n",
    "G=nx.from_pandas_edgelist(sample, 'from', 'to')\n",
    " \n",
    "# Plot it\n",
    "nx.draw(G, with_labels=True)\n",
    "plt.show()"
   ]
  },
  {
   "cell_type": "code",
   "execution_count": null,
   "id": "f50e4844",
   "metadata": {},
   "outputs": [],
   "source": [
    "G = nx.random_geometric_graph(200, 0.125,seed=None)"
   ]
  },
  {
   "cell_type": "code",
   "execution_count": null,
   "id": "12aef6e0",
   "metadata": {},
   "outputs": [],
   "source": [
    "# G.edges\n",
    "G.nodes"
   ]
  },
  {
   "cell_type": "code",
   "execution_count": null,
   "id": "c7d4f13f",
   "metadata": {},
   "outputs": [],
   "source": [
    "edge_x = []\n",
    "edge_y = []\n",
    "for edge in G.edges():\n",
    "    x0, y0 = G.nodes[edge[0]]['pos']\n",
    "    x1, y1 = G.nodes[edge[1]]['pos']\n",
    "    edge_x.append(x0)\n",
    "    edge_x.append(x1)\n",
    "    edge_x.append(None)\n",
    "    edge_y.append(y0)\n",
    "    edge_y.append(y1)\n",
    "    edge_y.append(None)\n",
    "\n",
    "edge_trace = go.Scatter(\n",
    "    x=edge_x, y=edge_y,\n",
    "    line=dict(width=0.5, color='#888'),\n",
    "    hoverinfo='none',\n",
    "    mode='lines')\n",
    "\n",
    "node_x = []\n",
    "node_y = []\n",
    "for node in G.nodes():\n",
    "    x, y = G.nodes[node]['pos']\n",
    "    node_x.append(x)\n",
    "    node_y.append(y)\n",
    "\n",
    "node_trace = go.Scatter(\n",
    "    x=node_x, y=node_y,\n",
    "    mode='markers',\n",
    "    hoverinfo='text',\n",
    "    marker=dict(\n",
    "        showscale=True,\n",
    "        # colorscale options\n",
    "        #'Greys' | 'YlGnBu' | 'Greens' | 'YlOrRd' | 'Bluered' | 'RdBu' |\n",
    "        #'Reds' | 'Blues' | 'Picnic' | 'Rainbow' | 'Portland' | 'Jet' |\n",
    "        #'Hot' | 'Blackbody' | 'Earth' | 'Electric' | 'Viridis' |\n",
    "        colorscale='YlGnBu',\n",
    "        reversescale=True,\n",
    "        color=[],\n",
    "        size=10,\n",
    "        colorbar=dict(\n",
    "            thickness=15,\n",
    "            title='Node Connections',\n",
    "            xanchor='left',\n",
    "            titleside='right'\n",
    "        ),\n",
    "        line_width=2))"
   ]
  },
  {
   "cell_type": "code",
   "execution_count": null,
   "id": "ab7c7f75",
   "metadata": {},
   "outputs": [],
   "source": [
    "node_adjacencies = []\n",
    "node_text = []\n",
    "for node, adjacencies in enumerate(G.adjacency()):\n",
    "    node_adjacencies.append(len(adjacencies[1]))\n",
    "    node_text.append('# of connections: '+str(len(adjacencies[1])))\n",
    "\n",
    "node_trace.marker.color = node_adjacencies\n",
    "node_trace.text = node_text"
   ]
  },
  {
   "cell_type": "code",
   "execution_count": null,
   "id": "eef95e83",
   "metadata": {
    "scrolled": true
   },
   "outputs": [],
   "source": [
    "fig = go.Figure(data=[edge_trace, node_trace],\n",
    "             layout=go.Layout(\n",
    "                title='<br>Network graph made with Python',\n",
    "                titlefont_size=16,\n",
    "                showlegend=False,\n",
    "                hovermode='closest',\n",
    "                margin=dict(b=20,l=5,r=5,t=40),\n",
    "                annotations=[ dict(\n",
    "                    text=\"Python code: <a href='https://plotly.com/ipython-notebooks/network-graphs/'> https://plotly.com/ipython-notebooks/network-graphs/</a>\",\n",
    "                    showarrow=False,\n",
    "                    xref=\"paper\", yref=\"paper\",\n",
    "                    x=0.005, y=-0.002 ) ],\n",
    "                xaxis=dict(showgrid=False, zeroline=False, showticklabels=False),\n",
    "                yaxis=dict(showgrid=False, zeroline=False, showticklabels=False))\n",
    "                )\n",
    "fig.show()"
   ]
  },
  {
   "cell_type": "code",
   "execution_count": null,
   "id": "62184201",
   "metadata": {},
   "outputs": [],
   "source": [
    "G=nx.Graph()"
   ]
  },
  {
   "cell_type": "code",
   "execution_count": null,
   "id": "34ad6a58",
   "metadata": {},
   "outputs": [],
   "source": [
    "# java_words = basic_clean(' '.join(df[df.language == 'Java'].readme_contents))\n",
    "# c_plus_plus__words = basic_clean(' '.join(df[df.language == 'C++'].readme_contents))\n",
    "# wiki_words = basic_clean(' '.join(train[train.language == 'Wikitext'].readme_contents))\n",
    "# type_words = basic_clean(' '.join(df[df.language == 'TypeScript'].readme_contents))\n",
    "# c_words = basic_clean(' '.join(df[df.language == 'C'].readme_contents))\n",
    "# ascii_words = basic_clean(' '.join(df[df.language == 'AsciiDoc'].readme_contents))\n",
    "# python_words = basic_clean(' '.join(df[df.language == 'Python'].readme_contents))\n",
    "# html_words = basic_clean(' '.join(df[df.language == 'HTML'].readme_contents))"
   ]
  },
  {
   "cell_type": "code",
   "execution_count": null,
   "id": "fed69607",
   "metadata": {},
   "outputs": [],
   "source": [
    "G.add_edge(java_words)\n",
    "G.add_edge(c_plus_plus__words)\n",
    "G.add_edge(wiki_words)\n",
    "G.add_edge(type_words)\n",
    "G.add_edge(c_words)\n",
    "G.add_edge(ascii_words)\n",
    "G.add_edge(python_words)\n",
    "G.add_edge(html_words)"
   ]
  },
  {
   "cell_type": "code",
   "execution_count": null,
   "id": "498791a8",
   "metadata": {},
   "outputs": [],
   "source": [
    "G.nodes"
   ]
  },
  {
   "cell_type": "code",
   "execution_count": null,
   "id": "869432ff",
   "metadata": {
    "scrolled": true
   },
   "outputs": [],
   "source": [
    "G.add_edges_from(all_words)"
   ]
  },
  {
   "cell_type": "code",
   "execution_count": null,
   "id": "317dc919",
   "metadata": {},
   "outputs": [],
   "source": []
  }
 ],
 "metadata": {
  "kernelspec": {
   "display_name": "Python 3",
   "language": "python",
   "name": "python3"
  },
  "language_info": {
   "codemirror_mode": {
    "name": "ipython",
    "version": 3
   },
   "file_extension": ".py",
   "mimetype": "text/x-python",
   "name": "python",
   "nbconvert_exporter": "python",
   "pygments_lexer": "ipython3",
   "version": "3.8.8"
  }
 },
 "nbformat": 4,
 "nbformat_minor": 5
}
