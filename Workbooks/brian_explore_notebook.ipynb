{
 "cells": [
  {
   "cell_type": "code",
   "execution_count": null,
   "id": "db894a08",
   "metadata": {},
   "outputs": [],
   "source": [
    "import matplotlib.pyplot as plt\n",
    "import seaborn as sns\n",
    "import pandas as pd\n",
    "import nltk\n",
    "import unicodedata\n",
    "import re\n",
    "import env\n",
    "# import acquire\n",
    "import prepare\n",
    "import wrangle\n",
    "from wordcloud import WordCloud\n",
    "import nltk.sentiment\n",
    "pd.set_option('display.max_colwidth', None)\n",
    "from time import strftime\n",
    "import numpy as np\n",
    "import requests\n",
    "from bs4 import BeautifulSoup\n",
    "import time\n",
    "import os"
   ]
  },
  {
   "cell_type": "code",
   "execution_count": null,
   "id": "5a7b710c",
   "metadata": {},
   "outputs": [],
   "source": [
    "# df=acquire.make_json(cached=True)\n",
    "df = pd.read_json('repo_readmes.json')\n",
    "df.head()"
   ]
  },
  {
   "cell_type": "code",
   "execution_count": null,
   "id": "b5dc6f3f",
   "metadata": {},
   "outputs": [],
   "source": [
    "df.shape"
   ]
  },
  {
   "cell_type": "code",
   "execution_count": null,
   "id": "ee673f48",
   "metadata": {},
   "outputs": [],
   "source": [
    "df.info()"
   ]
  },
  {
   "cell_type": "code",
   "execution_count": null,
   "id": "d374795c",
   "metadata": {},
   "outputs": [],
   "source": [
    "# # SPLIT\n",
    "# from sklearn.model_selection import train_test_split\n",
    "# # Test set is .2 of original dataframe\n",
    "# train, test = train_test_split(df, test_size = .2, random_state=123, stratify= df.language)\n",
    "# # The remainder is here divided .7 to train and .3 to validate\n",
    "# train, validate = train_test_split(train, test_size=.3, random_state=123, stratify= train.language)\n",
    "# train.shape, validate.shape, test.shape\n"
   ]
  },
  {
   "cell_type": "code",
   "execution_count": null,
   "id": "89a9383f",
   "metadata": {},
   "outputs": [],
   "source": [
    "# train.shape, validate.shape, test.shape"
   ]
  },
  {
   "cell_type": "code",
   "execution_count": null,
   "id": "80d1bb44",
   "metadata": {},
   "outputs": [],
   "source": [
    "# X_train = train.drop(columns=['language'])\n",
    "# y_train = pd.DataFrame(train.language, columns=['language'])\n",
    "\n",
    "# X_validate = validate.drop(columns=['language'])\n",
    "# y_validate = pd.DataFrame(validate.language, columns=['language'])\n",
    "\n",
    "# X_test = test.drop(columns=['language'])\n",
    "# y_test = pd.DataFrame(test.language, columns=['language'])\n",
    "\n",
    "# train.shape, validate.shape, test.shape, X_train.shape, y_train.shape, X_validate.shape, y_validate.shape, X_test.shape, y_test.shape\n"
   ]
  },
  {
   "cell_type": "code",
   "execution_count": null,
   "id": "62922e87",
   "metadata": {},
   "outputs": [],
   "source": [
    "train, validate, test, X_train, y_train, X_validate, y_validate, X_test, y_test = \\\n",
    "wrangle.split_repos(df)"
   ]
  }
 ],
 "metadata": {
  "kernelspec": {
   "display_name": "Python 3",
   "language": "python",
   "name": "python3"
  },
  "language_info": {
   "codemirror_mode": {
    "name": "ipython",
    "version": 3
   },
   "file_extension": ".py",
   "mimetype": "text/x-python",
   "name": "python",
   "nbconvert_exporter": "python",
   "pygments_lexer": "ipython3",
   "version": "3.8.8"
  }
 },
 "nbformat": 4,
 "nbformat_minor": 5
}
