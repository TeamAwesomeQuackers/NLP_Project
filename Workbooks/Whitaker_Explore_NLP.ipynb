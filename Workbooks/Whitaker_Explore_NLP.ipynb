{
 "cells": [
  {
   "cell_type": "markdown",
   "id": "eb6387ac",
   "metadata": {},
   "source": [
    "## Chloe's Explore Notebook for the NLP Group Project"
   ]
  },
  {
   "cell_type": "markdown",
   "id": "b0c11117",
   "metadata": {},
   "source": [
    "### Imports"
   ]
  },
  {
   "cell_type": "code",
   "execution_count": 1,
   "id": "bb468d11",
   "metadata": {},
   "outputs": [],
   "source": [
    "import pandas as pd\n",
    "import numpy as np\n",
    "\n",
    "# Scraping\n",
    "import requests\n",
    "from bs4 import BeautifulSoup\n",
    "\n",
    "import nltk\n",
    "from nltk.tokenize.toktok import ToktokTokenizer\n",
    "from nltk.corpus import stopwords\n",
    "import nltk.sentiment\n",
    "\n",
    "from wordcloud import WordCloud\n",
    "\n",
    "# Regex\n",
    "import re\n",
    "\n",
    "# Time\n",
    "from time import strftime\n",
    "\n",
    "import unicodedata\n",
    "import json\n",
    "from pprint import pprint\n",
    "\n",
    "# Visualizations\n",
    "import matplotlib.pyplot as plt\n",
    "import seaborn as sns\n",
    "\n",
    "# Custom Imports\n",
    "import acquire \n",
    "from prepare import *\n",
    "\n",
    "# Turn off pink boxes for demo\n",
    "import warnings\n",
    "warnings.filterwarnings(\"ignore\")\n",
    "\n",
    "# pd.set_option('display.max_colwidth', -1)"
   ]
  },
  {
   "cell_type": "markdown",
   "id": "7be94cd0",
   "metadata": {},
   "source": [
    "### Acquire"
   ]
  },
  {
   "cell_type": "code",
   "execution_count": 2,
   "id": "49fe33da",
   "metadata": {},
   "outputs": [],
   "source": [
    "# acquire.scrape_github_data()"
   ]
  },
  {
   "cell_type": "code",
   "execution_count": 3,
   "id": "d68867de",
   "metadata": {},
   "outputs": [],
   "source": [
    "# df = pd.DataFrame(acquire.scrape_github_data(),columns=['repo','language','readme_contents'])\n",
    "# df.head()\n"
   ]
  },
  {
   "cell_type": "code",
   "execution_count": 4,
   "id": "1fd55a8c",
   "metadata": {},
   "outputs": [],
   "source": [
    "df = pd.read_json('repo_readmes.json')"
   ]
  },
  {
   "cell_type": "code",
   "execution_count": 5,
   "id": "b6925e9d",
   "metadata": {},
   "outputs": [
    {
     "data": {
      "text/plain": [
       "(960, 3)"
      ]
     },
     "execution_count": 5,
     "metadata": {},
     "output_type": "execute_result"
    }
   ],
   "source": [
    "df.shape"
   ]
  },
  {
   "cell_type": "code",
   "execution_count": 6,
   "id": "44536a89",
   "metadata": {},
   "outputs": [
    {
     "name": "stdout",
     "output_type": "stream",
     "text": [
      "                              repo    language  \\\n",
      "0                  bitcoin/bitcoin         C++   \n",
      "1          bitcoinbook/bitcoinbook    AsciiDoc   \n",
      "2                bitcoinj/bitcoinj        Java   \n",
      "3                     bitcoin/bips    Wikitext   \n",
      "4          bitcoinjs/bitcoinjs-lib  TypeScript   \n",
      "..                             ...         ...   \n",
      "955              spesmilo/electrum      Python   \n",
      "956  bitcoin-wallet/bitcoin-wallet        Java   \n",
      "957        etotheipi/BitcoinArmory         C++   \n",
      "958    bitcoin-dot-org/Bitcoin.org        HTML   \n",
      "959               jgarzik/cpuminer           C   \n",
      "\n",
      "                                       readme_contents  \n",
      "0    Bitcoin Core integration/staging tree\\n=======...  \n",
      "1    Code Examples: ![travis_ci](https://travis-ci....  \n",
      "2    [![Github Build Status](https://github.com/bit...  \n",
      "3    People wishing to submit BIPs, first should pr...  \n",
      "4    # BitcoinJS (bitcoinjs-lib)\\n[![Github CI](htt...  \n",
      "..                                                 ...  \n",
      "955  Electrum - Lightweight Bitcoin client\\n=======...  \n",
      "956  # BITCOIN WALLET\\n\\nWelcome to _Bitcoin Wallet...  \n",
      "957  ##Armory\\n\\n**Created by Alan Reiner on 13 Jul...  \n",
      "958  # Welcome to Bitcoin.org's Codebase\\n\\nCurrent...  \n",
      "959  \\nThis is a multi-threaded CPU miner for bitco...  \n",
      "\n",
      "[960 rows x 3 columns]\n"
     ]
    }
   ],
   "source": [
    "original = pd.read_json('repo_readmes.json')\n",
    "print(original)"
   ]
  },
  {
   "cell_type": "markdown",
   "id": "bfbfdf55",
   "metadata": {},
   "source": [
    "### Prepare"
   ]
  },
  {
   "cell_type": "code",
   "execution_count": 7,
   "id": "83a244b4",
   "metadata": {},
   "outputs": [
    {
     "data": {
      "text/html": [
       "<div>\n",
       "<style scoped>\n",
       "    .dataframe tbody tr th:only-of-type {\n",
       "        vertical-align: middle;\n",
       "    }\n",
       "\n",
       "    .dataframe tbody tr th {\n",
       "        vertical-align: top;\n",
       "    }\n",
       "\n",
       "    .dataframe thead th {\n",
       "        text-align: right;\n",
       "    }\n",
       "</style>\n",
       "<table border=\"1\" class=\"dataframe\">\n",
       "  <thead>\n",
       "    <tr style=\"text-align: right;\">\n",
       "      <th></th>\n",
       "      <th>repo</th>\n",
       "      <th>language</th>\n",
       "      <th>readme_contents</th>\n",
       "    </tr>\n",
       "  </thead>\n",
       "  <tbody>\n",
       "    <tr>\n",
       "      <th>0</th>\n",
       "      <td>bitcoin/bitcoin</td>\n",
       "      <td>C++</td>\n",
       "      <td>Bitcoin Core integration/staging tree\\n=======...</td>\n",
       "    </tr>\n",
       "    <tr>\n",
       "      <th>1</th>\n",
       "      <td>bitcoinbook/bitcoinbook</td>\n",
       "      <td>AsciiDoc</td>\n",
       "      <td>Code Examples: ![travis_ci](https://travis-ci....</td>\n",
       "    </tr>\n",
       "    <tr>\n",
       "      <th>2</th>\n",
       "      <td>bitcoinj/bitcoinj</td>\n",
       "      <td>Java</td>\n",
       "      <td>[![Github Build Status](https://github.com/bit...</td>\n",
       "    </tr>\n",
       "    <tr>\n",
       "      <th>3</th>\n",
       "      <td>bitcoin/bips</td>\n",
       "      <td>Wikitext</td>\n",
       "      <td>People wishing to submit BIPs, first should pr...</td>\n",
       "    </tr>\n",
       "    <tr>\n",
       "      <th>4</th>\n",
       "      <td>bitcoinjs/bitcoinjs-lib</td>\n",
       "      <td>TypeScript</td>\n",
       "      <td># BitcoinJS (bitcoinjs-lib)\\n[![Github CI](htt...</td>\n",
       "    </tr>\n",
       "  </tbody>\n",
       "</table>\n",
       "</div>"
      ],
      "text/plain": [
       "                      repo    language  \\\n",
       "0          bitcoin/bitcoin         C++   \n",
       "1  bitcoinbook/bitcoinbook    AsciiDoc   \n",
       "2        bitcoinj/bitcoinj        Java   \n",
       "3             bitcoin/bips    Wikitext   \n",
       "4  bitcoinjs/bitcoinjs-lib  TypeScript   \n",
       "\n",
       "                                     readme_contents  \n",
       "0  Bitcoin Core integration/staging tree\\n=======...  \n",
       "1  Code Examples: ![travis_ci](https://travis-ci....  \n",
       "2  [![Github Build Status](https://github.com/bit...  \n",
       "3  People wishing to submit BIPs, first should pr...  \n",
       "4  # BitcoinJS (bitcoinjs-lib)\\n[![Github CI](htt...  "
      ]
     },
     "execution_count": 7,
     "metadata": {},
     "output_type": "execute_result"
    }
   ],
   "source": [
    "df.head()"
   ]
  },
  {
   "cell_type": "code",
   "execution_count": 8,
   "id": "de7970fb",
   "metadata": {},
   "outputs": [],
   "source": [
    "# if you want to see the whole column contents:\n",
    "# pd.set_option('display.max_colwidth', -1)"
   ]
  },
  {
   "cell_type": "code",
   "execution_count": 18,
   "id": "ab8c941a",
   "metadata": {},
   "outputs": [
    {
     "data": {
      "text/plain": [
       "C++           0.2\n",
       "Java          0.2\n",
       "AsciiDoc      0.1\n",
       "TypeScript    0.1\n",
       "C             0.1\n",
       "Wikitext      0.1\n",
       "HTML          0.1\n",
       "Python        0.1\n",
       "Name: language, dtype: float64"
      ]
     },
     "execution_count": 18,
     "metadata": {},
     "output_type": "execute_result"
    }
   ],
   "source": [
    "# how many language observations do we have?\n",
    "\n",
    "df.language.value_counts(normalize = True)"
   ]
  },
  {
   "cell_type": "code",
   "execution_count": 10,
   "id": "1f9d3390",
   "metadata": {},
   "outputs": [
    {
     "name": "stdout",
     "output_type": "stream",
     "text": [
      "<class 'pandas.core.frame.DataFrame'>\n",
      "Int64Index: 960 entries, 0 to 959\n",
      "Data columns (total 3 columns):\n",
      " #   Column           Non-Null Count  Dtype \n",
      "---  ------           --------------  ----- \n",
      " 0   repo             960 non-null    object\n",
      " 1   language         960 non-null    object\n",
      " 2   readme_contents  960 non-null    object\n",
      "dtypes: object(3)\n",
      "memory usage: 30.0+ KB\n"
     ]
    }
   ],
   "source": [
    "df.info()"
   ]
  },
  {
   "cell_type": "markdown",
   "id": "d0bc41d4",
   "metadata": {},
   "source": [
    "Split data since we will be modeling. "
   ]
  },
  {
   "cell_type": "code",
   "execution_count": 11,
   "id": "b14c99a4",
   "metadata": {},
   "outputs": [
    {
     "data": {
      "text/plain": [
       "((537, 3), (231, 3), (192, 3))"
      ]
     },
     "execution_count": 11,
     "metadata": {},
     "output_type": "execute_result"
    }
   ],
   "source": [
    "# SPLIT\n",
    "from sklearn.model_selection import train_test_split\n",
    "# Test set is .2 of original dataframe\n",
    "train, test = train_test_split(df, test_size = .2, random_state=123, stratify= df.language)\n",
    "# The remainder is here divided .7 to train and .3 to validate\n",
    "train, validate = train_test_split(train, test_size=.3, random_state=123, stratify= train.language)\n",
    "train.shape, validate.shape, test.shape"
   ]
  },
  {
   "cell_type": "code",
   "execution_count": 19,
   "id": "f8885818",
   "metadata": {},
   "outputs": [
    {
     "data": {
      "text/plain": [
       "C++           0.199255\n",
       "Java          0.199255\n",
       "TypeScript    0.100559\n",
       "C             0.100559\n",
       "AsciiDoc      0.100559\n",
       "HTML          0.100559\n",
       "Python        0.100559\n",
       "Wikitext      0.098696\n",
       "Name: language, dtype: float64"
      ]
     },
     "execution_count": 19,
     "metadata": {},
     "output_type": "execute_result"
    }
   ],
   "source": [
    "# how many language observations do we have?\n",
    "\n",
    "train.language.value_counts(normalize = True)"
   ]
  },
  {
   "cell_type": "code",
   "execution_count": 20,
   "id": "d7ba6171",
   "metadata": {},
   "outputs": [],
   "source": [
    "# combine all contents in single string by language\n",
    "\n",
    "java_words = basic_clean(' '.join(train[train.language == 'Java'].readme_contents))\n",
    "c_plus_plus__words = basic_clean(' '.join(train[train.language == 'C++'].readme_contents))\n",
    "wiki_words = basic_clean(' '.join(train[train.language == 'Wikitext'].readme_contents))\n",
    "type_words = basic_clean(' '.join(train[train.language == 'TypeScript'].readme_contents))\n",
    "c_words = basic_clean(' '.join(train[train.language == 'C'].readme_contents))\n",
    "ascii_words = basic_clean(' '.join(train[train.language == 'AsciiDoc'].readme_contents))\n",
    "python_words = basic_clean(' '.join(train[train.language == 'Python'].readme_contents))\n",
    "html_words = basic_clean(' '.join(train[train.language == 'HTML'].readme_contents))\n",
    "all_words = basic_clean(' '.join(train.readme_contents))"
   ]
  },
  {
   "cell_type": "code",
   "execution_count": 21,
   "id": "a06cc5ce",
   "metadata": {},
   "outputs": [],
   "source": [
    "# all_words"
   ]
  },
  {
   "cell_type": "markdown",
   "id": "97e7d73c",
   "metadata": {},
   "source": [
    "### Explore"
   ]
  },
  {
   "cell_type": "code",
   "execution_count": 22,
   "id": "f90cf7c7",
   "metadata": {},
   "outputs": [],
   "source": [
    "# represent contents as word frequencies\n",
    "\n",
    "java_freq = pd.Series(java_words.split()).value_counts()\n",
    "c_plus_plus_freq = pd.Series(c_plus_plus__words.split()).value_counts()\n",
    "wiki_freq = pd.Series(wiki_words.split()).value_counts()\n",
    "type_freq = pd.Series(type_words.split()).value_counts()\n",
    "c_freq = pd.Series(c_words.split()).value_counts()\n",
    "ascii_freq = pd.Series(ascii_words.split()).value_counts()\n",
    "python_freq = pd.Series(python_words.split()).value_counts()\n",
    "html_freq = pd.Series(html_words.split()).value_counts()\n",
    "all_freq = pd.Series(all_words.split()).value_counts()"
   ]
  },
  {
   "cell_type": "code",
   "execution_count": 23,
   "id": "bef58da0",
   "metadata": {},
   "outputs": [
    {
     "data": {
      "text/html": [
       "<div>\n",
       "<style scoped>\n",
       "    .dataframe tbody tr th:only-of-type {\n",
       "        vertical-align: middle;\n",
       "    }\n",
       "\n",
       "    .dataframe tbody tr th {\n",
       "        vertical-align: top;\n",
       "    }\n",
       "\n",
       "    .dataframe thead th {\n",
       "        text-align: right;\n",
       "    }\n",
       "</style>\n",
       "<table border=\"1\" class=\"dataframe\">\n",
       "  <thead>\n",
       "    <tr style=\"text-align: right;\">\n",
       "      <th></th>\n",
       "      <th>java</th>\n",
       "      <th>c_plus_plus</th>\n",
       "      <th>wiki</th>\n",
       "      <th>typescript</th>\n",
       "      <th>c</th>\n",
       "      <th>asciidoc</th>\n",
       "      <th>python</th>\n",
       "      <th>html</th>\n",
       "      <th>all</th>\n",
       "    </tr>\n",
       "  </thead>\n",
       "  <tbody>\n",
       "    <tr>\n",
       "      <th>the</th>\n",
       "      <td>2477</td>\n",
       "      <td>2048</td>\n",
       "      <td>530</td>\n",
       "      <td>2106</td>\n",
       "      <td>54</td>\n",
       "      <td>1350</td>\n",
       "      <td>918</td>\n",
       "      <td>432</td>\n",
       "      <td>9915</td>\n",
       "    </tr>\n",
       "    <tr>\n",
       "      <th>and</th>\n",
       "      <td>1263</td>\n",
       "      <td>1397</td>\n",
       "      <td>530</td>\n",
       "      <td>2376</td>\n",
       "      <td>108</td>\n",
       "      <td>594</td>\n",
       "      <td>162</td>\n",
       "      <td>108</td>\n",
       "      <td>6538</td>\n",
       "    </tr>\n",
       "    <tr>\n",
       "      <th>to</th>\n",
       "      <td>1104</td>\n",
       "      <td>1122</td>\n",
       "      <td>318</td>\n",
       "      <td>1458</td>\n",
       "      <td>108</td>\n",
       "      <td>702</td>\n",
       "      <td>486</td>\n",
       "      <td>162</td>\n",
       "      <td>5460</td>\n",
       "    </tr>\n",
       "    <tr>\n",
       "      <th>for</th>\n",
       "      <td>911</td>\n",
       "      <td>1027</td>\n",
       "      <td>1696</td>\n",
       "      <td>918</td>\n",
       "      <td>108</td>\n",
       "      <td>216</td>\n",
       "      <td>162</td>\n",
       "      <td>54</td>\n",
       "      <td>5092</td>\n",
       "    </tr>\n",
       "    <tr>\n",
       "      <th>a</th>\n",
       "      <td>847</td>\n",
       "      <td>474</td>\n",
       "      <td>583</td>\n",
       "      <td>3132</td>\n",
       "      <td>54</td>\n",
       "      <td>972</td>\n",
       "      <td>216</td>\n",
       "      <td>324</td>\n",
       "      <td>6602</td>\n",
       "    </tr>\n",
       "  </tbody>\n",
       "</table>\n",
       "</div>"
      ],
      "text/plain": [
       "     java  c_plus_plus  wiki  typescript    c  asciidoc  python  html   all\n",
       "the  2477         2048   530        2106   54      1350     918   432  9915\n",
       "and  1263         1397   530        2376  108       594     162   108  6538\n",
       "to   1104         1122   318        1458  108       702     486   162  5460\n",
       "for   911         1027  1696         918  108       216     162    54  5092\n",
       "a     847          474   583        3132   54       972     216   324  6602"
      ]
     },
     "execution_count": 23,
     "metadata": {},
     "output_type": "execute_result"
    }
   ],
   "source": [
    "# concat all frequencies together into a dataframe\n",
    "\n",
    "word_counts = pd.concat([java_freq, c_plus_plus_freq, wiki_freq, type_freq, c_freq, ascii_freq, python_freq, html_freq, all_freq], axis=1).fillna(0).astype(int)\n",
    "word_counts.columns = ['java', 'c_plus_plus', 'wiki', 'typescript', 'c', 'asciidoc', 'python', 'html', 'all']\n",
    "word_counts.head()"
   ]
  },
  {
   "cell_type": "markdown",
   "id": "b704a235",
   "metadata": {},
   "source": [
    "- What are the most frequently occuring words? \n",
    "\n",
    "- Are there words that uniquely identify with a certain language's repos? \n"
   ]
  },
  {
   "cell_type": "code",
   "execution_count": 24,
   "id": "7cf1f02d",
   "metadata": {},
   "outputs": [
    {
     "data": {
      "text/html": [
       "<div>\n",
       "<style scoped>\n",
       "    .dataframe tbody tr th:only-of-type {\n",
       "        vertical-align: middle;\n",
       "    }\n",
       "\n",
       "    .dataframe tbody tr th {\n",
       "        vertical-align: top;\n",
       "    }\n",
       "\n",
       "    .dataframe thead th {\n",
       "        text-align: right;\n",
       "    }\n",
       "</style>\n",
       "<table border=\"1\" class=\"dataframe\">\n",
       "  <thead>\n",
       "    <tr style=\"text-align: right;\">\n",
       "      <th></th>\n",
       "      <th>java</th>\n",
       "      <th>c_plus_plus</th>\n",
       "      <th>wiki</th>\n",
       "      <th>typescript</th>\n",
       "      <th>c</th>\n",
       "      <th>asciidoc</th>\n",
       "      <th>python</th>\n",
       "      <th>html</th>\n",
       "      <th>all</th>\n",
       "    </tr>\n",
       "  </thead>\n",
       "  <tbody>\n",
       "    <tr>\n",
       "      <th>the</th>\n",
       "      <td>2477</td>\n",
       "      <td>2048</td>\n",
       "      <td>530</td>\n",
       "      <td>2106</td>\n",
       "      <td>54</td>\n",
       "      <td>1350</td>\n",
       "      <td>918</td>\n",
       "      <td>432</td>\n",
       "      <td>9915</td>\n",
       "    </tr>\n",
       "    <tr>\n",
       "      <th>a</th>\n",
       "      <td>847</td>\n",
       "      <td>474</td>\n",
       "      <td>583</td>\n",
       "      <td>3132</td>\n",
       "      <td>54</td>\n",
       "      <td>972</td>\n",
       "      <td>216</td>\n",
       "      <td>324</td>\n",
       "      <td>6602</td>\n",
       "    </tr>\n",
       "    <tr>\n",
       "      <th>and</th>\n",
       "      <td>1263</td>\n",
       "      <td>1397</td>\n",
       "      <td>530</td>\n",
       "      <td>2376</td>\n",
       "      <td>108</td>\n",
       "      <td>594</td>\n",
       "      <td>162</td>\n",
       "      <td>108</td>\n",
       "      <td>6538</td>\n",
       "    </tr>\n",
       "    <tr>\n",
       "      <th>standard</th>\n",
       "      <td>0</td>\n",
       "      <td>0</td>\n",
       "      <td>6466</td>\n",
       "      <td>0</td>\n",
       "      <td>0</td>\n",
       "      <td>0</td>\n",
       "      <td>0</td>\n",
       "      <td>0</td>\n",
       "      <td>6466</td>\n",
       "    </tr>\n",
       "    <tr>\n",
       "      <th>to</th>\n",
       "      <td>1104</td>\n",
       "      <td>1122</td>\n",
       "      <td>318</td>\n",
       "      <td>1458</td>\n",
       "      <td>108</td>\n",
       "      <td>702</td>\n",
       "      <td>486</td>\n",
       "      <td>162</td>\n",
       "      <td>5460</td>\n",
       "    </tr>\n",
       "    <tr>\n",
       "      <th>stylebackgroundcolor</th>\n",
       "      <td>0</td>\n",
       "      <td>0</td>\n",
       "      <td>5300</td>\n",
       "      <td>0</td>\n",
       "      <td>0</td>\n",
       "      <td>0</td>\n",
       "      <td>0</td>\n",
       "      <td>0</td>\n",
       "      <td>5300</td>\n",
       "    </tr>\n",
       "    <tr>\n",
       "      <th>for</th>\n",
       "      <td>911</td>\n",
       "      <td>1027</td>\n",
       "      <td>1696</td>\n",
       "      <td>918</td>\n",
       "      <td>108</td>\n",
       "      <td>216</td>\n",
       "      <td>162</td>\n",
       "      <td>54</td>\n",
       "      <td>5092</td>\n",
       "    </tr>\n",
       "    <tr>\n",
       "      <th>of</th>\n",
       "      <td>526</td>\n",
       "      <td>593</td>\n",
       "      <td>742</td>\n",
       "      <td>864</td>\n",
       "      <td>0</td>\n",
       "      <td>648</td>\n",
       "      <td>162</td>\n",
       "      <td>216</td>\n",
       "      <td>3751</td>\n",
       "    </tr>\n",
       "    <tr>\n",
       "      <th>is</th>\n",
       "      <td>318</td>\n",
       "      <td>1091</td>\n",
       "      <td>106</td>\n",
       "      <td>810</td>\n",
       "      <td>162</td>\n",
       "      <td>486</td>\n",
       "      <td>486</td>\n",
       "      <td>54</td>\n",
       "      <td>3513</td>\n",
       "    </tr>\n",
       "    <tr>\n",
       "      <th>applications</th>\n",
       "      <td>52</td>\n",
       "      <td>0</td>\n",
       "      <td>3339</td>\n",
       "      <td>0</td>\n",
       "      <td>0</td>\n",
       "      <td>0</td>\n",
       "      <td>0</td>\n",
       "      <td>0</td>\n",
       "      <td>3391</td>\n",
       "    </tr>\n",
       "    <tr>\n",
       "      <th>in</th>\n",
       "      <td>422</td>\n",
       "      <td>752</td>\n",
       "      <td>265</td>\n",
       "      <td>918</td>\n",
       "      <td>54</td>\n",
       "      <td>540</td>\n",
       "      <td>162</td>\n",
       "      <td>108</td>\n",
       "      <td>3221</td>\n",
       "    </tr>\n",
       "    <tr>\n",
       "      <th>bitcoin</th>\n",
       "      <td>376</td>\n",
       "      <td>657</td>\n",
       "      <td>371</td>\n",
       "      <td>324</td>\n",
       "      <td>54</td>\n",
       "      <td>972</td>\n",
       "      <td>54</td>\n",
       "      <td>108</td>\n",
       "      <td>2916</td>\n",
       "    </tr>\n",
       "    <tr>\n",
       "      <th>consensus</th>\n",
       "      <td>0</td>\n",
       "      <td>0</td>\n",
       "      <td>2703</td>\n",
       "      <td>0</td>\n",
       "      <td>0</td>\n",
       "      <td>0</td>\n",
       "      <td>0</td>\n",
       "      <td>0</td>\n",
       "      <td>2703</td>\n",
       "    </tr>\n",
       "    <tr>\n",
       "      <th>draft</th>\n",
       "      <td>0</td>\n",
       "      <td>0</td>\n",
       "      <td>2650</td>\n",
       "      <td>0</td>\n",
       "      <td>0</td>\n",
       "      <td>0</td>\n",
       "      <td>0</td>\n",
       "      <td>0</td>\n",
       "      <td>2650</td>\n",
       "    </tr>\n",
       "    <tr>\n",
       "      <th>with</th>\n",
       "      <td>471</td>\n",
       "      <td>321</td>\n",
       "      <td>477</td>\n",
       "      <td>810</td>\n",
       "      <td>0</td>\n",
       "      <td>162</td>\n",
       "      <td>108</td>\n",
       "      <td>216</td>\n",
       "      <td>2565</td>\n",
       "    </tr>\n",
       "    <tr>\n",
       "      <th>fork</th>\n",
       "      <td>0</td>\n",
       "      <td>55</td>\n",
       "      <td>2438</td>\n",
       "      <td>0</td>\n",
       "      <td>0</td>\n",
       "      <td>0</td>\n",
       "      <td>0</td>\n",
       "      <td>0</td>\n",
       "      <td>2493</td>\n",
       "    </tr>\n",
       "    <tr>\n",
       "      <th>cfffcf</th>\n",
       "      <td>0</td>\n",
       "      <td>0</td>\n",
       "      <td>2279</td>\n",
       "      <td>0</td>\n",
       "      <td>0</td>\n",
       "      <td>0</td>\n",
       "      <td>0</td>\n",
       "      <td>0</td>\n",
       "      <td>2279</td>\n",
       "    </tr>\n",
       "    <tr>\n",
       "      <th>ffcfcf</th>\n",
       "      <td>0</td>\n",
       "      <td>0</td>\n",
       "      <td>2226</td>\n",
       "      <td>0</td>\n",
       "      <td>0</td>\n",
       "      <td>0</td>\n",
       "      <td>0</td>\n",
       "      <td>0</td>\n",
       "      <td>2226</td>\n",
       "    </tr>\n",
       "    <tr>\n",
       "      <th>final</th>\n",
       "      <td>0</td>\n",
       "      <td>0</td>\n",
       "      <td>2226</td>\n",
       "      <td>0</td>\n",
       "      <td>0</td>\n",
       "      <td>0</td>\n",
       "      <td>0</td>\n",
       "      <td>0</td>\n",
       "      <td>2226</td>\n",
       "    </tr>\n",
       "    <tr>\n",
       "      <th>you</th>\n",
       "      <td>419</td>\n",
       "      <td>156</td>\n",
       "      <td>0</td>\n",
       "      <td>648</td>\n",
       "      <td>0</td>\n",
       "      <td>270</td>\n",
       "      <td>324</td>\n",
       "      <td>54</td>\n",
       "      <td>1871</td>\n",
       "    </tr>\n",
       "  </tbody>\n",
       "</table>\n",
       "</div>"
      ],
      "text/plain": [
       "                      java  c_plus_plus  wiki  typescript    c  asciidoc  \\\n",
       "the                   2477         2048   530        2106   54      1350   \n",
       "a                      847          474   583        3132   54       972   \n",
       "and                   1263         1397   530        2376  108       594   \n",
       "standard                 0            0  6466           0    0         0   \n",
       "to                    1104         1122   318        1458  108       702   \n",
       "stylebackgroundcolor     0            0  5300           0    0         0   \n",
       "for                    911         1027  1696         918  108       216   \n",
       "of                     526          593   742         864    0       648   \n",
       "is                     318         1091   106         810  162       486   \n",
       "applications            52            0  3339           0    0         0   \n",
       "in                     422          752   265         918   54       540   \n",
       "bitcoin                376          657   371         324   54       972   \n",
       "consensus                0            0  2703           0    0         0   \n",
       "draft                    0            0  2650           0    0         0   \n",
       "with                   471          321   477         810    0       162   \n",
       "fork                     0           55  2438           0    0         0   \n",
       "cfffcf                   0            0  2279           0    0         0   \n",
       "ffcfcf                   0            0  2226           0    0         0   \n",
       "final                    0            0  2226           0    0         0   \n",
       "you                    419          156     0         648    0       270   \n",
       "\n",
       "                      python  html   all  \n",
       "the                      918   432  9915  \n",
       "a                        216   324  6602  \n",
       "and                      162   108  6538  \n",
       "standard                   0     0  6466  \n",
       "to                       486   162  5460  \n",
       "stylebackgroundcolor       0     0  5300  \n",
       "for                      162    54  5092  \n",
       "of                       162   216  3751  \n",
       "is                       486    54  3513  \n",
       "applications               0     0  3391  \n",
       "in                       162   108  3221  \n",
       "bitcoin                   54   108  2916  \n",
       "consensus                  0     0  2703  \n",
       "draft                      0     0  2650  \n",
       "with                     108   216  2565  \n",
       "fork                       0     0  2493  \n",
       "cfffcf                     0     0  2279  \n",
       "ffcfcf                     0     0  2226  \n",
       "final                      0     0  2226  \n",
       "you                      324    54  1871  "
      ]
     },
     "execution_count": 24,
     "metadata": {},
     "output_type": "execute_result"
    }
   ],
   "source": [
    "# most frequently occuring words: sort by 'all'\n",
    "\n",
    "word_counts.sort_values('all', ascending=False).head(20)"
   ]
  },
  {
   "cell_type": "code",
   "execution_count": 25,
   "id": "9f2a5132",
   "metadata": {},
   "outputs": [
    {
     "data": {
      "text/html": [
       "<div>\n",
       "<style scoped>\n",
       "    .dataframe tbody tr th:only-of-type {\n",
       "        vertical-align: middle;\n",
       "    }\n",
       "\n",
       "    .dataframe tbody tr th {\n",
       "        vertical-align: top;\n",
       "    }\n",
       "\n",
       "    .dataframe thead th {\n",
       "        text-align: right;\n",
       "    }\n",
       "</style>\n",
       "<table border=\"1\" class=\"dataframe\">\n",
       "  <thead>\n",
       "    <tr style=\"text-align: right;\">\n",
       "      <th></th>\n",
       "      <th>java</th>\n",
       "      <th>c_plus_plus</th>\n",
       "      <th>wiki</th>\n",
       "      <th>typescript</th>\n",
       "      <th>c</th>\n",
       "      <th>asciidoc</th>\n",
       "      <th>python</th>\n",
       "      <th>html</th>\n",
       "      <th>all</th>\n",
       "    </tr>\n",
       "  </thead>\n",
       "  <tbody>\n",
       "    <tr>\n",
       "      <th>bypassing</th>\n",
       "      <td>0</td>\n",
       "      <td>0</td>\n",
       "      <td>0</td>\n",
       "      <td>54</td>\n",
       "      <td>0</td>\n",
       "      <td>0</td>\n",
       "      <td>0</td>\n",
       "      <td>0</td>\n",
       "      <td>54</td>\n",
       "    </tr>\n",
       "    <tr>\n",
       "      <th>pure</th>\n",
       "      <td>0</td>\n",
       "      <td>0</td>\n",
       "      <td>0</td>\n",
       "      <td>0</td>\n",
       "      <td>0</td>\n",
       "      <td>0</td>\n",
       "      <td>108</td>\n",
       "      <td>0</td>\n",
       "      <td>108</td>\n",
       "    </tr>\n",
       "    <tr>\n",
       "      <th>commands</th>\n",
       "      <td>52</td>\n",
       "      <td>0</td>\n",
       "      <td>0</td>\n",
       "      <td>0</td>\n",
       "      <td>0</td>\n",
       "      <td>0</td>\n",
       "      <td>0</td>\n",
       "      <td>0</td>\n",
       "      <td>52</td>\n",
       "    </tr>\n",
       "    <tr>\n",
       "      <th>amir</th>\n",
       "      <td>0</td>\n",
       "      <td>0</td>\n",
       "      <td>265</td>\n",
       "      <td>0</td>\n",
       "      <td>0</td>\n",
       "      <td>0</td>\n",
       "      <td>0</td>\n",
       "      <td>0</td>\n",
       "      <td>265</td>\n",
       "    </tr>\n",
       "    <tr>\n",
       "      <th>bip0065mediawiki65</th>\n",
       "      <td>0</td>\n",
       "      <td>0</td>\n",
       "      <td>53</td>\n",
       "      <td>0</td>\n",
       "      <td>0</td>\n",
       "      <td>0</td>\n",
       "      <td>0</td>\n",
       "      <td>0</td>\n",
       "      <td>53</td>\n",
       "    </tr>\n",
       "    <tr>\n",
       "      <th>coalescing</th>\n",
       "      <td>0</td>\n",
       "      <td>0</td>\n",
       "      <td>53</td>\n",
       "      <td>0</td>\n",
       "      <td>0</td>\n",
       "      <td>0</td>\n",
       "      <td>0</td>\n",
       "      <td>0</td>\n",
       "      <td>53</td>\n",
       "    </tr>\n",
       "    <tr>\n",
       "      <th>bech32httpsgithubcombitcoinjsbech32</th>\n",
       "      <td>0</td>\n",
       "      <td>0</td>\n",
       "      <td>0</td>\n",
       "      <td>54</td>\n",
       "      <td>0</td>\n",
       "      <td>0</td>\n",
       "      <td>0</td>\n",
       "      <td>0</td>\n",
       "      <td>54</td>\n",
       "    </tr>\n",
       "    <tr>\n",
       "      <th>fundamentally</th>\n",
       "      <td>0</td>\n",
       "      <td>0</td>\n",
       "      <td>0</td>\n",
       "      <td>54</td>\n",
       "      <td>0</td>\n",
       "      <td>0</td>\n",
       "      <td>0</td>\n",
       "      <td>0</td>\n",
       "      <td>54</td>\n",
       "    </tr>\n",
       "    <tr>\n",
       "      <th>bounties</th>\n",
       "      <td>0</td>\n",
       "      <td>0</td>\n",
       "      <td>0</td>\n",
       "      <td>0</td>\n",
       "      <td>0</td>\n",
       "      <td>0</td>\n",
       "      <td>0</td>\n",
       "      <td>54</td>\n",
       "      <td>54</td>\n",
       "    </tr>\n",
       "    <tr>\n",
       "      <th>standardized</th>\n",
       "      <td>0</td>\n",
       "      <td>0</td>\n",
       "      <td>0</td>\n",
       "      <td>54</td>\n",
       "      <td>0</td>\n",
       "      <td>0</td>\n",
       "      <td>0</td>\n",
       "      <td>0</td>\n",
       "      <td>54</td>\n",
       "    </tr>\n",
       "    <tr>\n",
       "      <th>40</th>\n",
       "      <td>0</td>\n",
       "      <td>0</td>\n",
       "      <td>53</td>\n",
       "      <td>0</td>\n",
       "      <td>0</td>\n",
       "      <td>108</td>\n",
       "      <td>0</td>\n",
       "      <td>0</td>\n",
       "      <td>161</td>\n",
       "    </tr>\n",
       "    <tr>\n",
       "      <th>optin</th>\n",
       "      <td>0</td>\n",
       "      <td>0</td>\n",
       "      <td>53</td>\n",
       "      <td>0</td>\n",
       "      <td>0</td>\n",
       "      <td>0</td>\n",
       "      <td>0</td>\n",
       "      <td>0</td>\n",
       "      <td>53</td>\n",
       "    </tr>\n",
       "    <tr>\n",
       "      <th>good</th>\n",
       "      <td>0</td>\n",
       "      <td>0</td>\n",
       "      <td>0</td>\n",
       "      <td>54</td>\n",
       "      <td>0</td>\n",
       "      <td>0</td>\n",
       "      <td>0</td>\n",
       "      <td>0</td>\n",
       "      <td>54</td>\n",
       "    </tr>\n",
       "    <tr>\n",
       "      <th>list</th>\n",
       "      <td>0</td>\n",
       "      <td>0</td>\n",
       "      <td>53</td>\n",
       "      <td>0</td>\n",
       "      <td>0</td>\n",
       "      <td>0</td>\n",
       "      <td>0</td>\n",
       "      <td>0</td>\n",
       "      <td>53</td>\n",
       "    </tr>\n",
       "    <tr>\n",
       "      <th>schnorr</th>\n",
       "      <td>0</td>\n",
       "      <td>0</td>\n",
       "      <td>53</td>\n",
       "      <td>0</td>\n",
       "      <td>0</td>\n",
       "      <td>0</td>\n",
       "      <td>0</td>\n",
       "      <td>0</td>\n",
       "      <td>53</td>\n",
       "    </tr>\n",
       "    <tr>\n",
       "      <th>algorithm</th>\n",
       "      <td>0</td>\n",
       "      <td>0</td>\n",
       "      <td>53</td>\n",
       "      <td>0</td>\n",
       "      <td>0</td>\n",
       "      <td>0</td>\n",
       "      <td>0</td>\n",
       "      <td>0</td>\n",
       "      <td>53</td>\n",
       "    </tr>\n",
       "    <tr>\n",
       "      <th>description</th>\n",
       "      <td>55</td>\n",
       "      <td>55</td>\n",
       "      <td>0</td>\n",
       "      <td>0</td>\n",
       "      <td>0</td>\n",
       "      <td>0</td>\n",
       "      <td>0</td>\n",
       "      <td>0</td>\n",
       "      <td>110</td>\n",
       "    </tr>\n",
       "    <tr>\n",
       "      <th>helphttpsgithubcombitcoinjsbitcoinjslibissuesnew</th>\n",
       "      <td>0</td>\n",
       "      <td>0</td>\n",
       "      <td>0</td>\n",
       "      <td>54</td>\n",
       "      <td>0</td>\n",
       "      <td>0</td>\n",
       "      <td>0</td>\n",
       "      <td>0</td>\n",
       "      <td>54</td>\n",
       "    </tr>\n",
       "    <tr>\n",
       "      <th>bip0342mediawiki342</th>\n",
       "      <td>0</td>\n",
       "      <td>0</td>\n",
       "      <td>53</td>\n",
       "      <td>0</td>\n",
       "      <td>0</td>\n",
       "      <td>0</td>\n",
       "      <td>0</td>\n",
       "      <td>0</td>\n",
       "      <td>53</td>\n",
       "    </tr>\n",
       "    <tr>\n",
       "      <th>babelifyhttpsgithubcombabelbabelify</th>\n",
       "      <td>0</td>\n",
       "      <td>0</td>\n",
       "      <td>0</td>\n",
       "      <td>54</td>\n",
       "      <td>0</td>\n",
       "      <td>0</td>\n",
       "      <td>0</td>\n",
       "      <td>0</td>\n",
       "      <td>54</td>\n",
       "    </tr>\n",
       "  </tbody>\n",
       "</table>\n",
       "</div>"
      ],
      "text/plain": [
       "                                                  java  c_plus_plus  wiki  \\\n",
       "bypassing                                            0            0     0   \n",
       "pure                                                 0            0     0   \n",
       "commands                                            52            0     0   \n",
       "amir                                                 0            0   265   \n",
       "bip0065mediawiki65                                   0            0    53   \n",
       "coalescing                                           0            0    53   \n",
       "bech32httpsgithubcombitcoinjsbech32                  0            0     0   \n",
       "fundamentally                                        0            0     0   \n",
       "bounties                                             0            0     0   \n",
       "standardized                                         0            0     0   \n",
       "40                                                   0            0    53   \n",
       "optin                                                0            0    53   \n",
       "good                                                 0            0     0   \n",
       "list                                                 0            0    53   \n",
       "schnorr                                              0            0    53   \n",
       "algorithm                                            0            0    53   \n",
       "description                                         55           55     0   \n",
       "helphttpsgithubcombitcoinjsbitcoinjslibissuesnew     0            0     0   \n",
       "bip0342mediawiki342                                  0            0    53   \n",
       "babelifyhttpsgithubcombabelbabelify                  0            0     0   \n",
       "\n",
       "                                                  typescript  c  asciidoc  \\\n",
       "bypassing                                                 54  0         0   \n",
       "pure                                                       0  0         0   \n",
       "commands                                                   0  0         0   \n",
       "amir                                                       0  0         0   \n",
       "bip0065mediawiki65                                         0  0         0   \n",
       "coalescing                                                 0  0         0   \n",
       "bech32httpsgithubcombitcoinjsbech32                       54  0         0   \n",
       "fundamentally                                             54  0         0   \n",
       "bounties                                                   0  0         0   \n",
       "standardized                                              54  0         0   \n",
       "40                                                         0  0       108   \n",
       "optin                                                      0  0         0   \n",
       "good                                                      54  0         0   \n",
       "list                                                       0  0         0   \n",
       "schnorr                                                    0  0         0   \n",
       "algorithm                                                  0  0         0   \n",
       "description                                                0  0         0   \n",
       "helphttpsgithubcombitcoinjsbitcoinjslibissuesnew          54  0         0   \n",
       "bip0342mediawiki342                                        0  0         0   \n",
       "babelifyhttpsgithubcombabelbabelify                       54  0         0   \n",
       "\n",
       "                                                  python  html  all  \n",
       "bypassing                                              0     0   54  \n",
       "pure                                                 108     0  108  \n",
       "commands                                               0     0   52  \n",
       "amir                                                   0     0  265  \n",
       "bip0065mediawiki65                                     0     0   53  \n",
       "coalescing                                             0     0   53  \n",
       "bech32httpsgithubcombitcoinjsbech32                    0     0   54  \n",
       "fundamentally                                          0     0   54  \n",
       "bounties                                               0    54   54  \n",
       "standardized                                           0     0   54  \n",
       "40                                                     0     0  161  \n",
       "optin                                                  0     0   53  \n",
       "good                                                   0     0   54  \n",
       "list                                                   0     0   53  \n",
       "schnorr                                                0     0   53  \n",
       "algorithm                                              0     0   53  \n",
       "description                                            0     0  110  \n",
       "helphttpsgithubcombitcoinjsbitcoinjslibissuesnew       0     0   54  \n",
       "bip0342mediawiki342                                    0     0   53  \n",
       "babelifyhttpsgithubcombabelbabelify                    0     0   54  "
      ]
     },
     "execution_count": 25,
     "metadata": {},
     "output_type": "execute_result"
    }
   ],
   "source": [
    "# requently occuring words by language: sort by language\n",
    "word_counts.sort_values(['java', 'c_plus_plus', 'wiki', 'typescript', 'c', 'asciidoc', 'python', 'html'], ascending=[True, True, True, True, True, True, True, True]).sample(20)"
   ]
  },
  {
   "cell_type": "markdown",
   "id": "8d04dab4",
   "metadata": {},
   "source": [
    "- python vs Java for 20 most common words"
   ]
  },
  {
   "cell_type": "code",
   "execution_count": 47,
   "id": "3ca387b4",
   "metadata": {},
   "outputs": [
    {
     "data": {
      "image/png": "[encoded data removed]",
      "text/plain": [
       "<Figure size 432x288 with 1 Axes>"
      ]
     },
     "metadata": {
      "needs_background": "light"
     },
     "output_type": "display_data"
    }
   ],
   "source": [
    "plt.rc('font', size=12)\n",
    "word_counts.sort_values('all', ascending=False).head(20)[['python', 'java']].plot.barh()\n",
    "plt.title('Python vs Java count for the top 20 most frequent words');"
   ]
  },
  {
   "cell_type": "markdown",
   "id": "a0eba381",
   "metadata": {},
   "source": [
    "- C++ vs Java for 20 most common words"
   ]
  },
  {
   "cell_type": "code",
   "execution_count": 48,
   "id": "dce231c4",
   "metadata": {},
   "outputs": [
    {
     "data": {
      "image/png": "[encoded data removed]",
      "text/plain": [
       "<Figure size 432x288 with 1 Axes>"
      ]
     },
     "metadata": {
      "needs_background": "light"
     },
     "output_type": "display_data"
    }
   ],
   "source": [
    "plt.rc('font', size=12)\n",
    "word_counts.sort_values('all', ascending=False).head(20)[['c_plus_plus', 'java']].plot.barh()\n",
    "plt.title('C++ vs Java count for the top 20 most frequent words');"
   ]
  },
  {
   "cell_type": "markdown",
   "id": "86885f37",
   "metadata": {},
   "source": [
    "- Wikitext vs Java for 20 most common words"
   ]
  },
  {
   "cell_type": "code",
   "execution_count": 49,
   "id": "d8dc6bf9",
   "metadata": {},
   "outputs": [
    {
     "data": {
      "image/png": "[encoded data removed]",
      "text/plain": [
       "<Figure size 432x288 with 1 Axes>"
      ]
     },
     "metadata": {
      "needs_background": "light"
     },
     "output_type": "display_data"
    }
   ],
   "source": [
    "plt.rc('font', size=12)\n",
    "word_counts.sort_values('all', ascending=False).head(20)[['wiki', 'java']].plot.barh()\n",
    "plt.title('Wikitext vs Java count for the top 20 most frequent words');"
   ]
  },
  {
   "cell_type": "markdown",
   "id": "5207650c",
   "metadata": {},
   "source": [
    "- Wikitext vs TypeScript for 20 most common words"
   ]
  },
  {
   "cell_type": "code",
   "execution_count": 50,
   "id": "34d4e340",
   "metadata": {},
   "outputs": [
    {
     "data": {
      "image/png": "[encoded data removed]",
      "text/plain": [
       "<Figure size 432x288 with 1 Axes>"
      ]
     },
     "metadata": {
      "needs_background": "light"
     },
     "output_type": "display_data"
    }
   ],
   "source": [
    "plt.rc('font', size=12)\n",
    "word_counts.sort_values('all', ascending=False).head(20)[['wiki', 'typescript']].plot.barh()\n",
    "plt.title('Wikitext vs TypeScript count for the top 20 most frequent words');"
   ]
  },
  {
   "cell_type": "markdown",
   "id": "b8afafd2",
   "metadata": {},
   "source": [
    "- Wikitext vs C for 20 most common words"
   ]
  },
  {
   "cell_type": "code",
   "execution_count": 51,
   "id": "09ca0164",
   "metadata": {},
   "outputs": [
    {
     "data": {
      "image/png": "[encoded data removed]",
      "text/plain": [
       "<Figure size 432x288 with 1 Axes>"
      ]
     },
     "metadata": {
      "needs_background": "light"
     },
     "output_type": "display_data"
    }
   ],
   "source": [
    "plt.rc('font', size=12)\n",
    "word_counts.sort_values('all', ascending=False).head(20)[['wiki', 'c']].plot.barh()\n",
    "plt.title('Wikitext vs C count for the top 20 most frequent words');"
   ]
  },
  {
   "cell_type": "markdown",
   "id": "72846e2b",
   "metadata": {},
   "source": [
    "- Wikitext vs AsciiDoc for 20 most common words"
   ]
  },
  {
   "cell_type": "code",
   "execution_count": 52,
   "id": "632df9be",
   "metadata": {},
   "outputs": [
    {
     "data": {
      "image/png": "[encoded data removed]",
      "text/plain": [
       "<Figure size 432x288 with 1 Axes>"
      ]
     },
     "metadata": {
      "needs_background": "light"
     },
     "output_type": "display_data"
    }
   ],
   "source": [
    "plt.rc('font', size=12)\n",
    "word_counts.sort_values('all', ascending=False).head(20)[['wiki', 'asciidoc']].plot.barh()\n",
    "plt.title('Wikitext vs AsciiDoc count for the top 20 most frequent words');"
   ]
  },
  {
   "cell_type": "markdown",
   "id": "923041f0",
   "metadata": {},
   "source": [
    "- Wikitext vs HTML for 20 most common words"
   ]
  },
  {
   "cell_type": "code",
   "execution_count": 53,
   "id": "707b8f4e",
   "metadata": {},
   "outputs": [
    {
     "data": {
      "image/png": "[encoded data removed]",
      "text/plain": [
       "<Figure size 432x288 with 1 Axes>"
      ]
     },
     "metadata": {
      "needs_background": "light"
     },
     "output_type": "display_data"
    }
   ],
   "source": [
    "plt.rc('font', size=12)\n",
    "word_counts.sort_values('all', ascending=False).head(20)[['wiki', 'html']].plot.barh()\n",
    "plt.title('Wikitext vs HTML count for the top 20 most frequent words');"
   ]
  },
  {
   "cell_type": "markdown",
   "id": "1cdc56a8",
   "metadata": {},
   "source": [
    "- Wikitext vs all for 20 most common words"
   ]
  },
  {
   "cell_type": "code",
   "execution_count": 54,
   "id": "cf857047",
   "metadata": {},
   "outputs": [
    {
     "data": {
      "image/png": "[encoded data removed]",
      "text/plain": [
       "<Figure size 432x288 with 1 Axes>"
      ]
     },
     "metadata": {
      "needs_background": "light"
     },
     "output_type": "display_data"
    }
   ],
   "source": [
    "plt.rc('font', size=12)\n",
    "word_counts.sort_values('all', ascending=False).head(20)[['wiki', 'all']].plot.barh()\n",
    "plt.title('Wikitext count vs all for the top 20 most frequent words');"
   ]
  },
  {
   "cell_type": "code",
   "execution_count": null,
   "id": "fb04aeb5",
   "metadata": {},
   "outputs": [],
   "source": []
  }
 ],
 "metadata": {
  "kernelspec": {
   "display_name": "Python 3",
   "language": "python",
   "name": "python3"
  },
  "language_info": {
   "codemirror_mode": {
    "name": "ipython",
    "version": 3
   },
   "file_extension": ".py",
   "mimetype": "text/x-python",
   "name": "python",
   "nbconvert_exporter": "python",
   "pygments_lexer": "ipython3",
   "version": "3.8.8"
  }
 },
 "nbformat": 4,
 "nbformat_minor": 5
}
