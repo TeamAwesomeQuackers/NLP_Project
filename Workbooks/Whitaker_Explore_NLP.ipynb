{
 "cells": [
  {
   "cell_type": "markdown",
   "id": "eb6387ac",
   "metadata": {},
   "source": [
    "## Chloe's Explore Notebook for the NLP Group Project"
   ]
  },
  {
   "cell_type": "markdown",
   "id": "b0c11117",
   "metadata": {},
   "source": [
    "### Imports"
   ]
  },
  {
   "cell_type": "code",
   "execution_count": 57,
   "id": "bb468d11",
   "metadata": {},
   "outputs": [],
   "source": [
    "import pandas as pd\n",
    "import numpy as np\n",
    "\n",
    "# Scraping\n",
    "import requests\n",
    "from bs4 import BeautifulSoup\n",
    "\n",
    "import nltk\n",
    "from nltk.tokenize.toktok import ToktokTokenizer\n",
    "from nltk.corpus import stopwords\n",
    "import nltk.sentiment\n",
    "\n",
    "from wordcloud import WordCloud\n",
    "\n",
    "# Regex\n",
    "import re\n",
    "\n",
    "# Time\n",
    "from time import strftime\n",
    "\n",
    "import unicodedata\n",
    "import json\n",
    "from pprint import pprint\n",
    "\n",
    "# Visualizations\n",
    "import matplotlib.pyplot as plt\n",
    "import seaborn as sns\n",
    "\n",
    "# Custom Imports\n",
    "import acquire \n",
    "from prepare import *\n",
    "\n",
    "# Turn off pink boxes for demo\n",
    "import warnings\n",
    "warnings.filterwarnings(\"ignore\")\n",
    "\n",
    "# pd.set_option('display.max_colwidth', -1)"
   ]
  },
  {
   "cell_type": "markdown",
   "id": "7be94cd0",
   "metadata": {},
   "source": [
    "### Acquire"
   ]
  },
  {
   "cell_type": "code",
   "execution_count": 58,
   "id": "49fe33da",
   "metadata": {},
   "outputs": [],
   "source": [
    "# acquire.scrape_github_data()"
   ]
  },
  {
   "cell_type": "code",
   "execution_count": 59,
   "id": "d68867de",
   "metadata": {},
   "outputs": [],
   "source": [
    "# df = pd.DataFrame(acquire.scrape_github_data(),columns=['repo','language','readme_contents'])\n",
    "# df.head()\n"
   ]
  },
  {
   "cell_type": "code",
   "execution_count": 60,
   "id": "1a932754",
   "metadata": {},
   "outputs": [],
   "source": [
    "df = pd.read_json('repo_readmes.json')"
   ]
  },
  {
   "cell_type": "code",
   "execution_count": 61,
   "id": "6604ba03",
   "metadata": {},
   "outputs": [
    {
     "data": {
      "text/plain": [
       "(180, 3)"
      ]
     },
     "execution_count": 61,
     "metadata": {},
     "output_type": "execute_result"
    }
   ],
   "source": [
    "df.shape"
   ]
  },
  {
   "cell_type": "code",
   "execution_count": 62,
   "id": "8eb3c201",
   "metadata": {},
   "outputs": [
    {
     "name": "stdout",
     "output_type": "stream",
     "text": [
      "                                 repo          language  \\\n",
      "0           using-system/LightningPay                C#   \n",
      "1     drminnaar/react-bitcoin-monitor        JavaScript   \n",
      "2                      lbryio/lbrycrd               C++   \n",
      "3    ElementsProject/lightning-charge        JavaScript   \n",
      "4            kilimchoi/cryptocurrency              None   \n",
      "..                                ...               ...   \n",
      "175           justinmoon/digital-cash            Python   \n",
      "176      richardgill/BitcoinEmissions              None   \n",
      "177                 BlueWallet/LndHub        JavaScript   \n",
      "178              Cvar1984/pemulungBTC               PHP   \n",
      "179             TheDoctorAI/AI-Trader  Jupyter Notebook   \n",
      "\n",
      "                                       readme_contents  \n",
      "0    # LightningPay\\nBitcoin Lightning Network Paym...  \n",
      "1    # React Bitcoin Monitor\\n\\nAn app that monitor...  \n",
      "2    # LBRYcrd - The LBRY blockchain\\n\\n[![Build St...  \n",
      "3    # Lightning Charge\\n\\n[![build status](https:/...  \n",
      "4    Check out https://coinbuddy.co/coins to track ...  \n",
      "..                                                 ...  \n",
      "175  # BUIDL Bootcamp\\n\\nIf you're on Windows, [wat...  \n",
      "176  BitcoinEmissions\\n================\\n\\nA projec...  \n",
      "177  LndHub\\n======\\n\\nWrapper for Lightning Networ...  \n",
      "178                                                     \n",
      "179  # AI-Trader\\n\\nWe had some good codes going he...  \n",
      "\n",
      "[180 rows x 3 columns]\n"
     ]
    }
   ],
   "source": [
    "original = pd.read_json('repo_readmes.json')\n",
    "print(original)"
   ]
  },
  {
   "cell_type": "markdown",
   "id": "bfbfdf55",
   "metadata": {},
   "source": [
    "### Prepare"
   ]
  },
  {
   "cell_type": "code",
   "execution_count": 63,
   "id": "5195e33b",
   "metadata": {},
   "outputs": [
    {
     "data": {
      "text/html": [
       "<div>\n",
       "<style scoped>\n",
       "    .dataframe tbody tr th:only-of-type {\n",
       "        vertical-align: middle;\n",
       "    }\n",
       "\n",
       "    .dataframe tbody tr th {\n",
       "        vertical-align: top;\n",
       "    }\n",
       "\n",
       "    .dataframe thead th {\n",
       "        text-align: right;\n",
       "    }\n",
       "</style>\n",
       "<table border=\"1\" class=\"dataframe\">\n",
       "  <thead>\n",
       "    <tr style=\"text-align: right;\">\n",
       "      <th></th>\n",
       "      <th>repo</th>\n",
       "      <th>language</th>\n",
       "      <th>readme_contents</th>\n",
       "    </tr>\n",
       "  </thead>\n",
       "  <tbody>\n",
       "    <tr>\n",
       "      <th>0</th>\n",
       "      <td>using-system/LightningPay</td>\n",
       "      <td>C#</td>\n",
       "      <td># LightningPay\\nBitcoin Lightning Network Paym...</td>\n",
       "    </tr>\n",
       "    <tr>\n",
       "      <th>1</th>\n",
       "      <td>drminnaar/react-bitcoin-monitor</td>\n",
       "      <td>JavaScript</td>\n",
       "      <td># React Bitcoin Monitor\\n\\nAn app that monitor...</td>\n",
       "    </tr>\n",
       "    <tr>\n",
       "      <th>2</th>\n",
       "      <td>lbryio/lbrycrd</td>\n",
       "      <td>C++</td>\n",
       "      <td># LBRYcrd - The LBRY blockchain\\n\\n[![Build St...</td>\n",
       "    </tr>\n",
       "    <tr>\n",
       "      <th>3</th>\n",
       "      <td>ElementsProject/lightning-charge</td>\n",
       "      <td>JavaScript</td>\n",
       "      <td># Lightning Charge\\n\\n[![build status](https:/...</td>\n",
       "    </tr>\n",
       "    <tr>\n",
       "      <th>4</th>\n",
       "      <td>kilimchoi/cryptocurrency</td>\n",
       "      <td>None</td>\n",
       "      <td>Check out https://coinbuddy.co/coins to track ...</td>\n",
       "    </tr>\n",
       "  </tbody>\n",
       "</table>\n",
       "</div>"
      ],
      "text/plain": [
       "                               repo    language  \\\n",
       "0         using-system/LightningPay          C#   \n",
       "1   drminnaar/react-bitcoin-monitor  JavaScript   \n",
       "2                    lbryio/lbrycrd         C++   \n",
       "3  ElementsProject/lightning-charge  JavaScript   \n",
       "4          kilimchoi/cryptocurrency        None   \n",
       "\n",
       "                                     readme_contents  \n",
       "0  # LightningPay\\nBitcoin Lightning Network Paym...  \n",
       "1  # React Bitcoin Monitor\\n\\nAn app that monitor...  \n",
       "2  # LBRYcrd - The LBRY blockchain\\n\\n[![Build St...  \n",
       "3  # Lightning Charge\\n\\n[![build status](https:/...  \n",
       "4  Check out https://coinbuddy.co/coins to track ...  "
      ]
     },
     "execution_count": 63,
     "metadata": {},
     "output_type": "execute_result"
    }
   ],
   "source": [
    "df.head()"
   ]
  },
  {
   "cell_type": "code",
   "execution_count": 64,
   "id": "848c313b",
   "metadata": {},
   "outputs": [],
   "source": [
    "# if you want to see the whole column contents:\n",
    "# pd.set_option('display.max_colwidth', -1)"
   ]
  },
  {
   "cell_type": "code",
   "execution_count": 65,
   "id": "01b04d47",
   "metadata": {},
   "outputs": [
    {
     "data": {
      "text/plain": [
       "JavaScript          0.253012\n",
       "Python              0.204819\n",
       "C++                 0.096386\n",
       "PHP                 0.090361\n",
       "C                   0.066265\n",
       "Go                  0.042169\n",
       "HTML                0.042169\n",
       "Java                0.030120\n",
       "Ruby                0.030120\n",
       "C#                  0.024096\n",
       "Jupyter Notebook    0.024096\n",
       "TypeScript          0.018072\n",
       "Shell               0.018072\n",
       "Perl                0.006024\n",
       "Rust                0.006024\n",
       "SCSS                0.006024\n",
       "Dart                0.006024\n",
       "VHDL                0.006024\n",
       "CoffeeScript        0.006024\n",
       "R                   0.006024\n",
       "Vue                 0.006024\n",
       "Prolog              0.006024\n",
       "CSS                 0.006024\n",
       "Name: language, dtype: float64"
      ]
     },
     "execution_count": 65,
     "metadata": {},
     "output_type": "execute_result"
    }
   ],
   "source": [
    "# how many language observations do we have?\n",
    "\n",
    "df.language.value_counts(normalize = True)"
   ]
  },
  {
   "cell_type": "code",
   "execution_count": 66,
   "id": "0bbaadd2",
   "metadata": {},
   "outputs": [
    {
     "name": "stdout",
     "output_type": "stream",
     "text": [
      "<class 'pandas.core.frame.DataFrame'>\n",
      "Int64Index: 180 entries, 0 to 179\n",
      "Data columns (total 3 columns):\n",
      " #   Column           Non-Null Count  Dtype \n",
      "---  ------           --------------  ----- \n",
      " 0   repo             180 non-null    object\n",
      " 1   language         166 non-null    object\n",
      " 2   readme_contents  180 non-null    object\n",
      "dtypes: object(3)\n",
      "memory usage: 5.6+ KB\n"
     ]
    }
   ],
   "source": [
    "df.info()"
   ]
  },
  {
   "cell_type": "markdown",
   "id": "6b2bd9fb",
   "metadata": {},
   "source": [
    "Split data since we will be modeling. "
   ]
  },
  {
   "cell_type": "code",
   "execution_count": 67,
   "id": "054cd03b",
   "metadata": {},
   "outputs": [
    {
     "data": {
      "text/plain": [
       "repo                0\n",
       "language           14\n",
       "readme_contents     0\n",
       "dtype: int64"
      ]
     },
     "execution_count": 67,
     "metadata": {},
     "output_type": "execute_result"
    }
   ],
   "source": [
    "df.isnull().sum()"
   ]
  },
  {
   "cell_type": "code",
   "execution_count": 68,
   "id": "e06bf9c2",
   "metadata": {},
   "outputs": [],
   "source": [
    "# drop null rows for specific columns only\n",
    "df = df[df.language.notnull()]"
   ]
  },
  {
   "cell_type": "code",
   "execution_count": 69,
   "id": "de50135c",
   "metadata": {},
   "outputs": [
    {
     "data": {
      "text/plain": [
       "repo               0\n",
       "language           0\n",
       "readme_contents    0\n",
       "dtype: int64"
      ]
     },
     "execution_count": 69,
     "metadata": {},
     "output_type": "execute_result"
    }
   ],
   "source": [
    "df.isnull().sum()"
   ]
  },
  {
   "cell_type": "code",
   "execution_count": 70,
   "id": "8df69331",
   "metadata": {},
   "outputs": [
    {
     "data": {
      "text/plain": [
       "JavaScript          42\n",
       "Python              34\n",
       "C++                 16\n",
       "PHP                 15\n",
       "C                   11\n",
       "Go                   7\n",
       "HTML                 7\n",
       "Ruby                 5\n",
       "Java                 5\n",
       "C#                   4\n",
       "Jupyter Notebook     4\n",
       "TypeScript           3\n",
       "Shell                3\n",
       "Perl                 1\n",
       "SCSS                 1\n",
       "Rust                 1\n",
       "Dart                 1\n",
       "VHDL                 1\n",
       "CoffeeScript         1\n",
       "R                    1\n",
       "Vue                  1\n",
       "Prolog               1\n",
       "CSS                  1\n",
       "Name: language, dtype: int64"
      ]
     },
     "execution_count": 70,
     "metadata": {},
     "output_type": "execute_result"
    }
   ],
   "source": [
    "df.language.value_counts()"
   ]
  },
  {
   "cell_type": "code",
   "execution_count": 71,
   "id": "4885e983",
   "metadata": {},
   "outputs": [],
   "source": [
    "def common_language(string):\n",
    "    \"\"\"\n",
    "    Takes in a string and compares it to a predefined user list\n",
    "    if string not in list changes to 'Other'\n",
    "    \"\"\"\n",
    "    language_list= ['JavaScript', 'Python', 'C++', 'PHP', 'C', 'Java']\n",
    "    if string not in language_list:\n",
    "        string = 'Other'\n",
    "    return string\n",
    "\n",
    "   # Save the names of the top 5 programming languages, and change the rest to 'Other'\n",
    "    df['language'] = df.language.apply(common_language)"
   ]
  },
  {
   "cell_type": "code",
   "execution_count": 72,
   "id": "ee71c95c",
   "metadata": {
    "scrolled": true
   },
   "outputs": [],
   "source": [
    "df['language'] = df.language.apply(common_language)"
   ]
  },
  {
   "cell_type": "code",
   "execution_count": 73,
   "id": "3021683a",
   "metadata": {},
   "outputs": [
    {
     "data": {
      "text/plain": [
       "Other         0.259036\n",
       "JavaScript    0.253012\n",
       "Python        0.204819\n",
       "C++           0.096386\n",
       "PHP           0.090361\n",
       "C             0.066265\n",
       "Java          0.030120\n",
       "Name: language, dtype: float64"
      ]
     },
     "execution_count": 73,
     "metadata": {},
     "output_type": "execute_result"
    }
   ],
   "source": [
    "# how many language observations do we have?\n",
    "\n",
    "df.language.value_counts(normalize = True)"
   ]
  },
  {
   "cell_type": "code",
   "execution_count": 74,
   "id": "bc3497bd",
   "metadata": {},
   "outputs": [],
   "source": [
    "# drop_list = ['CoffeeScript',\n",
    "# 'R',\n",
    "# 'CSS',\n",
    "# 'Prolog',\n",
    "# 'Vue',\n",
    "# 'Dart',\n",
    "# 'Rust',\n",
    "# 'SCSS',\n",
    "# 'Perl',\n",
    "# 'VHDL',\n",
    "# 'Shell', \n",
    "# 'TypeScript'\n",
    "# ]"
   ]
  },
  {
   "cell_type": "code",
   "execution_count": 75,
   "id": "cd52d894",
   "metadata": {},
   "outputs": [],
   "source": [
    "# # DROPPING LANGUAGES THAT HAVE FEWER THAN ONE INSTANCE\n",
    "# # BC IT CREATES PROBLEMS FOR SPLITTING THE DATA\n",
    "# df = df[~df.language.isin(drop_list)]\n"
   ]
  },
  {
   "cell_type": "code",
   "execution_count": 76,
   "id": "6ad97bf0",
   "metadata": {},
   "outputs": [
    {
     "data": {
      "text/html": [
       "<div>\n",
       "<style scoped>\n",
       "    .dataframe tbody tr th:only-of-type {\n",
       "        vertical-align: middle;\n",
       "    }\n",
       "\n",
       "    .dataframe tbody tr th {\n",
       "        vertical-align: top;\n",
       "    }\n",
       "\n",
       "    .dataframe thead th {\n",
       "        text-align: right;\n",
       "    }\n",
       "</style>\n",
       "<table border=\"1\" class=\"dataframe\">\n",
       "  <thead>\n",
       "    <tr style=\"text-align: right;\">\n",
       "      <th></th>\n",
       "      <th>repo</th>\n",
       "      <th>language</th>\n",
       "      <th>readme_contents</th>\n",
       "      <th>clean</th>\n",
       "      <th>stemmed</th>\n",
       "      <th>lemmatized</th>\n",
       "    </tr>\n",
       "  </thead>\n",
       "  <tbody>\n",
       "    <tr>\n",
       "      <th>174</th>\n",
       "      <td>ryancdotorg/brainflayer</td>\n",
       "      <td>C</td>\n",
       "      <td>Brainflayer\\n===========\\n\\nBrainflayer is a P...</td>\n",
       "      <td>brainflayer brainflayer proofofconcept brainwa...</td>\n",
       "      <td>brainflay brainflay proofofconcept brainwallet...</td>\n",
       "      <td>brainflayer brainflayer proofofconcept brainwa...</td>\n",
       "    </tr>\n",
       "    <tr>\n",
       "      <th>35</th>\n",
       "      <td>bitcoin333/bitcoinbook</td>\n",
       "      <td>Python</td>\n",
       "      <td># Mastering Bitcoin\\nMastering Bitcoin is a bo...</td>\n",
       "      <td>mastering bitcoin mastering bitcoin book devel...</td>\n",
       "      <td>master bitcoin master bitcoin book develop fir...</td>\n",
       "      <td>mastering bitcoin mastering bitcoin book devel...</td>\n",
       "    </tr>\n",
       "    <tr>\n",
       "      <th>48</th>\n",
       "      <td>pooler/rollproxy</td>\n",
       "      <td>Python</td>\n",
       "      <td>*********\\nRollProxy\\n*********\\n\\nRollProxy i...</td>\n",
       "      <td>rollproxy rollproxy mining proxy bitcoin crypt...</td>\n",
       "      <td>rollproxi rollproxi mine proxi bitcoin cryptoc...</td>\n",
       "      <td>rollproxy rollproxy mining proxy bitcoin crypt...</td>\n",
       "    </tr>\n",
       "    <tr>\n",
       "      <th>15</th>\n",
       "      <td>weex/oscommerce-bitcoin</td>\n",
       "      <td>PHP</td>\n",
       "      <td>osCommerce Bitcoin Payment Module v0.6\\n\\nThis...</td>\n",
       "      <td>oscommerce bitcoin payment module v06 module e...</td>\n",
       "      <td>oscommerc bitcoin payment modul v06 thi modul ...</td>\n",
       "      <td>oscommerce bitcoin payment module v06 module e...</td>\n",
       "    </tr>\n",
       "    <tr>\n",
       "      <th>68</th>\n",
       "      <td>Cvar1984/pemulungBTC</td>\n",
       "      <td>PHP</td>\n",
       "      <td></td>\n",
       "      <td></td>\n",
       "      <td></td>\n",
       "      <td></td>\n",
       "    </tr>\n",
       "  </tbody>\n",
       "</table>\n",
       "</div>"
      ],
      "text/plain": [
       "                        repo language  \\\n",
       "174  ryancdotorg/brainflayer        C   \n",
       "35    bitcoin333/bitcoinbook   Python   \n",
       "48          pooler/rollproxy   Python   \n",
       "15   weex/oscommerce-bitcoin      PHP   \n",
       "68      Cvar1984/pemulungBTC      PHP   \n",
       "\n",
       "                                       readme_contents  \\\n",
       "174  Brainflayer\\n===========\\n\\nBrainflayer is a P...   \n",
       "35   # Mastering Bitcoin\\nMastering Bitcoin is a bo...   \n",
       "48   *********\\nRollProxy\\n*********\\n\\nRollProxy i...   \n",
       "15   osCommerce Bitcoin Payment Module v0.6\\n\\nThis...   \n",
       "68                                                       \n",
       "\n",
       "                                                 clean  \\\n",
       "174  brainflayer brainflayer proofofconcept brainwa...   \n",
       "35   mastering bitcoin mastering bitcoin book devel...   \n",
       "48   rollproxy rollproxy mining proxy bitcoin crypt...   \n",
       "15   oscommerce bitcoin payment module v06 module e...   \n",
       "68                                                       \n",
       "\n",
       "                                               stemmed  \\\n",
       "174  brainflay brainflay proofofconcept brainwallet...   \n",
       "35   master bitcoin master bitcoin book develop fir...   \n",
       "48   rollproxi rollproxi mine proxi bitcoin cryptoc...   \n",
       "15   oscommerc bitcoin payment modul v06 thi modul ...   \n",
       "68                                                       \n",
       "\n",
       "                                            lemmatized  \n",
       "174  brainflayer brainflayer proofofconcept brainwa...  \n",
       "35   mastering bitcoin mastering bitcoin book devel...  \n",
       "48   rollproxy rollproxy mining proxy bitcoin crypt...  \n",
       "15   oscommerce bitcoin payment module v06 module e...  \n",
       "68                                                      "
      ]
     },
     "execution_count": 76,
     "metadata": {},
     "output_type": "execute_result"
    }
   ],
   "source": [
    "df = prep_readme_data(df, 'readme_contents', extra_words=[], exclude_words=[])\n",
    "df.sample(5)"
   ]
  },
  {
   "cell_type": "code",
   "execution_count": 77,
   "id": "833b53e4",
   "metadata": {},
   "outputs": [
    {
     "data": {
      "text/html": [
       "<div>\n",
       "<style scoped>\n",
       "    .dataframe tbody tr th:only-of-type {\n",
       "        vertical-align: middle;\n",
       "    }\n",
       "\n",
       "    .dataframe tbody tr th {\n",
       "        vertical-align: top;\n",
       "    }\n",
       "\n",
       "    .dataframe thead th {\n",
       "        text-align: right;\n",
       "    }\n",
       "</style>\n",
       "<table border=\"1\" class=\"dataframe\">\n",
       "  <thead>\n",
       "    <tr style=\"text-align: right;\">\n",
       "      <th></th>\n",
       "      <th>repo</th>\n",
       "      <th>language</th>\n",
       "      <th>lemmatized</th>\n",
       "    </tr>\n",
       "  </thead>\n",
       "  <tbody>\n",
       "    <tr>\n",
       "      <th>0</th>\n",
       "      <td>using-system/LightningPay</td>\n",
       "      <td>Other</td>\n",
       "      <td>lightningpay bitcoin lightning network payment...</td>\n",
       "    </tr>\n",
       "    <tr>\n",
       "      <th>1</th>\n",
       "      <td>drminnaar/react-bitcoin-monitor</td>\n",
       "      <td>JavaScript</td>\n",
       "      <td>react bitcoin monitor app monitor change _bitc...</td>\n",
       "    </tr>\n",
       "    <tr>\n",
       "      <th>2</th>\n",
       "      <td>lbryio/lbrycrd</td>\n",
       "      <td>C++</td>\n",
       "      <td>lbrycrd lbry blockchain build statushttpstravi...</td>\n",
       "    </tr>\n",
       "    <tr>\n",
       "      <th>3</th>\n",
       "      <td>ElementsProject/lightning-charge</td>\n",
       "      <td>JavaScript</td>\n",
       "      <td>lightning charge build statushttpsapitraviscio...</td>\n",
       "    </tr>\n",
       "    <tr>\n",
       "      <th>5</th>\n",
       "      <td>tip4commit/tip4commit</td>\n",
       "      <td>Other</td>\n",
       "      <td>tip4commit tip next commithttpstip4commitcompr...</td>\n",
       "    </tr>\n",
       "  </tbody>\n",
       "</table>\n",
       "</div>"
      ],
      "text/plain": [
       "                               repo    language  \\\n",
       "0         using-system/LightningPay       Other   \n",
       "1   drminnaar/react-bitcoin-monitor  JavaScript   \n",
       "2                    lbryio/lbrycrd         C++   \n",
       "3  ElementsProject/lightning-charge  JavaScript   \n",
       "5             tip4commit/tip4commit       Other   \n",
       "\n",
       "                                          lemmatized  \n",
       "0  lightningpay bitcoin lightning network payment...  \n",
       "1  react bitcoin monitor app monitor change _bitc...  \n",
       "2  lbrycrd lbry blockchain build statushttpstravi...  \n",
       "3  lightning charge build statushttpsapitraviscio...  \n",
       "5  tip4commit tip next commithttpstip4commitcompr...  "
      ]
     },
     "execution_count": 77,
     "metadata": {},
     "output_type": "execute_result"
    }
   ],
   "source": [
    "df=df.drop(columns=['readme_contents', 'clean', 'stemmed'])\n",
    "df.head()"
   ]
  },
  {
   "cell_type": "code",
   "execution_count": 78,
   "id": "8db829ca",
   "metadata": {},
   "outputs": [
    {
     "data": {
      "text/plain": [
       "((92, 3), (40, 3), (34, 3))"
      ]
     },
     "execution_count": 78,
     "metadata": {},
     "output_type": "execute_result"
    }
   ],
   "source": [
    "# SPLIT\n",
    "from sklearn.model_selection import train_test_split\n",
    "# Test set is .2 of original dataframe\n",
    "train, test = train_test_split(df, test_size = .2, random_state=42, stratify= df.language)\n",
    "# The remainder is here divided .7 to train and .3 to validate\n",
    "train, validate = train_test_split(train, test_size=.3, random_state=42, stratify= train.language)\n",
    "train.shape, validate.shape, test.shape"
   ]
  },
  {
   "cell_type": "code",
   "execution_count": 79,
   "id": "509ea108",
   "metadata": {},
   "outputs": [
    {
     "data": {
      "text/plain": [
       "((92, 3),\n",
       " (40, 3),\n",
       " (34, 3),\n",
       " (92, 2),\n",
       " (92, 1),\n",
       " (40, 2),\n",
       " (40, 1),\n",
       " (34, 2),\n",
       " (34, 1))"
      ]
     },
     "execution_count": 79,
     "metadata": {},
     "output_type": "execute_result"
    }
   ],
   "source": [
    "X_train = train.drop(columns=['language'])\n",
    "y_train = pd.DataFrame(train.language, columns=['language'])\n",
    "\n",
    "X_validate = validate.drop(columns=['language'])\n",
    "y_validate = pd.DataFrame(validate.language, columns=['language'])\n",
    "\n",
    "X_test = test.drop(columns=['language'])\n",
    "y_test = pd.DataFrame(test.language, columns=['language'])\n",
    "\n",
    "train.shape, validate.shape, test.shape, X_train.shape, y_train.shape, X_validate.shape, y_validate.shape, X_test.shape, y_test.shape"
   ]
  },
  {
   "cell_type": "code",
   "execution_count": 80,
   "id": "f40c61e6",
   "metadata": {},
   "outputs": [
    {
     "data": {
      "text/plain": [
       "Other         0.260870\n",
       "JavaScript    0.250000\n",
       "Python        0.206522\n",
       "C++           0.097826\n",
       "PHP           0.086957\n",
       "C             0.065217\n",
       "Java          0.032609\n",
       "Name: language, dtype: float64"
      ]
     },
     "execution_count": 80,
     "metadata": {},
     "output_type": "execute_result"
    }
   ],
   "source": [
    "# how many language observations do we have?\n",
    "\n",
    "train.language.value_counts(normalize = True)"
   ]
  },
  {
   "cell_type": "code",
   "execution_count": 81,
   "id": "28cad444",
   "metadata": {},
   "outputs": [],
   "source": [
    "# remove_stopwords(str(train.lemmatized))"
   ]
  },
  {
   "cell_type": "code",
   "execution_count": 82,
   "id": "362bddd4",
   "metadata": {},
   "outputs": [],
   "source": [
    "# combine all contents in single string by language\n",
    "\n",
    "javascript_words = (' '.join(train[train.language == 'JavaScript'].lemmatized))\n",
    "c_plus_plus__words = (' '.join(train[train.language == 'C++'].lemmatized))\n",
    "c_words = (' '.join(train[train.language == 'C'].lemmatized))\n",
    "python_words = (' '.join(train[train.language == 'Python'].lemmatized))\n",
    "php_words = (' '.join(train[train.language == 'PHP'].lemmatized))\n",
    "java_words = (' '.join(train[train.language == 'Java'].lemmatized))\n",
    "other_words = (' '.join(train[train.language == 'Other'].lemmatized))\n",
    "all_words = (' '.join(train.lemmatized))"
   ]
  },
  {
   "cell_type": "code",
   "execution_count": 83,
   "id": "026baf27",
   "metadata": {},
   "outputs": [],
   "source": [
    "# all_words"
   ]
  },
  {
   "cell_type": "code",
   "execution_count": 84,
   "id": "7ee1829b",
   "metadata": {},
   "outputs": [],
   "source": [
    "javascript_words = remove_stopwords(str(javascript_words))"
   ]
  },
  {
   "cell_type": "code",
   "execution_count": 85,
   "id": "1e2f3d4f",
   "metadata": {},
   "outputs": [],
   "source": [
    "c_plus_plus__words = remove_stopwords(str(c_plus_plus__words))"
   ]
  },
  {
   "cell_type": "code",
   "execution_count": 86,
   "id": "fe925000",
   "metadata": {},
   "outputs": [],
   "source": [
    "c_words = remove_stopwords(str(c_words))"
   ]
  },
  {
   "cell_type": "code",
   "execution_count": 87,
   "id": "c5aa1f6d",
   "metadata": {},
   "outputs": [],
   "source": [
    "python_words = remove_stopwords(str(python_words))"
   ]
  },
  {
   "cell_type": "code",
   "execution_count": 88,
   "id": "81dd16b6",
   "metadata": {},
   "outputs": [],
   "source": [
    "java_words = remove_stopwords(str(java_words))"
   ]
  },
  {
   "cell_type": "code",
   "execution_count": 89,
   "id": "609a9d6a",
   "metadata": {},
   "outputs": [],
   "source": [
    "php_words = remove_stopwords(str(php_words))"
   ]
  },
  {
   "cell_type": "code",
   "execution_count": 90,
   "id": "72af6131",
   "metadata": {},
   "outputs": [],
   "source": [
    "other_words = remove_stopwords(str(other_words))"
   ]
  },
  {
   "cell_type": "code",
   "execution_count": 91,
   "id": "6663bf06",
   "metadata": {},
   "outputs": [],
   "source": [
    "all_words = remove_stopwords(str(all_words))"
   ]
  },
  {
   "cell_type": "markdown",
   "id": "97e7d73c",
   "metadata": {},
   "source": [
    "### Explore"
   ]
  },
  {
   "cell_type": "code",
   "execution_count": 92,
   "id": "f90cf7c7",
   "metadata": {},
   "outputs": [],
   "source": [
    "# represent contents as word frequencies\n",
    "\n",
    "javascript_freq = pd.Series(javascript_words.split()).value_counts()\n",
    "c_plus_plus_freq = pd.Series(c_plus_plus__words.split()).value_counts()\n",
    "c_freq = pd.Series(c_words.split()).value_counts()\n",
    "python_freq = pd.Series(python_words.split()).value_counts()\n",
    "java_freq = pd.Series(java_words.split()).value_counts()\n",
    "php_freq = pd.Series(php_words.split()).value_counts()\n",
    "other_freq = pd.Series(other_words.split()).value_counts()\n",
    "all_freq = pd.Series(all_words.split()).value_counts()"
   ]
  },
  {
   "cell_type": "code",
   "execution_count": 93,
   "id": "6f15ee44",
   "metadata": {},
   "outputs": [
    {
     "data": {
      "text/html": [
       "<div>\n",
       "<style scoped>\n",
       "    .dataframe tbody tr th:only-of-type {\n",
       "        vertical-align: middle;\n",
       "    }\n",
       "\n",
       "    .dataframe tbody tr th {\n",
       "        vertical-align: top;\n",
       "    }\n",
       "\n",
       "    .dataframe thead th {\n",
       "        text-align: right;\n",
       "    }\n",
       "</style>\n",
       "<table border=\"1\" class=\"dataframe\">\n",
       "  <thead>\n",
       "    <tr style=\"text-align: right;\">\n",
       "      <th></th>\n",
       "      <th>javascript</th>\n",
       "      <th>c_plus_plus</th>\n",
       "      <th>c</th>\n",
       "      <th>python</th>\n",
       "      <th>java</th>\n",
       "      <th>php</th>\n",
       "      <th>other</th>\n",
       "      <th>all</th>\n",
       "    </tr>\n",
       "  </thead>\n",
       "  <tbody>\n",
       "    <tr>\n",
       "      <th>td</th>\n",
       "      <td>321</td>\n",
       "      <td>0</td>\n",
       "      <td>0</td>\n",
       "      <td>0</td>\n",
       "      <td>0</td>\n",
       "      <td>0</td>\n",
       "      <td>0</td>\n",
       "      <td>321</td>\n",
       "    </tr>\n",
       "    <tr>\n",
       "      <th>bitcoin</th>\n",
       "      <td>104</td>\n",
       "      <td>27</td>\n",
       "      <td>8</td>\n",
       "      <td>60</td>\n",
       "      <td>6</td>\n",
       "      <td>28</td>\n",
       "      <td>62</td>\n",
       "      <td>295</td>\n",
       "    </tr>\n",
       "    <tr>\n",
       "      <th>transaction</th>\n",
       "      <td>74</td>\n",
       "      <td>0</td>\n",
       "      <td>0</td>\n",
       "      <td>24</td>\n",
       "      <td>1</td>\n",
       "      <td>3</td>\n",
       "      <td>25</td>\n",
       "      <td>127</td>\n",
       "    </tr>\n",
       "    <tr>\n",
       "      <th>data</th>\n",
       "      <td>73</td>\n",
       "      <td>9</td>\n",
       "      <td>6</td>\n",
       "      <td>24</td>\n",
       "      <td>0</td>\n",
       "      <td>4</td>\n",
       "      <td>4</td>\n",
       "      <td>120</td>\n",
       "    </tr>\n",
       "    <tr>\n",
       "      <th>bitwork</th>\n",
       "      <td>72</td>\n",
       "      <td>0</td>\n",
       "      <td>0</td>\n",
       "      <td>0</td>\n",
       "      <td>0</td>\n",
       "      <td>0</td>\n",
       "      <td>0</td>\n",
       "      <td>72</td>\n",
       "    </tr>\n",
       "  </tbody>\n",
       "</table>\n",
       "</div>"
      ],
      "text/plain": [
       "             javascript  c_plus_plus  c  python  java  php  other  all\n",
       "td                  321            0  0       0     0    0      0  321\n",
       "bitcoin             104           27  8      60     6   28     62  295\n",
       "transaction          74            0  0      24     1    3     25  127\n",
       "data                 73            9  6      24     0    4      4  120\n",
       "bitwork              72            0  0       0     0    0      0   72"
      ]
     },
     "execution_count": 93,
     "metadata": {},
     "output_type": "execute_result"
    }
   ],
   "source": [
    "# concat all frequencies together into a dataframe\n",
    "\n",
    "word_counts = pd.concat([javascript_freq, c_plus_plus_freq, c_freq, python_freq, java_freq, php_freq, other_freq, all_freq], axis=1).fillna(0).astype(int)\n",
    "word_counts.columns = ['javascript', 'c_plus_plus', 'c', 'python', 'java', 'php', 'other', 'all']\n",
    "word_counts.head()"
   ]
  },
  {
   "cell_type": "code",
   "execution_count": 94,
   "id": "7b5c8713",
   "metadata": {},
   "outputs": [
    {
     "data": {
      "text/plain": [
       "support       12\n",
       "wallet        10\n",
       "key            7\n",
       "bitcoin        6\n",
       "address        5\n",
       "              ..\n",
       "send           1\n",
       "mobile         1\n",
       "cycling        1\n",
       "protection     1\n",
       "built          1\n",
       "Length: 144, dtype: int64"
      ]
     },
     "execution_count": 94,
     "metadata": {},
     "output_type": "execute_result"
    }
   ],
   "source": [
    "java_freq"
   ]
  },
  {
   "cell_type": "markdown",
   "id": "53c30b9d",
   "metadata": {},
   "source": [
    "- What are the most frequently occuring words? \n",
    "\n",
    "- Are there words that uniquely identify with a certain language's repos? \n"
   ]
  },
  {
   "cell_type": "code",
   "execution_count": 95,
   "id": "8c29765f",
   "metadata": {},
   "outputs": [
    {
     "data": {
      "text/html": [
       "<div>\n",
       "<style scoped>\n",
       "    .dataframe tbody tr th:only-of-type {\n",
       "        vertical-align: middle;\n",
       "    }\n",
       "\n",
       "    .dataframe tbody tr th {\n",
       "        vertical-align: top;\n",
       "    }\n",
       "\n",
       "    .dataframe thead th {\n",
       "        text-align: right;\n",
       "    }\n",
       "</style>\n",
       "<table border=\"1\" class=\"dataframe\">\n",
       "  <thead>\n",
       "    <tr style=\"text-align: right;\">\n",
       "      <th></th>\n",
       "      <th>javascript</th>\n",
       "      <th>c_plus_plus</th>\n",
       "      <th>c</th>\n",
       "      <th>python</th>\n",
       "      <th>java</th>\n",
       "      <th>php</th>\n",
       "      <th>other</th>\n",
       "      <th>all</th>\n",
       "    </tr>\n",
       "  </thead>\n",
       "  <tbody>\n",
       "    <tr>\n",
       "      <th>td</th>\n",
       "      <td>321</td>\n",
       "      <td>0</td>\n",
       "      <td>0</td>\n",
       "      <td>0</td>\n",
       "      <td>0</td>\n",
       "      <td>0</td>\n",
       "      <td>0</td>\n",
       "      <td>321</td>\n",
       "    </tr>\n",
       "    <tr>\n",
       "      <th>address</th>\n",
       "      <td>52</td>\n",
       "      <td>106</td>\n",
       "      <td>12</td>\n",
       "      <td>26</td>\n",
       "      <td>5</td>\n",
       "      <td>69</td>\n",
       "      <td>37</td>\n",
       "      <td>307</td>\n",
       "    </tr>\n",
       "    <tr>\n",
       "      <th>bitcoin</th>\n",
       "      <td>104</td>\n",
       "      <td>27</td>\n",
       "      <td>8</td>\n",
       "      <td>60</td>\n",
       "      <td>6</td>\n",
       "      <td>28</td>\n",
       "      <td>62</td>\n",
       "      <td>295</td>\n",
       "    </tr>\n",
       "    <tr>\n",
       "      <th>run</th>\n",
       "      <td>68</td>\n",
       "      <td>36</td>\n",
       "      <td>5</td>\n",
       "      <td>25</td>\n",
       "      <td>2</td>\n",
       "      <td>9</td>\n",
       "      <td>82</td>\n",
       "      <td>227</td>\n",
       "    </tr>\n",
       "    <tr>\n",
       "      <th>key</th>\n",
       "      <td>11</td>\n",
       "      <td>136</td>\n",
       "      <td>11</td>\n",
       "      <td>28</td>\n",
       "      <td>7</td>\n",
       "      <td>12</td>\n",
       "      <td>17</td>\n",
       "      <td>222</td>\n",
       "    </tr>\n",
       "    <tr>\n",
       "      <th>file</th>\n",
       "      <td>20</td>\n",
       "      <td>31</td>\n",
       "      <td>25</td>\n",
       "      <td>22</td>\n",
       "      <td>1</td>\n",
       "      <td>17</td>\n",
       "      <td>42</td>\n",
       "      <td>158</td>\n",
       "    </tr>\n",
       "    <tr>\n",
       "      <th>use</th>\n",
       "      <td>40</td>\n",
       "      <td>31</td>\n",
       "      <td>20</td>\n",
       "      <td>16</td>\n",
       "      <td>1</td>\n",
       "      <td>18</td>\n",
       "      <td>32</td>\n",
       "      <td>158</td>\n",
       "    </tr>\n",
       "    <tr>\n",
       "      <th>&amp;#9;</th>\n",
       "      <td>2</td>\n",
       "      <td>79</td>\n",
       "      <td>1</td>\n",
       "      <td>0</td>\n",
       "      <td>1</td>\n",
       "      <td>5</td>\n",
       "      <td>69</td>\n",
       "      <td>157</td>\n",
       "    </tr>\n",
       "    <tr>\n",
       "      <th>install</th>\n",
       "      <td>32</td>\n",
       "      <td>15</td>\n",
       "      <td>13</td>\n",
       "      <td>36</td>\n",
       "      <td>1</td>\n",
       "      <td>8</td>\n",
       "      <td>50</td>\n",
       "      <td>155</td>\n",
       "    </tr>\n",
       "    <tr>\n",
       "      <th>info</th>\n",
       "      <td>10</td>\n",
       "      <td>129</td>\n",
       "      <td>4</td>\n",
       "      <td>2</td>\n",
       "      <td>0</td>\n",
       "      <td>3</td>\n",
       "      <td>1</td>\n",
       "      <td>149</td>\n",
       "    </tr>\n",
       "    <tr>\n",
       "      <th>1</th>\n",
       "      <td>31</td>\n",
       "      <td>48</td>\n",
       "      <td>0</td>\n",
       "      <td>13</td>\n",
       "      <td>0</td>\n",
       "      <td>6</td>\n",
       "      <td>38</td>\n",
       "      <td>136</td>\n",
       "    </tr>\n",
       "    <tr>\n",
       "      <th>wallet</th>\n",
       "      <td>21</td>\n",
       "      <td>18</td>\n",
       "      <td>11</td>\n",
       "      <td>21</td>\n",
       "      <td>10</td>\n",
       "      <td>23</td>\n",
       "      <td>31</td>\n",
       "      <td>135</td>\n",
       "    </tr>\n",
       "    <tr>\n",
       "      <th>transaction</th>\n",
       "      <td>74</td>\n",
       "      <td>0</td>\n",
       "      <td>0</td>\n",
       "      <td>24</td>\n",
       "      <td>1</td>\n",
       "      <td>3</td>\n",
       "      <td>25</td>\n",
       "      <td>127</td>\n",
       "    </tr>\n",
       "    <tr>\n",
       "      <th>new</th>\n",
       "      <td>52</td>\n",
       "      <td>15</td>\n",
       "      <td>1</td>\n",
       "      <td>8</td>\n",
       "      <td>0</td>\n",
       "      <td>10</td>\n",
       "      <td>35</td>\n",
       "      <td>121</td>\n",
       "    </tr>\n",
       "    <tr>\n",
       "      <th>build</th>\n",
       "      <td>29</td>\n",
       "      <td>33</td>\n",
       "      <td>9</td>\n",
       "      <td>9</td>\n",
       "      <td>3</td>\n",
       "      <td>0</td>\n",
       "      <td>38</td>\n",
       "      <td>121</td>\n",
       "    </tr>\n",
       "    <tr>\n",
       "      <th>data</th>\n",
       "      <td>73</td>\n",
       "      <td>9</td>\n",
       "      <td>6</td>\n",
       "      <td>24</td>\n",
       "      <td>0</td>\n",
       "      <td>4</td>\n",
       "      <td>4</td>\n",
       "      <td>120</td>\n",
       "    </tr>\n",
       "    <tr>\n",
       "      <th>using</th>\n",
       "      <td>45</td>\n",
       "      <td>13</td>\n",
       "      <td>14</td>\n",
       "      <td>11</td>\n",
       "      <td>0</td>\n",
       "      <td>3</td>\n",
       "      <td>19</td>\n",
       "      <td>105</td>\n",
       "    </tr>\n",
       "    <tr>\n",
       "      <th>api</th>\n",
       "      <td>37</td>\n",
       "      <td>0</td>\n",
       "      <td>2</td>\n",
       "      <td>14</td>\n",
       "      <td>2</td>\n",
       "      <td>19</td>\n",
       "      <td>30</td>\n",
       "      <td>104</td>\n",
       "    </tr>\n",
       "    <tr>\n",
       "      <th>bit</th>\n",
       "      <td>31</td>\n",
       "      <td>64</td>\n",
       "      <td>2</td>\n",
       "      <td>0</td>\n",
       "      <td>1</td>\n",
       "      <td>0</td>\n",
       "      <td>5</td>\n",
       "      <td>103</td>\n",
       "    </tr>\n",
       "    <tr>\n",
       "      <th>server</th>\n",
       "      <td>29</td>\n",
       "      <td>39</td>\n",
       "      <td>2</td>\n",
       "      <td>6</td>\n",
       "      <td>3</td>\n",
       "      <td>10</td>\n",
       "      <td>11</td>\n",
       "      <td>100</td>\n",
       "    </tr>\n",
       "  </tbody>\n",
       "</table>\n",
       "</div>"
      ],
      "text/plain": [
       "             javascript  c_plus_plus   c  python  java  php  other  all\n",
       "td                  321            0   0       0     0    0      0  321\n",
       "address              52          106  12      26     5   69     37  307\n",
       "bitcoin             104           27   8      60     6   28     62  295\n",
       "run                  68           36   5      25     2    9     82  227\n",
       "key                  11          136  11      28     7   12     17  222\n",
       "file                 20           31  25      22     1   17     42  158\n",
       "use                  40           31  20      16     1   18     32  158\n",
       "&#9;                  2           79   1       0     1    5     69  157\n",
       "install              32           15  13      36     1    8     50  155\n",
       "info                 10          129   4       2     0    3      1  149\n",
       "1                    31           48   0      13     0    6     38  136\n",
       "wallet               21           18  11      21    10   23     31  135\n",
       "transaction          74            0   0      24     1    3     25  127\n",
       "new                  52           15   1       8     0   10     35  121\n",
       "build                29           33   9       9     3    0     38  121\n",
       "data                 73            9   6      24     0    4      4  120\n",
       "using                45           13  14      11     0    3     19  105\n",
       "api                  37            0   2      14     2   19     30  104\n",
       "bit                  31           64   2       0     1    0      5  103\n",
       "server               29           39   2       6     3   10     11  100"
      ]
     },
     "execution_count": 95,
     "metadata": {},
     "output_type": "execute_result"
    }
   ],
   "source": [
    "# most frequently occuring words: sort by 'all'\n",
    "\n",
    "word_counts.sort_values('all', ascending=False).head(20)"
   ]
  },
  {
   "cell_type": "code",
   "execution_count": 96,
   "id": "510fa442",
   "metadata": {},
   "outputs": [],
   "source": [
    "# requently occuring words by language: sort by language\n",
    "word_counts_sorted = word_counts.sort_values(['javascript', 'c_plus_plus', 'c', 'python', 'java', 'php', 'other', 'all'], ascending=[True, True, True, True, True, True, True, True]).sample(20)"
   ]
  },
  {
   "cell_type": "code",
   "execution_count": 97,
   "id": "b87a37b4",
   "metadata": {},
   "outputs": [
    {
     "data": {
      "text/html": [
       "<div>\n",
       "<style scoped>\n",
       "    .dataframe tbody tr th:only-of-type {\n",
       "        vertical-align: middle;\n",
       "    }\n",
       "\n",
       "    .dataframe tbody tr th {\n",
       "        vertical-align: top;\n",
       "    }\n",
       "\n",
       "    .dataframe thead th {\n",
       "        text-align: right;\n",
       "    }\n",
       "</style>\n",
       "<table border=\"1\" class=\"dataframe\">\n",
       "  <thead>\n",
       "    <tr style=\"text-align: right;\">\n",
       "      <th></th>\n",
       "      <th>javascript</th>\n",
       "      <th>c_plus_plus</th>\n",
       "      <th>c</th>\n",
       "      <th>python</th>\n",
       "      <th>java</th>\n",
       "      <th>php</th>\n",
       "      <th>other</th>\n",
       "      <th>all</th>\n",
       "    </tr>\n",
       "  </thead>\n",
       "  <tbody>\n",
       "    <tr>\n",
       "      <th>rather</th>\n",
       "      <td>1</td>\n",
       "      <td>0</td>\n",
       "      <td>2</td>\n",
       "      <td>1</td>\n",
       "      <td>0</td>\n",
       "      <td>0</td>\n",
       "      <td>2</td>\n",
       "      <td>6</td>\n",
       "    </tr>\n",
       "    <tr>\n",
       "      <th>due</th>\n",
       "      <td>1</td>\n",
       "      <td>0</td>\n",
       "      <td>0</td>\n",
       "      <td>2</td>\n",
       "      <td>0</td>\n",
       "      <td>0</td>\n",
       "      <td>2</td>\n",
       "      <td>5</td>\n",
       "    </tr>\n",
       "    <tr>\n",
       "      <th>pipenv</th>\n",
       "      <td>0</td>\n",
       "      <td>0</td>\n",
       "      <td>0</td>\n",
       "      <td>0</td>\n",
       "      <td>0</td>\n",
       "      <td>0</td>\n",
       "      <td>4</td>\n",
       "      <td>4</td>\n",
       "    </tr>\n",
       "    <tr>\n",
       "      <th>wallettx</th>\n",
       "      <td>0</td>\n",
       "      <td>0</td>\n",
       "      <td>0</td>\n",
       "      <td>1</td>\n",
       "      <td>0</td>\n",
       "      <td>0</td>\n",
       "      <td>0</td>\n",
       "      <td>1</td>\n",
       "    </tr>\n",
       "    <tr>\n",
       "      <th>developer</th>\n",
       "      <td>15</td>\n",
       "      <td>11</td>\n",
       "      <td>0</td>\n",
       "      <td>4</td>\n",
       "      <td>0</td>\n",
       "      <td>1</td>\n",
       "      <td>16</td>\n",
       "      <td>47</td>\n",
       "    </tr>\n",
       "    <tr>\n",
       "      <th>associate</th>\n",
       "      <td>2</td>\n",
       "      <td>0</td>\n",
       "      <td>0</td>\n",
       "      <td>0</td>\n",
       "      <td>0</td>\n",
       "      <td>0</td>\n",
       "      <td>1</td>\n",
       "      <td>3</td>\n",
       "    </tr>\n",
       "    <tr>\n",
       "      <th>10jun2019</th>\n",
       "      <td>0</td>\n",
       "      <td>0</td>\n",
       "      <td>0</td>\n",
       "      <td>0</td>\n",
       "      <td>0</td>\n",
       "      <td>0</td>\n",
       "      <td>1</td>\n",
       "      <td>1</td>\n",
       "    </tr>\n",
       "    <tr>\n",
       "      <th>paypercall</th>\n",
       "      <td>2</td>\n",
       "      <td>0</td>\n",
       "      <td>0</td>\n",
       "      <td>0</td>\n",
       "      <td>0</td>\n",
       "      <td>0</td>\n",
       "      <td>0</td>\n",
       "      <td>2</td>\n",
       "    </tr>\n",
       "    <tr>\n",
       "      <th>outfit</th>\n",
       "      <td>0</td>\n",
       "      <td>0</td>\n",
       "      <td>0</td>\n",
       "      <td>1</td>\n",
       "      <td>0</td>\n",
       "      <td>0</td>\n",
       "      <td>0</td>\n",
       "      <td>1</td>\n",
       "    </tr>\n",
       "    <tr>\n",
       "      <th>ledgerhqhwtransportwebusbpackageshwtransportwebusb</th>\n",
       "      <td>0</td>\n",
       "      <td>0</td>\n",
       "      <td>0</td>\n",
       "      <td>0</td>\n",
       "      <td>0</td>\n",
       "      <td>0</td>\n",
       "      <td>1</td>\n",
       "      <td>1</td>\n",
       "    </tr>\n",
       "    <tr>\n",
       "      <th>supporthttpscaniusecomwebauthn</th>\n",
       "      <td>0</td>\n",
       "      <td>0</td>\n",
       "      <td>0</td>\n",
       "      <td>0</td>\n",
       "      <td>0</td>\n",
       "      <td>0</td>\n",
       "      <td>1</td>\n",
       "      <td>1</td>\n",
       "    </tr>\n",
       "    <tr>\n",
       "      <th>tester</th>\n",
       "      <td>1</td>\n",
       "      <td>0</td>\n",
       "      <td>0</td>\n",
       "      <td>0</td>\n",
       "      <td>0</td>\n",
       "      <td>0</td>\n",
       "      <td>0</td>\n",
       "      <td>1</td>\n",
       "    </tr>\n",
       "    <tr>\n",
       "      <th>eout0tape0cellslice1</th>\n",
       "      <td>3</td>\n",
       "      <td>0</td>\n",
       "      <td>0</td>\n",
       "      <td>0</td>\n",
       "      <td>0</td>\n",
       "      <td>0</td>\n",
       "      <td>0</td>\n",
       "      <td>3</td>\n",
       "    </tr>\n",
       "    <tr>\n",
       "      <th>december</th>\n",
       "      <td>0</td>\n",
       "      <td>0</td>\n",
       "      <td>0</td>\n",
       "      <td>1</td>\n",
       "      <td>0</td>\n",
       "      <td>0</td>\n",
       "      <td>1</td>\n",
       "      <td>2</td>\n",
       "    </tr>\n",
       "    <tr>\n",
       "      <th>1l2gm8ee7mjwldo3hzs6su1832nx2txaac</th>\n",
       "      <td>0</td>\n",
       "      <td>2</td>\n",
       "      <td>0</td>\n",
       "      <td>0</td>\n",
       "      <td>0</td>\n",
       "      <td>0</td>\n",
       "      <td>0</td>\n",
       "      <td>2</td>\n",
       "    </tr>\n",
       "    <tr>\n",
       "      <th>financial</th>\n",
       "      <td>2</td>\n",
       "      <td>0</td>\n",
       "      <td>0</td>\n",
       "      <td>0</td>\n",
       "      <td>0</td>\n",
       "      <td>0</td>\n",
       "      <td>0</td>\n",
       "      <td>2</td>\n",
       "    </tr>\n",
       "    <tr>\n",
       "      <th>tdtr</th>\n",
       "      <td>45</td>\n",
       "      <td>0</td>\n",
       "      <td>0</td>\n",
       "      <td>0</td>\n",
       "      <td>0</td>\n",
       "      <td>0</td>\n",
       "      <td>0</td>\n",
       "      <td>45</td>\n",
       "    </tr>\n",
       "    <tr>\n",
       "      <th>storage</th>\n",
       "      <td>0</td>\n",
       "      <td>0</td>\n",
       "      <td>0</td>\n",
       "      <td>3</td>\n",
       "      <td>2</td>\n",
       "      <td>0</td>\n",
       "      <td>0</td>\n",
       "      <td>5</td>\n",
       "    </tr>\n",
       "    <tr>\n",
       "      <th>privatekey</th>\n",
       "      <td>0</td>\n",
       "      <td>0</td>\n",
       "      <td>0</td>\n",
       "      <td>0</td>\n",
       "      <td>0</td>\n",
       "      <td>0</td>\n",
       "      <td>2</td>\n",
       "      <td>2</td>\n",
       "    </tr>\n",
       "    <tr>\n",
       "      <th>iosblixtwalletblixtwalletxcworkspace</th>\n",
       "      <td>0</td>\n",
       "      <td>0</td>\n",
       "      <td>0</td>\n",
       "      <td>0</td>\n",
       "      <td>0</td>\n",
       "      <td>0</td>\n",
       "      <td>1</td>\n",
       "      <td>1</td>\n",
       "    </tr>\n",
       "  </tbody>\n",
       "</table>\n",
       "</div>"
      ],
      "text/plain": [
       "                                                    javascript  c_plus_plus  \\\n",
       "rather                                                       1            0   \n",
       "due                                                          1            0   \n",
       "pipenv                                                       0            0   \n",
       "wallettx                                                     0            0   \n",
       "developer                                                   15           11   \n",
       "associate                                                    2            0   \n",
       "10jun2019                                                    0            0   \n",
       "paypercall                                                   2            0   \n",
       "outfit                                                       0            0   \n",
       "ledgerhqhwtransportwebusbpackageshwtransportwebusb           0            0   \n",
       "supporthttpscaniusecomwebauthn                               0            0   \n",
       "tester                                                       1            0   \n",
       "eout0tape0cellslice1                                         3            0   \n",
       "december                                                     0            0   \n",
       "1l2gm8ee7mjwldo3hzs6su1832nx2txaac                           0            2   \n",
       "financial                                                    2            0   \n",
       "tdtr                                                        45            0   \n",
       "storage                                                      0            0   \n",
       "privatekey                                                   0            0   \n",
       "iosblixtwalletblixtwalletxcworkspace                         0            0   \n",
       "\n",
       "                                                    c  python  java  php  \\\n",
       "rather                                              2       1     0    0   \n",
       "due                                                 0       2     0    0   \n",
       "pipenv                                              0       0     0    0   \n",
       "wallettx                                            0       1     0    0   \n",
       "developer                                           0       4     0    1   \n",
       "associate                                           0       0     0    0   \n",
       "10jun2019                                           0       0     0    0   \n",
       "paypercall                                          0       0     0    0   \n",
       "outfit                                              0       1     0    0   \n",
       "ledgerhqhwtransportwebusbpackageshwtransportwebusb  0       0     0    0   \n",
       "supporthttpscaniusecomwebauthn                      0       0     0    0   \n",
       "tester                                              0       0     0    0   \n",
       "eout0tape0cellslice1                                0       0     0    0   \n",
       "december                                            0       1     0    0   \n",
       "1l2gm8ee7mjwldo3hzs6su1832nx2txaac                  0       0     0    0   \n",
       "financial                                           0       0     0    0   \n",
       "tdtr                                                0       0     0    0   \n",
       "storage                                             0       3     2    0   \n",
       "privatekey                                          0       0     0    0   \n",
       "iosblixtwalletblixtwalletxcworkspace                0       0     0    0   \n",
       "\n",
       "                                                    other  all  \n",
       "rather                                                  2    6  \n",
       "due                                                     2    5  \n",
       "pipenv                                                  4    4  \n",
       "wallettx                                                0    1  \n",
       "developer                                              16   47  \n",
       "associate                                               1    3  \n",
       "10jun2019                                               1    1  \n",
       "paypercall                                              0    2  \n",
       "outfit                                                  0    1  \n",
       "ledgerhqhwtransportwebusbpackageshwtransportwebusb      1    1  \n",
       "supporthttpscaniusecomwebauthn                          1    1  \n",
       "tester                                                  0    1  \n",
       "eout0tape0cellslice1                                    0    3  \n",
       "december                                                1    2  \n",
       "1l2gm8ee7mjwldo3hzs6su1832nx2txaac                      0    2  \n",
       "financial                                               0    2  \n",
       "tdtr                                                    0   45  \n",
       "storage                                                 0    5  \n",
       "privatekey                                              2    2  \n",
       "iosblixtwalletblixtwalletxcworkspace                    1    1  "
      ]
     },
     "execution_count": 97,
     "metadata": {},
     "output_type": "execute_result"
    }
   ],
   "source": [
    "word_counts_sorted"
   ]
  },
  {
   "cell_type": "markdown",
   "id": "8a624b32",
   "metadata": {},
   "source": [
    "- least common and most common words for each language. "
   ]
  },
  {
   "cell_type": "code",
   "execution_count": 98,
   "id": "a4c687e3",
   "metadata": {
    "scrolled": true
   },
   "outputs": [
    {
     "data": {
      "text/plain": [
       "('mvn', 'support')"
      ]
     },
     "execution_count": 98,
     "metadata": {},
     "output_type": "execute_result"
    }
   ],
   "source": [
    "java_freq.idxmin(), java_freq.idxmax()"
   ]
  },
  {
   "cell_type": "code",
   "execution_count": 99,
   "id": "ba8f71b3",
   "metadata": {},
   "outputs": [
    {
     "data": {
      "text/plain": [
       "('dependenciesmacoswithlocalshareddependencies', 'key')"
      ]
     },
     "execution_count": 99,
     "metadata": {},
     "output_type": "execute_result"
    }
   ],
   "source": [
    "c_plus_plus_freq.idxmin(), c_plus_plus_freq.idxmax()"
   ]
  },
  {
   "cell_type": "code",
   "execution_count": 100,
   "id": "fe2a8fbe",
   "metadata": {},
   "outputs": [
    {
     "data": {
      "text/plain": [
       "('nayuta', 'brainflayer')"
      ]
     },
     "execution_count": 100,
     "metadata": {},
     "output_type": "execute_result"
    }
   ],
   "source": [
    "c_freq.idxmin(), c_freq.idxmax()"
   ]
  },
  {
   "cell_type": "code",
   "execution_count": 55,
   "id": "61d6d002",
   "metadata": {},
   "outputs": [
    {
     "data": {
      "text/plain": [
       "('lc5oj_ymxgz', '&#9;')"
      ]
     },
     "execution_count": 55,
     "metadata": {},
     "output_type": "execute_result"
    }
   ],
   "source": [
    "python_freq.idxmin(), python_freq.idxmax()"
   ]
  },
  {
   "cell_type": "code",
   "execution_count": 101,
   "id": "844d4b16",
   "metadata": {},
   "outputs": [
    {
     "data": {
      "text/plain": [
       "('mvn', 'support')"
      ]
     },
     "execution_count": 101,
     "metadata": {},
     "output_type": "execute_result"
    }
   ],
   "source": [
    "java_freq.idxmin(), java_freq.idxmax()"
   ]
  },
  {
   "cell_type": "code",
   "execution_count": 54,
   "id": "e03f7fcd",
   "metadata": {},
   "outputs": [
    {
     "data": {
      "text/plain": [
       "('mod_rewrite', 'address')"
      ]
     },
     "execution_count": 54,
     "metadata": {},
     "output_type": "execute_result"
    }
   ],
   "source": [
    "php_freq.idxmin(), php_freq.idxmax()"
   ]
  },
  {
   "cell_type": "code",
   "execution_count": 102,
   "id": "b8f05a4c",
   "metadata": {},
   "outputs": [
    {
     "data": {
      "text/plain": [
       "('httpsxuecnvisitorreaderbookid3modevisitorpathbitcoin_elementary_course_based_on_jupyterlab22_transaction_e4baa4e69893_e4baa4e69893e993bee79a84e99abee782b9ipynb',\n",
       " 'run')"
      ]
     },
     "execution_count": 102,
     "metadata": {},
     "output_type": "execute_result"
    }
   ],
   "source": [
    "other_freq.idxmin(), other_freq.idxmax()"
   ]
  },
  {
   "cell_type": "code",
   "execution_count": 103,
   "id": "48c568cf",
   "metadata": {},
   "outputs": [
    {
     "data": {
      "text/plain": [
       "('newentry', 'td')"
      ]
     },
     "execution_count": 103,
     "metadata": {},
     "output_type": "execute_result"
    }
   ],
   "source": [
    "all_freq.idxmin(), all_freq.idxmax()"
   ]
  },
  {
   "cell_type": "markdown",
   "id": "21e5ddef",
   "metadata": {},
   "source": [
    "- python vs Javascript for 20 most common words"
   ]
  },
  {
   "cell_type": "code",
   "execution_count": 106,
   "id": "d3615e00",
   "metadata": {},
   "outputs": [
    {
     "data": {
      "image/png": "[encoded data removed]",
      "text/plain": [
       "<Figure size 432x288 with 1 Axes>"
      ]
     },
     "metadata": {
      "needs_background": "light"
     },
     "output_type": "display_data"
    }
   ],
   "source": [
    "plt.rc('font', size=12)\n",
    "word_counts.sort_values('all', ascending=False).head(20)[['python', 'javascript']].plot.barh()\n",
    "plt.title('Python vs JavaScript count for the top 20 most frequent words');"
   ]
  },
  {
   "cell_type": "markdown",
   "id": "731c3f22",
   "metadata": {},
   "source": [
    "- C++ vs JavaScript for 20 most common words"
   ]
  },
  {
   "cell_type": "code",
   "execution_count": 107,
   "id": "63c68d90",
   "metadata": {},
   "outputs": [
    {
     "data": {
      "image/png": "[encoded data removed]",
      "text/plain": [
       "<Figure size 432x288 with 1 Axes>"
      ]
     },
     "metadata": {
      "needs_background": "light"
     },
     "output_type": "display_data"
    }
   ],
   "source": [
    "plt.rc('font', size=12)\n",
    "word_counts.sort_values('all', ascending=False).head(20)[['c_plus_plus', 'javascript']].plot.barh()\n",
    "plt.title('C++ vs JavaScript count for the top 20 most frequent words');"
   ]
  },
  {
   "cell_type": "markdown",
   "id": "074bfb44",
   "metadata": {},
   "source": [
    "- Java vs JavaScript for 20 most common words"
   ]
  },
  {
   "cell_type": "code",
   "execution_count": 108,
   "id": "f7f48a61",
   "metadata": {},
   "outputs": [
    {
     "data": {
      "image/png": "[encoded data removed]",
      "text/plain": [
       "<Figure size 432x288 with 1 Axes>"
      ]
     },
     "metadata": {
      "needs_background": "light"
     },
     "output_type": "display_data"
    }
   ],
   "source": [
    "plt.rc('font', size=12)\n",
    "word_counts.sort_values('all', ascending=False).head(20)[['javascript', 'java']].plot.barh()\n",
    "plt.title('JavaScript vs Java count for the top 20 most frequent words');"
   ]
  },
  {
   "cell_type": "markdown",
   "id": "6fb09f62",
   "metadata": {},
   "source": [
    "- JavaScript vs C for 20 most common words"
   ]
  },
  {
   "cell_type": "code",
   "execution_count": 109,
   "id": "8d3ee5cf",
   "metadata": {},
   "outputs": [
    {
     "data": {
      "image/png": "[encoded data removed]",
      "text/plain": [
       "<Figure size 432x288 with 1 Axes>"
      ]
     },
     "metadata": {
      "needs_background": "light"
     },
     "output_type": "display_data"
    }
   ],
   "source": [
    "plt.rc('font', size=12)\n",
    "word_counts.sort_values('all', ascending=False).head(20)[['javascript', 'c']].plot.barh()\n",
    "plt.title('JavaScript vs C count for the top 20 most frequent words');"
   ]
  },
  {
   "cell_type": "markdown",
   "id": "52ed82cc",
   "metadata": {},
   "source": [
    "- Wikitext vs AsciiDoc for 20 most common words"
   ]
  },
  {
   "cell_type": "code",
   "execution_count": null,
   "id": "38c4c5b2",
   "metadata": {},
   "outputs": [],
   "source": [
    "plt.rc('font', size=12)\n",
    "word_counts.sort_values('all', ascending=False).head(20)[['wiki', 'asciidoc']].plot.barh()\n",
    "plt.title('Wikitext vs AsciiDoc count for the top 20 most frequent words');"
   ]
  },
  {
   "cell_type": "markdown",
   "id": "2ff61a34",
   "metadata": {},
   "source": [
    "- Wikitext vs HTML for 20 most common words"
   ]
  },
  {
   "cell_type": "code",
   "execution_count": null,
   "id": "a84b5eed",
   "metadata": {},
   "outputs": [],
   "source": [
    "plt.rc('font', size=12)\n",
    "word_counts.sort_values('all', ascending=False).head(20)[['wiki', 'html']].plot.barh()\n",
    "plt.title('Wikitext vs HTML count for the top 20 most frequent words');"
   ]
  },
  {
   "cell_type": "markdown",
   "id": "ae606953",
   "metadata": {},
   "source": [
    "- % of Wikitext vs all for 20 most common words"
   ]
  },
  {
   "cell_type": "code",
   "execution_count": null,
   "id": "0a5b10ad",
   "metadata": {
    "scrolled": false
   },
   "outputs": [],
   "source": [
    "plt.figure(figsize=(12, 6))\n",
    "\n",
    "(word_counts.sort_values('all', ascending=False)\n",
    " .head(20)\n",
    " .apply(lambda row: row/row['all'], axis = 1)\n",
    " .drop(columns = 'all')\n",
    " .sort_values(by = 'wiki')\n",
    " .plot.barh(stacked = True, width = 1, ec = 'k')\n",
    ")\n",
    "plt.title('% of Wikitext vs all for the most common 20 words')\n",
    "\n",
    "plt.legend(bbox_to_anchor=(1.05, 1), loc='upper left', borderaxespad=0);"
   ]
  },
  {
   "cell_type": "markdown",
   "id": "6a3153da",
   "metadata": {},
   "source": [
    "- exploring n-grams\n",
    "    - what are the most common bigrams? \n",
    "    - most common bigrams by language"
   ]
  },
  {
   "cell_type": "code",
   "execution_count": null,
   "id": "13ee4661",
   "metadata": {},
   "outputs": [],
   "source": [
    "# most common bigrams\n",
    "\n",
    "plt.figure(figsize=(12, 6))\n",
    "pd.Series(nltk.bigrams(all_words.split())).value_counts().head(10).plot.barh()\n",
    "plt.title('Top 10 most common bigrams');"
   ]
  },
  {
   "cell_type": "code",
   "execution_count": null,
   "id": "66e0b771",
   "metadata": {},
   "outputs": [],
   "source": [
    "# most common Java bigrams\n",
    "\n",
    "plt.figure(figsize=(12, 6))\n",
    "pd.Series(nltk.bigrams(java_words.split())).value_counts().head(10).plot.barh()\n",
    "plt.title('Top 10 most common Java bigrams');"
   ]
  },
  {
   "cell_type": "code",
   "execution_count": null,
   "id": "5d72455b",
   "metadata": {},
   "outputs": [],
   "source": [
    "# most common C++ bigrams\n",
    "\n",
    "plt.figure(figsize=(12, 6))\n",
    "pd.Series(nltk.bigrams(c_plus_plus__words.split())).value_counts().head(10).plot.barh()\n",
    "plt.title('Top 10 most common C++ bigrams');"
   ]
  },
  {
   "cell_type": "code",
   "execution_count": null,
   "id": "372f359b",
   "metadata": {},
   "outputs": [],
   "source": [
    "# most common Wikitext bigrams\n",
    "\n",
    "plt.figure(figsize=(12, 6))\n",
    "pd.Series(nltk.bigrams(wiki_words.split())).value_counts().head(10).plot.barh()\n",
    "plt.title('Top 10 most common Wikitext bigrams');"
   ]
  },
  {
   "cell_type": "code",
   "execution_count": null,
   "id": "3efa1f6c",
   "metadata": {},
   "outputs": [],
   "source": [
    "# most common TypeScript bigrams\n",
    "\n",
    "plt.figure(figsize=(12, 6))\n",
    "pd.Series(nltk.bigrams(type_words.split())).value_counts().head(10).plot.barh()\n",
    "plt.title('Top 10 most common TypeScript bigrams');"
   ]
  },
  {
   "cell_type": "code",
   "execution_count": null,
   "id": "0792b4ef",
   "metadata": {},
   "outputs": [],
   "source": [
    "# most common C bigrams\n",
    "\n",
    "plt.figure(figsize=(12, 6))\n",
    "pd.Series(nltk.bigrams(c_words.split())).value_counts().head(10).plot.barh()\n",
    "plt.title('Top 10 most common C bigrams');"
   ]
  },
  {
   "cell_type": "code",
   "execution_count": null,
   "id": "1e4d0f9e",
   "metadata": {},
   "outputs": [],
   "source": [
    "# most common AsciiDoc bigrams\n",
    "\n",
    "plt.figure(figsize=(12, 6))\n",
    "pd.Series(nltk.bigrams(ascii_words.split())).value_counts().head(10).plot.barh()\n",
    "plt.title('Top 10 most common AsciiDic bigrams');"
   ]
  },
  {
   "cell_type": "code",
   "execution_count": null,
   "id": "c0a9ef96",
   "metadata": {},
   "outputs": [],
   "source": [
    "# most common Python bigrams\n",
    "\n",
    "plt.figure(figsize=(12, 6))\n",
    "pd.Series(nltk.bigrams(python_words.split())).value_counts().head(10).plot.barh()\n",
    "plt.title('Top 10 most common Python bigrams');"
   ]
  },
  {
   "cell_type": "code",
   "execution_count": null,
   "id": "5301c70e",
   "metadata": {},
   "outputs": [],
   "source": [
    "# most common HTML bigrams\n",
    "plt.figure(figsize=(12, 6))\n",
    "pd.Series(nltk.bigrams(html_words.split())).value_counts().head(10).plot.barh()\n",
    "plt.title('Top 10 most common HTML bigrams');"
   ]
  },
  {
   "cell_type": "markdown",
   "id": "7ebdf9e2",
   "metadata": {},
   "source": [
    "Create a word cloud of the most common words used in all"
   ]
  },
  {
   "cell_type": "code",
   "execution_count": null,
   "id": "173f216e",
   "metadata": {},
   "outputs": [],
   "source": [
    "from wordcloud import WordCloud\n",
    "plt.figure(figsize=(12, 9))\n",
    "img = WordCloud(background_color='white', width=800, height=600).generate(all_words)\n",
    "plt.imshow(img)\n",
    "plt.axis('off');"
   ]
  },
  {
   "cell_type": "markdown",
   "id": "827fceb4",
   "metadata": {},
   "source": [
    "### Modeling"
   ]
  },
  {
   "cell_type": "markdown",
   "id": "067ded20",
   "metadata": {},
   "source": [
    "### TF-IDF"
   ]
  },
  {
   "cell_type": "code",
   "execution_count": null,
   "id": "9383824f",
   "metadata": {},
   "outputs": [],
   "source": [
    "from sklearn.model_selection import train_test_split\n",
    "from sklearn.tree import DecisionTreeClassifier\n",
    "from sklearn.feature_extraction.text import TfidfVectorizer\n",
    "from sklearn.metrics import classification_report, accuracy_score"
   ]
  },
  {
   "cell_type": "code",
   "execution_count": null,
   "id": "ccd73538",
   "metadata": {},
   "outputs": [],
   "source": [
    "tfidf = TfidfVectorizer()\n",
    "X = tfidf.fit_transform(df.lemmatized)\n",
    "y = df.language"
   ]
  },
  {
   "cell_type": "code",
   "execution_count": null,
   "id": "2444e179",
   "metadata": {},
   "outputs": [],
   "source": [
    "X_train, X_test, y_train, y_test = train_test_split(X, y, stratify=y, test_size=.2)"
   ]
  },
  {
   "cell_type": "code",
   "execution_count": null,
   "id": "03333498",
   "metadata": {},
   "outputs": [],
   "source": [
    "train = pd.DataFrame(dict(actual=y_train))\n",
    "test = pd.DataFrame(dict(actual=y_test))"
   ]
  },
  {
   "cell_type": "code",
   "execution_count": null,
   "id": "23d9284e",
   "metadata": {},
   "outputs": [],
   "source": [
    "tree = DecisionTreeClassifier(max_depth=5).fit(X_train, y_train)\n",
    "train['tree_predicted'] = tree.predict(X_train)\n",
    "test['tree_predicted'] = tree.predict(X_test)"
   ]
  },
  {
   "cell_type": "code",
   "execution_count": null,
   "id": "827cb771",
   "metadata": {},
   "outputs": [],
   "source": [
    "print('Accuracy: {:.2%}'.format(accuracy_score(train.actual, train.tree_predicted)))\n",
    "print('---')\n",
    "print('Confusion Matrix')\n",
    "print(pd.crosstab(train.tree_predicted, train.actual))\n",
    "print('---')\n",
    "print(classification_report(train.actual, train.tree_predicted))"
   ]
  },
  {
   "cell_type": "markdown",
   "id": "bd70450f",
   "metadata": {},
   "source": [
    "### Bag of Words"
   ]
  },
  {
   "cell_type": "code",
   "execution_count": null,
   "id": "9988471e",
   "metadata": {},
   "outputs": [],
   "source": [
    "from sklearn.feature_extraction.text import CountVectorizer\n",
    "\n",
    "cv = CountVectorizer()\n",
    "X_bag_of_words = cv.fit_transform(df.lemmatized)\n",
    "y = df.language"
   ]
  },
  {
   "cell_type": "code",
   "execution_count": null,
   "id": "2c795e60",
   "metadata": {},
   "outputs": [],
   "source": [
    "X_bag_of_words.todense()"
   ]
  },
  {
   "cell_type": "code",
   "execution_count": null,
   "id": "3483daeb",
   "metadata": {},
   "outputs": [],
   "source": [
    "cv.get_feature_names()"
   ]
  },
  {
   "cell_type": "code",
   "execution_count": null,
   "id": "fa8ec461",
   "metadata": {},
   "outputs": [],
   "source": [
    "# Shows the column location of each word\n",
    "cv.vocabulary_"
   ]
  },
  {
   "cell_type": "code",
   "execution_count": null,
   "id": "cdee10b8",
   "metadata": {},
   "outputs": [],
   "source": [
    "bow = pd.DataFrame(X_bag_of_words.todense(), columns=cv.get_feature_names())\n",
    "bow"
   ]
  },
  {
   "cell_type": "code",
   "execution_count": null,
   "id": "38ede765",
   "metadata": {},
   "outputs": [],
   "source": [
    "X_train, X_test, y_train, y_test = train_test_split(X_bag_of_words, y, stratify=y, test_size=.2)\n",
    "\n",
    "train = pd.DataFrame(dict(actual=y_train))\n",
    "test = pd.DataFrame(dict(actual=y_test))"
   ]
  },
  {
   "cell_type": "code",
   "execution_count": null,
   "id": "eb5bfa29",
   "metadata": {},
   "outputs": [],
   "source": [
    "tree = DecisionTreeClassifier(max_depth=5).fit(X_train, y_train)\n",
    "train['tree_predicted'] = tree.predict(X_train)\n",
    "test['tree_predicted'] = tree.predict(X_test)"
   ]
  },
  {
   "cell_type": "code",
   "execution_count": null,
   "id": "fc7f1adc",
   "metadata": {},
   "outputs": [],
   "source": [
    "print('Accuracy: {:.2%}'.format(accuracy_score(train.actual, train.tree_predicted)))\n",
    "print('---')\n",
    "print('Confusion Matrix')\n",
    "print(pd.crosstab(train.tree_predicted, train.actual))\n",
    "print('---')\n",
    "print(classification_report(train.actual, train.tree_predicted))"
   ]
  },
  {
   "cell_type": "markdown",
   "id": "e7015ec3",
   "metadata": {},
   "source": [
    "### n-grams as a feature engineering"
   ]
  },
  {
   "cell_type": "code",
   "execution_count": null,
   "id": "a1ff681a",
   "metadata": {
    "scrolled": true
   },
   "outputs": [],
   "source": [
    "cv = CountVectorizer(ngram_range=(2, 2))\n",
    "bigrams = cv.fit_transform(df.lemmatized)\n",
    "\n",
    "pprint(df.lemmatized)\n",
    "pd.DataFrame(bigrams.todense(), columns=cv.get_feature_names())"
   ]
  },
  {
   "cell_type": "code",
   "execution_count": null,
   "id": "2f3119d0",
   "metadata": {},
   "outputs": [],
   "source": [
    "pd.DataFrame(bigrams.todense(), columns=cv.get_feature_names())['your system']"
   ]
  },
  {
   "cell_type": "code",
   "execution_count": null,
   "id": "d62d68aa",
   "metadata": {},
   "outputs": [],
   "source": [
    "pd.DataFrame(bigrams.todense(), columns=cv.get_feature_names())['your system'].sum()"
   ]
  },
  {
   "cell_type": "code",
   "execution_count": null,
   "id": "4d9d7be2",
   "metadata": {},
   "outputs": [],
   "source": []
  }
 ],
 "metadata": {
  "kernelspec": {
   "display_name": "Python 3",
   "language": "python",
   "name": "python3"
  },
  "language_info": {
   "codemirror_mode": {
    "name": "ipython",
    "version": 3
   },
   "file_extension": ".py",
   "mimetype": "text/x-python",
   "name": "python",
   "nbconvert_exporter": "python",
   "pygments_lexer": "ipython3",
   "version": "3.8.8"
  }
 },
 "nbformat": 4,
 "nbformat_minor": 5
}
