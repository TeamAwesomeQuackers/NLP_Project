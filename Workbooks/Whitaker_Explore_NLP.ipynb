{
 "cells": [
  {
   "cell_type": "markdown",
   "id": "eb6387ac",
   "metadata": {},
   "source": [
    "## Chloe's Explore Notebook for the NLP Group Project"
   ]
  },
  {
   "cell_type": "markdown",
   "id": "b0c11117",
   "metadata": {},
   "source": [
    "### Imports"
   ]
  },
  {
   "cell_type": "code",
   "execution_count": 13,
   "id": "bb468d11",
   "metadata": {},
   "outputs": [],
   "source": [
    "import pandas as pd\n",
    "import numpy as np\n",
    "\n",
    "# Scraping\n",
    "import requests\n",
    "from bs4 import BeautifulSoup\n",
    "\n",
    "import nltk\n",
    "from nltk.tokenize.toktok import ToktokTokenizer\n",
    "from nltk.corpus import stopwords\n",
    "import nltk.sentiment\n",
    "\n",
    "from wordcloud import WordCloud\n",
    "\n",
    "# Regex\n",
    "import re\n",
    "\n",
    "# Time\n",
    "from time import strftime\n",
    "\n",
    "import unicodedata\n",
    "import json\n",
    "from pprint import pprint\n",
    "\n",
    "# Visualizations\n",
    "import matplotlib.pyplot as plt\n",
    "import seaborn as sns\n",
    "\n",
    "# Custom Imports\n",
    "import acquire \n",
    "from prepare import *\n",
    "\n",
    "# Turn off pink boxes for demo\n",
    "import warnings\n",
    "warnings.filterwarnings(\"ignore\")\n",
    "\n",
    "# pd.set_option('display.max_colwidth', -1)"
   ]
  },
  {
   "cell_type": "markdown",
   "id": "7be94cd0",
   "metadata": {},
   "source": [
    "### Acquire"
   ]
  },
  {
   "cell_type": "code",
   "execution_count": 2,
   "id": "49fe33da",
   "metadata": {},
   "outputs": [],
   "source": [
    "# acquire.scrape_github_data()"
   ]
  },
  {
   "cell_type": "code",
   "execution_count": 3,
   "id": "d68867de",
   "metadata": {},
   "outputs": [],
   "source": [
    "# df = pd.DataFrame(acquire.scrape_github_data(),columns=['repo','language','readme_contents'])\n",
    "# df.head()\n"
   ]
  },
  {
   "cell_type": "code",
   "execution_count": 4,
   "id": "cb69a78b",
   "metadata": {},
   "outputs": [],
   "source": [
    "df = pd.read_json('repo_readmes.json')"
   ]
  },
  {
   "cell_type": "code",
   "execution_count": 5,
   "id": "fef243ef",
   "metadata": {},
   "outputs": [
    {
     "data": {
      "text/plain": [
       "(90, 3)"
      ]
     },
     "execution_count": 5,
     "metadata": {},
     "output_type": "execute_result"
    }
   ],
   "source": [
    "df.shape"
   ]
  },
  {
   "cell_type": "code",
   "execution_count": 6,
   "id": "69265208",
   "metadata": {},
   "outputs": [
    {
     "name": "stdout",
     "output_type": "stream",
     "text": [
      "                             repo    language  \\\n",
      "0                 bitcoin/bitcoin         C++   \n",
      "1         bitcoinbook/bitcoinbook    AsciiDoc   \n",
      "2               bitcoinj/bitcoinj        Java   \n",
      "3                    bitcoin/bips    Wikitext   \n",
      "4         bitcoinjs/bitcoinjs-lib  TypeScript   \n",
      "..                            ...         ...   \n",
      "85              spesmilo/electrum      Python   \n",
      "86  bitcoin-wallet/bitcoin-wallet        Java   \n",
      "87        etotheipi/BitcoinArmory         C++   \n",
      "88    bitcoin-dot-org/Bitcoin.org        HTML   \n",
      "89               jgarzik/cpuminer           C   \n",
      "\n",
      "                                      readme_contents  \n",
      "0   Bitcoin Core integration/staging tree\\n=======...  \n",
      "1   Code Examples: ![travis_ci](https://travis-ci....  \n",
      "2   [![Github Build Status](https://github.com/bit...  \n",
      "3   People wishing to submit BIPs, first should pr...  \n",
      "4   # BitcoinJS (bitcoinjs-lib)\\n[![Github CI](htt...  \n",
      "..                                                ...  \n",
      "85  Electrum - Lightweight Bitcoin client\\n=======...  \n",
      "86  # BITCOIN WALLET\\n\\nWelcome to _Bitcoin Wallet...  \n",
      "87  ##Armory\\n\\n**Created by Alan Reiner on 13 Jul...  \n",
      "88  # Welcome to Bitcoin.org's Codebase\\n\\nCurrent...  \n",
      "89  \\nThis is a multi-threaded CPU miner for bitco...  \n",
      "\n",
      "[90 rows x 3 columns]\n"
     ]
    }
   ],
   "source": [
    "original = pd.read_json('repo_readmes.json')\n",
    "print(original)"
   ]
  },
  {
   "cell_type": "markdown",
   "id": "bfbfdf55",
   "metadata": {},
   "source": [
    "### Prepare"
   ]
  },
  {
   "cell_type": "code",
   "execution_count": 7,
   "id": "c1e9c313",
   "metadata": {},
   "outputs": [
    {
     "data": {
      "text/html": [
       "<div>\n",
       "<style scoped>\n",
       "    .dataframe tbody tr th:only-of-type {\n",
       "        vertical-align: middle;\n",
       "    }\n",
       "\n",
       "    .dataframe tbody tr th {\n",
       "        vertical-align: top;\n",
       "    }\n",
       "\n",
       "    .dataframe thead th {\n",
       "        text-align: right;\n",
       "    }\n",
       "</style>\n",
       "<table border=\"1\" class=\"dataframe\">\n",
       "  <thead>\n",
       "    <tr style=\"text-align: right;\">\n",
       "      <th></th>\n",
       "      <th>repo</th>\n",
       "      <th>language</th>\n",
       "      <th>readme_contents</th>\n",
       "    </tr>\n",
       "  </thead>\n",
       "  <tbody>\n",
       "    <tr>\n",
       "      <th>0</th>\n",
       "      <td>bitcoin/bitcoin</td>\n",
       "      <td>C++</td>\n",
       "      <td>Bitcoin Core integration/staging tree\\n=======...</td>\n",
       "    </tr>\n",
       "    <tr>\n",
       "      <th>1</th>\n",
       "      <td>bitcoinbook/bitcoinbook</td>\n",
       "      <td>AsciiDoc</td>\n",
       "      <td>Code Examples: ![travis_ci](https://travis-ci....</td>\n",
       "    </tr>\n",
       "    <tr>\n",
       "      <th>2</th>\n",
       "      <td>bitcoinj/bitcoinj</td>\n",
       "      <td>Java</td>\n",
       "      <td>[![Github Build Status](https://github.com/bit...</td>\n",
       "    </tr>\n",
       "    <tr>\n",
       "      <th>3</th>\n",
       "      <td>bitcoin/bips</td>\n",
       "      <td>Wikitext</td>\n",
       "      <td>People wishing to submit BIPs, first should pr...</td>\n",
       "    </tr>\n",
       "    <tr>\n",
       "      <th>4</th>\n",
       "      <td>bitcoinjs/bitcoinjs-lib</td>\n",
       "      <td>TypeScript</td>\n",
       "      <td># BitcoinJS (bitcoinjs-lib)\\n[![Github CI](htt...</td>\n",
       "    </tr>\n",
       "  </tbody>\n",
       "</table>\n",
       "</div>"
      ],
      "text/plain": [
       "                      repo    language  \\\n",
       "0          bitcoin/bitcoin         C++   \n",
       "1  bitcoinbook/bitcoinbook    AsciiDoc   \n",
       "2        bitcoinj/bitcoinj        Java   \n",
       "3             bitcoin/bips    Wikitext   \n",
       "4  bitcoinjs/bitcoinjs-lib  TypeScript   \n",
       "\n",
       "                                     readme_contents  \n",
       "0  Bitcoin Core integration/staging tree\\n=======...  \n",
       "1  Code Examples: ![travis_ci](https://travis-ci....  \n",
       "2  [![Github Build Status](https://github.com/bit...  \n",
       "3  People wishing to submit BIPs, first should pr...  \n",
       "4  # BitcoinJS (bitcoinjs-lib)\\n[![Github CI](htt...  "
      ]
     },
     "execution_count": 7,
     "metadata": {},
     "output_type": "execute_result"
    }
   ],
   "source": [
    "df.head()"
   ]
  },
  {
   "cell_type": "code",
   "execution_count": 8,
   "id": "b08832cd",
   "metadata": {},
   "outputs": [],
   "source": [
    "# if you want to see the whole column contents:\n",
    "# pd.set_option('display.max_colwidth', -1)"
   ]
  },
  {
   "cell_type": "code",
   "execution_count": 9,
   "id": "49b42c7e",
   "metadata": {},
   "outputs": [
    {
     "data": {
      "text/plain": [
       "Java          0.2\n",
       "C++           0.2\n",
       "Wikitext      0.1\n",
       "TypeScript    0.1\n",
       "C             0.1\n",
       "AsciiDoc      0.1\n",
       "Python        0.1\n",
       "HTML          0.1\n",
       "Name: language, dtype: float64"
      ]
     },
     "execution_count": 9,
     "metadata": {},
     "output_type": "execute_result"
    }
   ],
   "source": [
    "# how many language observations do we have?\n",
    "\n",
    "df.language.value_counts(normalize = True)"
   ]
  },
  {
   "cell_type": "code",
   "execution_count": 10,
   "id": "15d2a732",
   "metadata": {},
   "outputs": [
    {
     "name": "stdout",
     "output_type": "stream",
     "text": [
      "<class 'pandas.core.frame.DataFrame'>\n",
      "Int64Index: 90 entries, 0 to 89\n",
      "Data columns (total 3 columns):\n",
      " #   Column           Non-Null Count  Dtype \n",
      "---  ------           --------------  ----- \n",
      " 0   repo             90 non-null     object\n",
      " 1   language         90 non-null     object\n",
      " 2   readme_contents  90 non-null     object\n",
      "dtypes: object(3)\n",
      "memory usage: 2.8+ KB\n"
     ]
    }
   ],
   "source": [
    "df.info()"
   ]
  },
  {
   "cell_type": "code",
   "execution_count": 16,
   "id": "9e8261fd",
   "metadata": {},
   "outputs": [],
   "source": [
    "# combine all messages in single string by language\n",
    "\n",
    "java_words = basic_clean(' '.join(df[df.language == 'Java'].readme_contents))\n",
    "c_plus_plus__words = basic_clean(' '.join(df[df.language == 'C++'].readme_contents))\n",
    "wiki_words = basic_clean(' '.join(df[df.language == 'Wikitext '].readme_contents))\n",
    "type_words = basic_clean(' '.join(df[df.language == 'TypeScript'].readme_contents))\n",
    "c_words = basic_clean(' '.join(df[df.language == 'C'].readme_contents))\n",
    "ascii_words = basic_clean(' '.join(df[df.language == 'AsciiDoc'].readme_contents))\n",
    "python_words = basic_clean(' '.join(df[df.language == 'Python'].readme_contents))\n",
    "html_words = basic_clean(' '.join(df[df.language == 'HTML'].readme_contents))\n",
    "all_words = basic_clean(' '.join(df.readme_contents))"
   ]
  },
  {
   "cell_type": "code",
   "execution_count": 18,
   "id": "d8ad912d",
   "metadata": {},
   "outputs": [],
   "source": [
    "# all_words"
   ]
  },
  {
   "cell_type": "markdown",
   "id": "97e7d73c",
   "metadata": {},
   "source": [
    "### Explore"
   ]
  },
  {
   "cell_type": "code",
   "execution_count": null,
   "id": "f90cf7c7",
   "metadata": {},
   "outputs": [],
   "source": []
  }
 ],
 "metadata": {
  "kernelspec": {
   "display_name": "Python 3",
   "language": "python",
   "name": "python3"
  },
  "language_info": {
   "codemirror_mode": {
    "name": "ipython",
    "version": 3
   },
   "file_extension": ".py",
   "mimetype": "text/x-python",
   "name": "python",
   "nbconvert_exporter": "python",
   "pygments_lexer": "ipython3",
   "version": "3.8.8"
  }
 },
 "nbformat": 4,
 "nbformat_minor": 5
}
