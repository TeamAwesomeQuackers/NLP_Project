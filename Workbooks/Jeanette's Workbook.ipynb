{
 "cells": [
  {
   "cell_type": "markdown",
   "id": "2578d930",
   "metadata": {},
   "source": [
    "# Jeanette's Workbook\n",
    "\n",
    "<hr style=\"border:2px solid green\"> </hr>\n",
    "\n",
    "This is a collection of all the work I provided for this project. "
   ]
  },
  {
   "cell_type": "markdown",
   "id": "5cd651a2",
   "metadata": {},
   "source": [
    "- The README\n",
    "- Started the Google Slides \n",
    "- \n"
   ]
  },
  {
   "cell_type": "code",
   "execution_count": 1,
   "id": "1df42fc6",
   "metadata": {},
   "outputs": [],
   "source": [
    "import unicodedata\n",
    "import re\n",
    "import json\n",
    "\n",
    "import nltk\n",
    "from nltk.tokenize.toktok import ToktokTokenizer\n",
    "from nltk.corpus import stopwords\n",
    "\n",
    "import pandas as pd\n",
    "from time import strftime\n",
    "\n",
    "import warnings\n",
    "warnings.filterwarnings('ignore')"
   ]
  },
  {
   "cell_type": "code",
   "execution_count": 2,
   "id": "2e963085",
   "metadata": {},
   "outputs": [],
   "source": [
    "# Reading the file full of readme texts\n",
    "df = pd.read_json('repo_readmes.json')"
   ]
  },
  {
   "cell_type": "code",
   "execution_count": 3,
   "id": "b13f9762",
   "metadata": {},
   "outputs": [
    {
     "data": {
      "text/html": [
       "<div>\n",
       "<style scoped>\n",
       "    .dataframe tbody tr th:only-of-type {\n",
       "        vertical-align: middle;\n",
       "    }\n",
       "\n",
       "    .dataframe tbody tr th {\n",
       "        vertical-align: top;\n",
       "    }\n",
       "\n",
       "    .dataframe thead th {\n",
       "        text-align: right;\n",
       "    }\n",
       "</style>\n",
       "<table border=\"1\" class=\"dataframe\">\n",
       "  <thead>\n",
       "    <tr style=\"text-align: right;\">\n",
       "      <th></th>\n",
       "      <th>repo</th>\n",
       "      <th>language</th>\n",
       "      <th>readme_contents</th>\n",
       "    </tr>\n",
       "  </thead>\n",
       "  <tbody>\n",
       "    <tr>\n",
       "      <th>0</th>\n",
       "      <td>using-system/LightningPay</td>\n",
       "      <td>C#</td>\n",
       "      <td># LightningPay\\nBitcoin Lightning Network Paym...</td>\n",
       "    </tr>\n",
       "    <tr>\n",
       "      <th>1</th>\n",
       "      <td>drminnaar/react-bitcoin-monitor</td>\n",
       "      <td>JavaScript</td>\n",
       "      <td># React Bitcoin Monitor\\n\\nAn app that monitor...</td>\n",
       "    </tr>\n",
       "    <tr>\n",
       "      <th>2</th>\n",
       "      <td>lbryio/lbrycrd</td>\n",
       "      <td>C++</td>\n",
       "      <td># LBRYcrd - The LBRY blockchain\\n\\n[![Build St...</td>\n",
       "    </tr>\n",
       "    <tr>\n",
       "      <th>3</th>\n",
       "      <td>ElementsProject/lightning-charge</td>\n",
       "      <td>JavaScript</td>\n",
       "      <td># Lightning Charge\\n\\n[![build status](https:/...</td>\n",
       "    </tr>\n",
       "    <tr>\n",
       "      <th>4</th>\n",
       "      <td>kilimchoi/cryptocurrency</td>\n",
       "      <td>None</td>\n",
       "      <td>Check out https://coinbuddy.co/coins to track ...</td>\n",
       "    </tr>\n",
       "    <tr>\n",
       "      <th>5</th>\n",
       "      <td>tip4commit/tip4commit</td>\n",
       "      <td>Ruby</td>\n",
       "      <td>Tip4commit\\n==========\\n\\n[![tip for next comm...</td>\n",
       "    </tr>\n",
       "    <tr>\n",
       "      <th>6</th>\n",
       "      <td>LarsHoldgaard/bitcoin-wrapper</td>\n",
       "      <td>JavaScript</td>\n",
       "      <td>This is a Bitcoin qt wrapper for .NET. It is w...</td>\n",
       "    </tr>\n",
       "    <tr>\n",
       "      <th>7</th>\n",
       "      <td>mappum/bitcoin-protocol</td>\n",
       "      <td>JavaScript</td>\n",
       "      <td># bitcoin-protocol\\n\\n[![npm version](https://...</td>\n",
       "    </tr>\n",
       "    <tr>\n",
       "      <th>8</th>\n",
       "      <td>HelloZeroNet/zeronet.io</td>\n",
       "      <td>HTML</td>\n",
       "      <td>https://zeronet.io\\n</td>\n",
       "    </tr>\n",
       "    <tr>\n",
       "      <th>9</th>\n",
       "      <td>renproject/multichain</td>\n",
       "      <td>Go</td>\n",
       "      <td># `🔗 multichain`\\n\\n## Layout\\n\\n`/` declares ...</td>\n",
       "    </tr>\n",
       "    <tr>\n",
       "      <th>10</th>\n",
       "      <td>livegnik/BitCoin-v0.01-ALPHA</td>\n",
       "      <td>C++</td>\n",
       "      <td>BitCoin v0.01 ALPHA\\r\\n\\r\\nCopyright (c) 2009 ...</td>\n",
       "    </tr>\n",
       "    <tr>\n",
       "      <th>11</th>\n",
       "      <td>doomhz/coinnext_engine</td>\n",
       "      <td>CoffeeScript</td>\n",
       "      <td>coinnext engine\\n===============\\n\\nVirtual co...</td>\n",
       "    </tr>\n",
       "    <tr>\n",
       "      <th>12</th>\n",
       "      <td>happyg1t/bitcoin-analysis</td>\n",
       "      <td>None</td>\n",
       "      <td>bitcoin-analysis\\n================\\n\\n比特币源代码分析\\n</td>\n",
       "    </tr>\n",
       "    <tr>\n",
       "      <th>13</th>\n",
       "      <td>mmick66/jswallet</td>\n",
       "      <td>JavaScript</td>\n",
       "      <td># JSWallet\\n\\n![Screen Shot](https://github.co...</td>\n",
       "    </tr>\n",
       "    <tr>\n",
       "      <th>14</th>\n",
       "      <td>DissentDifference/DarkWallet</td>\n",
       "      <td>Python</td>\n",
       "      <td>## DarkWallet - Bitcoin privacy wallet for ano...</td>\n",
       "    </tr>\n",
       "    <tr>\n",
       "      <th>15</th>\n",
       "      <td>weex/oscommerce-bitcoin</td>\n",
       "      <td>PHP</td>\n",
       "      <td>osCommerce Bitcoin Payment Module v0.6\\n\\nThis...</td>\n",
       "    </tr>\n",
       "    <tr>\n",
       "      <th>16</th>\n",
       "      <td>stiggy87/ZynqBTC</td>\n",
       "      <td>VHDL</td>\n",
       "      <td>ZynqBTC\\n=======\\n\\nA Bitcoin miner for the Zy...</td>\n",
       "    </tr>\n",
       "    <tr>\n",
       "      <th>17</th>\n",
       "      <td>palmall/WebBitcoinEscrow</td>\n",
       "      <td>HTML</td>\n",
       "      <td>WebBitcoinEscrow\\nMinimalist and secure web ba...</td>\n",
       "    </tr>\n",
       "    <tr>\n",
       "      <th>18</th>\n",
       "      <td>dily3825002/awesome-blockchain</td>\n",
       "      <td>None</td>\n",
       "      <td>&lt;p align=\"center\"&gt;\\n    &lt;img src=\"./logo.jpeg\"...</td>\n",
       "    </tr>\n",
       "    <tr>\n",
       "      <th>19</th>\n",
       "      <td>Coldcard/firmware</td>\n",
       "      <td>Python</td>\n",
       "      <td># Coldcard Wallet\\n\\nColdcard is a Cheap, Ultr...</td>\n",
       "    </tr>\n",
       "    <tr>\n",
       "      <th>20</th>\n",
       "      <td>circulosmeos/bitcoin-in-tiny-pieces</td>\n",
       "      <td>Python</td>\n",
       "      <td># bitcoin in tiny pieces\\n\\nThese are Python s...</td>\n",
       "    </tr>\n",
       "    <tr>\n",
       "      <th>21</th>\n",
       "      <td>shamoons/Kapitalize</td>\n",
       "      <td>JavaScript</td>\n",
       "      <td># Kapitalize\\n\\nKapitalize is an industrious B...</td>\n",
       "    </tr>\n",
       "    <tr>\n",
       "      <th>22</th>\n",
       "      <td>Ayms/bitcoin-wallets</td>\n",
       "      <td>JavaScript</td>\n",
       "      <td>bitcoin-wallets\\n===\\n\\nBitcoin (BTC, BCH, BTG...</td>\n",
       "    </tr>\n",
       "    <tr>\n",
       "      <th>23</th>\n",
       "      <td>technologiespro/paper-wallet-generator</td>\n",
       "      <td>Vue</td>\n",
       "      <td># Paper Wallet Generator Desktop &amp; Mobile\\n\\n[...</td>\n",
       "    </tr>\n",
       "    <tr>\n",
       "      <th>24</th>\n",
       "      <td>jdcloud-bds/bds-btc</td>\n",
       "      <td>C++</td>\n",
       "      <td># bds-btc \\n![logo](./doc/bds-logo.png)\\n## In...</td>\n",
       "    </tr>\n",
       "    <tr>\n",
       "      <th>25</th>\n",
       "      <td>scintill/php-bitcoin-signature-routines</td>\n",
       "      <td>PHP</td>\n",
       "      <td># php-bitcoin-signature-routines\\n\\nPHP routin...</td>\n",
       "    </tr>\n",
       "    <tr>\n",
       "      <th>26</th>\n",
       "      <td>gcash/bchd</td>\n",
       "      <td>Go</td>\n",
       "      <td>bchd\\n====\\n[![Build Status](https://travis-ci...</td>\n",
       "    </tr>\n",
       "    <tr>\n",
       "      <th>27</th>\n",
       "      <td>SqueezerIO/squeezer</td>\n",
       "      <td>JavaScript</td>\n",
       "      <td>&lt;a href=\"https://squeezer.io\" target=\"_blank\"&gt;...</td>\n",
       "    </tr>\n",
       "    <tr>\n",
       "      <th>28</th>\n",
       "      <td>nayutaco/ptarmigan</td>\n",
       "      <td>C</td>\n",
       "      <td># Ptarmigan\\n\\n[![Build Status](https://travis...</td>\n",
       "    </tr>\n",
       "    <tr>\n",
       "      <th>29</th>\n",
       "      <td>bitcoinfullnode/rokos-ok-bitcoin-fullnode</td>\n",
       "      <td>None</td>\n",
       "      <td>![ROKOS-OK](https://i.imgur.com/YYXJ9up.png)\\n...</td>\n",
       "    </tr>\n",
       "    <tr>\n",
       "      <th>30</th>\n",
       "      <td>indyjo/bitwrk</td>\n",
       "      <td>Go</td>\n",
       "      <td>BitWrk - Bitcoin-fueled Distributed Peer-to-Pe...</td>\n",
       "    </tr>\n",
       "    <tr>\n",
       "      <th>31</th>\n",
       "      <td>ipld/go-ipld-btc</td>\n",
       "      <td>Go</td>\n",
       "      <td>Bitcoin ipld format\\n==================\\n\\n[![...</td>\n",
       "    </tr>\n",
       "    <tr>\n",
       "      <th>32</th>\n",
       "      <td>Kamahl19/react-native-wallet</td>\n",
       "      <td>JavaScript</td>\n",
       "      <td># React Native Crypto Wallet\\n\\nSimple mobile ...</td>\n",
       "    </tr>\n",
       "    <tr>\n",
       "      <th>33</th>\n",
       "      <td>Unthinkingbit/bitcointools</td>\n",
       "      <td>Python</td>\n",
       "      <td>This is a modification of an old version of bi...</td>\n",
       "    </tr>\n",
       "    <tr>\n",
       "      <th>34</th>\n",
       "      <td>prettymuchbryce/hellobitcoin</td>\n",
       "      <td>Go</td>\n",
       "      <td>### Overview\\n\\nThis is a collection of simple...</td>\n",
       "    </tr>\n",
       "    <tr>\n",
       "      <th>35</th>\n",
       "      <td>bitcoin333/bitcoinbook</td>\n",
       "      <td>Python</td>\n",
       "      <td># Mastering Bitcoin\\nMastering Bitcoin is a bo...</td>\n",
       "    </tr>\n",
       "    <tr>\n",
       "      <th>36</th>\n",
       "      <td>BitcoinMafia/SpareCoinsExt</td>\n",
       "      <td>JavaScript</td>\n",
       "      <td>### SpareCoins\\n\\nThis is the repo for the fro...</td>\n",
       "    </tr>\n",
       "    <tr>\n",
       "      <th>37</th>\n",
       "      <td>ACINQ/phoenix</td>\n",
       "      <td>C</td>\n",
       "      <td>[![License](https://img.shields.io/badge/licen...</td>\n",
       "    </tr>\n",
       "    <tr>\n",
       "      <th>38</th>\n",
       "      <td>gogogoutham/bitcointalk-scraper</td>\n",
       "      <td>Python</td>\n",
       "      <td>bitcointalk-scraper\\n===================\\n\\nPy...</td>\n",
       "    </tr>\n",
       "    <tr>\n",
       "      <th>39</th>\n",
       "      <td>Kimbatt/btc-address-generator</td>\n",
       "      <td>HTML</td>\n",
       "      <td># Bitcoin address generator\\nAvailable at http...</td>\n",
       "    </tr>\n",
       "    <tr>\n",
       "      <th>40</th>\n",
       "      <td>mappum/webcoin</td>\n",
       "      <td>JavaScript</td>\n",
       "      <td>![Webcoin](img/logo.png)\\n\\n### A Bitcoin clie...</td>\n",
       "    </tr>\n",
       "    <tr>\n",
       "      <th>41</th>\n",
       "      <td>martinus/BitcoinUtxoVisualizer</td>\n",
       "      <td>C++</td>\n",
       "      <td># BitcoinUtxoVisualizer\\n\\nBitcoinUtxoVisualiz...</td>\n",
       "    </tr>\n",
       "    <tr>\n",
       "      <th>42</th>\n",
       "      <td>nopara73/HiddenBitcoin</td>\n",
       "      <td>C#</td>\n",
       "      <td># HiddenBitcoin\\nA privacy orineted Bitcoin wa...</td>\n",
       "    </tr>\n",
       "    <tr>\n",
       "      <th>43</th>\n",
       "      <td>ufasoft/coin</td>\n",
       "      <td>C++</td>\n",
       "      <td>Ufasoft Multi-currency Bitcoin Client and Mine...</td>\n",
       "    </tr>\n",
       "    <tr>\n",
       "      <th>44</th>\n",
       "      <td>chibui191/bitcoin_volatility_forecasting</td>\n",
       "      <td>Jupyter Notebook</td>\n",
       "      <td>![Bitcoin Forbes](./images/forbes_bitcoin.jpg)...</td>\n",
       "    </tr>\n",
       "    <tr>\n",
       "      <th>45</th>\n",
       "      <td>lamuguo/bitcoin-java-miner</td>\n",
       "      <td>Java</td>\n",
       "      <td></td>\n",
       "    </tr>\n",
       "    <tr>\n",
       "      <th>46</th>\n",
       "      <td>pierce403/keyhunter</td>\n",
       "      <td>Python</td>\n",
       "      <td>keyhunter\\n=========\\n\\nA tool to recover lost...</td>\n",
       "    </tr>\n",
       "    <tr>\n",
       "      <th>47</th>\n",
       "      <td>twostack/dartsv</td>\n",
       "      <td>Dart</td>\n",
       "      <td># Introduction\\n\\n![Dart CI](https://github.co...</td>\n",
       "    </tr>\n",
       "    <tr>\n",
       "      <th>48</th>\n",
       "      <td>pooler/rollproxy</td>\n",
       "      <td>Python</td>\n",
       "      <td>*********\\nRollProxy\\n*********\\n\\nRollProxy i...</td>\n",
       "    </tr>\n",
       "    <tr>\n",
       "      <th>49</th>\n",
       "      <td>jameslitton/coinscope</td>\n",
       "      <td>C++</td>\n",
       "      <td># coinscope\\nAn observation and testing framew...</td>\n",
       "    </tr>\n",
       "  </tbody>\n",
       "</table>\n",
       "</div>"
      ],
      "text/plain": [
       "                                         repo          language  \\\n",
       "0                   using-system/LightningPay                C#   \n",
       "1             drminnaar/react-bitcoin-monitor        JavaScript   \n",
       "2                              lbryio/lbrycrd               C++   \n",
       "3            ElementsProject/lightning-charge        JavaScript   \n",
       "4                    kilimchoi/cryptocurrency              None   \n",
       "5                       tip4commit/tip4commit              Ruby   \n",
       "6               LarsHoldgaard/bitcoin-wrapper        JavaScript   \n",
       "7                     mappum/bitcoin-protocol        JavaScript   \n",
       "8                     HelloZeroNet/zeronet.io              HTML   \n",
       "9                       renproject/multichain                Go   \n",
       "10               livegnik/BitCoin-v0.01-ALPHA               C++   \n",
       "11                     doomhz/coinnext_engine      CoffeeScript   \n",
       "12                  happyg1t/bitcoin-analysis              None   \n",
       "13                           mmick66/jswallet        JavaScript   \n",
       "14               DissentDifference/DarkWallet            Python   \n",
       "15                    weex/oscommerce-bitcoin               PHP   \n",
       "16                           stiggy87/ZynqBTC              VHDL   \n",
       "17                   palmall/WebBitcoinEscrow              HTML   \n",
       "18             dily3825002/awesome-blockchain              None   \n",
       "19                          Coldcard/firmware            Python   \n",
       "20        circulosmeos/bitcoin-in-tiny-pieces            Python   \n",
       "21                        shamoons/Kapitalize        JavaScript   \n",
       "22                       Ayms/bitcoin-wallets        JavaScript   \n",
       "23     technologiespro/paper-wallet-generator               Vue   \n",
       "24                        jdcloud-bds/bds-btc               C++   \n",
       "25    scintill/php-bitcoin-signature-routines               PHP   \n",
       "26                                 gcash/bchd                Go   \n",
       "27                        SqueezerIO/squeezer        JavaScript   \n",
       "28                         nayutaco/ptarmigan                 C   \n",
       "29  bitcoinfullnode/rokos-ok-bitcoin-fullnode              None   \n",
       "30                              indyjo/bitwrk                Go   \n",
       "31                           ipld/go-ipld-btc                Go   \n",
       "32               Kamahl19/react-native-wallet        JavaScript   \n",
       "33                 Unthinkingbit/bitcointools            Python   \n",
       "34               prettymuchbryce/hellobitcoin                Go   \n",
       "35                     bitcoin333/bitcoinbook            Python   \n",
       "36                 BitcoinMafia/SpareCoinsExt        JavaScript   \n",
       "37                              ACINQ/phoenix                 C   \n",
       "38            gogogoutham/bitcointalk-scraper            Python   \n",
       "39              Kimbatt/btc-address-generator              HTML   \n",
       "40                             mappum/webcoin        JavaScript   \n",
       "41             martinus/BitcoinUtxoVisualizer               C++   \n",
       "42                     nopara73/HiddenBitcoin                C#   \n",
       "43                               ufasoft/coin               C++   \n",
       "44   chibui191/bitcoin_volatility_forecasting  Jupyter Notebook   \n",
       "45                 lamuguo/bitcoin-java-miner              Java   \n",
       "46                        pierce403/keyhunter            Python   \n",
       "47                            twostack/dartsv              Dart   \n",
       "48                           pooler/rollproxy            Python   \n",
       "49                      jameslitton/coinscope               C++   \n",
       "\n",
       "                                      readme_contents  \n",
       "0   # LightningPay\\nBitcoin Lightning Network Paym...  \n",
       "1   # React Bitcoin Monitor\\n\\nAn app that monitor...  \n",
       "2   # LBRYcrd - The LBRY blockchain\\n\\n[![Build St...  \n",
       "3   # Lightning Charge\\n\\n[![build status](https:/...  \n",
       "4   Check out https://coinbuddy.co/coins to track ...  \n",
       "5   Tip4commit\\n==========\\n\\n[![tip for next comm...  \n",
       "6   This is a Bitcoin qt wrapper for .NET. It is w...  \n",
       "7   # bitcoin-protocol\\n\\n[![npm version](https://...  \n",
       "8                                https://zeronet.io\\n  \n",
       "9   # `🔗 multichain`\\n\\n## Layout\\n\\n`/` declares ...  \n",
       "10  BitCoin v0.01 ALPHA\\r\\n\\r\\nCopyright (c) 2009 ...  \n",
       "11  coinnext engine\\n===============\\n\\nVirtual co...  \n",
       "12   bitcoin-analysis\\n================\\n\\n比特币源代码分析\\n  \n",
       "13  # JSWallet\\n\\n![Screen Shot](https://github.co...  \n",
       "14  ## DarkWallet - Bitcoin privacy wallet for ano...  \n",
       "15  osCommerce Bitcoin Payment Module v0.6\\n\\nThis...  \n",
       "16  ZynqBTC\\n=======\\n\\nA Bitcoin miner for the Zy...  \n",
       "17  WebBitcoinEscrow\\nMinimalist and secure web ba...  \n",
       "18  <p align=\"center\">\\n    <img src=\"./logo.jpeg\"...  \n",
       "19  # Coldcard Wallet\\n\\nColdcard is a Cheap, Ultr...  \n",
       "20  # bitcoin in tiny pieces\\n\\nThese are Python s...  \n",
       "21  # Kapitalize\\n\\nKapitalize is an industrious B...  \n",
       "22  bitcoin-wallets\\n===\\n\\nBitcoin (BTC, BCH, BTG...  \n",
       "23  # Paper Wallet Generator Desktop & Mobile\\n\\n[...  \n",
       "24  # bds-btc \\n![logo](./doc/bds-logo.png)\\n## In...  \n",
       "25  # php-bitcoin-signature-routines\\n\\nPHP routin...  \n",
       "26  bchd\\n====\\n[![Build Status](https://travis-ci...  \n",
       "27  <a href=\"https://squeezer.io\" target=\"_blank\">...  \n",
       "28  # Ptarmigan\\n\\n[![Build Status](https://travis...  \n",
       "29  ![ROKOS-OK](https://i.imgur.com/YYXJ9up.png)\\n...  \n",
       "30  BitWrk - Bitcoin-fueled Distributed Peer-to-Pe...  \n",
       "31  Bitcoin ipld format\\n==================\\n\\n[![...  \n",
       "32  # React Native Crypto Wallet\\n\\nSimple mobile ...  \n",
       "33  This is a modification of an old version of bi...  \n",
       "34  ### Overview\\n\\nThis is a collection of simple...  \n",
       "35  # Mastering Bitcoin\\nMastering Bitcoin is a bo...  \n",
       "36  ### SpareCoins\\n\\nThis is the repo for the fro...  \n",
       "37  [![License](https://img.shields.io/badge/licen...  \n",
       "38  bitcointalk-scraper\\n===================\\n\\nPy...  \n",
       "39  # Bitcoin address generator\\nAvailable at http...  \n",
       "40  ![Webcoin](img/logo.png)\\n\\n### A Bitcoin clie...  \n",
       "41  # BitcoinUtxoVisualizer\\n\\nBitcoinUtxoVisualiz...  \n",
       "42  # HiddenBitcoin\\nA privacy orineted Bitcoin wa...  \n",
       "43  Ufasoft Multi-currency Bitcoin Client and Mine...  \n",
       "44  ![Bitcoin Forbes](./images/forbes_bitcoin.jpg)...  \n",
       "45                                                     \n",
       "46  keyhunter\\n=========\\n\\nA tool to recover lost...  \n",
       "47  # Introduction\\n\\n![Dart CI](https://github.co...  \n",
       "48  *********\\nRollProxy\\n*********\\n\\nRollProxy i...  \n",
       "49  # coinscope\\nAn observation and testing framew...  "
      ]
     },
     "execution_count": 3,
     "metadata": {},
     "output_type": "execute_result"
    }
   ],
   "source": [
    "df.head(50)"
   ]
  },
  {
   "cell_type": "code",
   "execution_count": 4,
   "id": "357c3ae8",
   "metadata": {
    "scrolled": false
   },
   "outputs": [
    {
     "data": {
      "text/html": [
       "<div>\n",
       "<style scoped>\n",
       "    .dataframe tbody tr th:only-of-type {\n",
       "        vertical-align: middle;\n",
       "    }\n",
       "\n",
       "    .dataframe tbody tr th {\n",
       "        vertical-align: top;\n",
       "    }\n",
       "\n",
       "    .dataframe thead th {\n",
       "        text-align: right;\n",
       "    }\n",
       "</style>\n",
       "<table border=\"1\" class=\"dataframe\">\n",
       "  <thead>\n",
       "    <tr style=\"text-align: right;\">\n",
       "      <th></th>\n",
       "      <th>repo</th>\n",
       "      <th>language</th>\n",
       "      <th>readme_contents</th>\n",
       "    </tr>\n",
       "  </thead>\n",
       "  <tbody>\n",
       "  </tbody>\n",
       "</table>\n",
       "</div>"
      ],
      "text/plain": [
       "Empty DataFrame\n",
       "Columns: [repo, language, readme_contents]\n",
       "Index: []"
      ]
     },
     "execution_count": 4,
     "metadata": {},
     "output_type": "execute_result"
    }
   ],
   "source": [
    "# What does my dataframe look like?\n",
    "df[df.repo == 'bitcoin/bitcoin']"
   ]
  },
  {
   "cell_type": "code",
   "execution_count": 5,
   "id": "3ea0c9cf",
   "metadata": {},
   "outputs": [
    {
     "name": "stdout",
     "output_type": "stream",
     "text": [
      "<class 'pandas.core.frame.DataFrame'>\n",
      "Int64Index: 180 entries, 0 to 179\n",
      "Data columns (total 3 columns):\n",
      " #   Column           Non-Null Count  Dtype \n",
      "---  ------           --------------  ----- \n",
      " 0   repo             180 non-null    object\n",
      " 1   language         166 non-null    object\n",
      " 2   readme_contents  180 non-null    object\n",
      "dtypes: object(3)\n",
      "memory usage: 5.6+ KB\n"
     ]
    }
   ],
   "source": [
    "df.info()"
   ]
  },
  {
   "cell_type": "code",
   "execution_count": 6,
   "id": "047928a6",
   "metadata": {},
   "outputs": [
    {
     "data": {
      "text/plain": [
       "JavaScript          42\n",
       "Python              34\n",
       "C++                 16\n",
       "PHP                 15\n",
       "C                   11\n",
       "HTML                 7\n",
       "Go                   7\n",
       "Ruby                 5\n",
       "Java                 5\n",
       "Jupyter Notebook     4\n",
       "C#                   4\n",
       "TypeScript           3\n",
       "Shell                3\n",
       "Vue                  1\n",
       "VHDL                 1\n",
       "CoffeeScript         1\n",
       "Dart                 1\n",
       "CSS                  1\n",
       "Rust                 1\n",
       "Perl                 1\n",
       "R                    1\n",
       "Prolog               1\n",
       "SCSS                 1\n",
       "Name: language, dtype: int64"
      ]
     },
     "execution_count": 6,
     "metadata": {},
     "output_type": "execute_result"
    }
   ],
   "source": [
    "df.language.value_counts()"
   ]
  },
  {
   "cell_type": "markdown",
   "id": "acaec0e0",
   "metadata": {},
   "source": [
    "<hr style=\"border:2px solid green\"> </hr>\n",
    "\n",
    "# Prepare\n",
    "\n",
    "Here's my plan for parsing the text data:\n",
    "\n",
    "1. Convert text to all lower case for normalcy.\n",
    "2. Remove any accented characters, non-ASCII characters.\n",
    "3. Remove special characters.\n",
    "4. Stem or lemmatize the words.\n",
    "5. Remove stopwords.\n",
    "6. Store the clean text and the original text for use in future notebooks."
   ]
  },
  {
   "cell_type": "code",
   "execution_count": 7,
   "id": "505de59b",
   "metadata": {
    "scrolled": false
   },
   "outputs": [
    {
     "name": "stdout",
     "output_type": "stream",
     "text": [
      "# LightningPay\n",
      "Bitcoin Lightning Network Payment .NET library\n",
      "\n",
      "## Features\n",
      "\n",
      "- [x] Get balance ([Documentation](documentation/client.md#get-wallet-balance))\n",
      "- [x] Create an invoice ([Documentation](documentation/client.md#create-an-invoice))\n",
      "- [x] Check payment ([Documentation](documentation/client.md#check-invoice-payment))\n",
      "- [x] Pay an invoice ([Documentation](documentation/client.md#pay))\n",
      "\n",
      "## Packages\n",
      "\n",
      "- `LightningPay.Abstractions` [![NuGet](https://img.shields.io/nuget/v/LightningPay.Abstractions.svg)](https://www.nuget.org/packages/LightningPay.Abstractions) : Interfaces and model used by `LightningPay` \n",
      "- `LightningPay` [![NuGet](https://img.shields.io/nuget/v/LightningPay.svg)](https://www.nuget.org/packages/LightningPay) : Core library with all Lightning clients\n",
      "- `LightningPay.DependencyInjection` [![NuGet](https://img.shields.io/nuget/v/LightningPay.DependencyInjection.svg)](https://www.nuget.org/packages/LightningPay.DependencyInjection) : Extension methods for .NET DI\n",
      "\n",
      "See [Which package to use ?](documentation/packages.md) for more details.\n",
      "\n",
      "## Integration\n",
      "\n",
      "Connect to your lightning nodes : \n",
      "\n",
      "- [x] LND ([Documentation](documentation/client-lnd.md))\n",
      "- [x] C-Lightning ([Documentation](documentation/client-clightning.md))\n",
      "- [x] Eclair  ([Documentation](documentation/client-eclair.md))\n",
      "- [ ] Charge (Not supported yet)\n",
      "\n",
      "Or with custodial solution for lightning (without having a node  of your own) : \n",
      "\n",
      "- [x] LNDHub / BlueWallet ([Documentation](documentation/client-lndhub.md))\n",
      "- [x] LNBits ([Documentation](documentation/client-lnbits.md))\n",
      "\n",
      "## Extensible\n",
      "\n",
      "With `LightningPay`, you can easly extend your client by add extension methods to the `ILightningClient` interface.\n",
      "\n",
      "See the [full documentation here](/documentation/extensions.md).\n",
      "\n",
      "## Samples\n",
      "\n",
      "Need for code samples ? Go here : [Lightning samples](samples/)\n",
      "\n",
      "## Documentation\n",
      "\n",
      "[Lightning Documentation](documentation/)\n",
      "\n",
      "## Local test\n",
      "\n",
      "You can use our [docker-compose file](docker/) to test the `LightningPay` clients.\n",
      "\n",
      "## Continuous Integration\n",
      "\n",
      "[LightningPay build reports](https://dev.azure.com/NiawaCorp/LightningPay/_build?definitionId=24)\n",
      "\n",
      "## Contributing\n",
      "\n",
      "We appreciate new contributions.\n",
      "\n",
      "- Non developer : You found a bug or have an suggestion for a new feature ? Don't hesitate to create an issue\n",
      "- Developer : develop branch is the principal branch for development. This branch is protected. You must create a pull request and target this branch for code validation.\n",
      "\n",
      "## Credits\n",
      "\n",
      "Many thanks to the [BTCPayServer.Lightning](https://github.com/btcpayserver/BTCPayServer.Lightning) project that inspiring us.\n"
     ]
    }
   ],
   "source": [
    "# I'll grab one README to work with for now\n",
    "example = df.readme_contents[0]\n",
    "print(example)"
   ]
  },
  {
   "cell_type": "code",
   "execution_count": 8,
   "id": "2efaac66",
   "metadata": {},
   "outputs": [
    {
     "data": {
      "text/plain": [
       "\"# lightningpay\\nbitcoin lightning network payment .net library\\n\\n## features\\n\\n- [x] get balance ([documentation](documentation/client.md#get-wallet-balance))\\n- [x] create an invoice ([documentation](documentation/client.md#create-an-invoice))\\n- [x] check payment ([documentation](documentation/client.md#check-invoice-payment))\\n- [x] pay an invoice ([documentation](documentation/client.md#pay))\\n\\n## packages\\n\\n- `lightningpay.abstractions` [![nuget](https://img.shields.io/nuget/v/lightningpay.abstractions.svg)](https://www.nuget.org/packages/lightningpay.abstractions) : interfaces and model used by `lightningpay` \\n- `lightningpay` [![nuget](https://img.shields.io/nuget/v/lightningpay.svg)](https://www.nuget.org/packages/lightningpay) : core library with all lightning clients\\n- `lightningpay.dependencyinjection` [![nuget](https://img.shields.io/nuget/v/lightningpay.dependencyinjection.svg)](https://www.nuget.org/packages/lightningpay.dependencyinjection) : extension methods for .net di\\n\\nsee [which package to use ?](documentation/packages.md) for more details.\\n\\n## integration\\n\\nconnect to your lightning nodes : \\n\\n- [x] lnd ([documentation](documentation/client-lnd.md))\\n- [x] c-lightning ([documentation](documentation/client-clightning.md))\\n- [x] eclair  ([documentation](documentation/client-eclair.md))\\n- [ ] charge (not supported yet)\\n\\nor with custodial solution for lightning (without having a node  of your own) : \\n\\n- [x] lndhub / bluewallet ([documentation](documentation/client-lndhub.md))\\n- [x] lnbits ([documentation](documentation/client-lnbits.md))\\n\\n## extensible\\n\\nwith `lightningpay`, you can easly extend your client by add extension methods to the `ilightningclient` interface.\\n\\nsee the [full documentation here](/documentation/extensions.md).\\n\\n## samples\\n\\nneed for code samples ? go here : [lightning samples](samples/)\\n\\n## documentation\\n\\n[lightning documentation](documentation/)\\n\\n## local test\\n\\nyou can use our [docker-compose file](docker/) to test the `lightningpay` clients.\\n\\n## continuous integration\\n\\n[lightningpay build reports](https://dev.azure.com/niawacorp/lightningpay/_build?definitionid=24)\\n\\n## contributing\\n\\nwe appreciate new contributions.\\n\\n- non developer : you found a bug or have an suggestion for a new feature ? don't hesitate to create an issue\\n- developer : develop branch is the principal branch for development. this branch is protected. you must create a pull request and target this branch for code validation.\\n\\n## credits\\n\\nmany thanks to the [btcpayserver.lightning](https://github.com/btcpayserver/btcpayserver.lightning) project that inspiring us.\""
      ]
     },
     "execution_count": 8,
     "metadata": {},
     "output_type": "execute_result"
    }
   ],
   "source": [
    "# Start by making all text lower case\n",
    "example = example.lower()\n",
    "example"
   ]
  },
  {
   "cell_type": "code",
   "execution_count": 9,
   "id": "521ac36b",
   "metadata": {},
   "outputs": [],
   "source": [
    "def basic_clean(string):\n",
    "    '''\n",
    "    This function:\n",
    "    takes in a string,\n",
    "    returns the string normalized\n",
    "    '''\n",
    "    string = unicodedata.normalize('NFKD', string)\\\n",
    "             .encode('ascii', 'ignore')\\\n",
    "             .decode('utf-8', 'ignore')\n",
    "    string = re.sub(r'[^\\w\\s]', '', string).lower()\n",
    "    # remove the newline \"\\n\" code\n",
    "    string = string.replace('\\n', ' ')\n",
    "    return string"
   ]
  },
  {
   "cell_type": "code",
   "execution_count": 10,
   "id": "e5a35965",
   "metadata": {},
   "outputs": [
    {
     "data": {
      "text/plain": [
       "' lightningpay bitcoin lightning network payment net library   features   x get balance documentationdocumentationclientmdgetwalletbalance  x create an invoice documentationdocumentationclientmdcreateaninvoice  x check payment documentationdocumentationclientmdcheckinvoicepayment  x pay an invoice documentationdocumentationclientmdpay   packages   lightningpayabstractions nugethttpsimgshieldsionugetvlightningpayabstractionssvghttpswwwnugetorgpackageslightningpayabstractions  interfaces and model used by lightningpay   lightningpay nugethttpsimgshieldsionugetvlightningpaysvghttpswwwnugetorgpackageslightningpay  core library with all lightning clients  lightningpaydependencyinjection nugethttpsimgshieldsionugetvlightningpaydependencyinjectionsvghttpswwwnugetorgpackageslightningpaydependencyinjection  extension methods for net di  see which package to use documentationpackagesmd for more details   integration  connect to your lightning nodes     x lnd documentationdocumentationclientlndmd  x clightning documentationdocumentationclientclightningmd  x eclair  documentationdocumentationclienteclairmd    charge not supported yet  or with custodial solution for lightning without having a node  of your own     x lndhub  bluewallet documentationdocumentationclientlndhubmd  x lnbits documentationdocumentationclientlnbitsmd   extensible  with lightningpay you can easly extend your client by add extension methods to the ilightningclient interface  see the full documentation heredocumentationextensionsmd   samples  need for code samples  go here  lightning samplessamples   documentation  lightning documentationdocumentation   local test  you can use our dockercompose filedocker to test the lightningpay clients   continuous integration  lightningpay build reportshttpsdevazurecomniawacorplightningpay_builddefinitionid24   contributing  we appreciate new contributions   non developer  you found a bug or have an suggestion for a new feature  dont hesitate to create an issue  developer  develop branch is the principal branch for development this branch is protected you must create a pull request and target this branch for code validation   credits  many thanks to the btcpayserverlightninghttpsgithubcombtcpayserverbtcpayserverlightning project that inspiring us'"
      ]
     },
     "execution_count": 10,
     "metadata": {},
     "output_type": "execute_result"
    }
   ],
   "source": [
    "words = basic_clean(df.readme_contents[0])\n",
    "words"
   ]
  },
  {
   "cell_type": "code",
   "execution_count": 11,
   "id": "56529120",
   "metadata": {},
   "outputs": [
    {
     "data": {
      "text/plain": [
       "\"# lightningpay\\nbitcoin lightning network payment .net library\\n\\n## features\\n\\n- [x] get balance ([documentation](documentation/client.md#get-wallet-balance))\\n- [x] create an invoice ([documentation](documentation/client.md#create-an-invoice))\\n- [x] check payment ([documentation](documentation/client.md#check-invoice-payment))\\n- [x] pay an invoice ([documentation](documentation/client.md#pay))\\n\\n## packages\\n\\n- `lightningpay.abstractions` [![nuget](https://img.shields.io/nuget/v/lightningpay.abstractions.svg)](https://www.nuget.org/packages/lightningpay.abstractions) : interfaces and model used by `lightningpay` \\n- `lightningpay` [![nuget](https://img.shields.io/nuget/v/lightningpay.svg)](https://www.nuget.org/packages/lightningpay) : core library with all lightning clients\\n- `lightningpay.dependencyinjection` [![nuget](https://img.shields.io/nuget/v/lightningpay.dependencyinjection.svg)](https://www.nuget.org/packages/lightningpay.dependencyinjection) : extension methods for .net di\\n\\nsee [which package to use ?](documentation/packages.md) for more details.\\n\\n## integration\\n\\nconnect to your lightning nodes : \\n\\n- [x] lnd ([documentation](documentation/client-lnd.md))\\n- [x] c-lightning ([documentation](documentation/client-clightning.md))\\n- [x] eclair  ([documentation](documentation/client-eclair.md))\\n- [ ] charge (not supported yet)\\n\\nor with custodial solution for lightning (without having a node  of your own) : \\n\\n- [x] lndhub / bluewallet ([documentation](documentation/client-lndhub.md))\\n- [x] lnbits ([documentation](documentation/client-lnbits.md))\\n\\n## extensible\\n\\nwith `lightningpay`, you can easly extend your client by add extension methods to the `ilightningclient` interface.\\n\\nsee the [full documentation here](/documentation/extensions.md).\\n\\n## samples\\n\\nneed for code samples ? go here : [lightning samples](samples/)\\n\\n## documentation\\n\\n[lightning documentation](documentation/)\\n\\n## local test\\n\\nyou can use our [docker-compose file](docker/) to test the `lightningpay` clients.\\n\\n## continuous integration\\n\\n[lightningpay build reports](https://dev.azure.com/niawacorp/lightningpay/_build?definitionid=24)\\n\\n## contributing\\n\\nwe appreciate new contributions.\\n\\n- non developer : you found a bug or have an suggestion for a new feature ? don't hesitate to create an issue\\n- developer : develop branch is the principal branch for development. this branch is protected. you must create a pull request and target this branch for code validation.\\n\\n## credits\\n\\nmany thanks to the [btcpayserver.lightning](https://github.com/btcpayserver/btcpayserver.lightning) project that inspiring us.\""
      ]
     },
     "execution_count": 11,
     "metadata": {},
     "output_type": "execute_result"
    }
   ],
   "source": [
    "# Remove any accented characters, non-ASCII characters.\n",
    "# unicodedata.normalize() removes any inconsistencies in unicode character encoding.\n",
    "# .encode to convert the resulting string to the ASCII character set. \n",
    "# .decode to turn the resulting bytes object back into a string.\n",
    "example = unicodedata.normalize('NFKD', example)\\\n",
    "    .encode('ascii', 'ignore')\\\n",
    "    .decode('utf-8', 'ignore')\n",
    "\n",
    "example"
   ]
  },
  {
   "cell_type": "code",
   "execution_count": 12,
   "id": "ab2c6238",
   "metadata": {},
   "outputs": [
    {
     "data": {
      "text/plain": [
       "\" lightningpay\\nbitcoin lightning network payment .net library\\n\\n features\\n\\n x get balance documentationdocumentationclient.mdgetwalletbalance\\n x create an invoice documentationdocumentationclient.mdcreateaninvoice\\n x check payment documentationdocumentationclient.mdcheckinvoicepayment\\n x pay an invoice documentationdocumentationclient.mdpay\\n\\n packages\\n\\n lightningpay.abstractions nugethttpsimg.shields.ionugetvlightningpay.abstractions.svghttpswww.nuget.orgpackageslightningpay.abstractions  interfaces and model used by lightningpay \\n lightningpay nugethttpsimg.shields.ionugetvlightningpay.svghttpswww.nuget.orgpackageslightningpay  core library with all lightning clients\\n lightningpay.dependencyinjection nugethttpsimg.shields.ionugetvlightningpay.dependencyinjection.svghttpswww.nuget.orgpackageslightningpay.dependencyinjection  extension methods for .net di\\n\\nsee which package to use documentationpackages.md for more details.\\n\\n integration\\n\\nconnect to your lightning nodes  \\n\\n x lnd documentationdocumentationclientlnd.md\\n x clightning documentationdocumentationclientclightning.md\\n x eclair  documentationdocumentationclienteclair.md\\n   charge not supported yet\\n\\nor with custodial solution for lightning without having a node  of your own  \\n\\n x lndhub  bluewallet documentationdocumentationclientlndhub.md\\n x lnbits documentationdocumentationclientlnbits.md\\n\\n extensible\\n\\nwith lightningpay you can easly extend your client by add extension methods to the ilightningclient interface.\\n\\nsee the full documentation heredocumentationextensions.md.\\n\\n samples\\n\\nneed for code samples  go here  lightning samplessamples\\n\\n documentation\\n\\nlightning documentationdocumentation\\n\\n local test\\n\\nyou can use our dockercompose filedocker to test the lightningpay clients.\\n\\n continuous integration\\n\\nlightningpay build reportshttpsdev.azure.comniawacorplightningpaybuilddefinitionid24\\n\\n contributing\\n\\nwe appreciate new contributions.\\n\\n non developer  you found a bug or have an suggestion for a new feature  don't hesitate to create an issue\\n developer  develop branch is the principal branch for development. this branch is protected. you must create a pull request and target this branch for code validation.\\n\\n credits\\n\\nmany thanks to the btcpayserver.lightninghttpsgithub.combtcpayserverbtcpayserver.lightning project that inspiring us.\""
      ]
     },
     "execution_count": 12,
     "metadata": {},
     "output_type": "execute_result"
    }
   ],
   "source": [
    "# Remove special characters\n",
    "# remove anything that is not a through z, a number, a single quote, or whitespace\n",
    "# I will also be keeping periods so that we can search for file types in the READMEs, ie \".py\" or \".md\"\n",
    "example = re.sub(r\"[^a-z0-9'.\\s]\", '', example)\n",
    "\n",
    "example"
   ]
  },
  {
   "cell_type": "code",
   "execution_count": 13,
   "id": "427feba9",
   "metadata": {},
   "outputs": [
    {
     "data": {
      "text/plain": [
       "\" lightningpay bitcoin lightning network payment .net library   features   x get balance documentationdocumentationclient.mdgetwalletbalance  x create an invoice documentationdocumentationclient.mdcreateaninvoice  x check payment documentationdocumentationclient.mdcheckinvoicepayment  x pay an invoice documentationdocumentationclient.mdpay   packages   lightningpay.abstractions nugethttpsimg.shields.ionugetvlightningpay.abstractions.svghttpswww.nuget.orgpackageslightningpay.abstractions  interfaces and model used by lightningpay   lightningpay nugethttpsimg.shields.ionugetvlightningpay.svghttpswww.nuget.orgpackageslightningpay  core library with all lightning clients  lightningpay.dependencyinjection nugethttpsimg.shields.ionugetvlightningpay.dependencyinjection.svghttpswww.nuget.orgpackageslightningpay.dependencyinjection  extension methods for .net di  see which package to use documentationpackages.md for more details.   integration  connect to your lightning nodes     x lnd documentationdocumentationclientlnd.md  x clightning documentationdocumentationclientclightning.md  x eclair  documentationdocumentationclienteclair.md    charge not supported yet  or with custodial solution for lightning without having a node  of your own     x lndhub  bluewallet documentationdocumentationclientlndhub.md  x lnbits documentationdocumentationclientlnbits.md   extensible  with lightningpay you can easly extend your client by add extension methods to the ilightningclient interface.  see the full documentation heredocumentationextensions.md.   samples  need for code samples  go here  lightning samplessamples   documentation  lightning documentationdocumentation   local test  you can use our dockercompose filedocker to test the lightningpay clients.   continuous integration  lightningpay build reportshttpsdev.azure.comniawacorplightningpaybuilddefinitionid24   contributing  we appreciate new contributions.   non developer  you found a bug or have an suggestion for a new feature  don't hesitate to create an issue  developer  develop branch is the principal branch for development. this branch is protected. you must create a pull request and target this branch for code validation.   credits  many thanks to the btcpayserver.lightninghttpsgithub.combtcpayserverbtcpayserver.lightning project that inspiring us.\""
      ]
     },
     "execution_count": 13,
     "metadata": {},
     "output_type": "execute_result"
    }
   ],
   "source": [
    "# remove the newline \"\\n\" code\n",
    "example.replace('\\n', ' ')"
   ]
  },
  {
   "cell_type": "markdown",
   "id": "d6ff107f",
   "metadata": {},
   "source": [
    "### Tokenization\n",
    "After removing non-ASCII characters and special characters, it's common to tokenize the strings, to break words and any punctuation left over into discrete units. Tokenization is the process of breaking something down into discrete units. In the context of NLP, this means breaking text down into discrete words, punctuation, etc."
   ]
  },
  {
   "cell_type": "code",
   "execution_count": 14,
   "id": "edef0d46",
   "metadata": {},
   "outputs": [
    {
     "name": "stdout",
     "output_type": "stream",
     "text": [
      "lightningpay\n",
      "bitcoin lightning network payment .net library\n",
      "\n",
      " features\n",
      "\n",
      " x get balance documentationdocumentationclient.mdgetwalletbalance\n",
      " x create an invoice documentationdocumentationclient.mdcreateaninvoice\n",
      " x check payment documentationdocumentationclient.mdcheckinvoicepayment\n",
      " x pay an invoice documentationdocumentationclient.mdpay\n",
      "\n",
      " packages\n",
      "\n",
      " lightningpay.abstractions nugethttpsimg.shields.ionugetvlightningpay.abstractions.svghttpswww.nuget.orgpackageslightningpay.abstractions interfaces and model used by lightningpay \n",
      " lightningpay nugethttpsimg.shields.ionugetvlightningpay.svghttpswww.nuget.orgpackageslightningpay core library with all lightning clients\n",
      " lightningpay.dependencyinjection nugethttpsimg.shields.ionugetvlightningpay.dependencyinjection.svghttpswww.nuget.orgpackageslightningpay.dependencyinjection extension methods for .net di\n",
      "\n",
      "see which package to use documentationpackages.md for more details.\n",
      "\n",
      " integration\n",
      "\n",
      "connect to your lightning nodes \n",
      "\n",
      " x lnd documentationdocumentationclientlnd.md\n",
      " x clightning documentationdocumentationclientclightning.md\n",
      " x eclair documentationdocumentationclienteclair.md\n",
      " charge not supported yet\n",
      "\n",
      "or with custodial solution for lightning without having a node of your own \n",
      "\n",
      " x lndhub bluewallet documentationdocumentationclientlndhub.md\n",
      " x lnbits documentationdocumentationclientlnbits.md\n",
      "\n",
      " extensible\n",
      "\n",
      "with lightningpay you can easly extend your client by add extension methods to the ilightningclient interface.\n",
      "\n",
      "see the full documentation heredocumentationextensions.md.\n",
      "\n",
      " samples\n",
      "\n",
      "need for code samples go here lightning samplessamples\n",
      "\n",
      " documentation\n",
      "\n",
      "lightning documentationdocumentation\n",
      "\n",
      " local test\n",
      "\n",
      "you can use our dockercompose filedocker to test the lightningpay clients.\n",
      "\n",
      " continuous integration\n",
      "\n",
      "lightningpay build reportshttpsdev.azure.comniawacorplightningpaybuilddefinitionid24\n",
      "\n",
      " contributing\n",
      "\n",
      "we appreciate new contributions.\n",
      "\n",
      " non developer you found a bug or have an suggestion for a new feature don ' t hesitate to create an issue\n",
      " developer develop branch is the principal branch for development. this branch is protected. you must create a pull request and target this branch for code validation.\n",
      "\n",
      " credits\n",
      "\n",
      "many thanks to the btcpayserver.lightninghttpsgithub.combtcpayserverbtcpayserver.lightning project that inspiring us .\n"
     ]
    }
   ],
   "source": [
    "# Make the token\n",
    "tokenizer = nltk.tokenize.ToktokTokenizer()\n",
    "# Use the token\n",
    "print(tokenizer.tokenize(example, return_str=True))"
   ]
  },
  {
   "cell_type": "code",
   "execution_count": 15,
   "id": "7e8577a3",
   "metadata": {},
   "outputs": [
    {
     "name": "stdout",
     "output_type": "stream",
     "text": [
      "# LightningPay\n",
      "Bitcoin Lightning Network Payment .NET library\n",
      "\n",
      "## Features\n",
      "\n",
      "- [ x ] Get balance ( [ Documentation ] ( documentation/client.md#get-wallet-balance ) ) \n",
      "- [ x ] Create an invoice ( [ Documentation ] ( documentation/client.md#create-an-invoice ) ) \n",
      "- [ x ] Check payment ( [ Documentation ] ( documentation/client.md#check-invoice-payment ) ) \n",
      "- [ x ] Pay an invoice ( [ Documentation ] ( documentation/client.md#pay ) ) \n",
      "\n",
      "## Packages\n",
      "\n",
      "- ` LightningPay.Abstractions ` [ ! [ NuGet ] ( https://img.shields.io/nuget/v/LightningPay.Abstractions.svg ) ] ( https://www.nuget.org/packages/LightningPay.Abstractions ) : Interfaces and model used by ` LightningPay ` \n",
      "- ` LightningPay ` [ ! [ NuGet ] ( https://img.shields.io/nuget/v/LightningPay.svg ) ] ( https://www.nuget.org/packages/LightningPay ) : Core library with all Lightning clients\n",
      "- ` LightningPay.DependencyInjection ` [ ! [ NuGet ] ( https://img.shields.io/nuget/v/LightningPay.DependencyInjection.svg ) ] ( https://www.nuget.org/packages/LightningPay.DependencyInjection ) : Extension methods for .NET DI\n",
      "\n",
      "See [ Which package to use ? ] ( documentation/packages.md ) for more details.\n",
      "\n",
      "## Integration\n",
      "\n",
      "Connect to your lightning nodes : \n",
      "\n",
      "- [ x ] LND ( [ Documentation ] ( documentation/client-lnd.md ) ) \n",
      "- [ x ] C-Lightning ( [ Documentation ] ( documentation/client-clightning.md ) ) \n",
      "- [ x ] Eclair ( [ Documentation ] ( documentation/client-eclair.md ) ) \n",
      "- [ ] Charge ( Not supported yet ) \n",
      "\n",
      "Or with custodial solution for lightning ( without having a node of your own ) : \n",
      "\n",
      "- [ x ] LNDHub / BlueWallet ( [ Documentation ] ( documentation/client-lndhub.md ) ) \n",
      "- [ x ] LNBits ( [ Documentation ] ( documentation/client-lnbits.md ) ) \n",
      "\n",
      "## Extensible\n",
      "\n",
      "With ` LightningPay ` , you can easly extend your client by add extension methods to the ` ILightningClient ` interface.\n",
      "\n",
      "See the [ full documentation here ] ( /documentation/extensions.md ) .\n",
      "\n",
      "## Samples\n",
      "\n",
      "Need for code samples ? Go here : [ Lightning samples ] ( samples/ ) \n",
      "\n",
      "## Documentation\n",
      "\n",
      "[ Lightning Documentation ] ( documentation/ ) \n",
      "\n",
      "## Local test\n",
      "\n",
      "You can use our [ docker-compose file ] ( docker/ ) to test the ` LightningPay ` clients.\n",
      "\n",
      "## Continuous Integration\n",
      "\n",
      "[ LightningPay build reports ] ( https://dev.azure.com/NiawaCorp/LightningPay/_build?definitionId=24 ) \n",
      "\n",
      "## Contributing\n",
      "\n",
      "We appreciate new contributions.\n",
      "\n",
      "- Non developer : You found a bug or have an suggestion for a new feature ? Don ' t hesitate to create an issue\n",
      "- Developer : develop branch is the principal branch for development. This branch is protected. You must create a pull request and target this branch for code validation.\n",
      "\n",
      "## Credits\n",
      "\n",
      "Many thanks to the [ BTCPayServer.Lightning ] ( https://github.com/btcpayserver/BTCPayServer.Lightning ) project that inspiring us .\n"
     ]
    }
   ],
   "source": [
    "original = df.readme_contents[0]\n",
    "# Make the thing\n",
    "tokenizer = nltk.tokenize.ToktokTokenizer()\n",
    "# Use the thing\n",
    "print(tokenizer.tokenize(original, return_str=True))"
   ]
  },
  {
   "cell_type": "markdown",
   "id": "2063a8c6",
   "metadata": {},
   "source": [
    "### Stemming and Lemmatization\n",
    "Usually you will want to use lemmatization. We will demonstrate why that is the case by looking at both here.\n"
   ]
  },
  {
   "cell_type": "code",
   "execution_count": null,
   "id": "ab780c37",
   "metadata": {},
   "outputs": [],
   "source": []
  },
  {
   "cell_type": "markdown",
   "id": "b2dd03bc",
   "metadata": {},
   "source": [
    "### Stopwords"
   ]
  },
  {
   "cell_type": "code",
   "execution_count": 16,
   "id": "0569da33",
   "metadata": {},
   "outputs": [],
   "source": [
    "stopword_list = stopwords.words('english')"
   ]
  },
  {
   "cell_type": "markdown",
   "id": "d2e5cec9",
   "metadata": {},
   "source": [
    "#### Well Brian finished the cleaning for me so I guess I'll see what I can explore/model"
   ]
  },
  {
   "cell_type": "markdown",
   "id": "d4849332",
   "metadata": {},
   "source": [
    "# Notes:\n",
    "- I read through 5 README's with all different languages. It seems that most, but not all README's mention a language or file that they are using in the repository. While this is useful, it's not guaranteed that the language mentioned is what is actually being used. For example, the very first repository uses the programming language C++, however in the README you only see \".md\" and \".py\" files mentioned. This README might be an outlier, but it is also an example of a README we might not be able to predict correctly. \n"
   ]
  },
  {
   "cell_type": "code",
   "execution_count": 17,
   "id": "efa093cb",
   "metadata": {},
   "outputs": [],
   "source": [
    "import prepare"
   ]
  },
  {
   "cell_type": "code",
   "execution_count": 18,
   "id": "a2016318",
   "metadata": {},
   "outputs": [
    {
     "data": {
      "text/html": [
       "<div>\n",
       "<style scoped>\n",
       "    .dataframe tbody tr th:only-of-type {\n",
       "        vertical-align: middle;\n",
       "    }\n",
       "\n",
       "    .dataframe tbody tr th {\n",
       "        vertical-align: top;\n",
       "    }\n",
       "\n",
       "    .dataframe thead th {\n",
       "        text-align: right;\n",
       "    }\n",
       "</style>\n",
       "<table border=\"1\" class=\"dataframe\">\n",
       "  <thead>\n",
       "    <tr style=\"text-align: right;\">\n",
       "      <th></th>\n",
       "      <th>repo</th>\n",
       "      <th>language</th>\n",
       "      <th>readme_contents</th>\n",
       "      <th>clean</th>\n",
       "      <th>stemmed</th>\n",
       "      <th>lemmatized</th>\n",
       "    </tr>\n",
       "  </thead>\n",
       "  <tbody>\n",
       "    <tr>\n",
       "      <th>0</th>\n",
       "      <td>using-system/LightningPay</td>\n",
       "      <td>C#</td>\n",
       "      <td># LightningPay\\nBitcoin Lightning Network Paym...</td>\n",
       "      <td>lightningpay bitcoin lightning network payment...</td>\n",
       "      <td>lightningpay bitcoin lightn network payment ne...</td>\n",
       "      <td>lightningpay bitcoin lightning network payment...</td>\n",
       "    </tr>\n",
       "    <tr>\n",
       "      <th>1</th>\n",
       "      <td>drminnaar/react-bitcoin-monitor</td>\n",
       "      <td>JavaScript</td>\n",
       "      <td># React Bitcoin Monitor\\n\\nAn app that monitor...</td>\n",
       "      <td>react bitcoin monitor app monitors changes _bi...</td>\n",
       "      <td>react bitcoin monitor app monitor chang _bitco...</td>\n",
       "      <td>react bitcoin monitor app monitor change _bitc...</td>\n",
       "    </tr>\n",
       "    <tr>\n",
       "      <th>2</th>\n",
       "      <td>lbryio/lbrycrd</td>\n",
       "      <td>C++</td>\n",
       "      <td># LBRYcrd - The LBRY blockchain\\n\\n[![Build St...</td>\n",
       "      <td>lbrycrd lbry blockchain build statushttpstravi...</td>\n",
       "      <td>lbrycrd lbri blockchain build statushttpstravi...</td>\n",
       "      <td>lbrycrd lbry blockchain build statushttpstravi...</td>\n",
       "    </tr>\n",
       "    <tr>\n",
       "      <th>3</th>\n",
       "      <td>ElementsProject/lightning-charge</td>\n",
       "      <td>JavaScript</td>\n",
       "      <td># Lightning Charge\\n\\n[![build status](https:/...</td>\n",
       "      <td>lightning charge build statushttpsapitraviscio...</td>\n",
       "      <td>lightn charg build statushttpsapitravisciorgel...</td>\n",
       "      <td>lightning charge build statushttpsapitraviscio...</td>\n",
       "    </tr>\n",
       "    <tr>\n",
       "      <th>4</th>\n",
       "      <td>kilimchoi/cryptocurrency</td>\n",
       "      <td>None</td>\n",
       "      <td>Check out https://coinbuddy.co/coins to track ...</td>\n",
       "      <td>check httpscoinbuddycocoins track exchanges su...</td>\n",
       "      <td>check httpscoinbuddycocoin track exchang suppo...</td>\n",
       "      <td>check httpscoinbuddycocoins track exchange sup...</td>\n",
       "    </tr>\n",
       "  </tbody>\n",
       "</table>\n",
       "</div>"
      ],
      "text/plain": [
       "                               repo    language  \\\n",
       "0         using-system/LightningPay          C#   \n",
       "1   drminnaar/react-bitcoin-monitor  JavaScript   \n",
       "2                    lbryio/lbrycrd         C++   \n",
       "3  ElementsProject/lightning-charge  JavaScript   \n",
       "4          kilimchoi/cryptocurrency        None   \n",
       "\n",
       "                                     readme_contents  \\\n",
       "0  # LightningPay\\nBitcoin Lightning Network Paym...   \n",
       "1  # React Bitcoin Monitor\\n\\nAn app that monitor...   \n",
       "2  # LBRYcrd - The LBRY blockchain\\n\\n[![Build St...   \n",
       "3  # Lightning Charge\\n\\n[![build status](https:/...   \n",
       "4  Check out https://coinbuddy.co/coins to track ...   \n",
       "\n",
       "                                               clean  \\\n",
       "0  lightningpay bitcoin lightning network payment...   \n",
       "1  react bitcoin monitor app monitors changes _bi...   \n",
       "2  lbrycrd lbry blockchain build statushttpstravi...   \n",
       "3  lightning charge build statushttpsapitraviscio...   \n",
       "4  check httpscoinbuddycocoins track exchanges su...   \n",
       "\n",
       "                                             stemmed  \\\n",
       "0  lightningpay bitcoin lightn network payment ne...   \n",
       "1  react bitcoin monitor app monitor chang _bitco...   \n",
       "2  lbrycrd lbri blockchain build statushttpstravi...   \n",
       "3  lightn charg build statushttpsapitravisciorgel...   \n",
       "4  check httpscoinbuddycocoin track exchang suppo...   \n",
       "\n",
       "                                          lemmatized  \n",
       "0  lightningpay bitcoin lightning network payment...  \n",
       "1  react bitcoin monitor app monitor change _bitc...  \n",
       "2  lbrycrd lbry blockchain build statushttpstravi...  \n",
       "3  lightning charge build statushttpsapitraviscio...  \n",
       "4  check httpscoinbuddycocoins track exchange sup...  "
      ]
     },
     "execution_count": 18,
     "metadata": {},
     "output_type": "execute_result"
    }
   ],
   "source": [
    "# Reading the file full of readme texts\n",
    "df = pd.read_json('repo_readmes.json')\n",
    "\n",
    "# Cleaning the text\n",
    "df = prepare.prep_readme_data(df, 'readme_contents', extra_words=['\\n'], exclude_words=[])\n",
    "\n",
    "df.head()"
   ]
  },
  {
   "cell_type": "code",
   "execution_count": 19,
   "id": "7a258dbe",
   "metadata": {},
   "outputs": [
    {
     "data": {
      "text/html": [
       "<div>\n",
       "<style scoped>\n",
       "    .dataframe tbody tr th:only-of-type {\n",
       "        vertical-align: middle;\n",
       "    }\n",
       "\n",
       "    .dataframe tbody tr th {\n",
       "        vertical-align: top;\n",
       "    }\n",
       "\n",
       "    .dataframe thead th {\n",
       "        text-align: right;\n",
       "    }\n",
       "</style>\n",
       "<table border=\"1\" class=\"dataframe\">\n",
       "  <thead>\n",
       "    <tr style=\"text-align: right;\">\n",
       "      <th></th>\n",
       "      <th>repo</th>\n",
       "      <th>language</th>\n",
       "      <th>readme_contents</th>\n",
       "      <th>clean</th>\n",
       "      <th>stemmed</th>\n",
       "      <th>lemmatized</th>\n",
       "    </tr>\n",
       "  </thead>\n",
       "  <tbody>\n",
       "    <tr>\n",
       "      <th>0</th>\n",
       "      <td>using-system/LightningPay</td>\n",
       "      <td>C#</td>\n",
       "      <td># LightningPay\\nBitcoin Lightning Network Paym...</td>\n",
       "      <td>lightningpay bitcoin lightning network payment...</td>\n",
       "      <td>lightningpay bitcoin lightn network payment ne...</td>\n",
       "      <td>lightningpay bitcoin lightning network payment...</td>\n",
       "    </tr>\n",
       "    <tr>\n",
       "      <th>1</th>\n",
       "      <td>drminnaar/react-bitcoin-monitor</td>\n",
       "      <td>JavaScript</td>\n",
       "      <td># React Bitcoin Monitor\\n\\nAn app that monitor...</td>\n",
       "      <td>react bitcoin monitor app monitors changes _bi...</td>\n",
       "      <td>react bitcoin monitor app monitor chang _bitco...</td>\n",
       "      <td>react bitcoin monitor app monitor change _bitc...</td>\n",
       "    </tr>\n",
       "    <tr>\n",
       "      <th>2</th>\n",
       "      <td>lbryio/lbrycrd</td>\n",
       "      <td>C++</td>\n",
       "      <td># LBRYcrd - The LBRY blockchain\\n\\n[![Build St...</td>\n",
       "      <td>lbrycrd lbry blockchain build statushttpstravi...</td>\n",
       "      <td>lbrycrd lbri blockchain build statushttpstravi...</td>\n",
       "      <td>lbrycrd lbry blockchain build statushttpstravi...</td>\n",
       "    </tr>\n",
       "    <tr>\n",
       "      <th>3</th>\n",
       "      <td>ElementsProject/lightning-charge</td>\n",
       "      <td>JavaScript</td>\n",
       "      <td># Lightning Charge\\n\\n[![build status](https:/...</td>\n",
       "      <td>lightning charge build statushttpsapitraviscio...</td>\n",
       "      <td>lightn charg build statushttpsapitravisciorgel...</td>\n",
       "      <td>lightning charge build statushttpsapitraviscio...</td>\n",
       "    </tr>\n",
       "    <tr>\n",
       "      <th>5</th>\n",
       "      <td>tip4commit/tip4commit</td>\n",
       "      <td>Ruby</td>\n",
       "      <td>Tip4commit\\n==========\\n\\n[![tip for next comm...</td>\n",
       "      <td>tip4commit tip next commithttpstip4commitcompr...</td>\n",
       "      <td>tip4commit tip next commithttpstip4commitcompr...</td>\n",
       "      <td>tip4commit tip next commithttpstip4commitcompr...</td>\n",
       "    </tr>\n",
       "  </tbody>\n",
       "</table>\n",
       "</div>"
      ],
      "text/plain": [
       "                               repo    language  \\\n",
       "0         using-system/LightningPay          C#   \n",
       "1   drminnaar/react-bitcoin-monitor  JavaScript   \n",
       "2                    lbryio/lbrycrd         C++   \n",
       "3  ElementsProject/lightning-charge  JavaScript   \n",
       "5             tip4commit/tip4commit        Ruby   \n",
       "\n",
       "                                     readme_contents  \\\n",
       "0  # LightningPay\\nBitcoin Lightning Network Paym...   \n",
       "1  # React Bitcoin Monitor\\n\\nAn app that monitor...   \n",
       "2  # LBRYcrd - The LBRY blockchain\\n\\n[![Build St...   \n",
       "3  # Lightning Charge\\n\\n[![build status](https:/...   \n",
       "5  Tip4commit\\n==========\\n\\n[![tip for next comm...   \n",
       "\n",
       "                                               clean  \\\n",
       "0  lightningpay bitcoin lightning network payment...   \n",
       "1  react bitcoin monitor app monitors changes _bi...   \n",
       "2  lbrycrd lbry blockchain build statushttpstravi...   \n",
       "3  lightning charge build statushttpsapitraviscio...   \n",
       "5  tip4commit tip next commithttpstip4commitcompr...   \n",
       "\n",
       "                                             stemmed  \\\n",
       "0  lightningpay bitcoin lightn network payment ne...   \n",
       "1  react bitcoin monitor app monitor chang _bitco...   \n",
       "2  lbrycrd lbri blockchain build statushttpstravi...   \n",
       "3  lightn charg build statushttpsapitravisciorgel...   \n",
       "5  tip4commit tip next commithttpstip4commitcompr...   \n",
       "\n",
       "                                          lemmatized  \n",
       "0  lightningpay bitcoin lightning network payment...  \n",
       "1  react bitcoin monitor app monitor change _bitc...  \n",
       "2  lbrycrd lbry blockchain build statushttpstravi...  \n",
       "3  lightning charge build statushttpsapitraviscio...  \n",
       "5  tip4commit tip next commithttpstip4commitcompr...  "
      ]
     },
     "execution_count": 19,
     "metadata": {},
     "output_type": "execute_result"
    }
   ],
   "source": [
    "# Drop rows with a null in language\n",
    "df = df[df.language.notnull()]\n",
    "df.head()"
   ]
  },
  {
   "cell_type": "code",
   "execution_count": 20,
   "id": "aa0d497f",
   "metadata": {
    "scrolled": true
   },
   "outputs": [
    {
     "name": "stdout",
     "output_type": "stream",
     "text": [
      "<class 'pandas.core.frame.DataFrame'>\n",
      "Int64Index: 166 entries, 0 to 179\n",
      "Data columns (total 6 columns):\n",
      " #   Column           Non-Null Count  Dtype \n",
      "---  ------           --------------  ----- \n",
      " 0   repo             166 non-null    object\n",
      " 1   language         166 non-null    object\n",
      " 2   readme_contents  166 non-null    object\n",
      " 3   clean            166 non-null    object\n",
      " 4   stemmed          166 non-null    object\n",
      " 5   lemmatized       166 non-null    object\n",
      "dtypes: object(6)\n",
      "memory usage: 9.1+ KB\n"
     ]
    }
   ],
   "source": [
    "# Anymore nulls?\n",
    "df.info()"
   ]
  },
  {
   "cell_type": "code",
   "execution_count": 21,
   "id": "f1c8287d",
   "metadata": {
    "scrolled": false
   },
   "outputs": [
    {
     "data": {
      "text/plain": [
       "JavaScript          42\n",
       "Python              34\n",
       "C++                 16\n",
       "PHP                 15\n",
       "C                   11\n",
       "HTML                 7\n",
       "Go                   7\n",
       "Ruby                 5\n",
       "Java                 5\n",
       "Jupyter Notebook     4\n",
       "C#                   4\n",
       "TypeScript           3\n",
       "Shell                3\n",
       "Vue                  1\n",
       "VHDL                 1\n",
       "CoffeeScript         1\n",
       "Dart                 1\n",
       "CSS                  1\n",
       "Rust                 1\n",
       "Perl                 1\n",
       "R                    1\n",
       "Prolog               1\n",
       "SCSS                 1\n",
       "Name: language, dtype: int64"
      ]
     },
     "execution_count": 21,
     "metadata": {},
     "output_type": "execute_result"
    }
   ],
   "source": [
    "# What is my language variety like?\n",
    "df.language.value_counts()"
   ]
  },
  {
   "cell_type": "code",
   "execution_count": 22,
   "id": "046b3c84",
   "metadata": {},
   "outputs": [],
   "source": [
    "# # I will only keep the languages that have 5 or more repos\n",
    "# df = df[ (df.language == 'JavaScript') \n",
    "#        | (df.language == 'Python') \n",
    "#        | (df.language == 'C++') \n",
    "#        | (df.language == 'PHP') \n",
    "#        | (df.language == 'C') \n",
    "#        | (df.language == 'HTML') \n",
    "#        | (df.language == 'Go') \n",
    "#        | (df.language == 'Ruby') \n",
    "#        | (df.language == 'Java')]\n",
    "\n",
    "\n",
    "# Decided as a group to keep languages not represented by 5 repos"
   ]
  },
  {
   "cell_type": "code",
   "execution_count": 23,
   "id": "133bc248",
   "metadata": {},
   "outputs": [],
   "source": [
    "# if not in list, change to other\n",
    "def common_language(string):\n",
    "    language_list= ['JavaScript', 'Python', 'C++', 'PHP', 'C']\n",
    "    if string not in language_list:\n",
    "        string = 'Other'\n",
    "    return string"
   ]
  },
  {
   "cell_type": "code",
   "execution_count": 24,
   "id": "b79f740a",
   "metadata": {},
   "outputs": [
    {
     "data": {
      "text/html": [
       "<div>\n",
       "<style scoped>\n",
       "    .dataframe tbody tr th:only-of-type {\n",
       "        vertical-align: middle;\n",
       "    }\n",
       "\n",
       "    .dataframe tbody tr th {\n",
       "        vertical-align: top;\n",
       "    }\n",
       "\n",
       "    .dataframe thead th {\n",
       "        text-align: right;\n",
       "    }\n",
       "</style>\n",
       "<table border=\"1\" class=\"dataframe\">\n",
       "  <thead>\n",
       "    <tr style=\"text-align: right;\">\n",
       "      <th></th>\n",
       "      <th>repo</th>\n",
       "      <th>language</th>\n",
       "      <th>readme_contents</th>\n",
       "      <th>clean</th>\n",
       "      <th>stemmed</th>\n",
       "      <th>lemmatized</th>\n",
       "    </tr>\n",
       "  </thead>\n",
       "  <tbody>\n",
       "    <tr>\n",
       "      <th>0</th>\n",
       "      <td>using-system/LightningPay</td>\n",
       "      <td>Other</td>\n",
       "      <td># LightningPay\\nBitcoin Lightning Network Paym...</td>\n",
       "      <td>lightningpay bitcoin lightning network payment...</td>\n",
       "      <td>lightningpay bitcoin lightn network payment ne...</td>\n",
       "      <td>lightningpay bitcoin lightning network payment...</td>\n",
       "    </tr>\n",
       "    <tr>\n",
       "      <th>1</th>\n",
       "      <td>drminnaar/react-bitcoin-monitor</td>\n",
       "      <td>JavaScript</td>\n",
       "      <td># React Bitcoin Monitor\\n\\nAn app that monitor...</td>\n",
       "      <td>react bitcoin monitor app monitors changes _bi...</td>\n",
       "      <td>react bitcoin monitor app monitor chang _bitco...</td>\n",
       "      <td>react bitcoin monitor app monitor change _bitc...</td>\n",
       "    </tr>\n",
       "    <tr>\n",
       "      <th>2</th>\n",
       "      <td>lbryio/lbrycrd</td>\n",
       "      <td>C++</td>\n",
       "      <td># LBRYcrd - The LBRY blockchain\\n\\n[![Build St...</td>\n",
       "      <td>lbrycrd lbry blockchain build statushttpstravi...</td>\n",
       "      <td>lbrycrd lbri blockchain build statushttpstravi...</td>\n",
       "      <td>lbrycrd lbry blockchain build statushttpstravi...</td>\n",
       "    </tr>\n",
       "    <tr>\n",
       "      <th>3</th>\n",
       "      <td>ElementsProject/lightning-charge</td>\n",
       "      <td>JavaScript</td>\n",
       "      <td># Lightning Charge\\n\\n[![build status](https:/...</td>\n",
       "      <td>lightning charge build statushttpsapitraviscio...</td>\n",
       "      <td>lightn charg build statushttpsapitravisciorgel...</td>\n",
       "      <td>lightning charge build statushttpsapitraviscio...</td>\n",
       "    </tr>\n",
       "    <tr>\n",
       "      <th>5</th>\n",
       "      <td>tip4commit/tip4commit</td>\n",
       "      <td>Other</td>\n",
       "      <td>Tip4commit\\n==========\\n\\n[![tip for next comm...</td>\n",
       "      <td>tip4commit tip next commithttpstip4commitcompr...</td>\n",
       "      <td>tip4commit tip next commithttpstip4commitcompr...</td>\n",
       "      <td>tip4commit tip next commithttpstip4commitcompr...</td>\n",
       "    </tr>\n",
       "  </tbody>\n",
       "</table>\n",
       "</div>"
      ],
      "text/plain": [
       "                               repo    language  \\\n",
       "0         using-system/LightningPay       Other   \n",
       "1   drminnaar/react-bitcoin-monitor  JavaScript   \n",
       "2                    lbryio/lbrycrd         C++   \n",
       "3  ElementsProject/lightning-charge  JavaScript   \n",
       "5             tip4commit/tip4commit       Other   \n",
       "\n",
       "                                     readme_contents  \\\n",
       "0  # LightningPay\\nBitcoin Lightning Network Paym...   \n",
       "1  # React Bitcoin Monitor\\n\\nAn app that monitor...   \n",
       "2  # LBRYcrd - The LBRY blockchain\\n\\n[![Build St...   \n",
       "3  # Lightning Charge\\n\\n[![build status](https:/...   \n",
       "5  Tip4commit\\n==========\\n\\n[![tip for next comm...   \n",
       "\n",
       "                                               clean  \\\n",
       "0  lightningpay bitcoin lightning network payment...   \n",
       "1  react bitcoin monitor app monitors changes _bi...   \n",
       "2  lbrycrd lbry blockchain build statushttpstravi...   \n",
       "3  lightning charge build statushttpsapitraviscio...   \n",
       "5  tip4commit tip next commithttpstip4commitcompr...   \n",
       "\n",
       "                                             stemmed  \\\n",
       "0  lightningpay bitcoin lightn network payment ne...   \n",
       "1  react bitcoin monitor app monitor chang _bitco...   \n",
       "2  lbrycrd lbri blockchain build statushttpstravi...   \n",
       "3  lightn charg build statushttpsapitravisciorgel...   \n",
       "5  tip4commit tip next commithttpstip4commitcompr...   \n",
       "\n",
       "                                          lemmatized  \n",
       "0  lightningpay bitcoin lightning network payment...  \n",
       "1  react bitcoin monitor app monitor change _bitc...  \n",
       "2  lbrycrd lbry blockchain build statushttpstravi...  \n",
       "3  lightning charge build statushttpsapitraviscio...  \n",
       "5  tip4commit tip next commithttpstip4commitcompr...  "
      ]
     },
     "execution_count": 24,
     "metadata": {},
     "output_type": "execute_result"
    }
   ],
   "source": [
    "df['language'] = df.language.apply(common_language)\n",
    "df.head()"
   ]
  },
  {
   "cell_type": "code",
   "execution_count": 25,
   "id": "ea6cc1ed",
   "metadata": {},
   "outputs": [
    {
     "data": {
      "text/plain": [
       "Other         48\n",
       "JavaScript    42\n",
       "Python        34\n",
       "C++           16\n",
       "PHP           15\n",
       "C             11\n",
       "Name: language, dtype: int64"
      ]
     },
     "execution_count": 25,
     "metadata": {},
     "output_type": "execute_result"
    }
   ],
   "source": [
    "df.language.value_counts()"
   ]
  },
  {
   "cell_type": "code",
   "execution_count": 35,
   "id": "147de4b6",
   "metadata": {},
   "outputs": [],
   "source": [
    "def common_language(string):\n",
    "    \"\"\"\n",
    "    Takes in a string and compares it to a predefined user list\n",
    "    if string not in list changes to 'Other'\n",
    "    \"\"\"\n",
    "    language_list= ['Java', 'JavaScript', 'Python', 'C++', 'PHP', 'C']\n",
    "    if string not in language_list:\n",
    "        string = 'Other'\n",
    "    return string\n",
    "\n",
    "def jeanettes_simple_df():\n",
    "    \"\"\"\n",
    "    Reads in a dataframe from local json file\n",
    "    uses prepare function to clean\n",
    "    drops nulls\n",
    "    drops languages represented by less than 5 repositories\n",
    "    returns repository\n",
    "    \"\"\"\n",
    "    import prepare\n",
    "    \n",
    "    # Reading the file full of readme texts\n",
    "    df = pd.read_json('repo_readmes.json')\n",
    "\n",
    "    # Cleaning the text\n",
    "    df = prepare.prep_readme_data(df, 'readme_contents', extra_words=['\\n'], exclude_words=[])\n",
    "\n",
    "    # Drop rows with a null in language\n",
    "    df = df[df.language.notnull()]\n",
    "    \n",
    "    # Save the names of the top 5 programming languages, and change the rest to 'Other'\n",
    "    df['language'] = df.language.apply(common_language)\n",
    "\n",
    "    return df"
   ]
  },
  {
   "cell_type": "markdown",
   "id": "1da0e142",
   "metadata": {},
   "source": [
    "<hr style=\"border:2px solid green\"> </hr>\n",
    "\n",
    "# Explore\n",
    "\n"
   ]
  },
  {
   "cell_type": "code",
   "execution_count": 39,
   "id": "73dc6662",
   "metadata": {},
   "outputs": [
    {
     "data": {
      "text/html": [
       "<div>\n",
       "<style scoped>\n",
       "    .dataframe tbody tr th:only-of-type {\n",
       "        vertical-align: middle;\n",
       "    }\n",
       "\n",
       "    .dataframe tbody tr th {\n",
       "        vertical-align: top;\n",
       "    }\n",
       "\n",
       "    .dataframe thead th {\n",
       "        text-align: right;\n",
       "    }\n",
       "</style>\n",
       "<table border=\"1\" class=\"dataframe\">\n",
       "  <thead>\n",
       "    <tr style=\"text-align: right;\">\n",
       "      <th></th>\n",
       "      <th>repo</th>\n",
       "      <th>language</th>\n",
       "      <th>readme_contents</th>\n",
       "      <th>clean</th>\n",
       "      <th>stemmed</th>\n",
       "      <th>lemmatized</th>\n",
       "    </tr>\n",
       "  </thead>\n",
       "  <tbody>\n",
       "    <tr>\n",
       "      <th>0</th>\n",
       "      <td>using-system/LightningPay</td>\n",
       "      <td>Other</td>\n",
       "      <td># LightningPay\\nBitcoin Lightning Network Paym...</td>\n",
       "      <td>lightningpay bitcoin lightning network payment...</td>\n",
       "      <td>lightningpay bitcoin lightn network payment ne...</td>\n",
       "      <td>lightningpay bitcoin lightning network payment...</td>\n",
       "    </tr>\n",
       "    <tr>\n",
       "      <th>1</th>\n",
       "      <td>drminnaar/react-bitcoin-monitor</td>\n",
       "      <td>JavaScript</td>\n",
       "      <td># React Bitcoin Monitor\\n\\nAn app that monitor...</td>\n",
       "      <td>react bitcoin monitor app monitors changes _bi...</td>\n",
       "      <td>react bitcoin monitor app monitor chang _bitco...</td>\n",
       "      <td>react bitcoin monitor app monitor change _bitc...</td>\n",
       "    </tr>\n",
       "    <tr>\n",
       "      <th>2</th>\n",
       "      <td>lbryio/lbrycrd</td>\n",
       "      <td>C++</td>\n",
       "      <td># LBRYcrd - The LBRY blockchain\\n\\n[![Build St...</td>\n",
       "      <td>lbrycrd lbry blockchain build statushttpstravi...</td>\n",
       "      <td>lbrycrd lbri blockchain build statushttpstravi...</td>\n",
       "      <td>lbrycrd lbry blockchain build statushttpstravi...</td>\n",
       "    </tr>\n",
       "    <tr>\n",
       "      <th>3</th>\n",
       "      <td>ElementsProject/lightning-charge</td>\n",
       "      <td>JavaScript</td>\n",
       "      <td># Lightning Charge\\n\\n[![build status](https:/...</td>\n",
       "      <td>lightning charge build statushttpsapitraviscio...</td>\n",
       "      <td>lightn charg build statushttpsapitravisciorgel...</td>\n",
       "      <td>lightning charge build statushttpsapitraviscio...</td>\n",
       "    </tr>\n",
       "    <tr>\n",
       "      <th>5</th>\n",
       "      <td>tip4commit/tip4commit</td>\n",
       "      <td>Other</td>\n",
       "      <td>Tip4commit\\n==========\\n\\n[![tip for next comm...</td>\n",
       "      <td>tip4commit tip next commithttpstip4commitcompr...</td>\n",
       "      <td>tip4commit tip next commithttpstip4commitcompr...</td>\n",
       "      <td>tip4commit tip next commithttpstip4commitcompr...</td>\n",
       "    </tr>\n",
       "  </tbody>\n",
       "</table>\n",
       "</div>"
      ],
      "text/plain": [
       "                               repo    language  \\\n",
       "0         using-system/LightningPay       Other   \n",
       "1   drminnaar/react-bitcoin-monitor  JavaScript   \n",
       "2                    lbryio/lbrycrd         C++   \n",
       "3  ElementsProject/lightning-charge  JavaScript   \n",
       "5             tip4commit/tip4commit       Other   \n",
       "\n",
       "                                     readme_contents  \\\n",
       "0  # LightningPay\\nBitcoin Lightning Network Paym...   \n",
       "1  # React Bitcoin Monitor\\n\\nAn app that monitor...   \n",
       "2  # LBRYcrd - The LBRY blockchain\\n\\n[![Build St...   \n",
       "3  # Lightning Charge\\n\\n[![build status](https:/...   \n",
       "5  Tip4commit\\n==========\\n\\n[![tip for next comm...   \n",
       "\n",
       "                                               clean  \\\n",
       "0  lightningpay bitcoin lightning network payment...   \n",
       "1  react bitcoin monitor app monitors changes _bi...   \n",
       "2  lbrycrd lbry blockchain build statushttpstravi...   \n",
       "3  lightning charge build statushttpsapitraviscio...   \n",
       "5  tip4commit tip next commithttpstip4commitcompr...   \n",
       "\n",
       "                                             stemmed  \\\n",
       "0  lightningpay bitcoin lightn network payment ne...   \n",
       "1  react bitcoin monitor app monitor chang _bitco...   \n",
       "2  lbrycrd lbri blockchain build statushttpstravi...   \n",
       "3  lightn charg build statushttpsapitravisciorgel...   \n",
       "5  tip4commit tip next commithttpstip4commitcompr...   \n",
       "\n",
       "                                          lemmatized  \n",
       "0  lightningpay bitcoin lightning network payment...  \n",
       "1  react bitcoin monitor app monitor change _bitc...  \n",
       "2  lbrycrd lbry blockchain build statushttpstravi...  \n",
       "3  lightning charge build statushttpsapitraviscio...  \n",
       "5  tip4commit tip next commithttpstip4commitcompr...  "
      ]
     },
     "execution_count": 39,
     "metadata": {},
     "output_type": "execute_result"
    }
   ],
   "source": [
    "new_df = jeanettes_simple_df()\n",
    "new_df.head()"
   ]
  },
  {
   "cell_type": "code",
   "execution_count": 40,
   "id": "6857684f",
   "metadata": {},
   "outputs": [
    {
     "data": {
      "text/plain": [
       "Other         43\n",
       "JavaScript    42\n",
       "Python        34\n",
       "C++           16\n",
       "PHP           15\n",
       "C             11\n",
       "Java           5\n",
       "Name: language, dtype: int64"
      ]
     },
     "execution_count": 40,
     "metadata": {},
     "output_type": "execute_result"
    }
   ],
   "source": [
    "# Double, triple checking my language distribution\n",
    "new_df.language.value_counts()"
   ]
  },
  {
   "cell_type": "code",
   "execution_count": 37,
   "id": "bdb7be83",
   "metadata": {},
   "outputs": [
    {
     "data": {
      "text/plain": [
       "((92, 6), (40, 6), (34, 6))"
      ]
     },
     "execution_count": 37,
     "metadata": {},
     "output_type": "execute_result"
    }
   ],
   "source": [
    "# Splitting the Data since we will be modeling\n",
    "from sklearn.model_selection import train_test_split\n",
    "\n",
    "# Test set is .2 of original dataframe\n",
    "train, test = train_test_split(new_df, test_size = .2, random_state= 42, stratify= new_df.language)\n",
    "\n",
    "# The remainder is here divided .7 to train and .3 to validate\n",
    "train, validate = train_test_split(train, test_size= .3, random_state= 42, stratify= train.language)\n",
    "\n",
    "train.shape, validate.shape, test.shape"
   ]
  },
  {
   "cell_type": "code",
   "execution_count": 38,
   "id": "4a5cdb36",
   "metadata": {
    "scrolled": true
   },
   "outputs": [
    {
     "data": {
      "text/plain": [
       "Other         24\n",
       "JavaScript    23\n",
       "Python        19\n",
       "C++            9\n",
       "PHP            8\n",
       "C              6\n",
       "Java           3\n",
       "Name: language, dtype: int64"
      ]
     },
     "execution_count": 38,
     "metadata": {},
     "output_type": "execute_result"
    }
   ],
   "source": [
    "# And checking again for good measure\n",
    "train.language.value_counts()"
   ]
  },
  {
   "cell_type": "markdown",
   "id": "2913c808",
   "metadata": {},
   "source": [
    "# How many repos have their language mentioned in the readme_contents?"
   ]
  },
  {
   "cell_type": "code",
   "execution_count": 41,
   "id": "fa06351d",
   "metadata": {},
   "outputs": [],
   "source": [
    "# Separating all the languages and combine thier lemmatized readme_contents into one string \n",
    "Java_words = basic_clean(' '.join(train[train.language == 'Java'].lemmatized))\n",
    "JavaScript_words = basic_clean(' '.join(train[train.language == 'JavaScript'].lemmatized))\n",
    "Python_words = basic_clean(' '.join(train[train.language == 'Python'].lemmatized))\n",
    "Cpp_words = basic_clean(' '.join(train[train.language == 'C++'].lemmatized))\n",
    "PHP_words = basic_clean(' '.join(train[train.language == 'PHP'].lemmatized))\n",
    "C_words = basic_clean(' '.join(train[train.language == 'C'].lemmatized))\n",
    "Other_words = basic_clean(' '.join(train[train.language == 'Other'].lemmatized))\n",
    "all_words = basic_clean(' '.join(train.lemmatized))\n"
   ]
  },
  {
   "cell_type": "code",
   "execution_count": 42,
   "id": "f49a2326",
   "metadata": {},
   "outputs": [
    {
     "data": {
      "text/plain": [
       "td         321\n",
       "address    307\n",
       "bitcoin    295\n",
       "run        227\n",
       "key        222\n",
       "dtype: int64"
      ]
     },
     "execution_count": 42,
     "metadata": {},
     "output_type": "execute_result"
    }
   ],
   "source": [
    "# Now to see what words occur most frequently for each language\n",
    "# I will do this by first transforming the word-lists into pandas Series'\n",
    "Java_freq = pd.Series(Java_words.split()).value_counts()\n",
    "JavaScript_freq = pd.Series(JavaScript_words.split()).value_counts()\n",
    "Python_freq = pd.Series(Python_words.split()).value_counts()\n",
    "Cpp_freq = pd.Series(Cpp_words.split()).value_counts()\n",
    "PHP_freq = pd.Series(PHP_words.split()).value_counts()\n",
    "C_freq = pd.Series(C_words.split()).value_counts()\n",
    "Other_freq = pd.Series(Other_words.split()).value_counts()\n",
    "all_freq = pd.Series(all_words.split()).value_counts()\n",
    "\n",
    "all_freq.head()"
   ]
  },
  {
   "cell_type": "code",
   "execution_count": 43,
   "id": "0f763e68",
   "metadata": {},
   "outputs": [
    {
     "data": {
      "text/plain": [
       "support    12\n",
       "wallet     10\n",
       "key         7\n",
       "bitcoin     6\n",
       "import      5\n",
       "dtype: int64"
      ]
     },
     "execution_count": 43,
     "metadata": {},
     "output_type": "execute_result"
    }
   ],
   "source": [
    "Java_freq.head()"
   ]
  },
  {
   "cell_type": "code",
   "execution_count": 44,
   "id": "4a742058",
   "metadata": {},
   "outputs": [
    {
     "name": "stdout",
     "output_type": "stream",
     "text": [
      "---------------------\n",
      "Java_freq\n",
      "support    12\n",
      "wallet     10\n",
      "key         7\n",
      "bitcoin     6\n",
      "import      5\n",
      "dtype: int64\n",
      "---------------------\n",
      "JavaScript_freq\n",
      "td             321\n",
      "bitcoin        104\n",
      "transaction     74\n",
      "data            73\n",
      "bitwork         72\n",
      "dtype: int64\n",
      "---------------------\n",
      "Python_freq\n",
      "bitcoin    60\n",
      "install    36\n",
      "python     32\n",
      "key        28\n",
      "address    26\n",
      "dtype: int64\n",
      "---------------------\n",
      "Cpp_freq\n",
      "key        136\n",
      "info       129\n",
      "address    106\n",
      "9           80\n",
      "bit         64\n",
      "dtype: int64\n",
      "---------------------\n",
      "PHP_freq\n",
      "address      69\n",
      "000000000    39\n",
      "change       31\n",
      "receive      30\n",
      "bitcoin      28\n",
      "dtype: int64\n",
      "---------------------\n",
      "C_freq\n",
      "brainflayer    34\n",
      "password       26\n",
      "file           25\n",
      "use            20\n",
      "c              16\n",
      "dtype: int64\n",
      "---------------------\n",
      "Other_freq\n",
      "run        82\n",
      "9          72\n",
      "yarn       69\n",
      "bitcoin    62\n",
      "install    50\n",
      "dtype: int64\n",
      "---------------------\n",
      "all_freq\n",
      "td         321\n",
      "address    307\n",
      "bitcoin    295\n",
      "run        227\n",
      "key        222\n",
      "dtype: int64\n"
     ]
    }
   ],
   "source": [
    "\n",
    "frequencies = [Java_freq, JavaScript_freq, Python_freq, Cpp_freq, PHP_freq, C_freq, Other_freq, all_freq ]\n",
    "names = ['Java_freq', 'JavaScript_freq', 'Python_freq', 'Cpp_freq', 'PHP_freq', 'C_freq', 'Other_freq', 'all_freq' ]\n",
    "counter= 0\n",
    "\n",
    "for freq in frequencies:\n",
    "    print('---------------------')\n",
    "    print(names[counter])\n",
    "    print(freq.head())\n",
    "    counter +=1"
   ]
  },
  {
   "cell_type": "code",
   "execution_count": 66,
   "id": "fef1be1e",
   "metadata": {},
   "outputs": [
    {
     "data": {
      "text/plain": [
       "' bop bitcoin server api package defines lowest level interface bop bitcoin server build install maven3 jdk 7 jce unlimited strength policy jurisdiction google protobuf compiler 250 9 git clone httpsgithubcombitsofproofbopbitcoinserverapi cd bopbitcoinclient mvn package license apache license version 20 see license file arcbit bitcoin wallet android first mobile wallet support reusablestealth address also offer cold wallet storage offline spending visit httpwwwarcbitio information play store link httpsplaygooglecomstoreappsdetailsidcomarcbitarcbit feature signup required cold wallet storage offline spending single recovery passphrase work forever private key never leave device faster loading time compared wallet send receive bitcoin payment view transaction wallet balance pin protection email support built app hd wallet support forwardreusablestealth address support 150 local currency support bitcoin millibits bit denomination support dedicated help section question use app automatic cycling address prevent address reuse open source xpub key stored client side unlike many wallet offer better privacy access private key without internet connection advance mode bitcoin expert advance feature pick preferred block explorer api currently support bitpays insight blockchaininfo also point arcbit insight server import private key support import bip38 encrypted private key support import watch address support import hd wallet account key support import hd wallet watch account key support build build run arcbit simply open project android studio click run made possible arcbit made possible limited project httpsgithubcombitcoinjbitcoinj httpsgithubcombitpayinsight httpsgithubcombitpayinsightapi'"
      ]
     },
     "execution_count": 66,
     "metadata": {},
     "output_type": "execute_result"
    }
   ],
   "source": [
    "Java_words"
   ]
  },
  {
   "cell_type": "code",
   "execution_count": 53,
   "id": "e43bb4d8",
   "metadata": {},
   "outputs": [
    {
     "data": {
      "text/plain": [
       "5"
      ]
     },
     "execution_count": 53,
     "metadata": {},
     "output_type": "execute_result"
    }
   ],
   "source": [
    "# Let's try a test run first with the java word list.\n",
    "Java_words.find('bitcoin')"
   ]
  },
  {
   "cell_type": "markdown",
   "id": "d7b5b23b",
   "metadata": {},
   "source": [
    "The string.find() will only tell me what character element it found the word at. For example in Java_words.find('bitcoin') it found bitcoin 5 characters into the string."
   ]
  },
  {
   "cell_type": "code",
   "execution_count": 60,
   "id": "10ba00ec",
   "metadata": {},
   "outputs": [
    {
     "data": {
      "text/plain": [
       "-1"
      ]
     },
     "execution_count": 60,
     "metadata": {},
     "output_type": "execute_result"
    }
   ],
   "source": [
    "# Now to see if I can I find the word Java?\n",
    "Java_words.find('java')"
   ]
  },
  {
   "cell_type": "code",
   "execution_count": 61,
   "id": "0601517d",
   "metadata": {},
   "outputs": [
    {
     "data": {
      "text/plain": [
       "902"
      ]
     },
     "execution_count": 61,
     "metadata": {},
     "output_type": "execute_result"
    }
   ],
   "source": [
    "JavaScript_words.find('java')"
   ]
  },
  {
   "cell_type": "code",
   "execution_count": 62,
   "id": "ebeb0b51",
   "metadata": {},
   "outputs": [
    {
     "data": {
      "text/plain": [
       "902"
      ]
     },
     "execution_count": 62,
     "metadata": {},
     "output_type": "execute_result"
    }
   ],
   "source": [
    "JavaScript_words.find('javascript')"
   ]
  },
  {
   "cell_type": "code",
   "execution_count": 63,
   "id": "051a519b",
   "metadata": {},
   "outputs": [
    {
     "data": {
      "text/plain": [
       "1213"
      ]
     },
     "execution_count": 63,
     "metadata": {},
     "output_type": "execute_result"
    }
   ],
   "source": [
    "Python_words.find('python')"
   ]
  },
  {
   "cell_type": "code",
   "execution_count": null,
   "id": "0b2d6849",
   "metadata": {},
   "outputs": [],
   "source": []
  }
 ],
 "metadata": {
  "kernelspec": {
   "display_name": "Python 3 (ipykernel)",
   "language": "python",
   "name": "python3"
  },
  "language_info": {
   "codemirror_mode": {
    "name": "ipython",
    "version": 3
   },
   "file_extension": ".py",
   "mimetype": "text/x-python",
   "name": "python",
   "nbconvert_exporter": "python",
   "pygments_lexer": "ipython3",
   "version": "3.9.7"
  }
 },
 "nbformat": 4,
 "nbformat_minor": 5
}
