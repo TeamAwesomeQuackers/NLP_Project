{
 "cells": [
  {
   "cell_type": "markdown",
   "id": "847d9368",
   "metadata": {},
   "source": [
    "# Jeanette's Workbook\n",
    "\n",
    "<hr style=\"border:2px solid green\"> </hr>\n",
    "\n",
    "This is a collection of all the work I provided for this project. "
   ]
  },
  {
   "cell_type": "code",
   "execution_count": 1,
   "id": "6356495c",
   "metadata": {},
   "outputs": [],
   "source": [
    "from requests import get\n",
    "from bs4 import BeautifulSoup\n",
    "import os\n",
    "\n",
    "import pandas as pd"
   ]
  },
  {
   "cell_type": "code",
   "execution_count": null,
   "id": "9a33d655",
   "metadata": {},
   "outputs": [],
   "source": []
  }
 ],
 "metadata": {
  "kernelspec": {
   "display_name": "Python 3 (ipykernel)",
   "language": "python",
   "name": "python3"
  },
  "language_info": {
   "codemirror_mode": {
    "name": "ipython",
    "version": 3
   },
   "file_extension": ".py",
   "mimetype": "text/x-python",
   "name": "python",
   "nbconvert_exporter": "python",
   "pygments_lexer": "ipython3",
   "version": "3.9.7"
  }
 },
 "nbformat": 4,
 "nbformat_minor": 5
}
