{
 "cells": [
  {
   "cell_type": "markdown",
   "id": "e8cc9b22",
   "metadata": {},
   "source": [
    "# Natural Language Processing Project"
   ]
  },
  {
   "cell_type": "markdown",
   "id": "2e08b0cc",
   "metadata": {},
   "source": [
    "### What Programming Language are People using for their BitCoin Related Repositories on GitHub?\n",
    "### Give me the README, and I'll Predict the Language. "
   ]
  },
  {
   "cell_type": "markdown",
   "id": "5b6b3c41",
   "metadata": {},
   "source": [
    "-----"
   ]
  },
  {
   "cell_type": "markdown",
   "id": "fe039126",
   "metadata": {},
   "source": [
    "# About this Project"
   ]
  },
  {
   "cell_type": "markdown",
   "id": "92939fa3",
   "metadata": {},
   "source": [
    "-----"
   ]
  },
  {
   "cell_type": "markdown",
   "id": "0d977aac",
   "metadata": {},
   "source": [
    "### Project Goal: "
   ]
  },
  {
   "cell_type": "markdown",
   "id": "e1f807ac",
   "metadata": {},
   "source": [
    "The goal is to scrape README pages from BitCoin related repositories on GitHub, so that we can predict the language of that repository. "
   ]
  },
  {
   "cell_type": "markdown",
   "id": "fd49990a",
   "metadata": {},
   "source": [
    "### Project Desciption: "
   ]
  },
  {
   "cell_type": "markdown",
   "id": "b9186d9b",
   "metadata": {},
   "source": [
    "Language Predictor. This is a group project where we will be scraping GitHub repository README files related to BitCoin. Exploring the text in the README will allow us to identify We will then produce a classification model that will be able to predict the programming language of that repository using only the text in the README. "
   ]
  },
  {
   "cell_type": "markdown",
   "id": "6cb57bb3",
   "metadata": {},
   "source": [
    "- List of the languages whose detection is supported: \n",
    "    - JavaScript\n",
    "    - Python\n",
    "    - Go\n",
    "    - C++\n",
    "    - Java\n",
    "    - TypeScript\n",
    "    - HTML\n",
    "    - PHP\n",
    "    - C#"
   ]
  },
  {
   "cell_type": "markdown",
   "id": "67de198e",
   "metadata": {},
   "source": [
    "--------"
   ]
  },
  {
   "cell_type": "markdown",
   "id": "1914bd08",
   "metadata": {},
   "source": [
    "# Housekeeping"
   ]
  },
  {
   "cell_type": "markdown",
   "id": "1cad246e",
   "metadata": {},
   "source": [
    "-----"
   ]
  },
  {
   "cell_type": "markdown",
   "id": "dc5b072d",
   "metadata": {},
   "source": [
    "### Data dictionary"
   ]
  },
  {
   "cell_type": "markdown",
   "id": "c28fb1f8",
   "metadata": {},
   "source": [
    "A list of the variables in the dataframe and their meaning."
   ]
  },
  {
   "cell_type": "markdown",
   "id": "59917717",
   "metadata": {},
   "source": [
    "|Column_Name|Description|\n",
    "|-----------|-----------|\n",
    "|||\n",
    "|||\n",
    "|||\n",
    "|||\n",
    "|||"
   ]
  },
  {
   "cell_type": "markdown",
   "id": "bb8ba426",
   "metadata": {},
   "source": [
    "### Imports"
   ]
  },
  {
   "cell_type": "markdown",
   "id": "2cb40e6f",
   "metadata": {},
   "source": [
    "Here are the imports needed to run this notebook."
   ]
  },
  {
   "cell_type": "code",
   "execution_count": 13,
   "id": "32f0eed3",
   "metadata": {},
   "outputs": [],
   "source": [
    "import pandas as pd\n",
    "import numpy as np\n",
    "\n",
    "# Scraping\n",
    "import requests\n",
    "from bs4 import BeautifulSoup\n",
    "\n",
    "import nltk\n",
    "from nltk.tokenize.toktok import ToktokTokenizer\n",
    "from nltk.corpus import stopwords\n",
    "import nltk.sentiment\n",
    "\n",
    "from wordcloud import WordCloud\n",
    "pd.set_option('display.max_colwidth', -1)\n",
    "\n",
    "# Regex\n",
    "import re\n",
    "\n",
    "# Time\n",
    "from time import strftime\n",
    "\n",
    "import unicodedata\n",
    "import json\n",
    "from pprint import pprint\n",
    "\n",
    "# Visualizations\n",
    "import matplotlib.pyplot as plt\n",
    "import seaborn as sns\n",
    "\n",
    "# Custom Imports\n",
    "import acquire \n",
    "\n",
    "# Turn off pink boxes for demo\n",
    "import warnings\n",
    "warnings.filterwarnings(\"ignore\")"
   ]
  },
  {
   "cell_type": "markdown",
   "id": "c0743334",
   "metadata": {},
   "source": [
    "--------"
   ]
  },
  {
   "cell_type": "markdown",
   "id": "14191137",
   "metadata": {},
   "source": [
    "# Let's Get Started..."
   ]
  },
  {
   "cell_type": "markdown",
   "id": "656e99ee",
   "metadata": {},
   "source": [
    "-----"
   ]
  },
  {
   "cell_type": "markdown",
   "id": "ca6fd002",
   "metadata": {},
   "source": [
    "## Acquire & Prepare"
   ]
  },
  {
   "cell_type": "markdown",
   "id": "b017c3d1",
   "metadata": {},
   "source": [
    "### Steps Taken to Prepare the Data:"
   ]
  },
  {
   "cell_type": "markdown",
   "id": "31aab0a8",
   "metadata": {},
   "source": [
    "## Exploration"
   ]
  },
  {
   "cell_type": "markdown",
   "id": "a666aa28",
   "metadata": {},
   "source": [
    "### Initial Hypotheses/Questions:"
   ]
  },
  {
   "cell_type": "markdown",
   "id": "0c161127",
   "metadata": {},
   "source": [
    "#### Initial Hypothesis: "
   ]
  },
  {
   "cell_type": "markdown",
   "id": "f2d4f28d",
   "metadata": {},
   "source": [
    "#### Initial Questions: \n",
    "    1. \n",
    "    2. \n",
    "    3. \n",
    "    4. "
   ]
  },
  {
   "cell_type": "markdown",
   "id": "90eb4aca",
   "metadata": {},
   "source": [
    "### Explore: "
   ]
  },
  {
   "cell_type": "markdown",
   "id": "874de50c",
   "metadata": {},
   "source": [
    "### Exploration Takeaways:"
   ]
  },
  {
   "cell_type": "markdown",
   "id": "73e0bb5d",
   "metadata": {},
   "source": [
    "### Features to Move Forward with:"
   ]
  },
  {
   "cell_type": "markdown",
   "id": "32033111",
   "metadata": {},
   "source": [
    "## Modeling"
   ]
  },
  {
   "cell_type": "markdown",
   "id": "23eb2a9e",
   "metadata": {},
   "source": [
    "-----"
   ]
  },
  {
   "cell_type": "markdown",
   "id": "c88002b0",
   "metadata": {},
   "source": [
    "# Conclusion"
   ]
  },
  {
   "cell_type": "markdown",
   "id": "f5e43fad",
   "metadata": {},
   "source": [
    "----"
   ]
  },
  {
   "cell_type": "markdown",
   "id": "6ac84d3f",
   "metadata": {},
   "source": [
    "### Summary"
   ]
  },
  {
   "cell_type": "markdown",
   "id": "9784f324",
   "metadata": {},
   "source": [
    "### Next Steps"
   ]
  },
  {
   "cell_type": "code",
   "execution_count": null,
   "id": "efd5c858",
   "metadata": {},
   "outputs": [],
   "source": []
  }
 ],
 "metadata": {
  "kernelspec": {
   "display_name": "Python 3",
   "language": "python",
   "name": "python3"
  },
  "language_info": {
   "codemirror_mode": {
    "name": "ipython",
    "version": 3
   },
   "file_extension": ".py",
   "mimetype": "text/x-python",
   "name": "python",
   "nbconvert_exporter": "python",
   "pygments_lexer": "ipython3",
   "version": "3.8.8"
  }
 },
 "nbformat": 4,
 "nbformat_minor": 5
}
