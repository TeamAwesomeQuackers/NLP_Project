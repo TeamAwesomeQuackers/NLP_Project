{
 "cells": [
  {
   "cell_type": "markdown",
   "id": "0997f830",
   "metadata": {},
   "source": [
    "<p align= \"center\">\n",
    "<img width=\"300\" src=\"https://logos-world.net/wp-content/uploads/2020/11/GitHub-Emblem.png\" alt=\"Github Logo\">\n",
    "</p>"
   ]
  },
  {
   "cell_type": "markdown",
   "id": "1d4c4739",
   "metadata": {},
   "source": [
    "\n",
    "<h1 align = \"center\">Programming Language Detection</h1>\n",
    "\n",
    "<h2 align = \"center\">By Chloe Whitaker, Jeanette Schulz, Brian Clements, and Paige Guajardo </h2>\n",
    "<h4 align = \"center\">11 February 2022</h4>\n",
    "\n"
   ]
  },
  {
   "cell_type": "markdown",
   "id": "09ec8047",
   "metadata": {},
   "source": [
    "<hr style=\"border:2px solid blue\"> </hr>\n",
    "\n",
    "# About this Project\n",
    "### Github Webscraping and Natural Language Processing\n",
    "Millions of developers and companies build, ship, and maintain their software on GitHub— the largest and most advanced development platform in the world. As Codeup's new up-and-coming Data Scientists, we will be using GitHub's platform to practice both our Web-Scraping skills and our Natural Language Processing (NLP) skills. With a focus on repositories that are studying bitcoin, our goal is to predict the programming language used in a repository based solely on the README.md file provided. By exploring the text provided in the README, we hope to identify key words that will allow us to identify which programming language(s) were used. Then we will teach these to our classification model so that it will predict the programming language of any future repositories we show it. For our project, we focused on five most common languages from Bitcoin repositories and named the rest 'Other'. The list of languages we will try to predict are: \n",
    "- JavaScript         \n",
    "- Python             \n",
    "- C++                 \n",
    "- PHP                 \n",
    "- C                                   \n",
    "- Java   \n",
    "- Other"
   ]
  },
  {
   "cell_type": "markdown",
   "id": "71121f01",
   "metadata": {},
   "source": [
    "### Project Goal: "
   ]
  },
  {
   "cell_type": "markdown",
   "id": "47a44b28",
   "metadata": {},
   "source": [
    "The goal is to scrape README pages from BitCoin related repositories on GitHub, so that we can predict the language of that repository. "
   ]
  },
  {
   "cell_type": "markdown",
   "id": "298013c0",
   "metadata": {},
   "source": [
    "### Project Desciption: "
   ]
  },
  {
   "cell_type": "markdown",
   "id": "cc3ca2e5",
   "metadata": {},
   "source": [
    "Language Predictor. This is a group project where we will be scraping GitHub repository README files related to BitCoin. We will then produce a classification model that will be able to predict the programming language of that repository using only the text in the README. "
   ]
  },
  {
   "cell_type": "markdown",
   "id": "8b92c330",
   "metadata": {},
   "source": [
    "\n",
    "# Data Dictionary\n",
    "\n",
    "| Feature                    | Datatype               | Description                                                           |\n",
    "|:---------------------------|:-----------------------|:----------------------------------------------------------------------|\n",
    "| repo                       | object  | github repo name             |\n",
    "| language                       | object  | repo programming language            |\n",
    "| readme_contents                       | object  | contents of the repo's readme             |\n"
   ]
  },
  {
   "cell_type": "markdown",
   "id": "b1d7bd3c",
   "metadata": {},
   "source": [
    "<hr style=\"border:2px solid blue\"> </hr>\n",
    "\n",
    "### Imports"
   ]
  },
  {
   "cell_type": "markdown",
   "id": "e391e3f1",
   "metadata": {},
   "source": [
    "Here are the imports needed to run this notebook."
   ]
  },
  {
   "cell_type": "code",
   "execution_count": 1,
   "id": "640d9438",
   "metadata": {},
   "outputs": [],
   "source": [
    "import pandas as pd\n",
    "import numpy as np\n",
    "\n",
    "# Scraping\n",
    "import requests\n",
    "from bs4 import BeautifulSoup\n",
    "\n",
    "import nltk\n",
    "from nltk.tokenize.toktok import ToktokTokenizer\n",
    "from nltk.corpus import stopwords\n",
    "import nltk.sentiment\n",
    "\n",
    "from wordcloud import WordCloud\n",
    "# pd.set_option('display.max_colwidth', -1)\n",
    "\n",
    "# Regex\n",
    "import re\n",
    "\n",
    "# Time\n",
    "from time import strftime\n",
    "\n",
    "import unicodedata\n",
    "import json\n",
    "from pprint import pprint\n",
    "\n",
    "# Visualizations\n",
    "import matplotlib.pyplot as plt\n",
    "import seaborn as sns\n",
    "\n",
    "# Custom Imports\n",
    "# import acquire \n",
    "import prepare\n",
    "import wrangle\n",
    "import model\n",
    "# Turn off pink boxes for demo\n",
    "import warnings\n",
    "warnings.filterwarnings(\"ignore\")"
   ]
  },
  {
   "cell_type": "markdown",
   "id": "45a92016",
   "metadata": {},
   "source": [
    "--------"
   ]
  },
  {
   "cell_type": "markdown",
   "id": "9964180d",
   "metadata": {},
   "source": [
    "# Let's Get Started..."
   ]
  },
  {
   "cell_type": "markdown",
   "id": "52eaebca",
   "metadata": {},
   "source": [
    "-----"
   ]
  },
  {
   "cell_type": "markdown",
   "id": "69afd8fb",
   "metadata": {},
   "source": [
    "## Wrangle"
   ]
  },
  {
   "cell_type": "markdown",
   "id": "90123224",
   "metadata": {},
   "source": [
    "Use the wrangle.py helper file to acquire and prepare the GitHub README data. "
   ]
  },
  {
   "cell_type": "code",
   "execution_count": 3,
   "id": "87e7a35c",
   "metadata": {},
   "outputs": [],
   "source": [
    "# df=acquire.make_json(cached=True)\n",
    "df = pd.read_json('repo_readmes.json')"
   ]
  },
  {
   "cell_type": "code",
   "execution_count": 4,
   "id": "8acdf1e5",
   "metadata": {},
   "outputs": [
    {
     "data": {
      "text/html": [
       "<div>\n",
       "<style scoped>\n",
       "    .dataframe tbody tr th:only-of-type {\n",
       "        vertical-align: middle;\n",
       "    }\n",
       "\n",
       "    .dataframe tbody tr th {\n",
       "        vertical-align: top;\n",
       "    }\n",
       "\n",
       "    .dataframe thead th {\n",
       "        text-align: right;\n",
       "    }\n",
       "</style>\n",
       "<table border=\"1\" class=\"dataframe\">\n",
       "  <thead>\n",
       "    <tr style=\"text-align: right;\">\n",
       "      <th></th>\n",
       "      <th>repo</th>\n",
       "      <th>language</th>\n",
       "      <th>readme_contents</th>\n",
       "    </tr>\n",
       "  </thead>\n",
       "  <tbody>\n",
       "    <tr>\n",
       "      <th>0</th>\n",
       "      <td>using-system/LightningPay</td>\n",
       "      <td>C#</td>\n",
       "      <td># LightningPay\\nBitcoin Lightning Network Paym...</td>\n",
       "    </tr>\n",
       "    <tr>\n",
       "      <th>1</th>\n",
       "      <td>drminnaar/react-bitcoin-monitor</td>\n",
       "      <td>JavaScript</td>\n",
       "      <td># React Bitcoin Monitor\\n\\nAn app that monitor...</td>\n",
       "    </tr>\n",
       "    <tr>\n",
       "      <th>2</th>\n",
       "      <td>lbryio/lbrycrd</td>\n",
       "      <td>C++</td>\n",
       "      <td># LBRYcrd - The LBRY blockchain\\n\\n[![Build St...</td>\n",
       "    </tr>\n",
       "    <tr>\n",
       "      <th>3</th>\n",
       "      <td>ElementsProject/lightning-charge</td>\n",
       "      <td>JavaScript</td>\n",
       "      <td># Lightning Charge\\n\\n[![build status](https:/...</td>\n",
       "    </tr>\n",
       "    <tr>\n",
       "      <th>4</th>\n",
       "      <td>kilimchoi/cryptocurrency</td>\n",
       "      <td>None</td>\n",
       "      <td>Check out https://coinbuddy.co/coins to track ...</td>\n",
       "    </tr>\n",
       "  </tbody>\n",
       "</table>\n",
       "</div>"
      ],
      "text/plain": [
       "                               repo    language  \\\n",
       "0         using-system/LightningPay          C#   \n",
       "1   drminnaar/react-bitcoin-monitor  JavaScript   \n",
       "2                    lbryio/lbrycrd         C++   \n",
       "3  ElementsProject/lightning-charge  JavaScript   \n",
       "4          kilimchoi/cryptocurrency        None   \n",
       "\n",
       "                                     readme_contents  \n",
       "0  # LightningPay\\nBitcoin Lightning Network Paym...  \n",
       "1  # React Bitcoin Monitor\\n\\nAn app that monitor...  \n",
       "2  # LBRYcrd - The LBRY blockchain\\n\\n[![Build St...  \n",
       "3  # Lightning Charge\\n\\n[![build status](https:/...  \n",
       "4  Check out https://coinbuddy.co/coins to track ...  "
      ]
     },
     "execution_count": 4,
     "metadata": {},
     "output_type": "execute_result"
    }
   ],
   "source": [
    "df.head()"
   ]
  },
  {
   "cell_type": "code",
   "execution_count": 5,
   "id": "7a586bd2",
   "metadata": {},
   "outputs": [
    {
     "data": {
      "text/plain": [
       "(180, 3)"
      ]
     },
     "execution_count": 5,
     "metadata": {},
     "output_type": "execute_result"
    }
   ],
   "source": [
    "df.shape"
   ]
  },
  {
   "cell_type": "code",
   "execution_count": 6,
   "id": "137ce388",
   "metadata": {},
   "outputs": [],
   "source": [
    "# Save the names of the top 5 programming languages, and change the rest to 'Other'\n",
    "df['language'] = df.language.apply(wrangle.common_language)"
   ]
  },
  {
   "cell_type": "code",
   "execution_count": 7,
   "id": "cea30b3a",
   "metadata": {},
   "outputs": [],
   "source": [
    "df = wrangle.brian_quick_clean(df)"
   ]
  },
  {
   "cell_type": "code",
   "execution_count": 8,
   "id": "d46601a1",
   "metadata": {},
   "outputs": [],
   "source": [
    "train, validate, test, X_train, y_train, X_validate, y_validate, X_test, y_test = \\\n",
    "wrangle.split_repos(df)"
   ]
  },
  {
   "cell_type": "markdown",
   "id": "6af3c083",
   "metadata": {},
   "source": [
    "### Steps Taken to Prepare the Data:"
   ]
  },
  {
   "cell_type": "markdown",
   "id": "8e041497",
   "metadata": {},
   "source": [
    "## Exploration"
   ]
  },
  {
   "cell_type": "markdown",
   "id": "d43c84b0",
   "metadata": {},
   "source": [
    "### Initial Hypotheses/Questions:"
   ]
  },
  {
   "cell_type": "markdown",
   "id": "3072a541",
   "metadata": {},
   "source": [
    "#### Initial Hypothesis: "
   ]
  },
  {
   "cell_type": "markdown",
   "id": "d5a14460",
   "metadata": {},
   "source": [
    "A lot of the repository READMEs probably contain the name of the language that the repo is in. "
   ]
  },
  {
   "cell_type": "markdown",
   "id": "bf0ae768",
   "metadata": {},
   "source": [
    "#### Initial Questions: \n",
    "    1. What are the most frequently occuring words in the readmes?\n",
    "    2. Are there words that uniquely identify with a certain language's repos?\n",
    "    3. \n",
    "    4. Do most README's have the word of the programming language used?"
   ]
  },
  {
   "cell_type": "markdown",
   "id": "b399d85a",
   "metadata": {},
   "source": [
    "### Explore: "
   ]
  },
  {
   "cell_type": "markdown",
   "id": "bfb859b9",
   "metadata": {},
   "source": [
    "To further prepare the data for explore, I will combine all of the words from the readmes together so that I can explore the entire word set as well as by language. I will also remove the common stop words and represent the contents as word frequencies."
   ]
  },
  {
   "cell_type": "code",
   "execution_count": 9,
   "id": "b4f99ce0",
   "metadata": {},
   "outputs": [],
   "source": [
    "# combine all contents in single string by language\n",
    "\n",
    "javascript_words = (' '.join(train[train.language == 'JavaScript'].lemmatized))\n",
    "c_plus_plus__words = (' '.join(train[train.language == 'C++'].lemmatized))\n",
    "c_words = (' '.join(train[train.language == 'C'].lemmatized))\n",
    "python_words = (' '.join(train[train.language == 'Python'].lemmatized))\n",
    "php_words = (' '.join(train[train.language == 'PHP'].lemmatized))\n",
    "java_words = (' '.join(train[train.language == 'Java'].lemmatized))\n",
    "other_words = (' '.join(train[train.language == 'Other'].lemmatized))\n",
    "all_words = (' '.join(train.lemmatized))"
   ]
  },
  {
   "cell_type": "code",
   "execution_count": 10,
   "id": "c98b64a0",
   "metadata": {},
   "outputs": [],
   "source": [
    "# remove_stopwords\n",
    "\n",
    "javascript_words = wrangle.remove_stopwords(str(javascript_words))\n",
    "c_plus_plus__words = wrangle.remove_stopwords(str(c_plus_plus__words))\n",
    "c_words = wrangle.remove_stopwords(str(c_words))\n",
    "python_words = wrangle.remove_stopwords(str(python_words))\n",
    "java_words = wrangle.remove_stopwords(str(java_words))\n",
    "php_words = wrangle.remove_stopwords(str(php_words))\n",
    "other_words = wrangle.remove_stopwords(str(other_words))\n",
    "all_words = wrangle.remove_stopwords(str(all_words))"
   ]
  },
  {
   "cell_type": "code",
   "execution_count": 11,
   "id": "fdf68618",
   "metadata": {},
   "outputs": [],
   "source": [
    "# represent contents as word frequencies\n",
    "\n",
    "javascript_freq = pd.Series(javascript_words.split()).value_counts()\n",
    "c_plus_plus_freq = pd.Series(c_plus_plus__words.split()).value_counts()\n",
    "c_freq = pd.Series(c_words.split()).value_counts()\n",
    "python_freq = pd.Series(python_words.split()).value_counts()\n",
    "java_freq = pd.Series(java_words.split()).value_counts()\n",
    "php_freq = pd.Series(php_words.split()).value_counts()\n",
    "other_freq = pd.Series(other_words.split()).value_counts()\n",
    "all_freq = pd.Series(all_words.split()).value_counts()"
   ]
  },
  {
   "cell_type": "markdown",
   "id": "1426d912",
   "metadata": {},
   "source": [
    "I will concatinate all of the word frequencies together into a dataframe. "
   ]
  },
  {
   "cell_type": "code",
   "execution_count": 12,
   "id": "6da9ff5f",
   "metadata": {},
   "outputs": [],
   "source": [
    "# concat all frequencies together into a dataframe\n",
    "\n",
    "word_counts = pd.concat([javascript_freq, c_plus_plus_freq, c_freq, python_freq, java_freq, php_freq, other_freq, all_freq], axis=1).fillna(0).astype(int)\n",
    "word_counts.columns = ['javascript', 'c_plus_plus', 'c', 'python', 'java', 'php', 'other', 'all']\n",
    "# word_counts.head()"
   ]
  },
  {
   "cell_type": "markdown",
   "id": "47c53592",
   "metadata": {},
   "source": [
    "#### Question: What are the most frequently occuring words in the readmes?"
   ]
  },
  {
   "cell_type": "code",
   "execution_count": 13,
   "id": "3c0c30e9",
   "metadata": {},
   "outputs": [
    {
     "data": {
      "text/html": [
       "<div>\n",
       "<style scoped>\n",
       "    .dataframe tbody tr th:only-of-type {\n",
       "        vertical-align: middle;\n",
       "    }\n",
       "\n",
       "    .dataframe tbody tr th {\n",
       "        vertical-align: top;\n",
       "    }\n",
       "\n",
       "    .dataframe thead th {\n",
       "        text-align: right;\n",
       "    }\n",
       "</style>\n",
       "<table border=\"1\" class=\"dataframe\">\n",
       "  <thead>\n",
       "    <tr style=\"text-align: right;\">\n",
       "      <th></th>\n",
       "      <th>javascript</th>\n",
       "      <th>c_plus_plus</th>\n",
       "      <th>c</th>\n",
       "      <th>python</th>\n",
       "      <th>java</th>\n",
       "      <th>php</th>\n",
       "      <th>other</th>\n",
       "      <th>all</th>\n",
       "    </tr>\n",
       "  </thead>\n",
       "  <tbody>\n",
       "    <tr>\n",
       "      <th>&amp;#9;</th>\n",
       "      <td>127</td>\n",
       "      <td>128</td>\n",
       "      <td>68</td>\n",
       "      <td>517</td>\n",
       "      <td>1</td>\n",
       "      <td>0</td>\n",
       "      <td>78</td>\n",
       "      <td>919</td>\n",
       "    </tr>\n",
       "    <tr>\n",
       "      <th>bitcoin</th>\n",
       "      <td>116</td>\n",
       "      <td>19</td>\n",
       "      <td>17</td>\n",
       "      <td>59</td>\n",
       "      <td>14</td>\n",
       "      <td>17</td>\n",
       "      <td>112</td>\n",
       "      <td>354</td>\n",
       "    </tr>\n",
       "    <tr>\n",
       "      <th>td</th>\n",
       "      <td>321</td>\n",
       "      <td>0</td>\n",
       "      <td>0</td>\n",
       "      <td>0</td>\n",
       "      <td>0</td>\n",
       "      <td>0</td>\n",
       "      <td>4</td>\n",
       "      <td>325</td>\n",
       "    </tr>\n",
       "    <tr>\n",
       "      <th>address</th>\n",
       "      <td>145</td>\n",
       "      <td>12</td>\n",
       "      <td>1</td>\n",
       "      <td>19</td>\n",
       "      <td>2</td>\n",
       "      <td>68</td>\n",
       "      <td>57</td>\n",
       "      <td>304</td>\n",
       "    </tr>\n",
       "    <tr>\n",
       "      <th>0</th>\n",
       "      <td>29</td>\n",
       "      <td>6</td>\n",
       "      <td>3</td>\n",
       "      <td>171</td>\n",
       "      <td>1</td>\n",
       "      <td>13</td>\n",
       "      <td>13</td>\n",
       "      <td>236</td>\n",
       "    </tr>\n",
       "    <tr>\n",
       "      <th>transaction</th>\n",
       "      <td>152</td>\n",
       "      <td>0</td>\n",
       "      <td>0</td>\n",
       "      <td>8</td>\n",
       "      <td>0</td>\n",
       "      <td>3</td>\n",
       "      <td>60</td>\n",
       "      <td>223</td>\n",
       "    </tr>\n",
       "    <tr>\n",
       "      <th>key</th>\n",
       "      <td>102</td>\n",
       "      <td>1</td>\n",
       "      <td>5</td>\n",
       "      <td>21</td>\n",
       "      <td>9</td>\n",
       "      <td>16</td>\n",
       "      <td>39</td>\n",
       "      <td>193</td>\n",
       "    </tr>\n",
       "    <tr>\n",
       "      <th>done</th>\n",
       "      <td>170</td>\n",
       "      <td>0</td>\n",
       "      <td>0</td>\n",
       "      <td>1</td>\n",
       "      <td>0</td>\n",
       "      <td>0</td>\n",
       "      <td>16</td>\n",
       "      <td>187</td>\n",
       "    </tr>\n",
       "    <tr>\n",
       "      <th>1</th>\n",
       "      <td>47</td>\n",
       "      <td>15</td>\n",
       "      <td>1</td>\n",
       "      <td>22</td>\n",
       "      <td>3</td>\n",
       "      <td>7</td>\n",
       "      <td>76</td>\n",
       "      <td>171</td>\n",
       "    </tr>\n",
       "    <tr>\n",
       "      <th>run</th>\n",
       "      <td>43</td>\n",
       "      <td>23</td>\n",
       "      <td>0</td>\n",
       "      <td>14</td>\n",
       "      <td>3</td>\n",
       "      <td>9</td>\n",
       "      <td>77</td>\n",
       "      <td>169</td>\n",
       "    </tr>\n",
       "    <tr>\n",
       "      <th>use</th>\n",
       "      <td>55</td>\n",
       "      <td>16</td>\n",
       "      <td>6</td>\n",
       "      <td>20</td>\n",
       "      <td>5</td>\n",
       "      <td>15</td>\n",
       "      <td>41</td>\n",
       "      <td>158</td>\n",
       "    </tr>\n",
       "    <tr>\n",
       "      <th>2</th>\n",
       "      <td>31</td>\n",
       "      <td>7</td>\n",
       "      <td>2</td>\n",
       "      <td>14</td>\n",
       "      <td>3</td>\n",
       "      <td>25</td>\n",
       "      <td>66</td>\n",
       "      <td>148</td>\n",
       "    </tr>\n",
       "    <tr>\n",
       "      <th>n</th>\n",
       "      <td>39</td>\n",
       "      <td>1</td>\n",
       "      <td>0</td>\n",
       "      <td>82</td>\n",
       "      <td>0</td>\n",
       "      <td>4</td>\n",
       "      <td>3</td>\n",
       "      <td>129</td>\n",
       "    </tr>\n",
       "    <tr>\n",
       "      <th>data</th>\n",
       "      <td>64</td>\n",
       "      <td>15</td>\n",
       "      <td>0</td>\n",
       "      <td>22</td>\n",
       "      <td>0</td>\n",
       "      <td>3</td>\n",
       "      <td>24</td>\n",
       "      <td>128</td>\n",
       "    </tr>\n",
       "    <tr>\n",
       "      <th>test</th>\n",
       "      <td>58</td>\n",
       "      <td>5</td>\n",
       "      <td>0</td>\n",
       "      <td>5</td>\n",
       "      <td>0</td>\n",
       "      <td>4</td>\n",
       "      <td>53</td>\n",
       "      <td>125</td>\n",
       "    </tr>\n",
       "    <tr>\n",
       "      <th>api</th>\n",
       "      <td>53</td>\n",
       "      <td>0</td>\n",
       "      <td>2</td>\n",
       "      <td>10</td>\n",
       "      <td>3</td>\n",
       "      <td>18</td>\n",
       "      <td>35</td>\n",
       "      <td>121</td>\n",
       "    </tr>\n",
       "    <tr>\n",
       "      <th>build</th>\n",
       "      <td>44</td>\n",
       "      <td>20</td>\n",
       "      <td>2</td>\n",
       "      <td>8</td>\n",
       "      <td>11</td>\n",
       "      <td>0</td>\n",
       "      <td>34</td>\n",
       "      <td>119</td>\n",
       "    </tr>\n",
       "    <tr>\n",
       "      <th>wallet</th>\n",
       "      <td>49</td>\n",
       "      <td>1</td>\n",
       "      <td>0</td>\n",
       "      <td>2</td>\n",
       "      <td>17</td>\n",
       "      <td>23</td>\n",
       "      <td>22</td>\n",
       "      <td>114</td>\n",
       "    </tr>\n",
       "    <tr>\n",
       "      <th>amount</th>\n",
       "      <td>90</td>\n",
       "      <td>0</td>\n",
       "      <td>0</td>\n",
       "      <td>4</td>\n",
       "      <td>0</td>\n",
       "      <td>1</td>\n",
       "      <td>19</td>\n",
       "      <td>114</td>\n",
       "    </tr>\n",
       "    <tr>\n",
       "      <th>install</th>\n",
       "      <td>23</td>\n",
       "      <td>18</td>\n",
       "      <td>4</td>\n",
       "      <td>27</td>\n",
       "      <td>1</td>\n",
       "      <td>10</td>\n",
       "      <td>31</td>\n",
       "      <td>114</td>\n",
       "    </tr>\n",
       "  </tbody>\n",
       "</table>\n",
       "</div>"
      ],
      "text/plain": [
       "             javascript  c_plus_plus   c  python  java  php  other  all\n",
       "&#9;                127          128  68     517     1    0     78  919\n",
       "bitcoin             116           19  17      59    14   17    112  354\n",
       "td                  321            0   0       0     0    0      4  325\n",
       "address             145           12   1      19     2   68     57  304\n",
       "0                    29            6   3     171     1   13     13  236\n",
       "transaction         152            0   0       8     0    3     60  223\n",
       "key                 102            1   5      21     9   16     39  193\n",
       "done                170            0   0       1     0    0     16  187\n",
       "1                    47           15   1      22     3    7     76  171\n",
       "run                  43           23   0      14     3    9     77  169\n",
       "use                  55           16   6      20     5   15     41  158\n",
       "2                    31            7   2      14     3   25     66  148\n",
       "n                    39            1   0      82     0    4      3  129\n",
       "data                 64           15   0      22     0    3     24  128\n",
       "test                 58            5   0       5     0    4     53  125\n",
       "api                  53            0   2      10     3   18     35  121\n",
       "build                44           20   2       8    11    0     34  119\n",
       "wallet               49            1   0       2    17   23     22  114\n",
       "amount               90            0   0       4     0    1     19  114\n",
       "install              23           18   4      27     1   10     31  114"
      ]
     },
     "execution_count": 13,
     "metadata": {},
     "output_type": "execute_result"
    }
   ],
   "source": [
    "# most frequently occuring words: sort by 'all'\n",
    "word_counts.sort_values('all', ascending=False).head(20)"
   ]
  },
  {
   "cell_type": "markdown",
   "id": "a869d959",
   "metadata": {},
   "source": [
    "- Are there words that uniquely identify with a certain language's repos?"
   ]
  },
  {
   "cell_type": "markdown",
   "id": "221d3111",
   "metadata": {},
   "source": [
    "JavaScript contain the highest precentage of the 20 most common words used in the readmes. "
   ]
  },
  {
   "cell_type": "code",
   "execution_count": 14,
   "id": "43780f13",
   "metadata": {},
   "outputs": [
    {
     "data": {
      "image/png": "[encoded data removed]",
      "text/plain": [
       "<Figure size 432x288 with 1 Axes>"
      ]
     },
     "metadata": {
      "needs_background": "light"
     },
     "output_type": "display_data"
    }
   ],
   "source": [
    "(word_counts.sort_values('all', ascending=False)\n",
    " .head(20)\n",
    " .apply(lambda row: row/row['all'], axis = 1)\n",
    " .drop(columns = 'all')\n",
    " .sort_values(by = 'javascript')\n",
    " .plot.barh(stacked = True, width = 1, ec = 'k')\n",
    ")\n",
    "plt.title('% of JavaScript vs All for the most common 20 words')\n",
    "\n",
    "plt.legend(bbox_to_anchor=(1.05, 1), loc='upper left', borderaxespad=0);"
   ]
  },
  {
   "cell_type": "markdown",
   "id": "958fce43",
   "metadata": {},
   "source": [
    "The most common words by language: "
   ]
  },
  {
   "cell_type": "code",
   "execution_count": 15,
   "id": "bea30478",
   "metadata": {},
   "outputs": [
    {
     "data": {
      "text/plain": [
       "('td',\n",
       " 'wallet',\n",
       " '&#9;',\n",
       " '&#9;',\n",
       " '&#9;',\n",
       " 'wallet',\n",
       " 'address',\n",
       " 'bitcoin',\n",
       " '&#9;')"
      ]
     },
     "execution_count": 15,
     "metadata": {},
     "output_type": "execute_result"
    }
   ],
   "source": [
    "javascript_freq.idxmax(), java_freq.idxmax(), c_plus_plus_freq.idxmax(), c_freq.idxmax(), python_freq.idxmax(), java_freq.idxmax(), php_freq.idxmax(), other_freq.idxmax(), all_freq.idxmax()\n",
    "\n"
   ]
  },
  {
   "cell_type": "markdown",
   "id": "d0c114d3",
   "metadata": {},
   "source": [
    "#### Question 2: What are the least frequently occuring words in the readmes?"
   ]
  },
  {
   "cell_type": "code",
   "execution_count": 16,
   "id": "46fb7e65",
   "metadata": {},
   "outputs": [
    {
     "data": {
      "text/html": [
       "<div>\n",
       "<style scoped>\n",
       "    .dataframe tbody tr th:only-of-type {\n",
       "        vertical-align: middle;\n",
       "    }\n",
       "\n",
       "    .dataframe tbody tr th {\n",
       "        vertical-align: top;\n",
       "    }\n",
       "\n",
       "    .dataframe thead th {\n",
       "        text-align: right;\n",
       "    }\n",
       "</style>\n",
       "<table border=\"1\" class=\"dataframe\">\n",
       "  <thead>\n",
       "    <tr style=\"text-align: right;\">\n",
       "      <th></th>\n",
       "      <th>javascript</th>\n",
       "      <th>c_plus_plus</th>\n",
       "      <th>c</th>\n",
       "      <th>python</th>\n",
       "      <th>java</th>\n",
       "      <th>php</th>\n",
       "      <th>other</th>\n",
       "      <th>all</th>\n",
       "    </tr>\n",
       "  </thead>\n",
       "  <tbody>\n",
       "    <tr>\n",
       "      <th>consymbols</th>\n",
       "      <td>0</td>\n",
       "      <td>0</td>\n",
       "      <td>0</td>\n",
       "      <td>1</td>\n",
       "      <td>0</td>\n",
       "      <td>0</td>\n",
       "      <td>0</td>\n",
       "      <td>1</td>\n",
       "    </tr>\n",
       "    <tr>\n",
       "      <th>zqt52bkl</th>\n",
       "      <td>0</td>\n",
       "      <td>0</td>\n",
       "      <td>0</td>\n",
       "      <td>1</td>\n",
       "      <td>0</td>\n",
       "      <td>0</td>\n",
       "      <td>0</td>\n",
       "      <td>1</td>\n",
       "    </tr>\n",
       "    <tr>\n",
       "      <th>oy7czykwfxyu</th>\n",
       "      <td>0</td>\n",
       "      <td>0</td>\n",
       "      <td>0</td>\n",
       "      <td>1</td>\n",
       "      <td>0</td>\n",
       "      <td>0</td>\n",
       "      <td>0</td>\n",
       "      <td>1</td>\n",
       "    </tr>\n",
       "    <tr>\n",
       "      <th>4jzrzmzkvmrt6d3b8e8tiqb8iirky</th>\n",
       "      <td>0</td>\n",
       "      <td>0</td>\n",
       "      <td>0</td>\n",
       "      <td>1</td>\n",
       "      <td>0</td>\n",
       "      <td>0</td>\n",
       "      <td>0</td>\n",
       "      <td>1</td>\n",
       "    </tr>\n",
       "    <tr>\n",
       "      <th>4797</th>\n",
       "      <td>0</td>\n",
       "      <td>0</td>\n",
       "      <td>0</td>\n",
       "      <td>1</td>\n",
       "      <td>0</td>\n",
       "      <td>0</td>\n",
       "      <td>0</td>\n",
       "      <td>1</td>\n",
       "    </tr>\n",
       "    <tr>\n",
       "      <th>8185</th>\n",
       "      <td>0</td>\n",
       "      <td>0</td>\n",
       "      <td>0</td>\n",
       "      <td>1</td>\n",
       "      <td>0</td>\n",
       "      <td>0</td>\n",
       "      <td>0</td>\n",
       "      <td>1</td>\n",
       "    </tr>\n",
       "    <tr>\n",
       "      <th>gpc</th>\n",
       "      <td>0</td>\n",
       "      <td>0</td>\n",
       "      <td>0</td>\n",
       "      <td>1</td>\n",
       "      <td>0</td>\n",
       "      <td>0</td>\n",
       "      <td>0</td>\n",
       "      <td>1</td>\n",
       "    </tr>\n",
       "    <tr>\n",
       "      <th>wamp</th>\n",
       "      <td>0</td>\n",
       "      <td>0</td>\n",
       "      <td>0</td>\n",
       "      <td>1</td>\n",
       "      <td>0</td>\n",
       "      <td>0</td>\n",
       "      <td>0</td>\n",
       "      <td>1</td>\n",
       "    </tr>\n",
       "    <tr>\n",
       "      <th>mmc7ceua8_gnwp24ab1t1t1lr7pg</th>\n",
       "      <td>0</td>\n",
       "      <td>0</td>\n",
       "      <td>0</td>\n",
       "      <td>1</td>\n",
       "      <td>0</td>\n",
       "      <td>0</td>\n",
       "      <td>0</td>\n",
       "      <td>1</td>\n",
       "    </tr>\n",
       "    <tr>\n",
       "      <th>nt</th>\n",
       "      <td>0</td>\n",
       "      <td>0</td>\n",
       "      <td>0</td>\n",
       "      <td>1</td>\n",
       "      <td>0</td>\n",
       "      <td>0</td>\n",
       "      <td>0</td>\n",
       "      <td>1</td>\n",
       "    </tr>\n",
       "    <tr>\n",
       "      <th>3crvtggv_mmpjndstvlgrq9obkuwlcjcsw</th>\n",
       "      <td>0</td>\n",
       "      <td>0</td>\n",
       "      <td>0</td>\n",
       "      <td>1</td>\n",
       "      <td>0</td>\n",
       "      <td>0</td>\n",
       "      <td>0</td>\n",
       "      <td>1</td>\n",
       "    </tr>\n",
       "    <tr>\n",
       "      <th>vosc</th>\n",
       "      <td>0</td>\n",
       "      <td>0</td>\n",
       "      <td>0</td>\n",
       "      <td>1</td>\n",
       "      <td>0</td>\n",
       "      <td>0</td>\n",
       "      <td>0</td>\n",
       "      <td>1</td>\n",
       "    </tr>\n",
       "    <tr>\n",
       "      <th>symbolsstatus_code</th>\n",
       "      <td>0</td>\n",
       "      <td>0</td>\n",
       "      <td>0</td>\n",
       "      <td>1</td>\n",
       "      <td>0</td>\n",
       "      <td>0</td>\n",
       "      <td>0</td>\n",
       "      <td>1</td>\n",
       "    </tr>\n",
       "    <tr>\n",
       "      <th>0000060470</th>\n",
       "      <td>0</td>\n",
       "      <td>0</td>\n",
       "      <td>0</td>\n",
       "      <td>1</td>\n",
       "      <td>0</td>\n",
       "      <td>0</td>\n",
       "      <td>0</td>\n",
       "      <td>1</td>\n",
       "    </tr>\n",
       "    <tr>\n",
       "      <th>5y3k</th>\n",
       "      <td>0</td>\n",
       "      <td>0</td>\n",
       "      <td>0</td>\n",
       "      <td>1</td>\n",
       "      <td>0</td>\n",
       "      <td>0</td>\n",
       "      <td>0</td>\n",
       "      <td>1</td>\n",
       "    </tr>\n",
       "    <tr>\n",
       "      <th>hxc</th>\n",
       "      <td>0</td>\n",
       "      <td>0</td>\n",
       "      <td>0</td>\n",
       "      <td>1</td>\n",
       "      <td>0</td>\n",
       "      <td>0</td>\n",
       "      <td>0</td>\n",
       "      <td>1</td>\n",
       "    </tr>\n",
       "    <tr>\n",
       "      <th>0000005017</th>\n",
       "      <td>0</td>\n",
       "      <td>0</td>\n",
       "      <td>0</td>\n",
       "      <td>1</td>\n",
       "      <td>0</td>\n",
       "      <td>0</td>\n",
       "      <td>0</td>\n",
       "      <td>1</td>\n",
       "    </tr>\n",
       "    <tr>\n",
       "      <th>zkeurftho</th>\n",
       "      <td>0</td>\n",
       "      <td>0</td>\n",
       "      <td>0</td>\n",
       "      <td>1</td>\n",
       "      <td>0</td>\n",
       "      <td>0</td>\n",
       "      <td>0</td>\n",
       "      <td>1</td>\n",
       "    </tr>\n",
       "    <tr>\n",
       "      <th>88snwgz8</th>\n",
       "      <td>0</td>\n",
       "      <td>0</td>\n",
       "      <td>0</td>\n",
       "      <td>1</td>\n",
       "      <td>0</td>\n",
       "      <td>0</td>\n",
       "      <td>0</td>\n",
       "      <td>1</td>\n",
       "    </tr>\n",
       "    <tr>\n",
       "      <th>iteration</th>\n",
       "      <td>0</td>\n",
       "      <td>0</td>\n",
       "      <td>0</td>\n",
       "      <td>0</td>\n",
       "      <td>0</td>\n",
       "      <td>0</td>\n",
       "      <td>1</td>\n",
       "      <td>1</td>\n",
       "    </tr>\n",
       "  </tbody>\n",
       "</table>\n",
       "</div>"
      ],
      "text/plain": [
       "                                    javascript  c_plus_plus  c  python  java  \\\n",
       "consymbols                                   0            0  0       1     0   \n",
       "zqt52bkl                                     0            0  0       1     0   \n",
       "oy7czykwfxyu                                 0            0  0       1     0   \n",
       "4jzrzmzkvmrt6d3b8e8tiqb8iirky                0            0  0       1     0   \n",
       "4797                                         0            0  0       1     0   \n",
       "8185                                         0            0  0       1     0   \n",
       "gpc                                          0            0  0       1     0   \n",
       "wamp                                         0            0  0       1     0   \n",
       "mmc7ceua8_gnwp24ab1t1t1lr7pg                 0            0  0       1     0   \n",
       "nt                                           0            0  0       1     0   \n",
       "3crvtggv_mmpjndstvlgrq9obkuwlcjcsw           0            0  0       1     0   \n",
       "vosc                                         0            0  0       1     0   \n",
       "symbolsstatus_code                           0            0  0       1     0   \n",
       "0000060470                                   0            0  0       1     0   \n",
       "5y3k                                         0            0  0       1     0   \n",
       "hxc                                          0            0  0       1     0   \n",
       "0000005017                                   0            0  0       1     0   \n",
       "zkeurftho                                    0            0  0       1     0   \n",
       "88snwgz8                                     0            0  0       1     0   \n",
       "iteration                                    0            0  0       0     0   \n",
       "\n",
       "                                    php  other  all  \n",
       "consymbols                            0      0    1  \n",
       "zqt52bkl                              0      0    1  \n",
       "oy7czykwfxyu                          0      0    1  \n",
       "4jzrzmzkvmrt6d3b8e8tiqb8iirky         0      0    1  \n",
       "4797                                  0      0    1  \n",
       "8185                                  0      0    1  \n",
       "gpc                                   0      0    1  \n",
       "wamp                                  0      0    1  \n",
       "mmc7ceua8_gnwp24ab1t1t1lr7pg          0      0    1  \n",
       "nt                                    0      0    1  \n",
       "3crvtggv_mmpjndstvlgrq9obkuwlcjcsw    0      0    1  \n",
       "vosc                                  0      0    1  \n",
       "symbolsstatus_code                    0      0    1  \n",
       "0000060470                            0      0    1  \n",
       "5y3k                                  0      0    1  \n",
       "hxc                                   0      0    1  \n",
       "0000005017                            0      0    1  \n",
       "zkeurftho                             0      0    1  \n",
       "88snwgz8                              0      0    1  \n",
       "iteration                             0      1    1  "
      ]
     },
     "execution_count": 16,
     "metadata": {},
     "output_type": "execute_result"
    }
   ],
   "source": [
    "# most frequently occuring words: sort by 'all'\n",
    "word_counts.sort_values('all', ascending=False).tail(20)"
   ]
  },
  {
   "cell_type": "markdown",
   "id": "e21559ff",
   "metadata": {},
   "source": [
    "* We really dont see any key info lets see with a graph now"
   ]
  },
  {
   "cell_type": "code",
   "execution_count": 17,
   "id": "0e1fb9e7",
   "metadata": {},
   "outputs": [
    {
     "data": {
      "text/plain": [
       "<Figure size 1440x720 with 0 Axes>"
      ]
     },
     "metadata": {},
     "output_type": "display_data"
    },
    {
     "data": {
      "image/png": "[encoded data removed]",
      "text/plain": [
       "<Figure size 432x288 with 1 Axes>"
      ]
     },
     "metadata": {
      "needs_background": "light"
     },
     "output_type": "display_data"
    }
   ],
   "source": [
    "plt.figure(figsize=(20,10))\n",
    "plt.rc('font', size=15)\n",
    "word_counts.sort_values('all', ascending=False).tail(20)[['javascript',\n",
    "'c_plus_plus',\n",
    "'c',\n",
    "'python',\n",
    "'java',\n",
    "'php',\n",
    "'other'                                                    \n",
    "]].plot.barh()\n",
    "plt.title('Programming Language for the top 20 most unfrequent words')\n",
    "plt.legend(bbox_to_anchor=(1.05, 1), loc='upper left', borderaxespad=0);"
   ]
  },
  {
   "cell_type": "markdown",
   "id": "3115fc2a",
   "metadata": {},
   "source": [
    "* Alot of these words seem to be tied with only C++, lets take a look finally at the bottom words of all the langauges!"
   ]
  },
  {
   "cell_type": "code",
   "execution_count": 21,
   "id": "ab974887",
   "metadata": {},
   "outputs": [
    {
     "data": {
      "text/plain": [
       "('startquickstart',\n",
       " 'transifexhttpswwwtransifexcomsufficientlysecuredonations',\n",
       " 'hour',\n",
       " 'converter',\n",
       " 'imglstm_dnn_graphpng',\n",
       " 'transifexhttpswwwtransifexcomsufficientlysecuredonations',\n",
       " 'limiting',\n",
       " 'ip_safe',\n",
       " 'crosscompiledwindowscrosscompiled')"
      ]
     },
     "execution_count": 21,
     "metadata": {},
     "output_type": "execute_result"
    }
   ],
   "source": [
    "javascript_freq.idxmin(), java_freq.idxmin(), c_plus_plus_freq.idxmin(), c_freq.idxmin(), python_freq.idxmin(), java_freq.idxmin(), php_freq.idxmin(), other_freq.idxmin(), all_freq.idxmin()\n"
   ]
  },
  {
   "cell_type": "markdown",
   "id": "300e1572",
   "metadata": {},
   "source": [
    "### Exploration Takeaways:"
   ]
  },
  {
   "cell_type": "markdown",
   "id": "c2f22045",
   "metadata": {},
   "source": [
    "### Features to Move Forward with:"
   ]
  },
  {
   "cell_type": "markdown",
   "id": "7407e0a5",
   "metadata": {},
   "source": [
    "## Modeling\n",
    "\n",
    "### Our best-performing model without undue overfitting was a Logistic Regression model\n",
    "\n",
    "### We ran over 10 models, between a bag-of-words approach and a td-idf approach"
   ]
  },
  {
   "cell_type": "code",
   "execution_count": null,
   "id": "d275aa43",
   "metadata": {},
   "outputs": [],
   "source": [
    "from sklearn.model_selection import train_test_split\n",
    "from sklearn.tree import DecisionTreeClassifier\n",
    "from sklearn.feature_extraction.text import TfidfVectorizer\n",
    "from sklearn.metrics import classification_report, accuracy_score"
   ]
  },
  {
   "cell_type": "markdown",
   "id": "8335c42b",
   "metadata": {},
   "source": [
    "## TF-IDF Method"
   ]
  },
  {
   "cell_type": "code",
   "execution_count": null,
   "id": "d72e3acc",
   "metadata": {},
   "outputs": [],
   "source": [
    "from sklearn.feature_extraction.text import TfidfVectorizer\n",
    "tfidf = TfidfVectorizer()\n",
    "X = tfidf.fit_transform(df.lemmatized)\n",
    "y = df.language\n",
    "\n",
    "X_train, X_validate, y_train, y_validate = train_test_split(X, y, stratify=y, \\\n",
    "                                                            test_size=.2)\n",
    "X_train, X_test, y_train, y_test = train_test_split(X_train, y_train,stratify=y_train, test_size=.2)"
   ]
  },
  {
   "cell_type": "code",
   "execution_count": null,
   "id": "071470b3",
   "metadata": {},
   "outputs": [],
   "source": [
    "from sklearn.metrics import classification_report, accuracy_score\n",
    "from sklearn.linear_model import LogisticRegression\n",
    "train = pd.DataFrame(dict(actual=y_train))\n",
    "validate = pd.DataFrame(dict(actual=y_validate))\n",
    "\n",
    "lm = LogisticRegression().fit(X_train, y_train)\n",
    "\n",
    "train['lr_predicted_tdidf'] = lm.predict(X_train)\n",
    "validate['lr_predicted_tdidf'] = lm.predict(X_validate)"
   ]
  },
  {
   "cell_type": "code",
   "execution_count": null,
   "id": "79904b75",
   "metadata": {
    "scrolled": true
   },
   "outputs": [],
   "source": [
    "model.print_lr_tfidf_model_train(train)"
   ]
  },
  {
   "cell_type": "code",
   "execution_count": null,
   "id": "d17570c2",
   "metadata": {},
   "outputs": [],
   "source": [
    "model.print_lr_tfidf_model_validate(validate)"
   ]
  },
  {
   "cell_type": "markdown",
   "id": "368bc177",
   "metadata": {},
   "source": [
    "## TF-IDF Method"
   ]
  },
  {
   "cell_type": "code",
   "execution_count": null,
   "id": "9b426411",
   "metadata": {},
   "outputs": [],
   "source": [
    "from sklearn.feature_extraction.text import CountVectorizer\n",
    "vectorizer = CountVectorizer()"
   ]
  },
  {
   "cell_type": "code",
   "execution_count": null,
   "id": "4e6db86b",
   "metadata": {},
   "outputs": [],
   "source": [
    "tfidf = TfidfVectorizer()\n",
    "X = vectorizer.fit_transform(df.lemmatized)\n",
    "y = df.language\n",
    "\n",
    "X_train, X_validate, y_train, y_validate = train_test_split(X, y, stratify=y, \\\n",
    "                                                            test_size=.2)\n",
    "X_train, X_test, y_train, y_test = train_test_split(X_train, y_train,stratify=y_train, test_size=.2)"
   ]
  },
  {
   "cell_type": "code",
   "execution_count": null,
   "id": "bbdd7485",
   "metadata": {},
   "outputs": [],
   "source": [
    "train = pd.DataFrame(dict(actual=y_train))\n",
    "validate = pd.DataFrame(dict(actual=y_validate))\n",
    "\n",
    "lm = LogisticRegression().fit(X_train, y_train)\n",
    "\n",
    "train['lr_predicted_bagofwords'] = lm.predict(X_train)\n",
    "validate['lr_predicted_bagofwords'] = lm.predict(X_validate)"
   ]
  },
  {
   "cell_type": "code",
   "execution_count": null,
   "id": "1524f22f",
   "metadata": {},
   "outputs": [],
   "source": [
    "model.print_lr_bagofwords_model_train(train)"
   ]
  },
  {
   "cell_type": "code",
   "execution_count": null,
   "id": "322f1e92",
   "metadata": {},
   "outputs": [],
   "source": [
    "model.print_lr_bagofwords_model_validate(validate)"
   ]
  },
  {
   "cell_type": "markdown",
   "id": "1599ce59",
   "metadata": {},
   "source": [
    "-----"
   ]
  },
  {
   "cell_type": "markdown",
   "id": "e840cf61",
   "metadata": {},
   "source": [
    "# Conclusion"
   ]
  },
  {
   "cell_type": "markdown",
   "id": "be2c0859",
   "metadata": {},
   "source": [
    "----"
   ]
  },
  {
   "cell_type": "markdown",
   "id": "37c78acb",
   "metadata": {},
   "source": [
    "### Summary"
   ]
  },
  {
   "cell_type": "markdown",
   "id": "ce3277fe",
   "metadata": {},
   "source": [
    "### Next Steps"
   ]
  },
  {
   "cell_type": "code",
   "execution_count": null,
   "id": "262684e2",
   "metadata": {},
   "outputs": [],
   "source": []
  }
 ],
 "metadata": {
  "kernelspec": {
   "display_name": "Python 3",
   "language": "python",
   "name": "python3"
  },
  "language_info": {
   "codemirror_mode": {
    "name": "ipython",
    "version": 3
   },
   "file_extension": ".py",
   "mimetype": "text/x-python",
   "name": "python",
   "nbconvert_exporter": "python",
   "pygments_lexer": "ipython3",
   "version": "3.8.8"
  }
 },
 "nbformat": 4,
 "nbformat_minor": 5
}
