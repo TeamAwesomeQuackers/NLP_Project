{
 "cells": [
  {
   "cell_type": "markdown",
   "id": "0997f830",
   "metadata": {},
   "source": [
    "<p align= \"center\">\n",
    "<img width=\"300\" src=\"https://logos-world.net/wp-content/uploads/2020/11/GitHub-Emblem.png\" alt=\"Github Logo\">\n",
    "</p>"
   ]
  },
  {
   "cell_type": "markdown",
   "id": "1d4c4739",
   "metadata": {},
   "source": [
    "\n",
    "<h1 align = \"center\">Programming Language Detection</h1>\n",
    "\n",
    "<h2 align = \"center\">By Chloe Whitaker, Jeanette Schulz, Brian Clements, and Paige Guajardo </h2>\n",
    "<h4 align = \"center\">11 February 2022</h4>\n",
    "\n"
   ]
  },
  {
   "cell_type": "markdown",
   "id": "09ec8047",
   "metadata": {},
   "source": [
    "<hr style=\"border:2px solid blue\"> </hr>\n",
    "\n",
    "# About this Project\n",
    "### Github Webscraping and Natural Language Processing\n",
    "Millions of developers and companies build, ship, and maintain their software on GitHub— the largest and most advanced development platform in the world. As Codeup's new up-and-coming Data Scientists, we will be using GitHub's platform to practice both our Web-Scraping skills and our Natural Language Processing (NLP) skills. With a focus on repositories that are studying bitcoin, our goal is to predict the programming language used in a repository based solely on the README.md file provided. By exploring the text provided in the README, we hope to identify key words that will allow us to identify which programming language(s) were used. Then we will teach these to our classification model so that it will predict the programming language of any future repositories we show it. For our project, we focused on five most common languages from Bitcoin repositories and named the rest 'Other'. The list of languages we will try to predict are: \n",
    "- JavaScript         \n",
    "- Python             \n",
    "- C++                 \n",
    "- PHP                 \n",
    "- C                                   \n",
    "- Java   \n",
    "- Other"
   ]
  },
  {
   "cell_type": "markdown",
   "id": "71121f01",
   "metadata": {},
   "source": [
    "### Project Goal: "
   ]
  },
  {
   "cell_type": "markdown",
   "id": "47a44b28",
   "metadata": {},
   "source": [
    "The goal is to scrape README pages from BitCoin related repositories on GitHub, so that we can predict the language of that repository. "
   ]
  },
  {
   "cell_type": "markdown",
   "id": "298013c0",
   "metadata": {},
   "source": [
    "### Project Desciption: "
   ]
  },
  {
   "cell_type": "markdown",
   "id": "cc3ca2e5",
   "metadata": {},
   "source": [
    "Language Predictor. This is a group project where we will be scraping GitHub repository README files related to BitCoin. We will then produce a classification model that will be able to predict the programming language of that repository using only the text in the README. "
   ]
  },
  {
   "cell_type": "markdown",
   "id": "b1d7bd3c",
   "metadata": {},
   "source": [
    "<hr style=\"border:2px solid blue\"> </hr>\n",
    "\n",
    "### Imports"
   ]
  },
  {
   "cell_type": "markdown",
   "id": "e391e3f1",
   "metadata": {},
   "source": [
    "Here are the imports needed to run this notebook."
   ]
  },
  {
   "cell_type": "code",
   "execution_count": 9,
   "id": "640d9438",
   "metadata": {},
   "outputs": [],
   "source": [
    "import pandas as pd\n",
    "import numpy as np\n",
    "\n",
    "# Scraping\n",
    "import requests\n",
    "from bs4 import BeautifulSoup\n",
    "\n",
    "import nltk\n",
    "from nltk.tokenize.toktok import ToktokTokenizer\n",
    "from nltk.corpus import stopwords\n",
    "import nltk.sentiment\n",
    "\n",
    "from wordcloud import WordCloud\n",
    "# pd.set_option('display.max_colwidth', -1)\n",
    "\n",
    "# Regex\n",
    "import re\n",
    "\n",
    "# Time\n",
    "from time import strftime\n",
    "\n",
    "import unicodedata\n",
    "import json\n",
    "from pprint import pprint\n",
    "\n",
    "# Visualizations\n",
    "import matplotlib.pyplot as plt\n",
    "import seaborn as sns\n",
    "\n",
    "# Custom Imports\n",
    "# import acquire \n",
    "import prepare\n",
    "import wrangle\n",
    "import model\n",
    "import explore\n",
    "\n",
    "# Turn off pink boxes for demo\n",
    "import warnings\n",
    "warnings.filterwarnings(\"ignore\")"
   ]
  },
  {
   "cell_type": "markdown",
   "id": "45a92016",
   "metadata": {},
   "source": [
    "--------"
   ]
  },
  {
   "cell_type": "markdown",
   "id": "9964180d",
   "metadata": {},
   "source": [
    "# Let's Get Started..."
   ]
  },
  {
   "cell_type": "markdown",
   "id": "52eaebca",
   "metadata": {},
   "source": [
    "-----"
   ]
  },
  {
   "cell_type": "markdown",
   "id": "69afd8fb",
   "metadata": {},
   "source": [
    "## Wrangle"
   ]
  },
  {
   "cell_type": "markdown",
   "id": "90123224",
   "metadata": {},
   "source": [
    "Use the wrangle.py helper file to acquire and prepare the GitHub README data. "
   ]
  },
  {
   "cell_type": "code",
   "execution_count": 10,
   "id": "87e7a35c",
   "metadata": {},
   "outputs": [],
   "source": [
    "# df=acquire.make_json(cached=True)\n",
    "df = pd.read_json('repo_readmes.json')"
   ]
  },
  {
   "cell_type": "code",
   "execution_count": 11,
   "id": "8acdf1e5",
   "metadata": {},
   "outputs": [
    {
     "data": {
      "text/html": [
       "<div>\n",
       "<style scoped>\n",
       "    .dataframe tbody tr th:only-of-type {\n",
       "        vertical-align: middle;\n",
       "    }\n",
       "\n",
       "    .dataframe tbody tr th {\n",
       "        vertical-align: top;\n",
       "    }\n",
       "\n",
       "    .dataframe thead th {\n",
       "        text-align: right;\n",
       "    }\n",
       "</style>\n",
       "<table border=\"1\" class=\"dataframe\">\n",
       "  <thead>\n",
       "    <tr style=\"text-align: right;\">\n",
       "      <th></th>\n",
       "      <th>repo</th>\n",
       "      <th>language</th>\n",
       "      <th>readme_contents</th>\n",
       "    </tr>\n",
       "  </thead>\n",
       "  <tbody>\n",
       "    <tr>\n",
       "      <th>0</th>\n",
       "      <td>using-system/LightningPay</td>\n",
       "      <td>C#</td>\n",
       "      <td># LightningPay\\nBitcoin Lightning Network Paym...</td>\n",
       "    </tr>\n",
       "    <tr>\n",
       "      <th>1</th>\n",
       "      <td>drminnaar/react-bitcoin-monitor</td>\n",
       "      <td>JavaScript</td>\n",
       "      <td># React Bitcoin Monitor\\n\\nAn app that monitor...</td>\n",
       "    </tr>\n",
       "    <tr>\n",
       "      <th>2</th>\n",
       "      <td>lbryio/lbrycrd</td>\n",
       "      <td>C++</td>\n",
       "      <td># LBRYcrd - The LBRY blockchain\\n\\n[![Build St...</td>\n",
       "    </tr>\n",
       "    <tr>\n",
       "      <th>3</th>\n",
       "      <td>ElementsProject/lightning-charge</td>\n",
       "      <td>JavaScript</td>\n",
       "      <td># Lightning Charge\\n\\n[![build status](https:/...</td>\n",
       "    </tr>\n",
       "    <tr>\n",
       "      <th>4</th>\n",
       "      <td>kilimchoi/cryptocurrency</td>\n",
       "      <td>None</td>\n",
       "      <td>Check out https://coinbuddy.co/coins to track ...</td>\n",
       "    </tr>\n",
       "  </tbody>\n",
       "</table>\n",
       "</div>"
      ],
      "text/plain": [
       "                               repo    language  \\\n",
       "0         using-system/LightningPay          C#   \n",
       "1   drminnaar/react-bitcoin-monitor  JavaScript   \n",
       "2                    lbryio/lbrycrd         C++   \n",
       "3  ElementsProject/lightning-charge  JavaScript   \n",
       "4          kilimchoi/cryptocurrency        None   \n",
       "\n",
       "                                     readme_contents  \n",
       "0  # LightningPay\\nBitcoin Lightning Network Paym...  \n",
       "1  # React Bitcoin Monitor\\n\\nAn app that monitor...  \n",
       "2  # LBRYcrd - The LBRY blockchain\\n\\n[![Build St...  \n",
       "3  # Lightning Charge\\n\\n[![build status](https:/...  \n",
       "4  Check out https://coinbuddy.co/coins to track ...  "
      ]
     },
     "execution_count": 11,
     "metadata": {},
     "output_type": "execute_result"
    }
   ],
   "source": [
    "df.head()"
   ]
  },
  {
   "cell_type": "code",
   "execution_count": 12,
   "id": "7a586bd2",
   "metadata": {},
   "outputs": [
    {
     "data": {
      "text/plain": [
       "(180, 3)"
      ]
     },
     "execution_count": 12,
     "metadata": {},
     "output_type": "execute_result"
    }
   ],
   "source": [
    "df.shape"
   ]
  },
  {
   "cell_type": "code",
   "execution_count": 13,
   "id": "137ce388",
   "metadata": {},
   "outputs": [],
   "source": [
    "# Save the names of the top 5 programming languages, and change the rest to 'Other'\n",
    "df['language'] = df.language.apply(wrangle.common_language)"
   ]
  },
  {
   "cell_type": "code",
   "execution_count": 14,
   "id": "cea30b3a",
   "metadata": {},
   "outputs": [],
   "source": [
    "df = wrangle.brian_quick_clean(df)"
   ]
  },
  {
   "cell_type": "code",
   "execution_count": 15,
   "id": "d46601a1",
   "metadata": {},
   "outputs": [],
   "source": [
    "train, validate, test, X_train, y_train, X_validate, y_validate, X_test, y_test = \\\n",
    "wrangle.split_repos(df)"
   ]
  },
  {
   "cell_type": "markdown",
   "id": "6af3c083",
   "metadata": {},
   "source": [
    "### Steps Taken to Prepare the Data:"
   ]
  },
  {
   "cell_type": "markdown",
   "id": "8e041497",
   "metadata": {},
   "source": [
    "## Exploration"
   ]
  },
  {
   "cell_type": "markdown",
   "id": "d43c84b0",
   "metadata": {},
   "source": [
    "### Initial Hypotheses/Questions:"
   ]
  },
  {
   "cell_type": "markdown",
   "id": "fe694d6b",
   "metadata": {},
   "source": [
    "#### Initial Hypothesis"
   ]
  },
  {
   "cell_type": "markdown",
   "id": "0960e68e",
   "metadata": {},
   "source": [
    "Our intial thought is that a lot of the READMEs contain unique words that could help predict the language of the repository. "
   ]
  },
  {
   "cell_type": "markdown",
   "id": "bf0ae768",
   "metadata": {},
   "source": [
    "#### Initial Questions: \n",
    "    1. What are the most frequently occuring words in the readmes?\n",
    "    2. Are there words that uniquely identify with a certain language's repos?\n",
    "    3. What are the least frequently occuring words in the readmes?\n",
    "    4. Does the length of the README vary by programming language?\n",
    "    5. How many repos have their programming language mentioned in the README text?\n",
    "    6. Do different programming languages use a different number of unique words?"
   ]
  },
  {
   "cell_type": "markdown",
   "id": "b399d85a",
   "metadata": {},
   "source": [
    "### Explore: "
   ]
  },
  {
   "cell_type": "markdown",
   "id": "bfb859b9",
   "metadata": {},
   "source": [
    "To further prepare the data for explore, we will combine all of the words from the readmes together so that we can explore the entire word set as well as by language. We will also remove the common stop words and represent the contents as word frequencies."
   ]
  },
  {
   "cell_type": "code",
   "execution_count": 16,
   "id": "b4f99ce0",
   "metadata": {},
   "outputs": [],
   "source": [
    "# combine all contents in single string by language\n",
    "\n",
    "javascript_words = (' '.join(train[train.language == 'JavaScript'].lemmatized))\n",
    "c_plus_plus__words = (' '.join(train[train.language == 'C++'].lemmatized))\n",
    "c_words = (' '.join(train[train.language == 'C'].lemmatized))\n",
    "python_words = (' '.join(train[train.language == 'Python'].lemmatized))\n",
    "php_words = (' '.join(train[train.language == 'PHP'].lemmatized))\n",
    "java_words = (' '.join(train[train.language == 'Java'].lemmatized))\n",
    "other_words = (' '.join(train[train.language == 'Other'].lemmatized))\n",
    "all_words = (' '.join(train.lemmatized))"
   ]
  },
  {
   "cell_type": "code",
   "execution_count": 17,
   "id": "c98b64a0",
   "metadata": {},
   "outputs": [],
   "source": [
    "# remove_stopwords\n",
    "\n",
    "javascript_words = wrangle.remove_stopwords(str(javascript_words))\n",
    "c_plus_plus__words = wrangle.remove_stopwords(str(c_plus_plus__words))\n",
    "c_words = wrangle.remove_stopwords(str(c_words))\n",
    "python_words = wrangle.remove_stopwords(str(python_words))\n",
    "java_words = wrangle.remove_stopwords(str(java_words))\n",
    "php_words = wrangle.remove_stopwords(str(php_words))\n",
    "other_words = wrangle.remove_stopwords(str(other_words))\n",
    "all_words = wrangle.remove_stopwords(str(all_words))"
   ]
  },
  {
   "cell_type": "code",
   "execution_count": 18,
   "id": "fdf68618",
   "metadata": {},
   "outputs": [],
   "source": [
    "# represent contents as word frequencies\n",
    "\n",
    "javascript_freq = pd.Series(javascript_words.split()).value_counts()\n",
    "c_plus_plus_freq = pd.Series(c_plus_plus__words.split()).value_counts()\n",
    "c_freq = pd.Series(c_words.split()).value_counts()\n",
    "python_freq = pd.Series(python_words.split()).value_counts()\n",
    "java_freq = pd.Series(java_words.split()).value_counts()\n",
    "php_freq = pd.Series(php_words.split()).value_counts()\n",
    "other_freq = pd.Series(other_words.split()).value_counts()\n",
    "all_freq = pd.Series(all_words.split()).value_counts()"
   ]
  },
  {
   "cell_type": "markdown",
   "id": "1426d912",
   "metadata": {},
   "source": [
    "We will concatinate all of the word frequencies together into a dataframe. "
   ]
  },
  {
   "cell_type": "code",
   "execution_count": 19,
   "id": "6da9ff5f",
   "metadata": {},
   "outputs": [],
   "source": [
    "# concat all frequencies together into a dataframe\n",
    "\n",
    "word_counts = pd.concat([javascript_freq, c_plus_plus_freq, c_freq, python_freq, java_freq, php_freq, other_freq, all_freq], axis=1).fillna(0).astype(int)\n",
    "word_counts.columns = ['javascript', 'c_plus_plus', 'c', 'python', 'java', 'php', 'other', 'all']\n",
    "# word_counts.head()"
   ]
  },
  {
   "cell_type": "markdown",
   "id": "47c53592",
   "metadata": {},
   "source": [
    "#### Question 1: What are the most frequently occuring words in the readmes?"
   ]
  },
  {
   "cell_type": "code",
   "execution_count": 20,
   "id": "fcc27e62",
   "metadata": {},
   "outputs": [
    {
     "data": {
      "image/png": "[encoded data removed]",
      "text/plain": [
       "<Figure size 1152x648 with 1 Axes>"
      ]
     },
     "metadata": {
      "needs_background": "light"
     },
     "output_type": "display_data"
    }
   ],
   "source": [
    "# word cloud of the most common words \n",
    "explore.github_logo()"
   ]
  },
  {
   "cell_type": "code",
   "execution_count": 21,
   "id": "3c0c30e9",
   "metadata": {},
   "outputs": [
    {
     "data": {
      "text/html": [
       "<div>\n",
       "<style scoped>\n",
       "    .dataframe tbody tr th:only-of-type {\n",
       "        vertical-align: middle;\n",
       "    }\n",
       "\n",
       "    .dataframe tbody tr th {\n",
       "        vertical-align: top;\n",
       "    }\n",
       "\n",
       "    .dataframe thead th {\n",
       "        text-align: right;\n",
       "    }\n",
       "</style>\n",
       "<table border=\"1\" class=\"dataframe\">\n",
       "  <thead>\n",
       "    <tr style=\"text-align: right;\">\n",
       "      <th></th>\n",
       "      <th>javascript</th>\n",
       "      <th>c_plus_plus</th>\n",
       "      <th>c</th>\n",
       "      <th>python</th>\n",
       "      <th>java</th>\n",
       "      <th>php</th>\n",
       "      <th>other</th>\n",
       "      <th>all</th>\n",
       "    </tr>\n",
       "  </thead>\n",
       "  <tbody>\n",
       "    <tr>\n",
       "      <th>&amp;#9;</th>\n",
       "      <td>127</td>\n",
       "      <td>128</td>\n",
       "      <td>68</td>\n",
       "      <td>517</td>\n",
       "      <td>1</td>\n",
       "      <td>0</td>\n",
       "      <td>78</td>\n",
       "      <td>919</td>\n",
       "    </tr>\n",
       "    <tr>\n",
       "      <th>bitcoin</th>\n",
       "      <td>116</td>\n",
       "      <td>19</td>\n",
       "      <td>17</td>\n",
       "      <td>59</td>\n",
       "      <td>14</td>\n",
       "      <td>17</td>\n",
       "      <td>112</td>\n",
       "      <td>354</td>\n",
       "    </tr>\n",
       "    <tr>\n",
       "      <th>td</th>\n",
       "      <td>321</td>\n",
       "      <td>0</td>\n",
       "      <td>0</td>\n",
       "      <td>0</td>\n",
       "      <td>0</td>\n",
       "      <td>0</td>\n",
       "      <td>4</td>\n",
       "      <td>325</td>\n",
       "    </tr>\n",
       "    <tr>\n",
       "      <th>address</th>\n",
       "      <td>145</td>\n",
       "      <td>12</td>\n",
       "      <td>1</td>\n",
       "      <td>19</td>\n",
       "      <td>2</td>\n",
       "      <td>68</td>\n",
       "      <td>57</td>\n",
       "      <td>304</td>\n",
       "    </tr>\n",
       "    <tr>\n",
       "      <th>0</th>\n",
       "      <td>29</td>\n",
       "      <td>6</td>\n",
       "      <td>3</td>\n",
       "      <td>171</td>\n",
       "      <td>1</td>\n",
       "      <td>13</td>\n",
       "      <td>13</td>\n",
       "      <td>236</td>\n",
       "    </tr>\n",
       "    <tr>\n",
       "      <th>transaction</th>\n",
       "      <td>152</td>\n",
       "      <td>0</td>\n",
       "      <td>0</td>\n",
       "      <td>8</td>\n",
       "      <td>0</td>\n",
       "      <td>3</td>\n",
       "      <td>60</td>\n",
       "      <td>223</td>\n",
       "    </tr>\n",
       "    <tr>\n",
       "      <th>key</th>\n",
       "      <td>102</td>\n",
       "      <td>1</td>\n",
       "      <td>5</td>\n",
       "      <td>21</td>\n",
       "      <td>9</td>\n",
       "      <td>16</td>\n",
       "      <td>39</td>\n",
       "      <td>193</td>\n",
       "    </tr>\n",
       "    <tr>\n",
       "      <th>done</th>\n",
       "      <td>170</td>\n",
       "      <td>0</td>\n",
       "      <td>0</td>\n",
       "      <td>1</td>\n",
       "      <td>0</td>\n",
       "      <td>0</td>\n",
       "      <td>16</td>\n",
       "      <td>187</td>\n",
       "    </tr>\n",
       "    <tr>\n",
       "      <th>1</th>\n",
       "      <td>47</td>\n",
       "      <td>15</td>\n",
       "      <td>1</td>\n",
       "      <td>22</td>\n",
       "      <td>3</td>\n",
       "      <td>7</td>\n",
       "      <td>76</td>\n",
       "      <td>171</td>\n",
       "    </tr>\n",
       "    <tr>\n",
       "      <th>run</th>\n",
       "      <td>43</td>\n",
       "      <td>23</td>\n",
       "      <td>0</td>\n",
       "      <td>14</td>\n",
       "      <td>3</td>\n",
       "      <td>9</td>\n",
       "      <td>77</td>\n",
       "      <td>169</td>\n",
       "    </tr>\n",
       "    <tr>\n",
       "      <th>use</th>\n",
       "      <td>55</td>\n",
       "      <td>16</td>\n",
       "      <td>6</td>\n",
       "      <td>20</td>\n",
       "      <td>5</td>\n",
       "      <td>15</td>\n",
       "      <td>41</td>\n",
       "      <td>158</td>\n",
       "    </tr>\n",
       "    <tr>\n",
       "      <th>2</th>\n",
       "      <td>31</td>\n",
       "      <td>7</td>\n",
       "      <td>2</td>\n",
       "      <td>14</td>\n",
       "      <td>3</td>\n",
       "      <td>25</td>\n",
       "      <td>66</td>\n",
       "      <td>148</td>\n",
       "    </tr>\n",
       "    <tr>\n",
       "      <th>n</th>\n",
       "      <td>39</td>\n",
       "      <td>1</td>\n",
       "      <td>0</td>\n",
       "      <td>82</td>\n",
       "      <td>0</td>\n",
       "      <td>4</td>\n",
       "      <td>3</td>\n",
       "      <td>129</td>\n",
       "    </tr>\n",
       "    <tr>\n",
       "      <th>data</th>\n",
       "      <td>64</td>\n",
       "      <td>15</td>\n",
       "      <td>0</td>\n",
       "      <td>22</td>\n",
       "      <td>0</td>\n",
       "      <td>3</td>\n",
       "      <td>24</td>\n",
       "      <td>128</td>\n",
       "    </tr>\n",
       "    <tr>\n",
       "      <th>test</th>\n",
       "      <td>58</td>\n",
       "      <td>5</td>\n",
       "      <td>0</td>\n",
       "      <td>5</td>\n",
       "      <td>0</td>\n",
       "      <td>4</td>\n",
       "      <td>53</td>\n",
       "      <td>125</td>\n",
       "    </tr>\n",
       "    <tr>\n",
       "      <th>api</th>\n",
       "      <td>53</td>\n",
       "      <td>0</td>\n",
       "      <td>2</td>\n",
       "      <td>10</td>\n",
       "      <td>3</td>\n",
       "      <td>18</td>\n",
       "      <td>35</td>\n",
       "      <td>121</td>\n",
       "    </tr>\n",
       "    <tr>\n",
       "      <th>build</th>\n",
       "      <td>44</td>\n",
       "      <td>20</td>\n",
       "      <td>2</td>\n",
       "      <td>8</td>\n",
       "      <td>11</td>\n",
       "      <td>0</td>\n",
       "      <td>34</td>\n",
       "      <td>119</td>\n",
       "    </tr>\n",
       "    <tr>\n",
       "      <th>wallet</th>\n",
       "      <td>49</td>\n",
       "      <td>1</td>\n",
       "      <td>0</td>\n",
       "      <td>2</td>\n",
       "      <td>17</td>\n",
       "      <td>23</td>\n",
       "      <td>22</td>\n",
       "      <td>114</td>\n",
       "    </tr>\n",
       "    <tr>\n",
       "      <th>amount</th>\n",
       "      <td>90</td>\n",
       "      <td>0</td>\n",
       "      <td>0</td>\n",
       "      <td>4</td>\n",
       "      <td>0</td>\n",
       "      <td>1</td>\n",
       "      <td>19</td>\n",
       "      <td>114</td>\n",
       "    </tr>\n",
       "    <tr>\n",
       "      <th>install</th>\n",
       "      <td>23</td>\n",
       "      <td>18</td>\n",
       "      <td>4</td>\n",
       "      <td>27</td>\n",
       "      <td>1</td>\n",
       "      <td>10</td>\n",
       "      <td>31</td>\n",
       "      <td>114</td>\n",
       "    </tr>\n",
       "  </tbody>\n",
       "</table>\n",
       "</div>"
      ],
      "text/plain": [
       "             javascript  c_plus_plus   c  python  java  php  other  all\n",
       "&#9;                127          128  68     517     1    0     78  919\n",
       "bitcoin             116           19  17      59    14   17    112  354\n",
       "td                  321            0   0       0     0    0      4  325\n",
       "address             145           12   1      19     2   68     57  304\n",
       "0                    29            6   3     171     1   13     13  236\n",
       "transaction         152            0   0       8     0    3     60  223\n",
       "key                 102            1   5      21     9   16     39  193\n",
       "done                170            0   0       1     0    0     16  187\n",
       "1                    47           15   1      22     3    7     76  171\n",
       "run                  43           23   0      14     3    9     77  169\n",
       "use                  55           16   6      20     5   15     41  158\n",
       "2                    31            7   2      14     3   25     66  148\n",
       "n                    39            1   0      82     0    4      3  129\n",
       "data                 64           15   0      22     0    3     24  128\n",
       "test                 58            5   0       5     0    4     53  125\n",
       "api                  53            0   2      10     3   18     35  121\n",
       "build                44           20   2       8    11    0     34  119\n",
       "wallet               49            1   0       2    17   23     22  114\n",
       "amount               90            0   0       4     0    1     19  114\n",
       "install              23           18   4      27     1   10     31  114"
      ]
     },
     "execution_count": 21,
     "metadata": {},
     "output_type": "execute_result"
    }
   ],
   "source": [
    "# most frequently occuring words: sort by 'all'\n",
    "word_counts.sort_values('all', ascending=False).head(20)"
   ]
  },
  {
   "cell_type": "markdown",
   "id": "a869d959",
   "metadata": {},
   "source": [
    "#### Question 2: Are there words that uniquely identify with a certain language's repos?"
   ]
  },
  {
   "cell_type": "markdown",
   "id": "221d3111",
   "metadata": {},
   "source": [
    "JavaScript contains the highest precentage of the 20 most common words used in the readmes. "
   ]
  },
  {
   "cell_type": "code",
   "execution_count": 22,
   "id": "43780f13",
   "metadata": {},
   "outputs": [
    {
     "data": {
      "image/png": "[encoded data removed]",
      "text/plain": [
       "<Figure size 432x288 with 1 Axes>"
      ]
     },
     "metadata": {
      "needs_background": "light"
     },
     "output_type": "display_data"
    }
   ],
   "source": [
    "(word_counts.sort_values('all', ascending=False)\n",
    " .head(20)\n",
    " .apply(lambda row: row/row['all'], axis = 1)\n",
    " .drop(columns = 'all')\n",
    " .sort_values(by = 'javascript')\n",
    " .plot.barh(stacked = True, width = 1, ec = 'k')\n",
    ")\n",
    "plt.title('% of JavaScript vs All for the most common 20 words')\n",
    "\n",
    "plt.legend(bbox_to_anchor=(1.05, 1), loc='upper left', borderaxespad=0);"
   ]
  },
  {
   "cell_type": "markdown",
   "id": "958fce43",
   "metadata": {},
   "source": [
    "The most common words by language: "
   ]
  },
  {
   "cell_type": "code",
   "execution_count": 23,
   "id": "bea30478",
   "metadata": {},
   "outputs": [
    {
     "data": {
      "text/plain": [
       "('td',\n",
       " 'wallet',\n",
       " '&#9;',\n",
       " '&#9;',\n",
       " '&#9;',\n",
       " 'wallet',\n",
       " 'address',\n",
       " 'bitcoin',\n",
       " '&#9;')"
      ]
     },
     "execution_count": 23,
     "metadata": {},
     "output_type": "execute_result"
    }
   ],
   "source": [
    "javascript_freq.idxmax(), java_freq.idxmax(), c_plus_plus_freq.idxmax(), c_freq.idxmax(), python_freq.idxmax(), java_freq.idxmax(), php_freq.idxmax(), other_freq.idxmax(), all_freq.idxmax()\n",
    "\n"
   ]
  },
  {
   "cell_type": "markdown",
   "id": "d0c114d3",
   "metadata": {},
   "source": [
    "#### Question 3: What are the least frequently occuring words in the readmes?"
   ]
  },
  {
   "cell_type": "code",
   "execution_count": 24,
   "id": "46fb7e65",
   "metadata": {},
   "outputs": [
    {
     "data": {
      "text/html": [
       "<div>\n",
       "<style scoped>\n",
       "    .dataframe tbody tr th:only-of-type {\n",
       "        vertical-align: middle;\n",
       "    }\n",
       "\n",
       "    .dataframe tbody tr th {\n",
       "        vertical-align: top;\n",
       "    }\n",
       "\n",
       "    .dataframe thead th {\n",
       "        text-align: right;\n",
       "    }\n",
       "</style>\n",
       "<table border=\"1\" class=\"dataframe\">\n",
       "  <thead>\n",
       "    <tr style=\"text-align: right;\">\n",
       "      <th></th>\n",
       "      <th>javascript</th>\n",
       "      <th>c_plus_plus</th>\n",
       "      <th>c</th>\n",
       "      <th>python</th>\n",
       "      <th>java</th>\n",
       "      <th>php</th>\n",
       "      <th>other</th>\n",
       "      <th>all</th>\n",
       "    </tr>\n",
       "  </thead>\n",
       "  <tbody>\n",
       "    <tr>\n",
       "      <th>icraorkeeycdu3</th>\n",
       "      <td>0</td>\n",
       "      <td>0</td>\n",
       "      <td>0</td>\n",
       "      <td>1</td>\n",
       "      <td>0</td>\n",
       "      <td>0</td>\n",
       "      <td>0</td>\n",
       "      <td>1</td>\n",
       "    </tr>\n",
       "    <tr>\n",
       "      <th>klzws</th>\n",
       "      <td>0</td>\n",
       "      <td>0</td>\n",
       "      <td>0</td>\n",
       "      <td>1</td>\n",
       "      <td>0</td>\n",
       "      <td>0</td>\n",
       "      <td>0</td>\n",
       "      <td>1</td>\n",
       "    </tr>\n",
       "    <tr>\n",
       "      <th>z3bu</th>\n",
       "      <td>0</td>\n",
       "      <td>0</td>\n",
       "      <td>0</td>\n",
       "      <td>1</td>\n",
       "      <td>0</td>\n",
       "      <td>0</td>\n",
       "      <td>0</td>\n",
       "      <td>1</td>\n",
       "    </tr>\n",
       "    <tr>\n",
       "      <th>qv</th>\n",
       "      <td>0</td>\n",
       "      <td>0</td>\n",
       "      <td>0</td>\n",
       "      <td>1</td>\n",
       "      <td>0</td>\n",
       "      <td>0</td>\n",
       "      <td>0</td>\n",
       "      <td>1</td>\n",
       "    </tr>\n",
       "    <tr>\n",
       "      <th>jufxc</th>\n",
       "      <td>0</td>\n",
       "      <td>0</td>\n",
       "      <td>0</td>\n",
       "      <td>1</td>\n",
       "      <td>0</td>\n",
       "      <td>0</td>\n",
       "      <td>0</td>\n",
       "      <td>1</td>\n",
       "    </tr>\n",
       "    <tr>\n",
       "      <th>ybsi8sn9wkoaxmwz</th>\n",
       "      <td>0</td>\n",
       "      <td>0</td>\n",
       "      <td>0</td>\n",
       "      <td>1</td>\n",
       "      <td>0</td>\n",
       "      <td>0</td>\n",
       "      <td>0</td>\n",
       "      <td>1</td>\n",
       "    </tr>\n",
       "    <tr>\n",
       "      <th>rg</th>\n",
       "      <td>0</td>\n",
       "      <td>0</td>\n",
       "      <td>0</td>\n",
       "      <td>1</td>\n",
       "      <td>0</td>\n",
       "      <td>0</td>\n",
       "      <td>0</td>\n",
       "      <td>1</td>\n",
       "    </tr>\n",
       "    <tr>\n",
       "      <th>t8w03uzjovzlf0gztoycpdeaopn8</th>\n",
       "      <td>0</td>\n",
       "      <td>0</td>\n",
       "      <td>0</td>\n",
       "      <td>1</td>\n",
       "      <td>0</td>\n",
       "      <td>0</td>\n",
       "      <td>0</td>\n",
       "      <td>1</td>\n",
       "    </tr>\n",
       "    <tr>\n",
       "      <th>zqt8yyxu</th>\n",
       "      <td>0</td>\n",
       "      <td>0</td>\n",
       "      <td>0</td>\n",
       "      <td>1</td>\n",
       "      <td>0</td>\n",
       "      <td>0</td>\n",
       "      <td>0</td>\n",
       "      <td>1</td>\n",
       "    </tr>\n",
       "    <tr>\n",
       "      <th>921</th>\n",
       "      <td>0</td>\n",
       "      <td>0</td>\n",
       "      <td>0</td>\n",
       "      <td>1</td>\n",
       "      <td>0</td>\n",
       "      <td>0</td>\n",
       "      <td>0</td>\n",
       "      <td>1</td>\n",
       "    </tr>\n",
       "    <tr>\n",
       "      <th>g4ucre</th>\n",
       "      <td>0</td>\n",
       "      <td>0</td>\n",
       "      <td>0</td>\n",
       "      <td>1</td>\n",
       "      <td>0</td>\n",
       "      <td>0</td>\n",
       "      <td>0</td>\n",
       "      <td>1</td>\n",
       "    </tr>\n",
       "    <tr>\n",
       "      <th>kpmy7g</th>\n",
       "      <td>0</td>\n",
       "      <td>0</td>\n",
       "      <td>0</td>\n",
       "      <td>1</td>\n",
       "      <td>0</td>\n",
       "      <td>0</td>\n",
       "      <td>0</td>\n",
       "      <td>1</td>\n",
       "    </tr>\n",
       "    <tr>\n",
       "      <th>4x</th>\n",
       "      <td>0</td>\n",
       "      <td>0</td>\n",
       "      <td>0</td>\n",
       "      <td>1</td>\n",
       "      <td>0</td>\n",
       "      <td>0</td>\n",
       "      <td>0</td>\n",
       "      <td>1</td>\n",
       "    </tr>\n",
       "    <tr>\n",
       "      <th>privkey</th>\n",
       "      <td>0</td>\n",
       "      <td>0</td>\n",
       "      <td>0</td>\n",
       "      <td>1</td>\n",
       "      <td>0</td>\n",
       "      <td>0</td>\n",
       "      <td>0</td>\n",
       "      <td>1</td>\n",
       "    </tr>\n",
       "    <tr>\n",
       "      <th>wzu</th>\n",
       "      <td>0</td>\n",
       "      <td>0</td>\n",
       "      <td>0</td>\n",
       "      <td>1</td>\n",
       "      <td>0</td>\n",
       "      <td>0</td>\n",
       "      <td>0</td>\n",
       "      <td>1</td>\n",
       "    </tr>\n",
       "    <tr>\n",
       "      <th>oyrz5z</th>\n",
       "      <td>0</td>\n",
       "      <td>0</td>\n",
       "      <td>0</td>\n",
       "      <td>1</td>\n",
       "      <td>0</td>\n",
       "      <td>0</td>\n",
       "      <td>0</td>\n",
       "      <td>1</td>\n",
       "    </tr>\n",
       "    <tr>\n",
       "      <th>outfit</th>\n",
       "      <td>0</td>\n",
       "      <td>0</td>\n",
       "      <td>0</td>\n",
       "      <td>1</td>\n",
       "      <td>0</td>\n",
       "      <td>0</td>\n",
       "      <td>0</td>\n",
       "      <td>1</td>\n",
       "    </tr>\n",
       "    <tr>\n",
       "      <th>zyxjdo0</th>\n",
       "      <td>0</td>\n",
       "      <td>0</td>\n",
       "      <td>0</td>\n",
       "      <td>1</td>\n",
       "      <td>0</td>\n",
       "      <td>0</td>\n",
       "      <td>0</td>\n",
       "      <td>1</td>\n",
       "    </tr>\n",
       "    <tr>\n",
       "      <th>5ndylxwk</th>\n",
       "      <td>0</td>\n",
       "      <td>0</td>\n",
       "      <td>0</td>\n",
       "      <td>1</td>\n",
       "      <td>0</td>\n",
       "      <td>0</td>\n",
       "      <td>0</td>\n",
       "      <td>1</td>\n",
       "    </tr>\n",
       "    <tr>\n",
       "      <th>syncing</th>\n",
       "      <td>0</td>\n",
       "      <td>0</td>\n",
       "      <td>0</td>\n",
       "      <td>0</td>\n",
       "      <td>0</td>\n",
       "      <td>0</td>\n",
       "      <td>1</td>\n",
       "      <td>1</td>\n",
       "    </tr>\n",
       "  </tbody>\n",
       "</table>\n",
       "</div>"
      ],
      "text/plain": [
       "                              javascript  c_plus_plus  c  python  java  php  \\\n",
       "icraorkeeycdu3                         0            0  0       1     0    0   \n",
       "klzws                                  0            0  0       1     0    0   \n",
       "z3bu                                   0            0  0       1     0    0   \n",
       "qv                                     0            0  0       1     0    0   \n",
       "jufxc                                  0            0  0       1     0    0   \n",
       "ybsi8sn9wkoaxmwz                       0            0  0       1     0    0   \n",
       "rg                                     0            0  0       1     0    0   \n",
       "t8w03uzjovzlf0gztoycpdeaopn8           0            0  0       1     0    0   \n",
       "zqt8yyxu                               0            0  0       1     0    0   \n",
       "921                                    0            0  0       1     0    0   \n",
       "g4ucre                                 0            0  0       1     0    0   \n",
       "kpmy7g                                 0            0  0       1     0    0   \n",
       "4x                                     0            0  0       1     0    0   \n",
       "privkey                                0            0  0       1     0    0   \n",
       "wzu                                    0            0  0       1     0    0   \n",
       "oyrz5z                                 0            0  0       1     0    0   \n",
       "outfit                                 0            0  0       1     0    0   \n",
       "zyxjdo0                                0            0  0       1     0    0   \n",
       "5ndylxwk                               0            0  0       1     0    0   \n",
       "syncing                                0            0  0       0     0    0   \n",
       "\n",
       "                              other  all  \n",
       "icraorkeeycdu3                    0    1  \n",
       "klzws                             0    1  \n",
       "z3bu                              0    1  \n",
       "qv                                0    1  \n",
       "jufxc                             0    1  \n",
       "ybsi8sn9wkoaxmwz                  0    1  \n",
       "rg                                0    1  \n",
       "t8w03uzjovzlf0gztoycpdeaopn8      0    1  \n",
       "zqt8yyxu                          0    1  \n",
       "921                               0    1  \n",
       "g4ucre                            0    1  \n",
       "kpmy7g                            0    1  \n",
       "4x                                0    1  \n",
       "privkey                           0    1  \n",
       "wzu                               0    1  \n",
       "oyrz5z                            0    1  \n",
       "outfit                            0    1  \n",
       "zyxjdo0                           0    1  \n",
       "5ndylxwk                          0    1  \n",
       "syncing                           1    1  "
      ]
     },
     "execution_count": 24,
     "metadata": {},
     "output_type": "execute_result"
    }
   ],
   "source": [
    "# most frequently occuring words: sort by 'all'\n",
    "word_counts.sort_values('all', ascending=False).tail(20)"
   ]
  },
  {
   "cell_type": "markdown",
   "id": "e21559ff",
   "metadata": {},
   "source": [
    "* We really dont see any key info lets see with a graph now"
   ]
  },
  {
   "cell_type": "code",
   "execution_count": 25,
   "id": "0e1fb9e7",
   "metadata": {},
   "outputs": [
    {
     "data": {
      "text/plain": [
       "<Figure size 1440x720 with 0 Axes>"
      ]
     },
     "metadata": {},
     "output_type": "display_data"
    },
    {
     "data": {
      "image/png": "[encoded data removed]",
      "text/plain": [
       "<Figure size 432x288 with 1 Axes>"
      ]
     },
     "metadata": {
      "needs_background": "light"
     },
     "output_type": "display_data"
    }
   ],
   "source": [
    "plt.figure(figsize=(20,10))\n",
    "plt.rc('font', size=15)\n",
    "word_counts.sort_values('all', ascending=False).tail(20)[['javascript',\n",
    "'c_plus_plus',\n",
    "'c',\n",
    "'python',\n",
    "'java',\n",
    "'php',\n",
    "'other'                                                    \n",
    "]].plot.barh()\n",
    "plt.title('Programming Language for the top 20 most unfrequent words')\n",
    "plt.legend(bbox_to_anchor=(1.05, 1), loc='upper left', borderaxespad=0);"
   ]
  },
  {
   "cell_type": "markdown",
   "id": "3115fc2a",
   "metadata": {},
   "source": [
    "* Alot of these words seem to be tied with only C++, lets take a look finally at the bottom words of all the langauges!"
   ]
  },
  {
   "cell_type": "code",
   "execution_count": 26,
   "id": "ab974887",
   "metadata": {},
   "outputs": [
    {
     "data": {
      "text/plain": [
       "('performance',\n",
       " 'platformtools',\n",
       " 'form',\n",
       " 'usb3a',\n",
       " 'k5gk',\n",
       " 'platformtools',\n",
       " 'sign',\n",
       " '500000376',\n",
       " 'usecase')"
      ]
     },
     "execution_count": 26,
     "metadata": {},
     "output_type": "execute_result"
    }
   ],
   "source": [
    "javascript_freq.idxmin(), java_freq.idxmin(), c_plus_plus_freq.idxmin(), c_freq.idxmin(), python_freq.idxmin(), java_freq.idxmin(), php_freq.idxmin(), other_freq.idxmin(), all_freq.idxmin()\n"
   ]
  },
  {
   "cell_type": "markdown",
   "id": "6f369991",
   "metadata": {},
   "source": [
    "#### Question 4: Does the length of the README vary by programming language?"
   ]
  },
  {
   "cell_type": "code",
   "execution_count": 27,
   "id": "3ca72cdb",
   "metadata": {
    "scrolled": true
   },
   "outputs": [],
   "source": [
    "length_list =df.groupby('language')\\\n",
    ".apply(lambda x: x.lemmatized.str.len().mean())\n",
    "# .apply(lambda x: x/len(df[df.language]))"
   ]
  },
  {
   "cell_type": "code",
   "execution_count": 28,
   "id": "41b5dba6",
   "metadata": {},
   "outputs": [
    {
     "data": {
      "text/plain": [
       "language\n",
       "C             2281.750000\n",
       "C++           3700.800000\n",
       "Java          1414.200000\n",
       "JavaScript    4489.777778\n",
       "Other         4354.260000\n",
       "PHP           1914.642857\n",
       "Python        3034.500000\n",
       "dtype: float64"
      ]
     },
     "execution_count": 28,
     "metadata": {},
     "output_type": "execute_result"
    }
   ],
   "source": [
    "length_list"
   ]
  },
  {
   "cell_type": "code",
   "execution_count": 29,
   "id": "694499b7",
   "metadata": {
    "scrolled": true
   },
   "outputs": [
    {
     "name": "stdout",
     "output_type": "stream",
     "text": [
      "C's average repo length is 285.21875\n",
      "C++'s average repo length is 246.72\n",
      "Java's average repo length is 282.84000000000003\n",
      "JavaScript's average repo length is 124.71604938271604\n",
      "Other's average repo length is 87.0852\n",
      "PHP's average repo length is 136.76020408163265\n",
      "Python's average repo length is 94.828125\n"
     ]
    }
   ],
   "source": [
    "i=0\n",
    "for index in length_list.index:\n",
    "    print(f\"{index}'s average repo length is {length_list[i]/len(df[df.language==index])}\")\n",
    "    i+=1"
   ]
  },
  {
   "cell_type": "markdown",
   "id": "887afb55",
   "metadata": {},
   "source": [
    "- The language with the longest repos, by far, is C (using the current dataset)\n",
    "- Outside of Java, the rest of the repos have an average length of roughly 200 or so lemmatized words"
   ]
  },
  {
   "cell_type": "markdown",
   "id": "e692674f",
   "metadata": {},
   "source": [
    "#### Question 5: How many repos have their programming language mentioned in the README text?"
   ]
  },
  {
   "cell_type": "markdown",
   "id": "300e1572",
   "metadata": {},
   "source": [
    "### Exploration Takeaways:"
   ]
  },
  {
   "cell_type": "markdown",
   "id": "03a32924",
   "metadata": {},
   "source": [
    "- JavaScript contains the highest percentage of the 20 most common words used in the readmes.\n"
   ]
  },
  {
   "cell_type": "markdown",
   "id": "c2f22045",
   "metadata": {},
   "source": [
    "### Features to Move Forward with:"
   ]
  },
  {
   "cell_type": "markdown",
   "id": "e689f741",
   "metadata": {},
   "source": [
    "For features, we are going to use the TF-IDF Method to provide numeric values that we can use to model on when we pass it the lemmatized README contents. "
   ]
  },
  {
   "cell_type": "markdown",
   "id": "b09df811",
   "metadata": {},
   "source": [
    "## Modeling"
   ]
  },
  {
   "cell_type": "markdown",
   "id": "b5b3d1a8",
   "metadata": {},
   "source": [
    "### Establishing the Baseline"
   ]
  },
  {
   "cell_type": "markdown",
   "id": "0d656c2e",
   "metadata": {},
   "source": [
    "The last thing we have to do before fitting (training) out models is establishing a baseline."
   ]
  },
  {
   "cell_type": "code",
   "execution_count": 30,
   "id": "11891cbd",
   "metadata": {},
   "outputs": [
    {
     "data": {
      "text/plain": [
       "Other         0.314607\n",
       "JavaScript    0.224719\n",
       "Python        0.202247\n",
       "PHP           0.089888\n",
       "C++           0.089888\n",
       "C             0.044944\n",
       "Java          0.033708\n",
       "Name: language, dtype: float64"
      ]
     },
     "execution_count": 30,
     "metadata": {},
     "output_type": "execute_result"
    }
   ],
   "source": [
    "# to find the baseline, look at the value counts\n",
    "train.language.value_counts(normalize=True)"
   ]
  },
  {
   "cell_type": "code",
   "execution_count": 31,
   "id": "047f9cda",
   "metadata": {},
   "outputs": [],
   "source": [
    "# choose the mode of the value counts\n",
    "baseline = y_train.mode()"
   ]
  },
  {
   "cell_type": "code",
   "execution_count": 32,
   "id": "6201411f",
   "metadata": {},
   "outputs": [
    {
     "data": {
      "text/html": [
       "<div>\n",
       "<style scoped>\n",
       "    .dataframe tbody tr th:only-of-type {\n",
       "        vertical-align: middle;\n",
       "    }\n",
       "\n",
       "    .dataframe tbody tr th {\n",
       "        vertical-align: top;\n",
       "    }\n",
       "\n",
       "    .dataframe thead th {\n",
       "        text-align: right;\n",
       "    }\n",
       "</style>\n",
       "<table border=\"1\" class=\"dataframe\">\n",
       "  <thead>\n",
       "    <tr style=\"text-align: right;\">\n",
       "      <th></th>\n",
       "      <th>language</th>\n",
       "    </tr>\n",
       "  </thead>\n",
       "  <tbody>\n",
       "    <tr>\n",
       "      <th>0</th>\n",
       "      <td>Other</td>\n",
       "    </tr>\n",
       "  </tbody>\n",
       "</table>\n",
       "</div>"
      ],
      "text/plain": [
       "  language\n",
       "0    Other"
      ]
     },
     "execution_count": 32,
     "metadata": {},
     "output_type": "execute_result"
    }
   ],
   "source": [
    "baseline"
   ]
  },
  {
   "cell_type": "code",
   "execution_count": 33,
   "id": "343d1d6e",
   "metadata": {},
   "outputs": [],
   "source": [
    "match_bsl_prediction = y_train == 'Other'"
   ]
  },
  {
   "cell_type": "code",
   "execution_count": 34,
   "id": "28eda48c",
   "metadata": {},
   "outputs": [],
   "source": [
    "baseline_accuracy = match_bsl_prediction.mean()"
   ]
  },
  {
   "cell_type": "code",
   "execution_count": 35,
   "id": "cb60a814",
   "metadata": {},
   "outputs": [
    {
     "data": {
      "text/plain": [
       "language    0.314607\n",
       "dtype: float64"
      ]
     },
     "execution_count": 35,
     "metadata": {},
     "output_type": "execute_result"
    }
   ],
   "source": [
    "# basline accuracy = 31%\n",
    "baseline_accuracy"
   ]
  },
  {
   "cell_type": "markdown",
   "id": "7407e0a5",
   "metadata": {},
   "source": [
    "\n",
    "\n",
    "### Our best-performing model without undue overfitting was a Logistic Regression model\n",
    "\n",
    "### We ran over 10 models, between a bag-of-words approach and a tf-idf approach"
   ]
  },
  {
   "cell_type": "code",
   "execution_count": 36,
   "id": "d275aa43",
   "metadata": {},
   "outputs": [],
   "source": [
    "from sklearn.model_selection import train_test_split\n",
    "from sklearn.tree import DecisionTreeClassifier\n",
    "from sklearn.feature_extraction.text import TfidfVectorizer\n",
    "from sklearn.metrics import classification_report, accuracy_score"
   ]
  },
  {
   "cell_type": "markdown",
   "id": "8335c42b",
   "metadata": {},
   "source": [
    "## TF-IDF Method"
   ]
  },
  {
   "cell_type": "code",
   "execution_count": 37,
   "id": "d72e3acc",
   "metadata": {},
   "outputs": [],
   "source": [
    "from sklearn.feature_extraction.text import TfidfVectorizer\n",
    "tfidf = TfidfVectorizer()\n",
    "X = tfidf.fit_transform(df.lemmatized)\n",
    "y = df.language\n",
    "\n",
    "X_train, X_validate, y_train, y_validate = train_test_split(X, y, stratify=y, \\\n",
    "                                                            test_size=.2)\n",
    "X_train, X_test, y_train, y_test = train_test_split(X_train, y_train,stratify=y_train, test_size=.2)"
   ]
  },
  {
   "cell_type": "code",
   "execution_count": 38,
   "id": "071470b3",
   "metadata": {},
   "outputs": [],
   "source": [
    "from sklearn.metrics import classification_report, accuracy_score\n",
    "from sklearn.linear_model import LogisticRegression\n",
    "train = pd.DataFrame(dict(actual=y_train))\n",
    "validate = pd.DataFrame(dict(actual=y_validate))\n",
    "\n",
    "lm = LogisticRegression().fit(X_train, y_train)\n",
    "\n",
    "train['lr_predicted_tdidf'] = lm.predict(X_train)\n",
    "validate['lr_predicted_tdidf'] = lm.predict(X_validate)"
   ]
  },
  {
   "cell_type": "markdown",
   "id": "f3a2db0e",
   "metadata": {},
   "source": [
    "### Confustion matrix, train data"
   ]
  },
  {
   "cell_type": "code",
   "execution_count": 39,
   "id": "79904b75",
   "metadata": {
    "scrolled": false
   },
   "outputs": [
    {
     "name": "stdout",
     "output_type": "stream",
     "text": [
      "Accuracy: 71.57%\n",
      "---\n",
      "Confusion Matrix\n",
      "actual              C  C++  Java  JavaScript  Other  PHP  Python\n",
      "lr_predicted_tdidf                                              \n",
      "JavaScript          0    0     0          21      0    2       0\n",
      "Other               5    8     3           2     32    7       1\n",
      "Python              0    1     0           0      0    0      20\n",
      "---\n",
      "              precision    recall  f1-score   support\n",
      "\n",
      "           C       0.00      0.00      0.00         5\n",
      "         C++       0.00      0.00      0.00         9\n",
      "        Java       0.00      0.00      0.00         3\n",
      "  JavaScript       0.91      0.91      0.91        23\n",
      "       Other       0.55      1.00      0.71        32\n",
      "         PHP       0.00      0.00      0.00         9\n",
      "      Python       0.95      0.95      0.95        21\n",
      "\n",
      "    accuracy                           0.72       102\n",
      "   macro avg       0.35      0.41      0.37       102\n",
      "weighted avg       0.58      0.72      0.63       102\n",
      "\n"
     ]
    }
   ],
   "source": [
    "model.print_lr_tfidf_model_train(train)"
   ]
  },
  {
   "cell_type": "markdown",
   "id": "f332ebf7",
   "metadata": {},
   "source": [
    "### Confustion matrix, validate data"
   ]
  },
  {
   "cell_type": "code",
   "execution_count": 40,
   "id": "d17570c2",
   "metadata": {},
   "outputs": [
    {
     "name": "stdout",
     "output_type": "stream",
     "text": [
      "Accuracy: 34.38%\n",
      "---\n",
      "Confusion Matrix\n",
      "actual              C  C++  Java  JavaScript  Other  PHP  Python\n",
      "lr_predicted_tdidf                                              \n",
      "Other               2    3     0           7     10    3       5\n",
      "Python              0    0     1           0      0    0       1\n",
      "---\n",
      "              precision    recall  f1-score   support\n",
      "\n",
      "           C       0.00      0.00      0.00         2\n",
      "         C++       0.00      0.00      0.00         3\n",
      "        Java       0.00      0.00      0.00         1\n",
      "  JavaScript       0.00      0.00      0.00         7\n",
      "       Other       0.33      1.00      0.50        10\n",
      "         PHP       0.00      0.00      0.00         3\n",
      "      Python       0.50      0.17      0.25         6\n",
      "\n",
      "    accuracy                           0.34        32\n",
      "   macro avg       0.12      0.17      0.11        32\n",
      "weighted avg       0.20      0.34      0.20        32\n",
      "\n"
     ]
    }
   ],
   "source": [
    "model.print_lr_tfidf_model_validate(validate)"
   ]
  },
  {
   "cell_type": "markdown",
   "id": "368bc177",
   "metadata": {},
   "source": [
    "## TF-IDF Method"
   ]
  },
  {
   "cell_type": "code",
   "execution_count": 41,
   "id": "9b426411",
   "metadata": {},
   "outputs": [],
   "source": [
    "from sklearn.feature_extraction.text import CountVectorizer\n",
    "vectorizer = CountVectorizer()"
   ]
  },
  {
   "cell_type": "code",
   "execution_count": 42,
   "id": "4e6db86b",
   "metadata": {},
   "outputs": [],
   "source": [
    "tfidf = TfidfVectorizer()\n",
    "X = vectorizer.fit_transform(df.lemmatized)\n",
    "y = df.language\n",
    "\n",
    "X_train, X_validate, y_train, y_validate = train_test_split(X, y, stratify=y, \\\n",
    "                                                            test_size=.2)\n",
    "X_train, X_test, y_train, y_test = train_test_split(X_train, y_train,stratify=y_train, test_size=.2)"
   ]
  },
  {
   "cell_type": "code",
   "execution_count": 43,
   "id": "bbdd7485",
   "metadata": {},
   "outputs": [],
   "source": [
    "train = pd.DataFrame(dict(actual=y_train))\n",
    "validate = pd.DataFrame(dict(actual=y_validate))\n",
    "\n",
    "lm = LogisticRegression().fit(X_train, y_train)\n",
    "\n",
    "train['lr_predicted_bagofwords'] = lm.predict(X_train)\n",
    "validate['lr_predicted_bagofwords'] = lm.predict(X_validate)"
   ]
  },
  {
   "cell_type": "markdown",
   "id": "5c46b99d",
   "metadata": {},
   "source": [
    "### Confustion matrix, train data"
   ]
  },
  {
   "cell_type": "code",
   "execution_count": 44,
   "id": "1524f22f",
   "metadata": {
    "scrolled": true
   },
   "outputs": [
    {
     "name": "stdout",
     "output_type": "stream",
     "text": [
      "Accuracy: 98.04%\n",
      "---\n",
      "Confusion Matrix\n",
      "actual                   C  C++  Java  JavaScript  Other  PHP  Python\n",
      "lr_predicted_bagofwords                                              \n",
      "C                        5    0     0           0      0    0       0\n",
      "C++                      0    9     0           0      0    0       0\n",
      "Java                     0    0     3           0      0    0       0\n",
      "JavaScript               0    0     0          22      0    0       0\n",
      "Other                    0    0     0           1     32    0       1\n",
      "PHP                      0    0     0           0      0    9       0\n",
      "Python                   0    0     0           0      0    0      20\n",
      "---\n",
      "              precision    recall  f1-score   support\n",
      "\n",
      "           C       1.00      1.00      1.00         5\n",
      "         C++       1.00      1.00      1.00         9\n",
      "        Java       1.00      1.00      1.00         3\n",
      "  JavaScript       1.00      0.96      0.98        23\n",
      "       Other       0.94      1.00      0.97        32\n",
      "         PHP       1.00      1.00      1.00         9\n",
      "      Python       1.00      0.95      0.98        21\n",
      "\n",
      "    accuracy                           0.98       102\n",
      "   macro avg       0.99      0.99      0.99       102\n",
      "weighted avg       0.98      0.98      0.98       102\n",
      "\n"
     ]
    }
   ],
   "source": [
    "model.print_lr_bagofwords_model_train(train)"
   ]
  },
  {
   "cell_type": "markdown",
   "id": "b2387635",
   "metadata": {},
   "source": [
    "### Confustion matrix, validate data"
   ]
  },
  {
   "cell_type": "code",
   "execution_count": 45,
   "id": "322f1e92",
   "metadata": {},
   "outputs": [
    {
     "name": "stdout",
     "output_type": "stream",
     "text": [
      "Accuracy: 40.62%\n",
      "---\n",
      "Confusion Matrix\n",
      "actual                   C  C++  Java  JavaScript  Other  PHP  Python\n",
      "lr_predicted_bagofwords                                              \n",
      "JavaScript               0    0     0           2      0    0       1\n",
      "Other                    1    2     1           4      9    3       3\n",
      "Python                   1    1     0           1      1    0       2\n",
      "---\n",
      "              precision    recall  f1-score   support\n",
      "\n",
      "           C       0.00      0.00      0.00         2\n",
      "         C++       0.00      0.00      0.00         3\n",
      "        Java       0.00      0.00      0.00         1\n",
      "  JavaScript       0.67      0.29      0.40         7\n",
      "       Other       0.39      0.90      0.55        10\n",
      "         PHP       0.00      0.00      0.00         3\n",
      "      Python       0.33      0.33      0.33         6\n",
      "\n",
      "    accuracy                           0.41        32\n",
      "   macro avg       0.20      0.22      0.18        32\n",
      "weighted avg       0.33      0.41      0.32        32\n",
      "\n"
     ]
    }
   ],
   "source": [
    "model.print_lr_bagofwords_model_validate(validate)"
   ]
  },
  {
   "cell_type": "markdown",
   "id": "10ea2105",
   "metadata": {},
   "source": [
    "## Our best-performing model, with the least difference between train and validate, was the TF-IDF data on the Linear Regression model; we will run it on the Test data here:"
   ]
  },
  {
   "cell_type": "code",
   "execution_count": 46,
   "id": "ae0d4d9d",
   "metadata": {},
   "outputs": [],
   "source": [
    "from sklearn.linear_model import LogisticRegression\n",
    "test = pd.DataFrame(dict(actual=y_test))\n",
    "\n",
    "lm = LogisticRegression().fit(X_train, y_train)\n",
    "\n",
    "test['lr_predicted'] = lm.predict(X_test)"
   ]
  },
  {
   "cell_type": "code",
   "execution_count": 47,
   "id": "311c607b",
   "metadata": {},
   "outputs": [
    {
     "name": "stdout",
     "output_type": "stream",
     "text": [
      "Accuracy: 53.85%\n",
      "---\n",
      "Confusion Matrix\n",
      "actual        C  C++  Java  JavaScript  Other  PHP  Python\n",
      "lr_predicted                                              \n",
      "JavaScript    0    0     0           3      0    0       0\n",
      "Other         1    3     1           2      7    1       1\n",
      "Python        0    0     0           1      1    1       4\n",
      "---\n",
      "              precision    recall  f1-score   support\n",
      "\n",
      "           C       0.00      0.00      0.00         1\n",
      "         C++       0.00      0.00      0.00         3\n",
      "        Java       0.00      0.00      0.00         1\n",
      "  JavaScript       1.00      0.50      0.67         6\n",
      "       Other       0.44      0.88      0.58         8\n",
      "         PHP       0.00      0.00      0.00         2\n",
      "      Python       0.57      0.80      0.67         5\n",
      "\n",
      "    accuracy                           0.54        26\n",
      "   macro avg       0.29      0.31      0.27        26\n",
      "weighted avg       0.48      0.54      0.46        26\n",
      "\n"
     ]
    }
   ],
   "source": [
    "print('Accuracy: {:.2%}'.format(accuracy_score(test.actual, test.lr_predicted)))\n",
    "print('---')\n",
    "print('Confusion Matrix')\n",
    "print(pd.crosstab(test.lr_predicted, test.actual))\n",
    "print('---')\n",
    "print(classification_report(test.actual, test.lr_predicted))"
   ]
  },
  {
   "cell_type": "markdown",
   "id": "b9f579c0",
   "metadata": {},
   "source": [
    "## Our final result, running our best model on the test data, was 53% accuracy"
   ]
  },
  {
   "cell_type": "markdown",
   "id": "1599ce59",
   "metadata": {},
   "source": [
    "-----"
   ]
  },
  {
   "cell_type": "markdown",
   "id": "e840cf61",
   "metadata": {},
   "source": [
    "# Conclusion"
   ]
  },
  {
   "cell_type": "markdown",
   "id": "df561680",
   "metadata": {},
   "source": [
    "- Based on the data we ultimately ran through the model, a convincing prediction of the repo's language proved somewhat elusive.\n",
    "- Further iterations of the data manipulation would yield better results--exploring stopwords, for instance."
   ]
  },
  {
   "cell_type": "markdown",
   "id": "be2c0859",
   "metadata": {},
   "source": [
    "----"
   ]
  },
  {
   "cell_type": "markdown",
   "id": "37c78acb",
   "metadata": {},
   "source": [
    "### Summary"
   ]
  },
  {
   "cell_type": "markdown",
   "id": "defd2090",
   "metadata": {},
   "source": [
    "- Our model produced modest results, but the data yielded an interesting NLP exploration and modeling.  Data manipulation was tricky at times, as were aspects of acquiring the data from the Github website, making interpretation elusive at times. Still, we are happy to have been able to extract some interesting aspects of the different languages and worth-while visualizations."
   ]
  },
  {
   "cell_type": "markdown",
   "id": "ce3277fe",
   "metadata": {},
   "source": [
    "### Next Steps"
   ]
  },
  {
   "cell_type": "markdown",
   "id": "408f74d8",
   "metadata": {},
   "source": [
    "- Explore stopwords (whose elimination might yield a more predictive set of words for the models)\n",
    "- Run on more model types, and experiment further with hyper-parameters\n",
    "- Further exploration--especially a network graph to illuminate the relationship of one language to the rest"
   ]
  },
  {
   "cell_type": "code",
   "execution_count": null,
   "id": "fd65107d",
   "metadata": {},
   "outputs": [],
   "source": []
  }
 ],
 "metadata": {
  "kernelspec": {
   "display_name": "Python 3",
   "language": "python",
   "name": "python3"
  },
  "language_info": {
   "codemirror_mode": {
    "name": "ipython",
    "version": 3
   },
   "file_extension": ".py",
   "mimetype": "text/x-python",
   "name": "python",
   "nbconvert_exporter": "python",
   "pygments_lexer": "ipython3",
   "version": "3.8.8"
  }
 },
 "nbformat": 4,
 "nbformat_minor": 5
}
