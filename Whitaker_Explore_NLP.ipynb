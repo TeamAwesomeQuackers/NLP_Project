{
 "cells": [
  {
   "cell_type": "markdown",
   "id": "eb6387ac",
   "metadata": {},
   "source": [
    "## Chloe's Explore Notebook for the NLP Group Project"
   ]
  },
  {
   "cell_type": "markdown",
   "id": "b0c11117",
   "metadata": {},
   "source": [
    "### Imports"
   ]
  },
  {
   "cell_type": "code",
   "execution_count": 1,
   "id": "bb468d11",
   "metadata": {},
   "outputs": [],
   "source": [
    "import pandas as pd\n",
    "import numpy as np\n",
    "\n",
    "# Scraping\n",
    "import requests\n",
    "from bs4 import BeautifulSoup\n",
    "\n",
    "import nltk\n",
    "from nltk.tokenize.toktok import ToktokTokenizer\n",
    "from nltk.corpus import stopwords\n",
    "import nltk.sentiment\n",
    "\n",
    "from wordcloud import WordCloud\n",
    "\n",
    "# Regex\n",
    "import re\n",
    "\n",
    "# Time\n",
    "from time import strftime\n",
    "\n",
    "import unicodedata\n",
    "import json\n",
    "from pprint import pprint\n",
    "\n",
    "# Visualizations\n",
    "import matplotlib.pyplot as plt\n",
    "import seaborn as sns\n",
    "\n",
    "# Custom Imports\n",
    "import acquire \n",
    "import prepare\n",
    "\n",
    "# Turn off pink boxes for demo\n",
    "import warnings\n",
    "warnings.filterwarnings(\"ignore\")\n",
    "\n",
    "# pd.set_option('display.max_colwidth', -1)"
   ]
  },
  {
   "cell_type": "markdown",
   "id": "7be94cd0",
   "metadata": {},
   "source": [
    "### Acquire"
   ]
  },
  {
   "cell_type": "code",
   "execution_count": 2,
   "id": "49fe33da",
   "metadata": {},
   "outputs": [],
   "source": [
    "# acquire.scrape_github_data()"
   ]
  },
  {
   "cell_type": "code",
   "execution_count": 3,
   "id": "d68867de",
   "metadata": {},
   "outputs": [
    {
     "data": {
      "text/html": [
       "<div>\n",
       "<style scoped>\n",
       "    .dataframe tbody tr th:only-of-type {\n",
       "        vertical-align: middle;\n",
       "    }\n",
       "\n",
       "    .dataframe tbody tr th {\n",
       "        vertical-align: top;\n",
       "    }\n",
       "\n",
       "    .dataframe thead th {\n",
       "        text-align: right;\n",
       "    }\n",
       "</style>\n",
       "<table border=\"1\" class=\"dataframe\">\n",
       "  <thead>\n",
       "    <tr style=\"text-align: right;\">\n",
       "      <th></th>\n",
       "      <th>repo</th>\n",
       "      <th>language</th>\n",
       "      <th>readme_contents</th>\n",
       "    </tr>\n",
       "  </thead>\n",
       "  <tbody>\n",
       "    <tr>\n",
       "      <th>0</th>\n",
       "      <td>bitcoin/bitcoin</td>\n",
       "      <td>C++</td>\n",
       "      <td>Bitcoin Core integration/staging tree\\n=======...</td>\n",
       "    </tr>\n",
       "    <tr>\n",
       "      <th>1</th>\n",
       "      <td>ccxt/ccxt</td>\n",
       "      <td>JavaScript</td>\n",
       "      <td># CCXT – CryptoCurrency eXchange Trading Libra...</td>\n",
       "    </tr>\n",
       "    <tr>\n",
       "      <th>2</th>\n",
       "      <td>HelloZeroNet/ZeroNet</td>\n",
       "      <td>JavaScript</td>\n",
       "      <td># ZeroNet [![Build Status](https://travis-ci.o...</td>\n",
       "    </tr>\n",
       "    <tr>\n",
       "      <th>3</th>\n",
       "      <td>freqtrade/freqtrade</td>\n",
       "      <td>Python</td>\n",
       "      <td># ![freqtrade](https://raw.githubusercontent.c...</td>\n",
       "    </tr>\n",
       "    <tr>\n",
       "      <th>4</th>\n",
       "      <td>askmike/gekko</td>\n",
       "      <td>JavaScript</td>\n",
       "      <td># This repo is not maintained anymore\\n\\nI am ...</td>\n",
       "    </tr>\n",
       "  </tbody>\n",
       "</table>\n",
       "</div>"
      ],
      "text/plain": [
       "                   repo    language  \\\n",
       "0       bitcoin/bitcoin         C++   \n",
       "1             ccxt/ccxt  JavaScript   \n",
       "2  HelloZeroNet/ZeroNet  JavaScript   \n",
       "3   freqtrade/freqtrade      Python   \n",
       "4         askmike/gekko  JavaScript   \n",
       "\n",
       "                                     readme_contents  \n",
       "0  Bitcoin Core integration/staging tree\\n=======...  \n",
       "1  # CCXT – CryptoCurrency eXchange Trading Libra...  \n",
       "2  # ZeroNet [![Build Status](https://travis-ci.o...  \n",
       "3  # ![freqtrade](https://raw.githubusercontent.c...  \n",
       "4  # This repo is not maintained anymore\\n\\nI am ...  "
      ]
     },
     "execution_count": 3,
     "metadata": {},
     "output_type": "execute_result"
    }
   ],
   "source": [
    "df = pd.DataFrame(acquire.scrape_github_data(),columns=['repo','language','readme_contents'])\n",
    "df.head()\n"
   ]
  },
  {
   "cell_type": "markdown",
   "id": "bfbfdf55",
   "metadata": {},
   "source": [
    "### Prepare"
   ]
  },
  {
   "cell_type": "code",
   "execution_count": 13,
   "id": "455bf7d9",
   "metadata": {},
   "outputs": [
    {
     "data": {
      "text/html": [
       "<div>\n",
       "<style scoped>\n",
       "    .dataframe tbody tr th:only-of-type {\n",
       "        vertical-align: middle;\n",
       "    }\n",
       "\n",
       "    .dataframe tbody tr th {\n",
       "        vertical-align: top;\n",
       "    }\n",
       "\n",
       "    .dataframe thead th {\n",
       "        text-align: right;\n",
       "    }\n",
       "</style>\n",
       "<table border=\"1\" class=\"dataframe\">\n",
       "  <thead>\n",
       "    <tr style=\"text-align: right;\">\n",
       "      <th></th>\n",
       "      <th>readme_contents</th>\n",
       "      <th>readme_contents</th>\n",
       "      <th>clean</th>\n",
       "      <th>stemmed</th>\n",
       "      <th>lemmatized</th>\n",
       "    </tr>\n",
       "  </thead>\n",
       "  <tbody>\n",
       "    <tr>\n",
       "      <th>0</th>\n",
       "      <td>Bitcoin Core integration/staging tree\\n=======...</td>\n",
       "      <td>Bitcoin Core integration/staging tree\\n=======...</td>\n",
       "      <td>bitcoin core integrationstaging tree httpsbitc...</td>\n",
       "      <td>bitcoin core integrationstag tree httpsbitcoin...</td>\n",
       "      <td>bitcoin core integrationstaging tree httpsbitc...</td>\n",
       "    </tr>\n",
       "    <tr>\n",
       "      <th>1</th>\n",
       "      <td># CCXT – CryptoCurrency eXchange Trading Libra...</td>\n",
       "      <td># CCXT – CryptoCurrency eXchange Trading Libra...</td>\n",
       "      <td>ccxt cryptocurrency exchange trading library b...</td>\n",
       "      <td>ccxt cryptocurr exchang trade librari build st...</td>\n",
       "      <td>ccxt cryptocurrency exchange trading library b...</td>\n",
       "    </tr>\n",
       "    <tr>\n",
       "      <th>2</th>\n",
       "      <td># ZeroNet [![Build Status](https://travis-ci.o...</td>\n",
       "      <td># ZeroNet [![Build Status](https://travis-ci.o...</td>\n",
       "      <td>zeronet build statushttpstravisciorghellozeron...</td>\n",
       "      <td>zeronet build statushttpstravisciorghellozeron...</td>\n",
       "      <td>zeronet build statushttpstravisciorghellozeron...</td>\n",
       "    </tr>\n",
       "    <tr>\n",
       "      <th>3</th>\n",
       "      <td># ![freqtrade](https://raw.githubusercontent.c...</td>\n",
       "      <td># ![freqtrade](https://raw.githubusercontent.c...</td>\n",
       "      <td>freqtradehttpsrawgithubusercontentcomfreqtrade...</td>\n",
       "      <td>freqtradehttpsrawgithubusercontentcomfreqtrade...</td>\n",
       "      <td>freqtradehttpsrawgithubusercontentcomfreqtrade...</td>\n",
       "    </tr>\n",
       "    <tr>\n",
       "      <th>4</th>\n",
       "      <td># This repo is not maintained anymore\\n\\nI am ...</td>\n",
       "      <td># This repo is not maintained anymore\\n\\nI am ...</td>\n",
       "      <td>repo maintained anymore officially maintaining...</td>\n",
       "      <td>thi repo maintain anymor offici maintain thi p...</td>\n",
       "      <td>repo maintained anymore officially maintaining...</td>\n",
       "    </tr>\n",
       "  </tbody>\n",
       "</table>\n",
       "</div>"
      ],
      "text/plain": [
       "                                     readme_contents  \\\n",
       "0  Bitcoin Core integration/staging tree\\n=======...   \n",
       "1  # CCXT – CryptoCurrency eXchange Trading Libra...   \n",
       "2  # ZeroNet [![Build Status](https://travis-ci.o...   \n",
       "3  # ![freqtrade](https://raw.githubusercontent.c...   \n",
       "4  # This repo is not maintained anymore\\n\\nI am ...   \n",
       "\n",
       "                                     readme_contents  \\\n",
       "0  Bitcoin Core integration/staging tree\\n=======...   \n",
       "1  # CCXT – CryptoCurrency eXchange Trading Libra...   \n",
       "2  # ZeroNet [![Build Status](https://travis-ci.o...   \n",
       "3  # ![freqtrade](https://raw.githubusercontent.c...   \n",
       "4  # This repo is not maintained anymore\\n\\nI am ...   \n",
       "\n",
       "                                               clean  \\\n",
       "0  bitcoin core integrationstaging tree httpsbitc...   \n",
       "1  ccxt cryptocurrency exchange trading library b...   \n",
       "2  zeronet build statushttpstravisciorghellozeron...   \n",
       "3  freqtradehttpsrawgithubusercontentcomfreqtrade...   \n",
       "4  repo maintained anymore officially maintaining...   \n",
       "\n",
       "                                             stemmed  \\\n",
       "0  bitcoin core integrationstag tree httpsbitcoin...   \n",
       "1  ccxt cryptocurr exchang trade librari build st...   \n",
       "2  zeronet build statushttpstravisciorghellozeron...   \n",
       "3  freqtradehttpsrawgithubusercontentcomfreqtrade...   \n",
       "4  thi repo maintain anymor offici maintain thi p...   \n",
       "\n",
       "                                          lemmatized  \n",
       "0  bitcoin core integrationstaging tree httpsbitc...  \n",
       "1  ccxt cryptocurrency exchange trading library b...  \n",
       "2  zeronet build statushttpstravisciorghellozeron...  \n",
       "3  freqtradehttpsrawgithubusercontentcomfreqtrade...  \n",
       "4  repo maintained anymore officially maintaining...  "
      ]
     },
     "execution_count": 13,
     "metadata": {},
     "output_type": "execute_result"
    }
   ],
   "source": [
    "prepare.prep_readme_data(df, 'readme_contents', extra_words = [], exclude_words = []).head()"
   ]
  },
  {
   "cell_type": "markdown",
   "id": "97e7d73c",
   "metadata": {},
   "source": [
    "### Explore"
   ]
  },
  {
   "cell_type": "code",
   "execution_count": null,
   "id": "f90cf7c7",
   "metadata": {},
   "outputs": [],
   "source": []
  }
 ],
 "metadata": {
  "kernelspec": {
   "display_name": "Python 3",
   "language": "python",
   "name": "python3"
  },
  "language_info": {
   "codemirror_mode": {
    "name": "ipython",
    "version": 3
   },
   "file_extension": ".py",
   "mimetype": "text/x-python",
   "name": "python",
   "nbconvert_exporter": "python",
   "pygments_lexer": "ipython3",
   "version": "3.8.8"
  }
 },
 "nbformat": 4,
 "nbformat_minor": 5
}
